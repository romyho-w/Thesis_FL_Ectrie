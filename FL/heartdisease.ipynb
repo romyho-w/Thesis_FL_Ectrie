{
 "cells": [
  {
   "cell_type": "code",
   "execution_count": 7,
   "metadata": {},
   "outputs": [],
   "source": [
    "# hide\n",
    "%reload_ext autoreload\n",
    "%autoreload 2"
   ]
  },
  {
   "cell_type": "code",
   "execution_count": 8,
   "metadata": {},
   "outputs": [],
   "source": [
    "from datetime import datetime\n",
    "import json\n",
    "import numpy as np\n",
    "import copy\n",
    "import tenseal as ts\n",
    "import random\n",
    "import tensorflow as tf\n",
    "import seaborn as sns\n",
    "from sklearn.linear_model import LinearRegression\n",
    "import scipy.stats as st\n",
    "import matplotlib.pyplot as plt\n",
    "from make_logreg_data import *\n",
    "from HE_functions import *\n",
    "from dataFunction import *\n",
    "from dataFunction import *\n",
    "from lrClass import LR\n",
    "from simulationDataUtils import *\n",
    "from run_simulations import run_simulations\n",
    "\n",
    "random.seed(11007303)\n",
    "np.random.seed(2021)"
   ]
  },
  {
   "cell_type": "code",
   "execution_count": 6,
   "metadata": {},
   "outputs": [],
   "source": [
    "EPOCHS = 80\n",
    "poly_mod_degree = 4096\n",
    "coeff_mod_bit_sizes = [40, 20, 40]\n",
    "\n",
    "# create TenSEALContext\n",
    "ctx_eval = ts.context(ts.SCHEME_TYPE.CKKS, poly_mod_degree, -1, coeff_mod_bit_sizes)\n",
    "\n",
    "# scale of ciphertext to use\n",
    "ctx_eval.global_scale = 2 ** 20\n",
    "\n",
    "# this key is needed for doing dot-product operations\n",
    "ctx_eval.generate_galois_keys()"
   ]
  },
  {
   "cell_type": "code",
   "execution_count": 11,
   "metadata": {},
   "outputs": [],
   "source": [
    "cleveland = \"../Data/processed.cleveland.data\"\n",
    "switzerland = \"../Data/processed.switzerland.data\"\n",
    "va = \"../Data/processed.va.data\"\n",
    "hungarian = \"../Data/reprocessed.hungarian.data\"\n",
    "cleveland_df, switzerland_df, va_df, hungarian_df = import_data(cleveland, switzerland, va, hungarian)\n"
   ]
  },
  {
   "cell_type": "code",
   "execution_count": 12,
   "metadata": {},
   "outputs": [],
   "source": [
    "def average_state_dict_test(state_dicts, len_dict, keys):\n",
    "    result = {}\n",
    "\n",
    "    for i, state_dict in enumerate(state_dicts):\n",
    "        for key in keys:\n",
    "            if i == 0:\n",
    "                result[key] =  state_dict[key]*(len_dict[i]/sum(len_dict))\n",
    "            else:\n",
    "                result[key] += state_dict[key]*(len_dict[i]/sum(len_dict))\n",
    "    return result"
   ]
  },
  {
   "cell_type": "code",
   "execution_count": 13,
   "metadata": {},
   "outputs": [],
   "source": [
    "def FL_proces_test(clients, validation_X_set, validation_y_set, ctx_eval, glob_model, iters, simulation= False, switzerland= False):\n",
    "    loss_train = []\n",
    "    net_best = None\n",
    "    best_acc = None\n",
    "    best_epoch = None\n",
    "    results = []\n",
    "    min_loss_client = []\n",
    "    glob_model.eval()\n",
    "    if switzerland:\n",
    "        client_results = {\n",
    "            'Cleveland': [],\n",
    "            'Switzerland': [],\n",
    "            'VA Long Beach': [],\n",
    "            'Hungary': []\n",
    "        }\n",
    "    else:\n",
    "        client_results = {\n",
    "            'Cleveland': [],\n",
    "            'VA Long Beach': [],\n",
    "            'Hungary': []\n",
    "            }\n",
    "    enrypted_state_dicts= None\n",
    "    acc_test, loss_test =  accuracy_loss_LR(glob_model,validation_X_set, validation_y_set, simulation)\n",
    "\n",
    "    best_acc = acc_test\n",
    "    for iter in range(iters):\n",
    "        loss_locals = []\n",
    "        client_state_dicts = []\n",
    "        client_len = []\n",
    "        for client in clients:\n",
    "            client_model = copy.deepcopy(glob_model)\n",
    "            client.set_state_dict(client_model.state_dict())\n",
    "            client_state_dict, loss = train_model_client(client, epochs=40, simulation = simulation)\n",
    "            \n",
    "            loss_locals.append(copy.deepcopy(loss))\n",
    "            min_loss_client.append(min(loss))\n",
    "            client_acc, client_loss = accuracy_loss_LR(client.model, client.X_test, client.y_test)\n",
    "            new_list = client_results.get(client.name)\n",
    "            new_list.append(client_acc)\n",
    "            client_results[client.name] = new_list\n",
    "            client_state_dicts.append(client_state_dict)\n",
    "            client_len.append(len(client.y))\n",
    "\n",
    "        enrypted_state_dicts = encrypt_state_dicts(copy.deepcopy(client_state_dicts), ctx_eval)\n",
    "        averaged_encrypted_state_dict = average_state_dict_test(enrypted_state_dicts, client_len, [k for k in enrypted_state_dicts[0]])\n",
    "        decrypted_state_dicts = decrypt_state_dicts(averaged_encrypted_state_dict)\n",
    "        glob_model.load_state_dict(decrypted_state_dicts)\n",
    "\n",
    "        loss_avg = sum(min_loss_client) / len(min_loss_client)\n",
    "        loss_train.append(loss_avg)        \n",
    "            \n",
    "        acc_test, loss_test =  accuracy_loss_LR(glob_model,validation_X_set, validation_y_set, simulation)\n",
    "\n",
    "        # print('Round {:3d}, Average loss {:.3f}, Test loss {:.3f}, Test accuracy: {:.2f}'.format(\n",
    "        #     iter, loss_avg, loss_test, acc_test))\n",
    "\n",
    "\n",
    "        if best_acc is None or acc_test > best_acc:\n",
    "            net_best = copy.deepcopy(glob_model)\n",
    "            best_acc = acc_test\n",
    "            best_epoch = iter\n",
    "\n",
    "        results.append(np.array([iter, loss_avg, loss_test, acc_test, best_acc]))\n",
    "        final_results = np.array(results)\n",
    "        final_results = pd.DataFrame(final_results, columns=['epoch', 'loss_avg', 'loss_test', 'acc_test', 'best_acc'])\n",
    "\n",
    "    # print('Best model, iter: {}, acc: {}'.format(best_epoch, best_acc))    \n",
    "    return best_epoch, best_acc, glob_model.state_dict(), final_results, client_results"
   ]
  },
  {
   "cell_type": "code",
   "execution_count": 15,
   "metadata": {},
   "outputs": [
    {
     "name": "stdout",
     "output_type": "stream",
     "text": [
      "dict_keys(['Cleveland', 'VA Long Beach', 'Hungary'])\n",
      "Index(['Age', 'Sex', 'RestingBP', 'Cholesterol', 'FastingBS', 'MaxHR',\n",
      "       'ExerciseAngina', 'Oldpeak', 'ChestPainType_1', 'ChestPainType_4',\n",
      "       'ChestPainType_3', 'ChestPainType_2', 'RestingECG_2', 'RestingECG_0',\n",
      "       'RestingECG_1', 'ST_Slope_3', 'ST_Slope_2', 'ST_Slope_1'],\n",
      "      dtype='object')\n",
      "          0         1         2\n",
      "0  0.000000  2.195766  2.487446\n",
      "1  2.578414  0.000000  2.324436\n",
      "2  1.562033  1.990125  0.000000\n",
      "KL FL mean: 2.1897034270096745\n",
      "Best model, iter: 7, acc: 0.7599999904632568\n",
      "Cleveland has accuracy 0.757377028465271\n",
      "Cleveland has max accuracy 0.7704917788505554\n",
      "Cleveland has min accuracy 0.7377049326896667\n",
      "VA Long Beach has accuracy 0.800000011920929\n",
      "VA Long Beach has max accuracy 0.8666666746139526\n",
      "VA Long Beach has min accuracy 0.7666666507720947\n",
      "Hungary has accuracy 0.8983051180839539\n",
      "Hungary has max accuracy 0.9152542352676392\n",
      "Hungary has min accuracy 0.8813559412956238\n"
     ]
    }
   ],
   "source": [
    "df_dict_W ={\n",
    "    'Cleveland': cleveland_df,\n",
    "    # 'Switzerland': switzerland_df,\n",
    "    'VA Long Beach': va_df,\n",
    "    'Hungary': hungarian_df        \n",
    "    }\n",
    "clients_W = []\n",
    "\n",
    "for i in list(df_dict_W.keys()):\n",
    "    df = df_dict_W.get(i)\n",
    "    location_data = new_df(df, False)\n",
    "    y = location_data.HeartDisease\n",
    "    location_data = location_data.drop(columns=\"HeartDisease\")\n",
    "\n",
    "    numeric_feature_names = ['Age', 'MaxHR', 'RestingBP',  'Oldpeak', 'Cholesterol']\n",
    "    for j in numeric_feature_names:\n",
    "        if location_data[j].std() != 0: \n",
    "            location_data[j] = (location_data[j] - location_data[j].mean()) / location_data[j].std()\n",
    "    x = location_data\n",
    "    glob_model_W = LR(len(x.columns)+7)\n",
    "    client_model = copy.deepcopy(glob_model_W)\n",
    "    lr = 0.1\n",
    "    clients_W.append(Client(i, x, y, client_model, lr, torch.nn.BCELoss(reduction='mean'), None))\n",
    "cat_bin_features = ['Sex', 'ChestPainType',  'FastingBS', 'RestingECG','ExerciseAngina', 'ST_Slope']\n",
    "KL_W = KL_matrices_disc_cont(clients_W, cat_bin_features, numeric_feature_names)\n",
    "KL_mean_W = (np.array(KL_W)[np.triu_indices(len(clients_W), k=1)].mean() + np.array(KL_W)[np.tril_indices(len(clients_W), -1)].mean()) /2\n",
    "cat_feat = ['ChestPainType', 'RestingECG', 'ST_Slope']\n",
    "for i in clients_W:\n",
    "    i.make_dummies(cat_feat)\n",
    "    i.make_test()\n",
    "glob_model = LR(len(clients_W[0].X.columns))\n",
    "val_x_W, val_y_W = make_validation_sets(clients_W)\n",
    "\n",
    "best_epoch_W, best_acc_W, model_dict_W, final_results_W, client_results_W = FL_proces_test(clients_W, val_x_W, val_y_W, ctx_eval, glob_model_W, 10, False, False)\n",
    "print(df_dict_W.keys())\n",
    "print(clients_W[0].X.columns)\n",
    "print(KL_W)\n",
    "print('KL FL mean: {}'.format(KL_mean_W))\n",
    "print('Best model, iter: {}, acc: {}'.format(best_epoch_W, best_acc_W))  \n",
    "for i in list(client_results_W.keys()):\n",
    "    list_client = client_results_W.get(i)\n",
    "    print('{} has accuracy {}'. format(i, np.mean(list_client)))\n",
    "    print('{} has max accuracy {}'. format(i, np.max(list_client)))\n",
    "    print('{} has min accuracy {}'. format(i, np.min(list_client)))\n"
   ]
  },
  {
   "cell_type": "code",
   "execution_count": 17,
   "metadata": {},
   "outputs": [
    {
     "name": "stdout",
     "output_type": "stream",
     "text": [
      "dict_keys(['Cleveland', 'Switzerland', 'VA Long Beach', 'Hungary'])\n",
      "Index(['Age', 'Sex', 'RestingBP', 'FastingBS', 'MaxHR', 'ExerciseAngina',\n",
      "       'Oldpeak', 'ChestPainType_1', 'ChestPainType_4', 'ChestPainType_3',\n",
      "       'ChestPainType_2', 'RestingECG_2', 'RestingECG_0', 'RestingECG_1',\n",
      "       'ST_Slope_3', 'ST_Slope_2', 'ST_Slope_1'],\n",
      "      dtype='object')\n",
      "          0         1         2             3\n",
      "0  0.000000  1.735963  2.183113  2.462930e+00\n",
      "1  1.591768  0.000000  0.709178  1.354121e+00\n",
      "2  2.558419  0.878337  0.000000  2.318305e+00\n",
      "3  1.539994  1.350110  1.983839 -2.220446e-16\n",
      "KL FL mean: 1.7221729711312652\n",
      "Best model, iter: 9, acc: 0.7485714554786682\n",
      "Cleveland has accuracy 0.8032787442207336\n",
      "Cleveland has max accuracy 0.8196721076965332\n",
      "Cleveland has min accuracy 0.7704917788505554\n",
      "Switzerland has accuracy 0.8799999952316284\n",
      "Switzerland has max accuracy 0.8799999952316284\n",
      "Switzerland has min accuracy 0.8799999952316284\n",
      "VA Long Beach has accuracy 0.8233333826065063\n",
      "VA Long Beach has max accuracy 0.8666666746139526\n",
      "VA Long Beach has min accuracy 0.800000011920929\n",
      "Hungary has accuracy 0.8508475422859192\n",
      "Hungary has max accuracy 0.8644067645072937\n",
      "Hungary has min accuracy 0.8305084705352783\n"
     ]
    }
   ],
   "source": [
    "df_dict_SW ={\n",
    "    'Cleveland': cleveland_df,\n",
    "    'Switzerland': switzerland_df,\n",
    "    'VA Long Beach': va_df,\n",
    "    'Hungary': hungarian_df        \n",
    "    }\n",
    "clients_SW = []\n",
    "\n",
    "for i in list(df_dict_SW.keys()):\n",
    "    df = df_dict_SW.get(i)\n",
    "    location_data = new_df(df)\n",
    "    y = location_data.HeartDisease\n",
    "    location_data = location_data.drop(columns=\"HeartDisease\")\n",
    "\n",
    "    numeric_feature_names_SW = ['Age', 'MaxHR', 'RestingBP',  'Oldpeak']\n",
    "    for j in numeric_feature_names_SW:\n",
    "        if location_data[j].std() != 0: \n",
    "            location_data[j] = (location_data[j] - location_data[j].mean()) / location_data[j].std()\n",
    "    x = location_data\n",
    "    glob_model_SW = LR(len(x.columns)+7)\n",
    "    client_model = copy.deepcopy(glob_model_SW)\n",
    "    lr = 0.1\n",
    "    clients_SW.append(Client(i, x, y, client_model, lr, torch.nn.BCELoss(reduction='mean'), None))\n",
    "cat_bin_features = ['Sex', 'ChestPainType',  'FastingBS', 'RestingECG','ExerciseAngina', 'ST_Slope']\n",
    "KL_SW = KL_matrices_disc_cont(clients_SW, cat_bin_features, numeric_feature_names_SW)\n",
    "KL_mean_S = (np.array(KL_SW)[np.triu_indices(len(clients_SW), k=1)].mean() + np.array(KL_SW)[np.tril_indices(len(clients_SW), -1)].mean()) /2\n",
    "cat_feat = ['ChestPainType', 'RestingECG', 'ST_Slope']\n",
    "for i in clients_SW:\n",
    "    i.make_dummies(cat_feat)\n",
    "    i.make_test()\n",
    "glob_model_S = LR(len(clients_SW[0].X.columns))\n",
    "val_x_SW, val_y_SW = make_validation_sets(clients_SW)\n",
    "\n",
    "best_epoch_SW, best_acc_SW, model_dict_SW, final_results_SW, client_results_SW = FL_proces_test(clients_SW, val_x_SW, val_y_SW, ctx_eval, glob_model_SW, 10, False, True)\n",
    "print(df_dict_SW.keys())\n",
    "print(clients_SW[0].X.columns)\n",
    "print(KL_SW)\n",
    "print('KL FL mean: {}'.format(KL_mean_S))\n",
    "print('Best model, iter: {}, acc: {}'.format(best_epoch_SW, best_acc_SW))  \n",
    "for i in list(client_results_SW.keys()):\n",
    "    list_client = client_results_SW.get(i)\n",
    "    print('{} has accuracy {}'. format(i, np.mean(list_client)))\n",
    "    print('{} has max accuracy {}'. format(i, np.max(list_client)))\n",
    "    print('{} has min accuracy {}'. format(i, np.min(list_client)))\n"
   ]
  },
  {
   "cell_type": "code",
   "execution_count": 18,
   "metadata": {},
   "outputs": [
    {
     "name": "stdout",
     "output_type": "stream",
     "text": [
      "dict_keys(['Cleveland', 'VA Long Beach', 'Hungary'])\n",
      "Index(['Age', 'Sex', 'RestingBP', 'Cholesterol', 'FastingBS', 'MaxHR',\n",
      "       'ExerciseAngina', 'Oldpeak', 'ChestPainType_1', 'ChestPainType_4',\n",
      "       'ChestPainType_3', 'ChestPainType_2', 'RestingECG_2', 'RestingECG_0',\n",
      "       'RestingECG_1', 'ST_Slope_3', 'ST_Slope_2', 'ST_Slope_1'],\n",
      "      dtype='object')\n",
      "          0         1         2\n",
      "0  0.000000  2.195766  2.487446\n",
      "1  2.578414  0.000000  2.324436\n",
      "2  1.562033  1.990125  0.000000\n",
      "KL FL mean: 2.1897034270096745\n",
      "Best model, iter: 9, acc: 0.7866666913032532\n",
      "Cleveland has accuracy 0.772131085395813\n",
      "Cleveland has max accuracy 0.7868852615356445\n",
      "Cleveland has min accuracy 0.7704917788505554\n",
      "VA Long Beach has accuracy 0.8133333325386047\n",
      "VA Long Beach has max accuracy 0.8333333134651184\n",
      "VA Long Beach has min accuracy 0.800000011920929\n",
      "Hungary has accuracy 0.8999999761581421\n",
      "Hungary has max accuracy 0.9152542352676392\n",
      "Hungary has min accuracy 0.8644067645072937\n"
     ]
    }
   ],
   "source": [
    "df_dict ={\n",
    "    'Cleveland': cleveland_df,\n",
    "    # 'Switzerland': switzerland_df,\n",
    "    'VA Long Beach': va_df,\n",
    "    'Hungary': hungarian_df        \n",
    "    }\n",
    "clients = []\n",
    "\n",
    "for i in list(df_dict.keys()):\n",
    "    df = df_dict.get(i)\n",
    "    location_data = new_df(df, False)\n",
    "    y = location_data.HeartDisease\n",
    "    location_data = location_data.drop(columns=\"HeartDisease\")\n",
    "\n",
    "    numeric_feature_names = ['Age', 'MaxHR', 'RestingBP',  'Oldpeak', 'Cholesterol']\n",
    "    for j in numeric_feature_names:\n",
    "        if location_data[j].std() != 0: \n",
    "            location_data[j] = (location_data[j] - location_data[j].mean()) / location_data[j].std()\n",
    "    x = location_data\n",
    "    glob_model = LR(len(x.columns)+7)\n",
    "    client_model = copy.deepcopy(glob_model)\n",
    "    lr = 0.1\n",
    "    clients.append(Client(i, x, y, client_model, lr, torch.nn.BCELoss(reduction='mean'), None))\n",
    "cat_bin_features = ['Sex', 'ChestPainType',  'FastingBS', 'RestingECG','ExerciseAngina', 'ST_Slope']\n",
    "KL = KL_matrices_disc_cont(clients, cat_bin_features, numeric_feature_names)\n",
    "KL_mean = (np.array(KL)[np.triu_indices(len(clients), k=1)].mean() + np.array(KL)[np.tril_indices(len(clients), -1)].mean()) /2\n",
    "cat_feat = ['ChestPainType', 'RestingECG', 'ST_Slope']\n",
    "for i in clients:\n",
    "    i.make_dummies(cat_feat)\n",
    "    i.make_test()\n",
    "glob_model = LR(len(clients[0].X.columns))\n",
    "val_x, val_y = make_validation_sets(clients)\n",
    "\n",
    "best_epoch, best_acc, model_dict, final_results , client_results = FL_proces(clients, val_x, val_y, ctx_eval, glob_model, 10, False, False)\n",
    "print(df_dict.keys())\n",
    "print(clients[0].X.columns)\n",
    "print(KL)\n",
    "print('KL FL mean: {}'.format(KL_mean))\n",
    "print('Best model, iter: {}, acc: {}'.format(best_epoch, best_acc))  \n",
    "for i in list(client_results.keys()):\n",
    "    list_client = client_results.get(i)\n",
    "    print('{} has accuracy {}'. format(i, np.mean(list_client)))\n",
    "    print('{} has max accuracy {}'. format(i, np.max(list_client)))\n",
    "    print('{} has min accuracy {}'. format(i, np.min(list_client)))\n"
   ]
  },
  {
   "cell_type": "code",
   "execution_count": 19,
   "metadata": {},
   "outputs": [
    {
     "name": "stdout",
     "output_type": "stream",
     "text": [
      "dict_keys(['Cleveland', 'Switzerland', 'VA Long Beach', 'Hungary'])\n",
      "Index(['Age', 'Sex', 'RestingBP', 'Cholesterol', 'FastingBS', 'MaxHR',\n",
      "       'ExerciseAngina', 'Oldpeak', 'ChestPainType_1', 'ChestPainType_4',\n",
      "       'ChestPainType_3', 'ChestPainType_2', 'RestingECG_2', 'RestingECG_0',\n",
      "       'RestingECG_1', 'ST_Slope_3', 'ST_Slope_2', 'ST_Slope_1'],\n",
      "      dtype='object')\n",
      "          0             1         2             3\n",
      "0  0.000000  1.748567e+00  2.183113  2.462930e+00\n",
      "1  1.595784 -2.220446e-16  0.706801  1.349862e+00\n",
      "2  2.558419  8.792501e-01  0.000000  2.318305e+00\n",
      "3  1.539994  1.352187e+00  1.983839 -2.220446e-16\n",
      "KL FL mean: 1.7232540815757624\n",
      "Best model, iter: 1, acc: 0.5771428346633911\n",
      "Cleveland has mean accuracy 0.4754098355770111\n",
      "Cleveland has max accuracy 0.4754098355770111\n",
      "Cleveland has min accuracy 0.4754098355770111\n",
      "Switzerland has mean accuracy 0.8399999737739563\n",
      "Switzerland has max accuracy 0.8399999737739563\n",
      "Switzerland has min accuracy 0.8399999737739563\n",
      "VA Long Beach has mean accuracy 0.366666704416275\n",
      "VA Long Beach has max accuracy 0.36666667461395264\n",
      "VA Long Beach has min accuracy 0.36666667461395264\n",
      "Hungary has mean accuracy 0.6779661178588867\n",
      "Hungary has max accuracy 0.6779661178588867\n",
      "Hungary has min accuracy 0.6779661178588867\n"
     ]
    }
   ],
   "source": [
    "df_dict_S ={\n",
    "    'Cleveland': cleveland_df,\n",
    "    'Switzerland': switzerland_df,\n",
    "    'VA Long Beach': va_df,\n",
    "    'Hungary': hungarian_df        \n",
    "    }\n",
    "clients_S = []\n",
    "\n",
    "for i in list(df_dict_S.keys()):\n",
    "    df = df_dict_S.get(i)\n",
    "    location_data = new_df(df, False)\n",
    "    y = location_data.HeartDisease\n",
    "    location_data = location_data.drop(columns=\"HeartDisease\")\n",
    "\n",
    "    numeric_feature_names_S = ['Age', 'MaxHR', 'RestingBP',  'Oldpeak']\n",
    "    for j in numeric_feature_names_S:\n",
    "        if location_data[j].std() != 0: \n",
    "            location_data[j] = (location_data[j] - location_data[j].mean()) / location_data[j].std()\n",
    "    x = location_data\n",
    "    # print(y.value_counts())\n",
    "    glob_model_S = LR(len(x.columns)+7)\n",
    "    client_model = copy.deepcopy(glob_model_S)\n",
    "    lr = 0.1\n",
    "    clients_S.append(Client(i, x, y, client_model, lr, torch.nn.BCELoss(reduction='mean'), None))\n",
    "cat_bin_features = ['Sex', 'ChestPainType',  'FastingBS', 'RestingECG','ExerciseAngina', 'ST_Slope']\n",
    "KL_S = KL_matrices_disc_cont(clients_S, cat_bin_features, numeric_feature_names_S)\n",
    "KL_mean_S = (np.array(KL_S)[np.triu_indices(len(clients_S), k=1)].mean() + np.array(KL_S)[np.tril_indices(len(clients_S), -1)].mean()) /2\n",
    "cat_feat = ['ChestPainType', 'RestingECG', 'ST_Slope']\n",
    "for i in clients_S:\n",
    "    i.make_dummies(cat_feat)\n",
    "    i.make_test()\n",
    "glob_model_S = LR(len(clients_S[0].X.columns))\n",
    "val_x_S, val_y_S = make_validation_sets(clients_S)\n",
    "\n",
    "best_epoch_S, best_acc_S, model_dict_S, final_results_S, client_results_S = FL_proces(clients_S, val_x_S, val_y_S, ctx_eval, glob_model_S, 10, False, True)\n",
    "print(df_dict_S.keys())\n",
    "print(clients_S[0].X.columns)\n",
    "print(KL_S)\n",
    "print('KL FL mean: {}'.format(KL_mean_S))\n",
    "print('Best model, iter: {}, acc: {}'.format(best_epoch_S, best_acc_S))  \n",
    "for i in list(client_results_S.keys()):\n",
    "    list_client = client_results_S.get(i)\n",
    "    print('{} has mean accuracy {}'. format(i, np.mean(list_client)))\n",
    "    print('{} has max accuracy {}'. format(i, np.max(list_client)))\n",
    "    print('{} has min accuracy {}'. format(i, np.min(list_client)))\n",
    "\n"
   ]
  },
  {
   "cell_type": "code",
   "execution_count": 21,
   "metadata": {},
   "outputs": [
    {
     "data": {
      "image/png": "[encoded data removed]",
      "text/plain": [
       "<Figure size 432x288 with 1 Axes>"
      ]
     },
     "metadata": {
      "needs_background": "light"
     },
     "output_type": "display_data"
    }
   ],
   "source": [
    "plt.plot(final_results_S.best_acc)\n",
    "plt.plot(final_results.best_acc)\n",
    "plt.plot(final_results_SW.best_acc)\n",
    "plt.plot(final_results_W.best_acc)\n",
    "# plt.plot(final_results_S.loss_test)\n",
    "# plt.plot(final_results.loss_test)\n",
    "# plt.plot(final_results_SW.loss_test)\n",
    "# plt.plot(final_results_W.loss_test)\n",
    "plt.show()"
   ]
  },
  {
   "cell_type": "code",
   "execution_count": 22,
   "metadata": {},
   "outputs": [
    {
     "data": {
      "text/plain": [
       "<matplotlib.legend.Legend at 0x7f803b69b8b0>"
      ]
     },
     "execution_count": 22,
     "metadata": {},
     "output_type": "execute_result"
    },
    {
     "data": {
      "image/png": "[encoded data removed]",
      "text/plain": [
       "<Figure size 432x288 with 1 Axes>"
      ]
     },
     "metadata": {
      "needs_background": "light"
     },
     "output_type": "display_data"
    }
   ],
   "source": [
    "for i in list(client_results_SW.keys()):\n",
    "    list_client = client_results_SW.get(i)\n",
    "    plt.plot(list_client[0:best_epoch_SW+1], label = i)\n",
    "plt.plot(final_results_SW.best_acc[0:best_epoch_SW+1], label ='FL')\n",
    "plt.legend()"
   ]
  },
  {
   "cell_type": "code",
   "execution_count": 23,
   "metadata": {},
   "outputs": [
    {
     "data": {
      "text/plain": [
       "dict_keys(['Cleveland', 'VA Long Beach', 'Hungary'])"
      ]
     },
     "execution_count": 23,
     "metadata": {},
     "output_type": "execute_result"
    }
   ],
   "source": [
    "client_results_W.keys()"
   ]
  },
  {
   "cell_type": "code",
   "execution_count": 24,
   "metadata": {},
   "outputs": [
    {
     "data": {
      "text/plain": [
       "<matplotlib.legend.Legend at 0x7f803cde4850>"
      ]
     },
     "execution_count": 24,
     "metadata": {},
     "output_type": "execute_result"
    },
    {
     "data": {
      "image/png": "[encoded data removed]",
      "text/plain": [
       "<Figure size 432x288 with 1 Axes>"
      ]
     },
     "metadata": {
      "needs_background": "light"
     },
     "output_type": "display_data"
    }
   ],
   "source": [
    "for i in list(client_results_W.keys()):\n",
    "    list_client = client_results_W.get(i)\n",
    "    plt.plot(list_client[0:best_epoch_W+1], label = i)\n",
    "plt.plot(final_results_W.best_acc[0:best_epoch_W+1], label ='FL')\n",
    "plt.legend()"
   ]
  },
  {
   "cell_type": "code",
   "execution_count": 25,
   "metadata": {},
   "outputs": [
    {
     "data": {
      "text/plain": [
       "<matplotlib.legend.Legend at 0x7f803d1129d0>"
      ]
     },
     "execution_count": 25,
     "metadata": {},
     "output_type": "execute_result"
    },
    {
     "data": {
      "image/png": "[encoded data removed]",
      "text/plain": [
       "<Figure size 432x288 with 1 Axes>"
      ]
     },
     "metadata": {
      "needs_background": "light"
     },
     "output_type": "display_data"
    }
   ],
   "source": [
    "for i in list(client_results.keys()):\n",
    "    list_client = client_results.get(i)\n",
    "    plt.plot(list_client[0:best_epoch+1], label = i)\n",
    "plt.plot(final_results.best_acc[0:best_epoch+1], label ='FL')\n",
    "plt.legend()"
   ]
  },
  {
   "cell_type": "code",
   "execution_count": 26,
   "metadata": {},
   "outputs": [
    {
     "data": {
      "text/plain": [
       "<matplotlib.legend.Legend at 0x7f803d1a5460>"
      ]
     },
     "execution_count": 26,
     "metadata": {},
     "output_type": "execute_result"
    },
    {
     "data": {
      "image/png": "[encoded data removed]",
      "text/plain": [
       "<Figure size 432x288 with 1 Axes>"
      ]
     },
     "metadata": {
      "needs_background": "light"
     },
     "output_type": "display_data"
    }
   ],
   "source": [
    "for i in list(client_results_S.keys()):\n",
    "    list_client = client_results_S.get(i)\n",
    "    plt.plot(list_client[0:best_epoch_S+1], label = i)\n",
    "plt.plot(final_results_S.best_acc[0:best_epoch_S+1], label ='FL')\n",
    "plt.legend()"
   ]
  },
  {
   "cell_type": "code",
   "execution_count": 27,
   "metadata": {},
   "outputs": [
    {
     "data": {
      "text/plain": [
       "<bound method NDFrame.describe of         Cleveland     Switzerland   VA Long Beach         Hungary\n",
       "0  tensor(0.4754)  tensor(0.8400)  tensor(0.3667)  tensor(0.6780)\n",
       "1  tensor(0.4754)  tensor(0.8400)  tensor(0.3667)  tensor(0.6780)\n",
       "2  tensor(0.4754)  tensor(0.8400)  tensor(0.3667)  tensor(0.6780)\n",
       "3  tensor(0.4754)  tensor(0.8400)  tensor(0.3667)  tensor(0.6780)\n",
       "4  tensor(0.4754)  tensor(0.8400)  tensor(0.3667)  tensor(0.6780)\n",
       "5  tensor(0.4754)  tensor(0.8400)  tensor(0.3667)  tensor(0.6780)\n",
       "6  tensor(0.4754)  tensor(0.8400)  tensor(0.3667)  tensor(0.6780)\n",
       "7  tensor(0.4754)  tensor(0.8400)  tensor(0.3667)  tensor(0.6780)\n",
       "8  tensor(0.4754)  tensor(0.8400)  tensor(0.3667)  tensor(0.6780)\n",
       "9  tensor(0.4754)  tensor(0.8400)  tensor(0.3667)  tensor(0.6780)>"
      ]
     },
     "execution_count": 27,
     "metadata": {},
     "output_type": "execute_result"
    }
   ],
   "source": [
    "pd.DataFrame(client_results_S).describe"
   ]
  },
  {
   "cell_type": "code",
   "execution_count": 28,
   "metadata": {},
   "outputs": [
    {
     "data": {
      "text/plain": [
       "[tensor(0.6780),\n",
       " tensor(0.6780),\n",
       " tensor(0.6780),\n",
       " tensor(0.6780),\n",
       " tensor(0.6780),\n",
       " tensor(0.6780),\n",
       " tensor(0.6780),\n",
       " tensor(0.6780),\n",
       " tensor(0.6780),\n",
       " tensor(0.6780)]"
      ]
     },
     "execution_count": 28,
     "metadata": {},
     "output_type": "execute_result"
    }
   ],
   "source": [
    "list_client"
   ]
  },
  {
   "cell_type": "code",
   "execution_count": 29,
   "metadata": {},
   "outputs": [
    {
     "data": {
      "text/plain": [
       "array([[0.        , 0.81606373, 0.24531176, 0.01922391, 0.01833006],\n",
       "       [0.5263773 , 0.        , 0.08868103, 0.73440592, 0.36233405],\n",
       "       [0.21714275, 0.12425976, 0.        , 0.36420349, 0.11199057],\n",
       "       [0.01877364, 1.10500787, 0.40154293, 0.        , 0.0738069 ],\n",
       "       [0.01829941, 0.56473543, 0.12642981, 0.07544452, 0.        ]])"
      ]
     },
     "execution_count": 29,
     "metadata": {},
     "output_type": "execute_result"
    }
   ],
   "source": [
    "kl = np.empty(((len(clients_S)+1), (len(clients_S)+1)))\n",
    "for i in range(len(clients_S)+1):\n",
    "    for j in range(len(clients_S)+1):\n",
    "        # print(j)\n",
    "        if i > len(clients_S)-1 and j >  len(clients_S)-1:\n",
    "             kl[i,j] = KL_divergence_disc(prob_discrete_var(val_y_S),prob_discrete_var(val_y_S))\n",
    "        elif i > len(clients_S)-1:\n",
    "            # print(j)\n",
    "            kl[i,j] = KL_divergence_disc(prob_discrete_var(val_y_S),prob_discrete_var(clients_S[j].y))\n",
    "        elif j > len(clients_S)-1:\n",
    "            kl[i,j] = KL_divergence_disc(prob_discrete_var(clients_S[i].y),prob_discrete_var(val_y_S))\n",
    "        else:\n",
    "            # print(i)\n",
    "            kl[i,j] = KL_divergence_disc(prob_discrete_var(clients_S[i].y),prob_discrete_var(clients_S[j].y))\n",
    "        \n",
    "kl"
   ]
  },
  {
   "cell_type": "code",
   "execution_count": 30,
   "metadata": {},
   "outputs": [
    {
     "name": "stdout",
     "output_type": "stream",
     "text": [
      "0.018330057124611693\n",
      "0.3623340544977067\n",
      "0.11199057141456908\n",
      "0.07380689700082108\n",
      "0.018299405943864866\n",
      "0.5647354345315885\n",
      "0.12642981055037422\n",
      "0.0754445181625738\n"
     ]
    }
   ],
   "source": [
    "print(KL_divergence_disc(prob_discrete_var(clients_S[0].y),prob_discrete_var(val_y_S)))\n",
    "print(KL_divergence_disc(prob_discrete_var(clients_S[1].y),prob_discrete_var(val_y_S)))\n",
    "print(KL_divergence_disc(prob_discrete_var(clients_S[2].y),prob_discrete_var(val_y_S)))\n",
    "print(KL_divergence_disc(prob_discrete_var(clients_S[3].y),prob_discrete_var(val_y_S)))\n",
    "print(KL_divergence_disc(prob_discrete_var(val_y_S),prob_discrete_var(clients_S[0].y)))\n",
    "print(KL_divergence_disc(prob_discrete_var(val_y_S),prob_discrete_var(clients_S[1].y)))\n",
    "print(KL_divergence_disc(prob_discrete_var(val_y_S),prob_discrete_var(clients_S[2].y)))\n",
    "print(KL_divergence_disc(prob_discrete_var(val_y_S),prob_discrete_var(clients_S[3].y)))"
   ]
  },
  {
   "cell_type": "code",
   "execution_count": 31,
   "metadata": {},
   "outputs": [
    {
     "data": {
      "text/plain": [
       "[<clientClass.Client at 0x7f803a3ccc40>,\n",
       " <clientClass.Client at 0x7f803a3ccf40>,\n",
       " <clientClass.Client at 0x7f803a3cfb80>,\n",
       " <clientClass.Client at 0x7f803a3d0fa0>]"
      ]
     },
     "execution_count": 31,
     "metadata": {},
     "output_type": "execute_result"
    }
   ],
   "source": [
    "clients_S"
   ]
  },
  {
   "cell_type": "code",
   "execution_count": 35,
   "metadata": {},
   "outputs": [
    {
     "data": {
      "image/png": "[encoded data removed]",
      "text/plain": [
       "<Figure size 432x288 with 1 Axes>"
      ]
     },
     "metadata": {
      "needs_background": "light"
     },
     "output_type": "display_data"
    }
   ],
   "source": [
    "plt.plot(final_results_SW.best_acc[:200], label= 'Weighted FedAvg inc. Switzerland')\n",
    "plt.plot(final_results_W.best_acc[:200], label= 'Weighted FedAvg exc. Switzerland')\n",
    "plt.plot(final_results_S.best_acc[:200], label= 'FedAvg inc. Switzerland')\n",
    "plt.plot(final_results.best_acc[:200], label= 'FedAvg exc. Switzerland')\n",
    "plt.ylabel('Accuracy')\n",
    "plt.xlabel('FL iterations')\n",
    "plt.legend()\n",
    "\n",
    "# plt.savefig('images/Accuracy_Healthcare_iter2000',bbox_inches='tight',  dpi=300)\n",
    "# plt.savefig('/Users/romyho/Documents/Master_Econometrie/Thesis/Thesis_latex/images/Accuracy_Healthcare_iter2000', bbox_inches='tight',  dpi=300)\n",
    "plt.show()"
   ]
  },
  {
   "cell_type": "code",
   "execution_count": 36,
   "metadata": {},
   "outputs": [
    {
     "data": {
      "image/png": "[encoded data removed]",
      "text/plain": [
       "<Figure size 432x288 with 1 Axes>"
      ]
     },
     "metadata": {
      "needs_background": "light"
     },
     "output_type": "display_data"
    }
   ],
   "source": [
    "plt.plot(final_results_SW.best_acc[:2000], label= 'Weighted FedAvg inc. Switzerland')\n",
    "plt.plot(final_results_W.best_acc[:2000], label= 'Weighted FedAvg exc. Switzerland')\n",
    "plt.plot(final_results_S.best_acc[:2000], label= 'FedAvg inc. Switzerland')\n",
    "plt.plot(final_results.best_acc[:2000], label= 'FedAvg exc. Switzerland')\n",
    "plt.ylabel('Accuracy')\n",
    "plt.xlabel('FL iterations')\n",
    "plt.legend()\n",
    "\n",
    "# plt.savefig('images/Accuracy_Healthcare',bbox_inches='tight',  dpi=300)\n",
    "# plt.savefig('/Users/romyho/Documents/Master_Econometrie/Thesis/Thesis_latex/images/Accuracy_Healthcare', bbox_inches='tight',  dpi=300)\n",
    "plt.show()"
   ]
  }
 ],
 "metadata": {
  "kernelspec": {
   "display_name": "Python 3.9.5 ('.venv': venv)",
   "language": "python",
   "name": "python3"
  },
  "language_info": {
   "codemirror_mode": {
    "name": "ipython",
    "version": 3
   },
   "file_extension": ".py",
   "mimetype": "text/x-python",
   "name": "python",
   "nbconvert_exporter": "python",
   "pygments_lexer": "ipython3",
   "version": "3.9.5"
  },
  "orig_nbformat": 4,
  "vscode": {
   "interpreter": {
    "hash": "09e8ec364b952246add4ddd33f4542aa64db539a1fae1d378a14e2864d1ab433"
   }
  }
 },
 "nbformat": 4,
 "nbformat_minor": 2
}
