{
 "cells": [
  {
   "cell_type": "code",
   "execution_count": 59,
   "metadata": {},
   "outputs": [],
   "source": [
    "import json\n",
    "import numpy as np\n",
    "import os\n",
    "import pandas as pd\n",
    "from matplotlib import pyplot as plt\n"
   ]
  },
  {
   "cell_type": "code",
   "execution_count": 60,
   "metadata": {},
   "outputs": [],
   "source": [
    "def read_results_file(folder: str, file_name: str) -> list:\n",
    "    new_data = []\n",
    "    total_kl= []\n",
    "    total_acc = []\n",
    "    mean_dist = []\n",
    "    df = pd.DataFrame()\n",
    "    \n",
    "    with open(f'{folder}/{file_name}', 'r') as f:\n",
    "        json_data = json.load(f)\n",
    "        # analytical_loss_local = 0\n",
    "        # analytical_loss_global = 0\n",
    "        kl_dv = []\n",
    "        mean_dist = []\n",
    "        acc_mean = []\n",
    "        epsilon_sigma = []\n",
    "        for i in range(len(json_data)-1):\n",
    "            iteration_number = json_data[str(i)]\n",
    "            parameters = json_data[str(i)]['parameters']\n",
    "            clients_1 = json_data[str(i)]['parameters']['n_clients']\n",
    "            clients_2 = json_data[str(i+1)]['parameters']['n_clients']\n",
    "            features_1 = json_data[str(i)]['parameters']['n_features']\n",
    "            features_2 = json_data[str(i+1)]['parameters']['n_features']\n",
    "\n",
    "            # df.total_kl = \n",
    "            # total_kl.append(json_data[str(i)]['results']['KL_mean'])\n",
    "            # total_acc.append(json_data[str(i)]['results']['acc_mean'])\n",
    "            # mean_dist.append(json_data[str(i)]['parameters']['mean_dist'])\n",
    "            # if clients_1 == clients_2 and features_1 == features_2:\n",
    "            kl_dv.append(json_data[str(i)]['results']['KL_mean'])\n",
    "            mean_dist.append(json_data[str(i)]['parameters']['mean_dist'])\n",
    "            acc_mean.append(json_data[str(i)]['results']['acc_mean'])\n",
    "            epsilon_sigma.append(json_data[str(i)]['parameters']['epsilon_sigma'])\n",
    "            # new_data.append([parameters, kl_dv, mean_dist, acc_mean])\n",
    "            # total_kl.append(kl_dv)\n",
    "            # total_acc.append(acc_mean)\n",
    "            # if iteration_number == -1:\n",
    "            #     analytical_loss_local = json_data[i]['loss']['params_local']['data_local']['mean']\n",
    "            #     analytical_loss_global = json_data[i]['loss']['params_global']['data_global']\n",
    "            # else:\n",
    "                # new_data.append([iteration_number,\n",
    "                #                  analytical_loss_local,\n",
    "                #                  analytical_loss_global,\n",
    "                #                  json_data[i]['loss']['params_local']['data_local']['mean'],\n",
    "                #                  json_data[i]['loss']['params_global']['data_local'],\n",
    "                #                  json_data[i]['loss']['params_global']['data_global']])\n",
    "    df['total_kl'] = kl_dv\n",
    "    df['mean_dist'] = mean_dist\n",
    "    df['total_acc'] = acc_mean\n",
    "    df['epsilon_sigma'] = epsilon_sigma\n",
    "    # if df.size > 0:\n",
    "    #     df = np.dstack((df, np.array(new_data)))\n",
    "    # else:\n",
    "    #     df = np.array(new_data)\n",
    "\n",
    "    return df"
   ]
  },
  {
   "cell_type": "code",
   "execution_count": 61,
   "metadata": {},
   "outputs": [],
   "source": [
    "\n",
    "def plot_loss_functions(fig_name: str, df_cl, df_fl):\n",
    "    plt.figure()\n",
    "    plt.loglog(df_cl[:, 0], df_cl[:, 1], label='CL: optimal loss, local data')\n",
    "    plt.loglog(df_cl[:, 0], df_cl[:, 2], label='CL: optimal loss, global data')\n",
    "    plt.loglog(df_cl[:, 0], df_cl[:, 3], label='CL: local model, local data')\n",
    "    plt.loglog(df_cl[:, 0], df_cl[:, 4], label='CL: global model, local data')\n",
    "    plt.loglog(df_cl[:, 0], df_cl[:, 5], label='CL: global model, global data')\n",
    "    plt.loglog(df_fl[:, 0], df_fl[:, 1], label='FL: optimal loss, local data')\n",
    "    plt.loglog(df_fl[:, 0], df_fl[:, 2], label='FL: optimal loss, global data')\n",
    "    plt.loglog(df_fl[:, 0], df_fl[:, 3], label='FL: local model, local data')\n",
    "    plt.loglog(df_fl[:, 0], df_fl[:, 4], label='FL: global model, local data')\n",
    "    plt.loglog(df_fl[:, 0], df_fl[:, 5], label='FL: global model, global data')\n",
    "    plt.title('Loss function vs. outer iterations')\n",
    "    plt.xlabel('Outer iterations')\n",
    "    plt.ylabel('Loss value')\n",
    "    plt.legend()\n",
    "    plt.savefig(fig_name, format='png')\n",
    "\n",
    "\n"
   ]
  },
  {
   "cell_type": "code",
   "execution_count": null,
   "metadata": {},
   "outputs": [],
   "source": []
  },
  {
   "cell_type": "code",
   "execution_count": 62,
   "metadata": {},
   "outputs": [],
   "source": [
    "df = read_results_file('Results', 'total_dict_2022-06-23 14:06:31.804913.json')"
   ]
  },
  {
   "cell_type": "code",
   "execution_count": 63,
   "metadata": {},
   "outputs": [
    {
     "ename": "NameError",
     "evalue": "name 'kl_total' is not defined",
     "output_type": "error",
     "traceback": [
      "\u001b[0;31m---------------------------------------------------------------------------\u001b[0m",
      "\u001b[0;31mNameError\u001b[0m                                 Traceback (most recent call last)",
      "\u001b[1;32m/Users/romyho/Documents/Master_Econometrie/Thesis/Thesis_FL_Ectrie/plot_results.ipynb Cell 6'\u001b[0m in \u001b[0;36m<cell line: 1>\u001b[0;34m()\u001b[0m\n\u001b[0;32m----> <a href='vscode-notebook-cell:/Users/romyho/Documents/Master_Econometrie/Thesis/Thesis_FL_Ectrie/plot_results.ipynb#ch0000005?line=0'>1</a>\u001b[0m \u001b[39mfor\u001b[39;00m i \u001b[39min\u001b[39;00m \u001b[39mrange\u001b[39m(\u001b[39mlen\u001b[39m(kl_total)):\n\u001b[1;32m      <a href='vscode-notebook-cell:/Users/romyho/Documents/Master_Econometrie/Thesis/Thesis_FL_Ectrie/plot_results.ipynb#ch0000005?line=1'>2</a>\u001b[0m     plt\u001b[39m.\u001b[39mscatter(acc_total[i], kl_total[i], label \u001b[39m=\u001b[39m mean_dist[i])\n\u001b[1;32m      <a href='vscode-notebook-cell:/Users/romyho/Documents/Master_Econometrie/Thesis/Thesis_FL_Ectrie/plot_results.ipynb#ch0000005?line=2'>3</a>\u001b[0m plt\u001b[39m.\u001b[39mlegend(np\u001b[39m.\u001b[39munique(mean_dist))\n",
      "\u001b[0;31mNameError\u001b[0m: name 'kl_total' is not defined"
     ]
    }
   ],
   "source": [
    "for i in range(len(kl_total)):\n",
    "    plt.scatter(acc_total[i], kl_total[i], label = mean_dist[i])\n",
    "plt.legend(np.unique(mean_dist))\n",
    "plt.xlabel('Accuracy')\n",
    "plt.ylabel('KL')\n",
    "plt.show()"
   ]
  },
  {
   "cell_type": "code",
   "execution_count": 97,
   "metadata": {},
   "outputs": [],
   "source": [
    "df_sort = df.sort_values(by=['epsilon_sigma', 'mean_dist'])"
   ]
  },
  {
   "cell_type": "code",
   "execution_count": 115,
   "metadata": {},
   "outputs": [
    {
     "data": {
      "text/plain": [
       "Float64Index([0.1, 0.6, 1.1, 1.6, 2.1, 2.6], dtype='float64', name='mean_dist')"
      ]
     },
     "execution_count": 115,
     "metadata": {},
     "output_type": "execute_result"
    }
   ],
   "source": [
    "df_sort.groupby(by=['epsilon_sigma','mean_dist']).count().unstack().columns.levels[1]"
   ]
  },
  {
   "cell_type": "code",
   "execution_count": 109,
   "metadata": {},
   "outputs": [
    {
     "data": {
      "image/png": "[encoded data removed]",
      "text/plain": [
       "<Figure size 432x288 with 1 Axes>"
      ]
     },
     "metadata": {
      "needs_background": "light"
     },
     "output_type": "display_data"
    }
   ],
   "source": [
    "#Getting unique labels\n",
    " \n",
    "u_labels = np.unique(df.epsilon_sigma)\n",
    "\n",
    "#plotting the results:\n",
    "for i in u_labels:\n",
    "    plt.scatter(df_sort[df_sort.epsilon_sigma == i].total_acc , df_sort[df_sort.epsilon_sigma == i].total_kl , c=df_sort[df_sort.epsilon_sigma == i].mean_dist)\n",
    "    # print(df_sort[df_sort.epsilon_sigma == i].mean_dist)\n",
    "    # print(df_sort[df_sort.epsilon_sigma == i].epsilon_sigma)\n",
    "plt.xlabel('Accuracy')\n",
    "plt.ylabel('Kullback-Leibler divergence')\n",
    "# plt.legend( np.unique(df_sort.mean_dist), title='Mean distance')\n",
    "# plt.legend( np.arange(0.1, 3.6, 0.5), title='Mean distance', loc='upper center', bbox_to_anchor=(0.5, -0.2),\n",
    "#           fancybox=True, shadow=True, ncol=5)\n",
    "plt.show()"
   ]
  },
  {
   "cell_type": "code",
   "execution_count": 112,
   "metadata": {},
   "outputs": [
    {
     "data": {
      "text/html": [
       "<div>\n",
       "<style scoped>\n",
       "    .dataframe tbody tr th:only-of-type {\n",
       "        vertical-align: middle;\n",
       "    }\n",
       "\n",
       "    .dataframe tbody tr th {\n",
       "        vertical-align: top;\n",
       "    }\n",
       "\n",
       "    .dataframe thead th {\n",
       "        text-align: right;\n",
       "    }\n",
       "</style>\n",
       "<table border=\"1\" class=\"dataframe\">\n",
       "  <thead>\n",
       "    <tr style=\"text-align: right;\">\n",
       "      <th></th>\n",
       "      <th>City</th>\n",
       "      <th>Occupation</th>\n",
       "      <th>Blood Type</th>\n",
       "      <th>Dummy</th>\n",
       "    </tr>\n",
       "  </thead>\n",
       "  <tbody>\n",
       "    <tr>\n",
       "      <th>0</th>\n",
       "      <td>Tijuana</td>\n",
       "      <td>Drone security officer</td>\n",
       "      <td>AB</td>\n",
       "      <td>1.0</td>\n",
       "    </tr>\n",
       "    <tr>\n",
       "      <th>1</th>\n",
       "      <td>Tijuana</td>\n",
       "      <td>Drone security officer</td>\n",
       "      <td>O</td>\n",
       "      <td>1.0</td>\n",
       "    </tr>\n",
       "    <tr>\n",
       "      <th>2</th>\n",
       "      <td>Atlantis</td>\n",
       "      <td>Lawyer</td>\n",
       "      <td>B</td>\n",
       "      <td>1.0</td>\n",
       "    </tr>\n",
       "    <tr>\n",
       "      <th>3</th>\n",
       "      <td>Anaheim</td>\n",
       "      <td>Engineer</td>\n",
       "      <td>A</td>\n",
       "      <td>1.0</td>\n",
       "    </tr>\n",
       "    <tr>\n",
       "      <th>4</th>\n",
       "      <td>Tijuana</td>\n",
       "      <td>Engineer</td>\n",
       "      <td>A</td>\n",
       "      <td>1.0</td>\n",
       "    </tr>\n",
       "    <tr>\n",
       "      <th>...</th>\n",
       "      <td>...</td>\n",
       "      <td>...</td>\n",
       "      <td>...</td>\n",
       "      <td>...</td>\n",
       "    </tr>\n",
       "    <tr>\n",
       "      <th>495</th>\n",
       "      <td>Atlantis</td>\n",
       "      <td>Drone security officer</td>\n",
       "      <td>A</td>\n",
       "      <td>1.0</td>\n",
       "    </tr>\n",
       "    <tr>\n",
       "      <th>496</th>\n",
       "      <td>Atlantis</td>\n",
       "      <td>Drone security officer</td>\n",
       "      <td>B</td>\n",
       "      <td>1.0</td>\n",
       "    </tr>\n",
       "    <tr>\n",
       "      <th>497</th>\n",
       "      <td>Los Angeles</td>\n",
       "      <td>Doctor</td>\n",
       "      <td>B</td>\n",
       "      <td>1.0</td>\n",
       "    </tr>\n",
       "    <tr>\n",
       "      <th>498</th>\n",
       "      <td>Atlantis</td>\n",
       "      <td>Engineer</td>\n",
       "      <td>B</td>\n",
       "      <td>1.0</td>\n",
       "    </tr>\n",
       "    <tr>\n",
       "      <th>499</th>\n",
       "      <td>Atlantis</td>\n",
       "      <td>Lawyer</td>\n",
       "      <td>B</td>\n",
       "      <td>1.0</td>\n",
       "    </tr>\n",
       "  </tbody>\n",
       "</table>\n",
       "<p>500 rows × 4 columns</p>\n",
       "</div>"
      ],
      "text/plain": [
       "            City              Occupation Blood Type  Dummy\n",
       "0        Tijuana  Drone security officer         AB    1.0\n",
       "1        Tijuana  Drone security officer          O    1.0\n",
       "2       Atlantis                  Lawyer          B    1.0\n",
       "3        Anaheim                Engineer          A    1.0\n",
       "4        Tijuana                Engineer          A    1.0\n",
       "..           ...                     ...        ...    ...\n",
       "495     Atlantis  Drone security officer          A    1.0\n",
       "496     Atlantis  Drone security officer          B    1.0\n",
       "497  Los Angeles                  Doctor          B    1.0\n",
       "498     Atlantis                Engineer          B    1.0\n",
       "499     Atlantis                  Lawyer          B    1.0\n",
       "\n",
       "[500 rows x 4 columns]"
      ]
     },
     "execution_count": 112,
     "metadata": {},
     "output_type": "execute_result"
    }
   ],
   "source": [
    "df"
   ]
  },
  {
   "cell_type": "code",
   "execution_count": 119,
   "metadata": {},
   "outputs": [
    {
     "ename": "IndexError",
     "evalue": "too many indices for array: array is 1-dimensional, but 2 were indexed",
     "output_type": "error",
     "traceback": [
      "\u001b[0;31m---------------------------------------------------------------------------\u001b[0m",
      "\u001b[0;31mIndexError\u001b[0m                                Traceback (most recent call last)",
      "\u001b[1;32m/Users/romyho/Documents/Master_Econometrie/Thesis/Thesis_FL_Ectrie/plot_results.ipynb Cell 11'\u001b[0m in \u001b[0;36m<cell line: 39>\u001b[0;34m()\u001b[0m\n\u001b[1;32m     <a href='vscode-notebook-cell:/Users/romyho/Documents/Master_Econometrie/Thesis/Thesis_FL_Ectrie/plot_results.ipynb#ch0000015?line=38'>39</a>\u001b[0m \u001b[39mfor\u001b[39;00m a, b \u001b[39min\u001b[39;00m \u001b[39menumerate\u001b[39m(np\u001b[39m.\u001b[39munique(df_sort\u001b[39m.\u001b[39mepsilon_sigma)):\n\u001b[1;32m     <a href='vscode-notebook-cell:/Users/romyho/Documents/Master_Econometrie/Thesis/Thesis_FL_Ectrie/plot_results.ipynb#ch0000015?line=39'>40</a>\u001b[0m     \u001b[39mfor\u001b[39;00m i, j \u001b[39min\u001b[39;00m \u001b[39menumerate\u001b[39m(np\u001b[39m.\u001b[39munique(df_sort\u001b[39m.\u001b[39mmean_dist)):\n\u001b[0;32m---> <a href='vscode-notebook-cell:/Users/romyho/Documents/Master_Econometrie/Thesis/Thesis_FL_Ectrie/plot_results.ipynb#ch0000015?line=40'>41</a>\u001b[0m         axes[a,\u001b[39m1\u001b[39;49m]\u001b[39m.\u001b[39mscatter(df_sort[df_sort\u001b[39m.\u001b[39mepsilon_sigma \u001b[39m==\u001b[39m b]\u001b[39m.\u001b[39mtotal_acc , df_sort[df_sort\u001b[39m.\u001b[39mepsilon_sigma \u001b[39m==\u001b[39m b]\u001b[39m.\u001b[39mtotal_kl ,c\u001b[39m=\u001b[39mj ,color\u001b[39m=\u001b[39mcolors)\n\u001b[1;32m     <a href='vscode-notebook-cell:/Users/romyho/Documents/Master_Econometrie/Thesis/Thesis_FL_Ectrie/plot_results.ipynb#ch0000015?line=41'>42</a>\u001b[0m         \u001b[39m# axes[a,i].xaxis.set_ticks([])\u001b[39;00m\n\u001b[1;32m     <a href='vscode-notebook-cell:/Users/romyho/Documents/Master_Econometrie/Thesis/Thesis_FL_Ectrie/plot_results.ipynb#ch0000015?line=43'>44</a>\u001b[0m axeslabels \u001b[39m=\u001b[39m fig\u001b[39m.\u001b[39madd_subplot(\u001b[39m111\u001b[39m, frameon\u001b[39m=\u001b[39m\u001b[39mFalse\u001b[39;00m)\n",
      "\u001b[0;31mIndexError\u001b[0m: too many indices for array: array is 1-dimensional, but 2 were indexed"
     ]
    },
    {
     "data": {
      "image/png": "[encoded data removed]",
      "text/plain": [
       "<Figure size 720x864 with 6 Axes>"
      ]
     },
     "metadata": {},
     "output_type": "display_data"
    }
   ],
   "source": [
    "import numpy as np, pandas as pd\n",
    "import matplotlib.pyplot as plt\n",
    "from matplotlib.cm import get_cmap\n",
    "from matplotlib.patches import Patch\n",
    "import seaborn as sns\n",
    "\n",
    "# Make data\n",
    "# cities = ['Tijuana','Las Vegas','Los Angeles','Anaheim','Atlantis']\n",
    "# occupations = ['Doctor','Lawyer','Engineer','Drone security officer']\n",
    "# bloodtypes = ['A','B','AB','O']\n",
    "# df = pd.DataFrame({'City': np.random.choice(cities,500),\n",
    "#                    'Occupation': np.random.choice(occupations,500),\n",
    "#                    'Blood Type':np.random.choice(bloodtypes,500)})\n",
    "\n",
    "# # Make a dummy column, otherwise the groupby returns an empty df\n",
    "# df['Dummy'] = np.ones(500)\n",
    "\n",
    "# # This is now what I'd like to plot\n",
    "# grouped = df.groupby(by=['City','Occupation','Blood Type']).count().unstack()\n",
    "\n",
    "# List of blood types, to use later as categories in subplots\n",
    "kinds = np.unique(df_sort.mean_dist)\n",
    "\n",
    "# colors for bar graph\n",
    "colors = [get_cmap('viridis')(v) for v in np.linspace(0,1,len(kinds))]\n",
    "\n",
    "sns.set(context=\"talk\")\n",
    "nxplots = len(np.unique(df_sort.mean_dist))\n",
    "nyplots = 1\n",
    "fig, axes = plt.subplots(nxplots,\n",
    "                         nyplots,\n",
    "                         sharey=True,\n",
    "                         sharex=True,\n",
    "                         figsize=(10,12))\n",
    "\n",
    "fig.suptitle('City, occupation, and blood type')\n",
    "\n",
    "# plot the data\n",
    "for a, b in enumerate(np.unique(df_sort.epsilon_sigma)):\n",
    "    for i, j in enumerate(np.unique(df_sort.mean_dist)):\n",
    "        axes[a,i].scatter(df_sort[df_sort.epsilon_sigma == b].total_acc , df_sort[df_sort.epsilon_sigma == b].total_kl ,c=j ,color=colors)\n",
    "        axes[a,i].xaxis.set_ticks([])\n",
    "\n",
    "axeslabels = fig.add_subplot(111, frameon=False)\n",
    "plt.tick_params(labelcolor='none', top=False, bottom=False, left=False, right=False)\n",
    "plt.grid(False)\n",
    "axeslabels.set_ylabel('City',rotation='horizontal',y=1,weight=\"bold\")\n",
    "axeslabels.set_xlabel('Occupation',weight=\"bold\")\n",
    "\n",
    "# x- and y-axis labels\n",
    "# for i, j in enumerate(grouped.index.levels[1]):\n",
    "#     axes[nyplots,i].set_xlabel(j)\n",
    "# for i, j in enumerate(grouped.index.levels[0]):\n",
    "#     axes[i,0].set_ylabel(j)\n",
    "\n",
    "# Tune this manually to make room for the legend\n",
    "fig.subplots_adjust(right=0.82)\n",
    "\n",
    "fig.legend([Patch(facecolor = i) for i in colors],\n",
    "           kinds,\n",
    "           title=\"Blood type\",\n",
    "           loc=\"center right\")"
   ]
  },
  {
   "cell_type": "code",
   "execution_count": 57,
   "metadata": {},
   "outputs": [
    {
     "data": {
      "text/plain": [
       "array([5.e-01, 1.e+00, 1.e+01, 1.e+02, 1.e+03])"
      ]
     },
     "execution_count": 57,
     "metadata": {},
     "output_type": "execute_result"
    }
   ],
   "source": [
    "np.unique(df_sort.epsilon_sigma)"
   ]
  },
  {
   "cell_type": "code",
   "execution_count": 10,
   "metadata": {},
   "outputs": [],
   "source": [
    "# mean_dist_list = np.arange(0.1, 3.0, 0.5)\n",
    "# with open('Results/total_dict_2022-06-13 13:34:28.347619.json', 'r') as f:\n",
    "#     json_data = json.load(f)\n",
    "#     for i in range(len(json_data)):\n",
    "#         # print(json_data[str(i)]['parameters']['mean_dist'])\n",
    "#         for m in mean_dist_list:\n",
    "#             if json_data[str(i)]['parameters']['mean_dist'] == m:\n",
    "#                 plt.scatter( json_data[str(i)]['results']['acc_mean'], json_data[str(i)]['results']['KL_mean'])\n",
    "#     plt.legend(mean_dist_list)\n",
    "#     plt.show()"
   ]
  },
  {
   "cell_type": "code",
   "execution_count": 11,
   "metadata": {},
   "outputs": [],
   "source": [
    "\n",
    "if __name__ == \"__main__\":\n",
    "    directory = os.getcwd()\n",
    "    if not os.path.isdir('figures'):\n",
    "        os.makedirs('figures')\n",
    "\n",
    "    count_fig = 0\n",
    "    for subdir, dirs, files in os.walk(f'{directory}/results'):\n",
    "        if 'experiment_' in subdir:\n",
    "            df_cl = np.array([])\n",
    "            df_fl = np.array([])\n",
    "            for file in files:\n",
    "                if 'fl' in file:\n",
    "                    df_fl = read_results_file(subdir, file, df_fl)\n",
    "                elif 'cl' in file:\n",
    "                    df_cl = read_results_file(subdir, file, df_cl)\n",
    "\n",
    "            df_fl_mean = np.mean(df_fl, axis=2)\n",
    "            df_cl_mean = np.mean(df_cl, axis=2)\n",
    "\n",
    "            plot_loss_functions('figures/fig_experiment_' +\n",
    "                                str(count_fig) + '.png', df_cl_mean, df_fl_mean)\n",
    "            count_fig += 1"
   ]
  },
  {
   "cell_type": "code",
   "execution_count": 14,
   "metadata": {},
   "outputs": [
    {
     "data": {
      "text/plain": [
       "0.5239999949932098"
      ]
     },
     "execution_count": 14,
     "metadata": {},
     "output_type": "execute_result"
    }
   ],
   "source": [
    "(0.4699999988079071+0.5+0.6200000047683716+0.5099999904632568+0.5199999809265137)/5"
   ]
  },
  {
   "cell_type": "code",
   "execution_count": 16,
   "metadata": {},
   "outputs": [
    {
     "data": {
      "text/plain": [
       "array([ 1.37375522,  1.2551983 , -0.13922887])"
      ]
     },
     "execution_count": 16,
     "metadata": {},
     "output_type": "execute_result"
    }
   ],
   "source": []
  },
  {
   "cell_type": "code",
   "execution_count": 17,
   "metadata": {},
   "outputs": [
    {
     "data": {
      "text/plain": [
       "array([-1.41690698,  0.89805302,  0.54647384])"
      ]
     },
     "execution_count": 17,
     "metadata": {},
     "output_type": "execute_result"
    }
   ],
   "source": [
    "np.random.uniform(-1.5, 1.5, 3)"
   ]
  },
  {
   "cell_type": "code",
   "execution_count": null,
   "metadata": {},
   "outputs": [],
   "source": []
  }
 ],
 "metadata": {
  "kernelspec": {
   "display_name": "Python 3.9.7 ('thesis_fl': venv)",
   "language": "python",
   "name": "python3"
  },
  "language_info": {
   "codemirror_mode": {
    "name": "ipython",
    "version": 3
   },
   "file_extension": ".py",
   "mimetype": "text/x-python",
   "name": "python",
   "nbconvert_exporter": "python",
   "pygments_lexer": "ipython3",
   "version": "3.9.7"
  },
  "orig_nbformat": 4,
  "vscode": {
   "interpreter": {
    "hash": "69650470d3dba1dfb0173b7d578c7df4bae2b2f16b8279109af7c296623678fe"
   }
  }
 },
 "nbformat": 4,
 "nbformat_minor": 2
}
