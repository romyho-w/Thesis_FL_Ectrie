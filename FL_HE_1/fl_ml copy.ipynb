{
 "cells": [
  {
   "cell_type": "code",
   "execution_count": 1,
   "metadata": {},
   "outputs": [],
   "source": [
    "import pandas as pd\n",
    "import numpy as np\n",
    "from numpy import e\n",
    "import nest_asyncio\n",
    "import sklearn\n",
    "import tensorflow as tf\n",
    "import tensorflow_federated as tff\n",
    "from sklearn.preprocessing import StandardScaler\n",
    "from sklearn.model_selection import train_test_split\n",
    "from collections import defaultdict, OrderedDict\n",
    "from clientClass import Client\n",
    "from Server import Server\n",
    "from phe import paillier\n",
    "import sys\n",
    "import matplotlib.pyplot as plt\n",
    "import torch\n",
    "import random\n",
    "from time import time\n",
    "import math\n",
    "from scipy.special import expit\n",
    "from os import path\n",
    "import cryptotree\n",
    "\n",
    "from dataFunction import import_data, new_df, data_prep, make_dummies\n",
    "nest_asyncio.apply()\n",
    "np.random.seed(10)\n",
    "tf.random.set_seed(10)\n",
    "tff.framework.set_default_context(tff.backends.native.create_thread_debugging_execution_context(clients_per_thread=50))"
   ]
  },
  {
   "cell_type": "code",
   "execution_count": 2,
   "metadata": {},
   "outputs": [],
   "source": [
    "# del sys.modules['cryptotree']"
   ]
  },
  {
   "cell_type": "markdown",
   "metadata": {},
   "source": [
    "# Make Dataframes for every dataset"
   ]
  },
  {
   "cell_type": "code",
   "execution_count": 3,
   "metadata": {},
   "outputs": [],
   "source": [
    "\n",
    "cleveland = \"processed.cleveland.data\"\n",
    "switzerland = \"processed.switzerland.data\"\n",
    "va = \"processed.va.data\"\n",
    "hungarian = \"reprocessed.hungarian.data\"\n",
    "cleveland_df, switzerland_df, va_df, hungarian_df = import_data(cleveland, switzerland, va, hungarian)\n",
    "df = new_df(cleveland_df, switzerland_df, va_df, hungarian_df)"
   ]
  },
  {
   "cell_type": "code",
   "execution_count": 4,
   "metadata": {},
   "outputs": [],
   "source": [
    "hungarian_df = df[df.Location == 'Hungarian'].drop(columns=['Location'])\n",
    "switzerland_df = df[df.Location == 'Switzerland'].drop(columns=['Location'])\n",
    "cleveland_df = df[df.Location == 'Cleveland'].drop(columns=['Location'])\n",
    "va_df = df[df.Location == 'VA'].drop(columns=['Location'])"
   ]
  },
  {
   "cell_type": "code",
   "execution_count": 12,
   "metadata": {},
   "outputs": [
    {
     "name": "stderr",
     "output_type": "stream",
     "text": [
      "/var/folders/51/y971znh54m9glw4jwjryyvdh0000gn/T/ipykernel_11229/3474096456.py:15: FutureWarning: In a future version of pandas all arguments of DataFrame.drop except for the argument 'labels' will be keyword-only.\n",
      "  location_data = location_data.drop(\"HeartDisease\", 'columns')\n",
      "/var/folders/51/y971znh54m9glw4jwjryyvdh0000gn/T/ipykernel_11229/3474096456.py:15: FutureWarning: In a future version of pandas all arguments of DataFrame.drop except for the argument 'labels' will be keyword-only.\n",
      "  location_data = location_data.drop(\"HeartDisease\", 'columns')\n",
      "/var/folders/51/y971znh54m9glw4jwjryyvdh0000gn/T/ipykernel_11229/3474096456.py:15: FutureWarning: In a future version of pandas all arguments of DataFrame.drop except for the argument 'labels' will be keyword-only.\n",
      "  location_data = location_data.drop(\"HeartDisease\", 'columns')\n"
     ]
    }
   ],
   "source": [
    "torch.random.manual_seed(73)\n",
    "random.seed(73)\n",
    "n_clients = 4\n",
    "df_dict ={\n",
    "    'Cleveland': cleveland_df,\n",
    "    # 'Switzerland': switzerland_df,\n",
    "    'VA Long Beach': va_df,\n",
    "    'Hungary': hungarian_df        \n",
    "    }\n",
    "clients = []\n",
    "for i in list(df_dict.keys()):\n",
    "    location_data = df_dict.get(i)\n",
    "    y = location_data.HeartDisease\n",
    "    # y =  torch.tensor(location_data[\"HeartDisease\"].values).float().unsqueeze(1)\n",
    "    location_data = location_data.drop(\"HeartDisease\", 'columns')\n",
    "    cat_feat = ['ChestPainType', 'RestingECG', 'ST_Slope']\n",
    "    # location_data = make_dummies(location_data, cat_feat)\n",
    "    numeric_feature_names = ['Age', 'MaxHR', 'RestingBP',  'Cholesterol', 'Oldpeak']\n",
    "    location_data[numeric_feature_names] = (location_data[numeric_feature_names] - location_data[numeric_feature_names].mean()) / location_data[numeric_feature_names].std()\n",
    "    x = location_data\n",
    "    # x = torch.tensor(location_data.values).float()\n",
    "    clients.append(Client(i, x, y, cat_feat))\n",
    "# cat_feat = ['ChestPainType', 'RestingECG', 'ST_Slope']\n",
    "# clients[0].X = make_dummies(clients[0].X, cat_feat)\n",
    "\n",
    "\n",
    "X_train, X_test, y_train, y_test = train_test_split(clients[1].X, clients[1].y, test_size=0.2, random_state=42)"
   ]
  },
  {
   "cell_type": "markdown",
   "metadata": {},
   "source": [
    "# Encryption methods\n",
    "-   Homomorphic Encryption (HE)\n",
    "-   Differential Privacy (DP)\n",
    "-   Secure Multiparty Computations (SMPC)"
   ]
  },
  {
   "cell_type": "code",
   "execution_count": 13,
   "metadata": {},
   "outputs": [
    {
     "data": {
      "text/html": [
       "<div>\n",
       "<style scoped>\n",
       "    .dataframe tbody tr th:only-of-type {\n",
       "        vertical-align: middle;\n",
       "    }\n",
       "\n",
       "    .dataframe tbody tr th {\n",
       "        vertical-align: top;\n",
       "    }\n",
       "\n",
       "    .dataframe thead th {\n",
       "        text-align: right;\n",
       "    }\n",
       "</style>\n",
       "<table border=\"1\" class=\"dataframe\">\n",
       "  <thead>\n",
       "    <tr style=\"text-align: right;\">\n",
       "      <th></th>\n",
       "      <th>Age</th>\n",
       "      <th>Sex</th>\n",
       "      <th>ChestPainType</th>\n",
       "      <th>RestingBP</th>\n",
       "      <th>Cholesterol</th>\n",
       "      <th>FastingBS</th>\n",
       "      <th>RestingECG</th>\n",
       "      <th>MaxHR</th>\n",
       "      <th>ExerciseAngina</th>\n",
       "      <th>Oldpeak</th>\n",
       "      <th>ST_Slope</th>\n",
       "    </tr>\n",
       "  </thead>\n",
       "  <tbody>\n",
       "    <tr>\n",
       "      <th>0</th>\n",
       "      <td>0.461858</td>\n",
       "      <td>1.0</td>\n",
       "      <td>4.0</td>\n",
       "      <td>0.300991</td>\n",
       "      <td>0.749749</td>\n",
       "      <td>0.0</td>\n",
       "      <td>1.0</td>\n",
       "      <td>-0.482684</td>\n",
       "      <td>1.0</td>\n",
       "      <td>1.530454</td>\n",
       "      <td>2.0</td>\n",
       "    </tr>\n",
       "    <tr>\n",
       "      <th>1</th>\n",
       "      <td>-1.943470</td>\n",
       "      <td>1.0</td>\n",
       "      <td>4.0</td>\n",
       "      <td>-0.245922</td>\n",
       "      <td>0.304237</td>\n",
       "      <td>0.0</td>\n",
       "      <td>1.0</td>\n",
       "      <td>0.199915</td>\n",
       "      <td>0.0</td>\n",
       "      <td>-1.189103</td>\n",
       "      <td>2.0</td>\n",
       "    </tr>\n",
       "    <tr>\n",
       "      <th>2</th>\n",
       "      <td>0.082069</td>\n",
       "      <td>1.0</td>\n",
       "      <td>4.0</td>\n",
       "      <td>-0.136540</td>\n",
       "      <td>0.382857</td>\n",
       "      <td>0.0</td>\n",
       "      <td>1.0</td>\n",
       "      <td>0.791501</td>\n",
       "      <td>1.0</td>\n",
       "      <td>0.170676</td>\n",
       "      <td>3.0</td>\n",
       "    </tr>\n",
       "    <tr>\n",
       "      <th>3</th>\n",
       "      <td>-0.550912</td>\n",
       "      <td>1.0</td>\n",
       "      <td>4.0</td>\n",
       "      <td>0.410373</td>\n",
       "      <td>0.470212</td>\n",
       "      <td>0.0</td>\n",
       "      <td>1.0</td>\n",
       "      <td>1.201061</td>\n",
       "      <td>1.0</td>\n",
       "      <td>1.077195</td>\n",
       "      <td>1.0</td>\n",
       "    </tr>\n",
       "    <tr>\n",
       "      <th>4</th>\n",
       "      <td>0.841647</td>\n",
       "      <td>1.0</td>\n",
       "      <td>3.0</td>\n",
       "      <td>-1.339748</td>\n",
       "      <td>0.339179</td>\n",
       "      <td>1.0</td>\n",
       "      <td>2.0</td>\n",
       "      <td>-1.074270</td>\n",
       "      <td>1.0</td>\n",
       "      <td>-0.010628</td>\n",
       "      <td>2.0</td>\n",
       "    </tr>\n",
       "    <tr>\n",
       "      <th>...</th>\n",
       "      <td>...</td>\n",
       "      <td>...</td>\n",
       "      <td>...</td>\n",
       "      <td>...</td>\n",
       "      <td>...</td>\n",
       "      <td>...</td>\n",
       "      <td>...</td>\n",
       "      <td>...</td>\n",
       "      <td>...</td>\n",
       "      <td>...</td>\n",
       "      <td>...</td>\n",
       "    </tr>\n",
       "    <tr>\n",
       "      <th>193</th>\n",
       "      <td>0.335262</td>\n",
       "      <td>1.0</td>\n",
       "      <td>4.0</td>\n",
       "      <td>1.285434</td>\n",
       "      <td>-0.036448</td>\n",
       "      <td>0.0</td>\n",
       "      <td>1.0</td>\n",
       "      <td>0.700488</td>\n",
       "      <td>1.0</td>\n",
       "      <td>-1.189103</td>\n",
       "      <td>2.0</td>\n",
       "    </tr>\n",
       "    <tr>\n",
       "      <th>194</th>\n",
       "      <td>-1.690278</td>\n",
       "      <td>1.0</td>\n",
       "      <td>4.0</td>\n",
       "      <td>-0.027157</td>\n",
       "      <td>1.186525</td>\n",
       "      <td>0.0</td>\n",
       "      <td>0.0</td>\n",
       "      <td>0.154409</td>\n",
       "      <td>0.0</td>\n",
       "      <td>-1.189103</td>\n",
       "      <td>2.0</td>\n",
       "    </tr>\n",
       "    <tr>\n",
       "      <th>195</th>\n",
       "      <td>-0.677508</td>\n",
       "      <td>0.0</td>\n",
       "      <td>4.0</td>\n",
       "      <td>-0.409996</td>\n",
       "      <td>1.387442</td>\n",
       "      <td>1.0</td>\n",
       "      <td>1.0</td>\n",
       "      <td>1.428594</td>\n",
       "      <td>0.0</td>\n",
       "      <td>-1.189103</td>\n",
       "      <td>2.0</td>\n",
       "    </tr>\n",
       "    <tr>\n",
       "      <th>197</th>\n",
       "      <td>-0.550912</td>\n",
       "      <td>1.0</td>\n",
       "      <td>4.0</td>\n",
       "      <td>-0.683452</td>\n",
       "      <td>0.426534</td>\n",
       "      <td>1.0</td>\n",
       "      <td>1.0</td>\n",
       "      <td>-1.028763</td>\n",
       "      <td>0.0</td>\n",
       "      <td>-1.189103</td>\n",
       "      <td>2.0</td>\n",
       "    </tr>\n",
       "    <tr>\n",
       "      <th>199</th>\n",
       "      <td>0.335262</td>\n",
       "      <td>1.0</td>\n",
       "      <td>2.0</td>\n",
       "      <td>-0.792835</td>\n",
       "      <td>0.697335</td>\n",
       "      <td>0.0</td>\n",
       "      <td>2.0</td>\n",
       "      <td>-1.347310</td>\n",
       "      <td>1.0</td>\n",
       "      <td>-1.189103</td>\n",
       "      <td>2.0</td>\n",
       "    </tr>\n",
       "  </tbody>\n",
       "</table>\n",
       "<p>145 rows × 11 columns</p>\n",
       "</div>"
      ],
      "text/plain": [
       "          Age  Sex  ChestPainType  RestingBP  Cholesterol  FastingBS  \\\n",
       "0    0.461858  1.0            4.0   0.300991     0.749749        0.0   \n",
       "1   -1.943470  1.0            4.0  -0.245922     0.304237        0.0   \n",
       "2    0.082069  1.0            4.0  -0.136540     0.382857        0.0   \n",
       "3   -0.550912  1.0            4.0   0.410373     0.470212        0.0   \n",
       "4    0.841647  1.0            3.0  -1.339748     0.339179        1.0   \n",
       "..        ...  ...            ...        ...          ...        ...   \n",
       "193  0.335262  1.0            4.0   1.285434    -0.036448        0.0   \n",
       "194 -1.690278  1.0            4.0  -0.027157     1.186525        0.0   \n",
       "195 -0.677508  0.0            4.0  -0.409996     1.387442        1.0   \n",
       "197 -0.550912  1.0            4.0  -0.683452     0.426534        1.0   \n",
       "199  0.335262  1.0            2.0  -0.792835     0.697335        0.0   \n",
       "\n",
       "     RestingECG     MaxHR  ExerciseAngina   Oldpeak  ST_Slope  \n",
       "0           1.0 -0.482684             1.0  1.530454       2.0  \n",
       "1           1.0  0.199915             0.0 -1.189103       2.0  \n",
       "2           1.0  0.791501             1.0  0.170676       3.0  \n",
       "3           1.0  1.201061             1.0  1.077195       1.0  \n",
       "4           2.0 -1.074270             1.0 -0.010628       2.0  \n",
       "..          ...       ...             ...       ...       ...  \n",
       "193         1.0  0.700488             1.0 -1.189103       2.0  \n",
       "194         0.0  0.154409             0.0 -1.189103       2.0  \n",
       "195         1.0  1.428594             0.0 -1.189103       2.0  \n",
       "197         1.0 -1.028763             0.0 -1.189103       2.0  \n",
       "199         2.0 -1.347310             1.0 -1.189103       2.0  \n",
       "\n",
       "[145 rows x 11 columns]"
      ]
     },
     "execution_count": 13,
     "metadata": {},
     "output_type": "execute_result"
    }
   ],
   "source": [
    "clients[1].X.fillna(0)"
   ]
  },
  {
   "cell_type": "markdown",
   "metadata": {},
   "source": [
    "# HE\n",
    "- TenSEAL\n",
    "- linear \n"
   ]
  },
  {
   "cell_type": "code",
   "execution_count": 14,
   "metadata": {},
   "outputs": [],
   "source": [
    "import tenseal as ts\n",
    "\n",
    "def context():\n",
    "    context = ts.context(ts.SCHEME_TYPE.CKKS, 8192, coeff_mod_bit_sizes=[60, 40, 40, 60])\n",
    "    context.global_scale = pow(2, 40)\n",
    "    context.generate_galois_keys()\n",
    "    return context\n",
    "\n",
    "context = context()"
   ]
  },
  {
   "cell_type": "code",
   "execution_count": 15,
   "metadata": {},
   "outputs": [
    {
     "name": "stdout",
     "output_type": "stream",
     "text": [
      "Is the context private? Yes\n",
      "Is the context public? No\n",
      "Secret-key dropped\n",
      "Is the context private? No\n",
      "Is the context public? Yes\n"
     ]
    }
   ],
   "source": [
    "public_context = ts.context(ts.SCHEME_TYPE.BFV, poly_modulus_degree=4096, plain_modulus=1032193)\n",
    "print(\"Is the context private?\", (\"Yes\" if public_context.is_private() else \"No\"))\n",
    "print(\"Is the context public?\", (\"Yes\" if public_context.is_public() else \"No\"))\n",
    "\n",
    "sk = public_context.secret_key()\n",
    "\n",
    "# the context will drop the secret-key at this point\n",
    "public_context.make_context_public()\n",
    "print(\"Secret-key dropped\")\n",
    "print(\"Is the context private?\", (\"Yes\" if public_context.is_private() else \"No\"))\n",
    "print(\"Is the context public?\", (\"Yes\" if public_context.is_public() else \"No\"))"
   ]
  },
  {
   "cell_type": "code",
   "execution_count": 16,
   "metadata": {},
   "outputs": [
    {
     "data": {
      "text/html": [
       "<div>\n",
       "<style scoped>\n",
       "    .dataframe tbody tr th:only-of-type {\n",
       "        vertical-align: middle;\n",
       "    }\n",
       "\n",
       "    .dataframe tbody tr th {\n",
       "        vertical-align: top;\n",
       "    }\n",
       "\n",
       "    .dataframe thead th {\n",
       "        text-align: right;\n",
       "    }\n",
       "</style>\n",
       "<table border=\"1\" class=\"dataframe\">\n",
       "  <thead>\n",
       "    <tr style=\"text-align: right;\">\n",
       "      <th></th>\n",
       "      <th>Age</th>\n",
       "      <th>Sex</th>\n",
       "      <th>ChestPainType</th>\n",
       "      <th>RestingBP</th>\n",
       "      <th>Cholesterol</th>\n",
       "      <th>FastingBS</th>\n",
       "      <th>RestingECG</th>\n",
       "      <th>MaxHR</th>\n",
       "      <th>ExerciseAngina</th>\n",
       "      <th>Oldpeak</th>\n",
       "      <th>ST_Slope</th>\n",
       "    </tr>\n",
       "  </thead>\n",
       "  <tbody>\n",
       "    <tr>\n",
       "      <th>0</th>\n",
       "      <td>0.947160</td>\n",
       "      <td>1.0</td>\n",
       "      <td>1.0</td>\n",
       "      <td>0.756274</td>\n",
       "      <td>-0.264463</td>\n",
       "      <td>1.0</td>\n",
       "      <td>2.0</td>\n",
       "      <td>0.017169</td>\n",
       "      <td>0.0</td>\n",
       "      <td>1.085542</td>\n",
       "      <td>3.0</td>\n",
       "    </tr>\n",
       "    <tr>\n",
       "      <th>1</th>\n",
       "      <td>1.389703</td>\n",
       "      <td>1.0</td>\n",
       "      <td>4.0</td>\n",
       "      <td>1.608559</td>\n",
       "      <td>0.759159</td>\n",
       "      <td>0.0</td>\n",
       "      <td>2.0</td>\n",
       "      <td>-1.818896</td>\n",
       "      <td>1.0</td>\n",
       "      <td>0.396526</td>\n",
       "      <td>2.0</td>\n",
       "    </tr>\n",
       "    <tr>\n",
       "      <th>2</th>\n",
       "      <td>1.389703</td>\n",
       "      <td>1.0</td>\n",
       "      <td>4.0</td>\n",
       "      <td>-0.664201</td>\n",
       "      <td>-0.341717</td>\n",
       "      <td>0.0</td>\n",
       "      <td>2.0</td>\n",
       "      <td>-0.900864</td>\n",
       "      <td>1.0</td>\n",
       "      <td>1.343924</td>\n",
       "      <td>2.0</td>\n",
       "    </tr>\n",
       "    <tr>\n",
       "      <th>3</th>\n",
       "      <td>-1.929372</td>\n",
       "      <td>1.0</td>\n",
       "      <td>3.0</td>\n",
       "      <td>-0.096011</td>\n",
       "      <td>0.063869</td>\n",
       "      <td>0.0</td>\n",
       "      <td>0.0</td>\n",
       "      <td>1.634655</td>\n",
       "      <td>0.0</td>\n",
       "      <td>2.119067</td>\n",
       "      <td>3.0</td>\n",
       "    </tr>\n",
       "    <tr>\n",
       "      <th>4</th>\n",
       "      <td>-1.486829</td>\n",
       "      <td>0.0</td>\n",
       "      <td>2.0</td>\n",
       "      <td>-0.096011</td>\n",
       "      <td>-0.824558</td>\n",
       "      <td>0.0</td>\n",
       "      <td>2.0</td>\n",
       "      <td>0.978917</td>\n",
       "      <td>0.0</td>\n",
       "      <td>0.310399</td>\n",
       "      <td>1.0</td>\n",
       "    </tr>\n",
       "    <tr>\n",
       "      <th>...</th>\n",
       "      <td>...</td>\n",
       "      <td>...</td>\n",
       "      <td>...</td>\n",
       "      <td>...</td>\n",
       "      <td>...</td>\n",
       "      <td>...</td>\n",
       "      <td>...</td>\n",
       "      <td>...</td>\n",
       "      <td>...</td>\n",
       "      <td>...</td>\n",
       "      <td>...</td>\n",
       "    </tr>\n",
       "    <tr>\n",
       "      <th>298</th>\n",
       "      <td>-1.044285</td>\n",
       "      <td>1.0</td>\n",
       "      <td>1.0</td>\n",
       "      <td>-1.232391</td>\n",
       "      <td>0.334260</td>\n",
       "      <td>0.0</td>\n",
       "      <td>0.0</td>\n",
       "      <td>-0.769716</td>\n",
       "      <td>0.0</td>\n",
       "      <td>0.138144</td>\n",
       "      <td>2.0</td>\n",
       "    </tr>\n",
       "    <tr>\n",
       "      <th>299</th>\n",
       "      <td>1.500339</td>\n",
       "      <td>1.0</td>\n",
       "      <td>4.0</td>\n",
       "      <td>0.699455</td>\n",
       "      <td>-1.037008</td>\n",
       "      <td>1.0</td>\n",
       "      <td>0.0</td>\n",
       "      <td>-0.376274</td>\n",
       "      <td>0.0</td>\n",
       "      <td>2.032940</td>\n",
       "      <td>2.0</td>\n",
       "    </tr>\n",
       "    <tr>\n",
       "      <th>300</th>\n",
       "      <td>0.283345</td>\n",
       "      <td>1.0</td>\n",
       "      <td>4.0</td>\n",
       "      <td>-0.096011</td>\n",
       "      <td>-2.234453</td>\n",
       "      <td>0.0</td>\n",
       "      <td>0.0</td>\n",
       "      <td>-1.512885</td>\n",
       "      <td>1.0</td>\n",
       "      <td>0.138144</td>\n",
       "      <td>2.0</td>\n",
       "    </tr>\n",
       "    <tr>\n",
       "      <th>301</th>\n",
       "      <td>0.283345</td>\n",
       "      <td>0.0</td>\n",
       "      <td>2.0</td>\n",
       "      <td>-0.096011</td>\n",
       "      <td>-0.206522</td>\n",
       "      <td>0.0</td>\n",
       "      <td>2.0</td>\n",
       "      <td>1.066349</td>\n",
       "      <td>0.0</td>\n",
       "      <td>-0.895381</td>\n",
       "      <td>2.0</td>\n",
       "    </tr>\n",
       "    <tr>\n",
       "      <th>302</th>\n",
       "      <td>-1.818736</td>\n",
       "      <td>1.0</td>\n",
       "      <td>3.0</td>\n",
       "      <td>0.358541</td>\n",
       "      <td>-1.384653</td>\n",
       "      <td>0.0</td>\n",
       "      <td>0.0</td>\n",
       "      <td>1.022633</td>\n",
       "      <td>0.0</td>\n",
       "      <td>-0.895381</td>\n",
       "      <td>1.0</td>\n",
       "    </tr>\n",
       "  </tbody>\n",
       "</table>\n",
       "<p>303 rows × 11 columns</p>\n",
       "</div>"
      ],
      "text/plain": [
       "          Age  Sex  ChestPainType  RestingBP  Cholesterol  FastingBS  \\\n",
       "0    0.947160  1.0            1.0   0.756274    -0.264463        1.0   \n",
       "1    1.389703  1.0            4.0   1.608559     0.759159        0.0   \n",
       "2    1.389703  1.0            4.0  -0.664201    -0.341717        0.0   \n",
       "3   -1.929372  1.0            3.0  -0.096011     0.063869        0.0   \n",
       "4   -1.486829  0.0            2.0  -0.096011    -0.824558        0.0   \n",
       "..        ...  ...            ...        ...          ...        ...   \n",
       "298 -1.044285  1.0            1.0  -1.232391     0.334260        0.0   \n",
       "299  1.500339  1.0            4.0   0.699455    -1.037008        1.0   \n",
       "300  0.283345  1.0            4.0  -0.096011    -2.234453        0.0   \n",
       "301  0.283345  0.0            2.0  -0.096011    -0.206522        0.0   \n",
       "302 -1.818736  1.0            3.0   0.358541    -1.384653        0.0   \n",
       "\n",
       "     RestingECG     MaxHR  ExerciseAngina   Oldpeak  ST_Slope  \n",
       "0           2.0  0.017169             0.0  1.085542       3.0  \n",
       "1           2.0 -1.818896             1.0  0.396526       2.0  \n",
       "2           2.0 -0.900864             1.0  1.343924       2.0  \n",
       "3           0.0  1.634655             0.0  2.119067       3.0  \n",
       "4           2.0  0.978917             0.0  0.310399       1.0  \n",
       "..          ...       ...             ...       ...       ...  \n",
       "298         0.0 -0.769716             0.0  0.138144       2.0  \n",
       "299         0.0 -0.376274             0.0  2.032940       2.0  \n",
       "300         0.0 -1.512885             1.0  0.138144       2.0  \n",
       "301         2.0  1.066349             0.0 -0.895381       2.0  \n",
       "302         0.0  1.022633             0.0 -0.895381       1.0  \n",
       "\n",
       "[303 rows x 11 columns]"
      ]
     },
     "execution_count": 16,
     "metadata": {},
     "output_type": "execute_result"
    }
   ],
   "source": [
    "clients[0].X"
   ]
  },
  {
   "cell_type": "code",
   "execution_count": 107,
   "metadata": {},
   "outputs": [],
   "source": [
    "# plain_vector = [60, 66, 73, 81, 90]\n",
    "# # parameters\n",
    "# poly_mod_degree = 4096\n",
    "# coeff_mod_bit_sizes = [40, 20, 40]\n",
    "# ctx_eval = ts.context(ts.SCHEME_TYPE.CKKS, poly_mod_degree, -1, coeff_mod_bit_sizes)\n",
    "# ctx_eval.global_scale = 2 ** 20\n",
    "# # enc_x_test = [ts.ckks_vector(ctx_eval, clients[0].X[x]) for x in clients[0].X]\n",
    "# ctx_eval.generate_galois_keys()\n",
    "# # encrypted_vector = ts.bfv_vector(context, plain_vector)\n",
    "# # print(\"We just encrypted our plaintext vector of size:\", encrypted_vector.size())\n",
    "# # encrypted_vector\n",
    "\n",
    "# parameters\n",
    "poly_mod_degree = 8192\n",
    "coeff_mod_bit_sizes = [40, 21, 21, 21, 21, 21, 21, 40]\n",
    "# create TenSEALContext\n",
    "ctx_training = ts.context(ts.SCHEME_TYPE.CKKS, poly_mod_degree, -1, coeff_mod_bit_sizes)\n",
    "ctx_training.global_scale = 2 ** 21\n",
    "ctx_training.generate_galois_keys()"
   ]
  },
  {
   "cell_type": "code",
   "execution_count": 108,
   "metadata": {},
   "outputs": [
    {
     "data": {
      "text/plain": [
       "tensor([[-0.1592,  1.0000, -0.0960,  ...,  0.0000,  0.0000,  1.0000],\n",
       "        [-0.0486,  1.0000, -1.2324,  ...,  0.0000,  1.0000,  0.0000],\n",
       "        [ 0.1727,  1.0000, -0.3801,  ...,  0.0000,  1.0000,  0.0000],\n",
       "        ...,\n",
       "        [ 0.2833,  1.0000, -0.0960,  ...,  0.0000,  1.0000,  0.0000],\n",
       "        [ 0.8365,  0.0000,  0.3585,  ...,  0.0000,  1.0000,  0.0000],\n",
       "        [ 0.6153,  0.0000,  1.4949,  ...,  0.0000,  0.0000,  1.0000]])"
      ]
     },
     "execution_count": 108,
     "metadata": {},
     "output_type": "execute_result"
    }
   ],
   "source": [
    "X_test"
   ]
  },
  {
   "cell_type": "code",
   "execution_count": 7,
   "metadata": {},
   "outputs": [
    {
     "ename": "AttributeError",
     "evalue": "'Tensor' object has no attribute 'to_numpy'",
     "output_type": "error",
     "traceback": [
      "\u001b[0;31m---------------------------------------------------------------------------\u001b[0m",
      "\u001b[0;31mAttributeError\u001b[0m                            Traceback (most recent call last)",
      "\u001b[1;32m/Users/romyho/Documents/Master_Econometrie/Thesis/Python/fl_ml copy.ipynb Cell 13'\u001b[0m in \u001b[0;36m<cell line: 1>\u001b[0;34m()\u001b[0m\n\u001b[0;32m----> <a href='vscode-notebook-cell:/Users/romyho/Documents/Master_Econometrie/Thesis/Python/fl_ml%20copy.ipynb#ch0000072?line=0'>1</a>\u001b[0m x_test \u001b[39m=\u001b[39m torch\u001b[39m.\u001b[39mfrom_numpy(X_test\u001b[39m.\u001b[39;49mto_numpy()\u001b[39m.\u001b[39mastype(np\u001b[39m.\u001b[39mfloat32))\n\u001b[1;32m      <a href='vscode-notebook-cell:/Users/romyho/Documents/Master_Econometrie/Thesis/Python/fl_ml%20copy.ipynb#ch0000072?line=1'>2</a>\u001b[0m y_test \u001b[39m=\u001b[39m torch\u001b[39m.\u001b[39mfrom_numpy(y_test\u001b[39m.\u001b[39mto_numpy()\u001b[39m.\u001b[39mastype(np\u001b[39m.\u001b[39mfloat32))\n\u001b[1;32m      <a href='vscode-notebook-cell:/Users/romyho/Documents/Master_Econometrie/Thesis/Python/fl_ml%20copy.ipynb#ch0000072?line=2'>3</a>\u001b[0m x_train \u001b[39m=\u001b[39m torch\u001b[39m.\u001b[39mfrom_numpy(X_train\u001b[39m.\u001b[39mto_numpy()\u001b[39m.\u001b[39mastype(np\u001b[39m.\u001b[39mfloat32))\n",
      "\u001b[0;31mAttributeError\u001b[0m: 'Tensor' object has no attribute 'to_numpy'"
     ]
    }
   ],
   "source": [
    "# x_test = torch.from_numpy(X_test.to_numpy().astype(np.float32))\n",
    "# y_test = torch.from_numpy(y_test.to_numpy().astype(np.float32))\n",
    "# x_train = torch.from_numpy(X_train.to_numpy().astype(np.float32))\n",
    "# y_train = torch.from_numpy(y_train.to_numpy().astype(np.float32))"
   ]
  },
  {
   "cell_type": "code",
   "execution_count": 188,
   "metadata": {},
   "outputs": [
    {
     "name": "stdout",
     "output_type": "stream",
     "text": [
      " First tensor: Shape = [2, 2] Data = [[1.0, 2.0], [3.0, 4.0]]\n"
     ]
    }
   ],
   "source": [
    "plain1 = ts.plain_tensor([1,2,3,4], [2,2])\n",
    "\n",
    "print(\" First tensor: Shape = {} Data = {}\".format(plain1.shape, plain1.tolist()))\n"
   ]
  },
  {
   "cell_type": "code",
   "execution_count": 191,
   "metadata": {},
   "outputs": [
    {
     "data": {
      "text/plain": [
       "torch.Size([242, 18])"
      ]
     },
     "execution_count": 191,
     "metadata": {},
     "output_type": "execute_result"
    }
   ],
   "source": [
    "x_train.shape"
   ]
  },
  {
   "cell_type": "markdown",
   "metadata": {},
   "source": []
  },
  {
   "cell_type": "code",
   "execution_count": 185,
   "metadata": {},
   "outputs": [],
   "source": [
    "# enc_x_train = [ts.ckks_tensor(ctx_training, x.tolist()) for x in x_train]\n",
    "# enc_y_train = [ts.ckks_tensor(ctx_training, y.tolist()) for y in y_train]"
   ]
  },
  {
   "cell_type": "code",
   "execution_count": 7,
   "metadata": {},
   "outputs": [],
   "source": [
    "enc_x_train = ts.ckks_tensor(context, X_train)\n",
    "enc_y_train = ts.ckks_tensor(context, y_train)"
   ]
  },
  {
   "cell_type": "code",
   "execution_count": null,
   "metadata": {},
   "outputs": [],
   "source": [
    "XX = enc_x_train.dot(enc_x_train.transpose())"
   ]
  },
  {
   "cell_type": "code",
   "execution_count": 10,
   "metadata": {},
   "outputs": [
    {
     "ename": "ValueError",
     "evalue": "can't multiply matrices",
     "output_type": "error",
     "traceback": [
      "\u001b[0;31m---------------------------------------------------------------------------\u001b[0m",
      "\u001b[0;31mValueError\u001b[0m                                Traceback (most recent call last)",
      "\u001b[1;32m/Users/romyho/Documents/Master_Econometrie/Thesis/Python/fl_ml copy.ipynb Cell 20'\u001b[0m in \u001b[0;36m<cell line: 1>\u001b[0;34m()\u001b[0m\n\u001b[0;32m----> <a href='vscode-notebook-cell:/Users/romyho/Documents/Master_Econometrie/Thesis/Python/fl_ml%20copy.ipynb#ch0000099?line=0'>1</a>\u001b[0m XX \u001b[39m=\u001b[39m enc_x_train\u001b[39m.\u001b[39;49mdot(enc_x_train)\n",
      "File \u001b[0;32m~/Documents/Master_Econometrie/Thesis/Python/thesis_fl/lib/python3.9/site-packages/tenseal/tensors/ckkstensor.py:108\u001b[0m, in \u001b[0;36mCKKSTensor.dot\u001b[0;34m(self, other)\u001b[0m\n\u001b[1;32m    <a href='file:///Users/romyho/Documents/Master_Econometrie/Thesis/Python/thesis_fl/lib/python3.9/site-packages/tenseal/tensors/ckkstensor.py?line=105'>106</a>\u001b[0m \u001b[39mdef\u001b[39;00m \u001b[39mdot\u001b[39m(\u001b[39mself\u001b[39m, other) \u001b[39m-\u001b[39m\u001b[39m>\u001b[39m \u001b[39m\"\u001b[39m\u001b[39mCKKSTensor\u001b[39m\u001b[39m\"\u001b[39m:\n\u001b[1;32m    <a href='file:///Users/romyho/Documents/Master_Econometrie/Thesis/Python/thesis_fl/lib/python3.9/site-packages/tenseal/tensors/ckkstensor.py?line=106'>107</a>\u001b[0m     other \u001b[39m=\u001b[39m \u001b[39mself\u001b[39m\u001b[39m.\u001b[39m_get_operand(other, dtype\u001b[39m=\u001b[39m\u001b[39m\"\u001b[39m\u001b[39mfloat\u001b[39m\u001b[39m\"\u001b[39m)\n\u001b[0;32m--> <a href='file:///Users/romyho/Documents/Master_Econometrie/Thesis/Python/thesis_fl/lib/python3.9/site-packages/tenseal/tensors/ckkstensor.py?line=107'>108</a>\u001b[0m     result \u001b[39m=\u001b[39m \u001b[39mself\u001b[39;49m\u001b[39m.\u001b[39;49mdata\u001b[39m.\u001b[39;49mdot(other)\n\u001b[1;32m    <a href='file:///Users/romyho/Documents/Master_Econometrie/Thesis/Python/thesis_fl/lib/python3.9/site-packages/tenseal/tensors/ckkstensor.py?line=108'>109</a>\u001b[0m     \u001b[39mreturn\u001b[39;00m \u001b[39mself\u001b[39m\u001b[39m.\u001b[39m_wrap(result)\n",
      "\u001b[0;31mValueError\u001b[0m: can't multiply matrices"
     ]
    }
   ],
   "source": [
    "XX = enc_x_train.dot(enc_x_train)"
   ]
  },
  {
   "cell_type": "code",
   "execution_count": 9,
   "metadata": {},
   "outputs": [
    {
     "name": "stdout",
     "output_type": "stream",
     "text": [
      "[242, 18]\n",
      "[18, 242]\n"
     ]
    }
   ],
   "source": [
    "print(enc_x_train.shape)\n",
    "print(enc_x_train.transpose().shape)"
   ]
  },
  {
   "cell_type": "code",
   "execution_count": 200,
   "metadata": {},
   "outputs": [
    {
     "data": {
      "text/plain": [
       "<tenseal.tensors.ckkstensor.CKKSTensor at 0x7fbc34772850>"
      ]
     },
     "execution_count": 200,
     "metadata": {},
     "output_type": "execute_result"
    }
   ],
   "source": [
    "enc_x_train * enc_y_train"
   ]
  },
  {
   "cell_type": "code",
   "execution_count": 186,
   "metadata": {},
   "outputs": [
    {
     "ename": "AttributeError",
     "evalue": "'list' object has no attribute 'shape'",
     "output_type": "error",
     "traceback": [
      "\u001b[0;31m---------------------------------------------------------------------------\u001b[0m",
      "\u001b[0;31mAttributeError\u001b[0m                            Traceback (most recent call last)",
      "\u001b[1;32m/Users/romyho/Documents/Master_Econometrie/Thesis/Python/fl_ml copy.ipynb Cell 15'\u001b[0m in \u001b[0;36m<cell line: 1>\u001b[0;34m()\u001b[0m\n\u001b[0;32m----> <a href='vscode-notebook-cell:/Users/romyho/Documents/Master_Econometrie/Thesis/Python/fl_ml%20copy.ipynb#ch0000088?line=0'>1</a>\u001b[0m \u001b[39mprint\u001b[39m(\u001b[39m\"\u001b[39m\u001b[39m Shape = \u001b[39m\u001b[39m{}\u001b[39;00m\u001b[39m\"\u001b[39m\u001b[39m.\u001b[39mformat(enc_x_train\u001b[39m.\u001b[39;49mshape))\n\u001b[1;32m      <a href='vscode-notebook-cell:/Users/romyho/Documents/Master_Econometrie/Thesis/Python/fl_ml%20copy.ipynb#ch0000088?line=1'>2</a>\u001b[0m \u001b[39mprint\u001b[39m(\u001b[39m\"\u001b[39m\u001b[39m Encrypted Data = \u001b[39m\u001b[39m{}\u001b[39;00m\u001b[39m.\u001b[39m\u001b[39m\"\u001b[39m\u001b[39m.\u001b[39mformat(enc_x_train))\n\u001b[1;32m      <a href='vscode-notebook-cell:/Users/romyho/Documents/Master_Econometrie/Thesis/Python/fl_ml%20copy.ipynb#ch0000088?line=4'>5</a>\u001b[0m encrypted_tensor_from_np \u001b[39m=\u001b[39m ts\u001b[39m.\u001b[39mckks_tensor(context, np\u001b[39m.\u001b[39marray([\u001b[39m5\u001b[39m,\u001b[39m6\u001b[39m,\u001b[39m7\u001b[39m,\u001b[39m8\u001b[39m])\u001b[39m.\u001b[39mreshape([\u001b[39m2\u001b[39m,\u001b[39m2\u001b[39m]))\n",
      "\u001b[0;31mAttributeError\u001b[0m: 'list' object has no attribute 'shape'"
     ]
    }
   ],
   "source": [
    "print(\" Shape = {}\".format(enc_x_train.shape))\n",
    "print(\" Encrypted Data = {}.\".format(enc_x_train))\n",
    "\n",
    "\n",
    "encrypted_tensor_from_np = ts.ckks_tensor(context, np.array([5,6,7,8]).reshape([2,2]))\n",
    "print(\" Shape = {}\".format(encrypted_tensor_from_np.shape))"
   ]
  },
  {
   "cell_type": "code",
   "execution_count": 111,
   "metadata": {},
   "outputs": [
    {
     "data": {
      "text/plain": [
       "242"
      ]
     },
     "execution_count": 111,
     "metadata": {},
     "output_type": "execute_result"
    }
   ],
   "source": [
    "len(enc_y_train)"
   ]
  },
  {
   "cell_type": "code",
   "execution_count": 112,
   "metadata": {},
   "outputs": [],
   "source": [
    "normal_dist = lambda x, mean, var: np.exp(- np.square(x - mean) / (2 * var)) / np.sqrt(2 * np.pi * var)"
   ]
  },
  {
   "cell_type": "code",
   "execution_count": 151,
   "metadata": {},
   "outputs": [],
   "source": [
    "class EncryptedLR:\n",
    "    \n",
    "    def __init__(self, torch_lr):\n",
    "        self.weight = torch_lr.lr.weight.data.tolist()[0]\n",
    "        self.bias = torch_lr.lr.bias.data.tolist()\n",
    "     # we accumulate gradients and counts the number of iterations\n",
    "        self._delta_w = 0\n",
    "        self._delta_b = 0\n",
    "        self._count = 0\n",
    "        \n",
    "    def forward(self, enc_x):\n",
    "        enc_out = enc_x.dot(self.weight) + self.bias\n",
    "        enc_out = EncryptedLR.sigmoid(enc_out)\n",
    "        return enc_out\n",
    "    \n",
    "    def backward(self, enc_x, enc_out, enc_y):\n",
    "        out_minus_y = (enc_out - enc_y)\n",
    "        self._delta_w += enc_x * out_minus_y\n",
    "        self._delta_b += out_minus_y\n",
    "        self._count += 1\n",
    "        \n",
    "    def update_parameters(self):\n",
    "        if self._count == 0:\n",
    "            raise RuntimeError(\"You should at least run one forward iteration\")\n",
    "        # update weights\n",
    "        # We use a small regularization term to keep the output\n",
    "        # of the linear layer in the range of the sigmoid approximation\n",
    "        self.weight -= self._delta_w * (1 / self._count) + self.weight * 0.05\n",
    "        self.bias -= self._delta_b * (1 / self._count)\n",
    "        # reset gradient accumulators and iterations count\n",
    "        self._delta_w = 0\n",
    "        self._delta_b = 0\n",
    "        self._count = 0\n",
    "    \n",
    "    @staticmethod\n",
    "    def sigmoid(enc_x):\n",
    "        # We use the polynomial approximation of degree 3\n",
    "        # sigmoid(x) = 0.5 + 0.197 * x - 0.004 * x^3\n",
    "        # from https://eprint.iacr.org/2018/462.pdf\n",
    "        d = 0.5\n",
    "        p = 3\n",
    "        # sig = 2**(-3*p)*d*x**3 + 3*2**(-2*p)*d*x**2+3*2**(-p)*d*x +d\n",
    "        # which fits the function pretty well in the range [-5,5]\n",
    "        # return [sigmoid_approx(i) for i in enc_x]\n",
    "        # .polyval([0.5, 0.197, 0, -0.004])\n",
    "        return enc_x.polyval([0.5, 3*2**(-p)*d, 3*2**(-2*p)*d, 2**(-3*p)*d])\n",
    "    \n",
    "    def plain_accuracy(self, x_test, y_test):\n",
    "        # evaluate accuracy of the model on\n",
    "        # the plain (x_test, y_test) dataset\n",
    "        w = torch.tensor(self.weight)\n",
    "        b = torch.tensor(self.bias)\n",
    "        out = torch.sigmoid(x_test.matmul(w) + b).reshape(-1, 1)\n",
    "        correct = torch.abs(y_test - out) < 0.5\n",
    "        return correct.float().mean()    \n",
    "    \n",
    "    def encrypt(self, context):\n",
    "        self.weight = ts.ckks_vector(context, self.weight)\n",
    "        self.bias = ts.ckks_vector(context, self.bias)\n",
    "        \n",
    "    def decrypt(self):\n",
    "        self.weight = self.weight.decrypt()\n",
    "        self.bias = self.bias.decrypt()\n",
    "        \n",
    "    def __call__(self, *args, **kwargs):\n",
    "        return self.forward(*args, **kwargs)"
   ]
  },
  {
   "cell_type": "code",
   "execution_count": 152,
   "metadata": {},
   "outputs": [],
   "source": [
    "class LR(torch.nn.Module):\n",
    "\n",
    "    def __init__(self, n_features):\n",
    "        super(LR, self).__init__()\n",
    "        self.lr = torch.nn.Linear(n_features, 1)\n",
    "        \n",
    "    def forward(self, x):\n",
    "        out = torch.sigmoid(self.lr(x))\n",
    "        return out\n",
    "def plot_normal_dist(mean, var, rmin=-10, rmax=10):\n",
    "    x = np.arange(rmin, rmax, 0.01)\n",
    "    y = normal_dist(x, mean, var)\n",
    "    fig = plt.plot(x, y)\n",
    "def encrypted_out_distribution(eelr, enc_x_test):\n",
    "    w = eelr.weight\n",
    "    b = eelr.bias\n",
    "    data = []\n",
    "    for enc_x in enc_x_test:\n",
    "        enc_out = enc_x.dot(w) + b\n",
    "        data.append(enc_out.decrypt())\n",
    "    data = torch.tensor(data)\n",
    "    mean, var = map(float, [data.mean(), data.std() ** 2])\n",
    "    plot_normal_dist(mean, var)\n",
    "    print(\"Distribution on encrypted data:\")\n",
    "    plt.show()"
   ]
  },
  {
   "cell_type": "code",
   "execution_count": 159,
   "metadata": {},
   "outputs": [
    {
     "name": "stdout",
     "output_type": "stream",
     "text": [
      "Distribution on plain data:\n"
     ]
    },
    {
     "data": {
      "image/png": "[encoded data removed]",
      "text/plain": [
       "<Figure size 432x288 with 1 Axes>"
      ]
     },
     "metadata": {
      "needs_background": "light"
     },
     "output_type": "display_data"
    }
   ],
   "source": [
    "n_features = X_train.shape[1]\n",
    "lr = LR(n_features)\n",
    "data = lr.lr(x_test)\n",
    "mean, var = map(float, [data.mean(), data.std() ** 2])\n",
    "plot_normal_dist(mean, var)\n",
    "print(\"Distribution on plain data:\")\n",
    "plt.show()\n"
   ]
  },
  {
   "cell_type": "code",
   "execution_count": 161,
   "metadata": {},
   "outputs": [],
   "source": [
    "model = LR(n_features)\n",
    "# use gradient descent with a learning_rate=1\n",
    "optim = torch.optim.SGD(model.parameters(), lr=0.001, momentum=0.9)\n",
    "# use Binary Cross Entropy Loss\n",
    "criterion = torch.nn.BCELoss()"
   ]
  },
  {
   "cell_type": "code",
   "execution_count": 164,
   "metadata": {},
   "outputs": [
    {
     "name": "stdout",
     "output_type": "stream",
     "text": [
      "Loss at epoch 1: 55.785125732421875\n",
      "Loss at epoch 2: 55.785125732421875\n",
      "Loss at epoch 3: 55.785125732421875\n",
      "Loss at epoch 4: 55.785125732421875\n",
      "Loss at epoch 5: 55.785125732421875\n",
      "Model's state_dict:\n",
      "lr.weight \t torch.Size([1, 18])\n",
      "lr.bias \t torch.Size([1])\n",
      "Optimizer's state_dict:\n",
      "state \t {0: {'momentum_buffer': tensor([[-8.1994e+00, -1.2280e-01, -1.8847e+01, -3.3834e+01, -2.1746e-02,\n",
      "         -1.8546e+01, -9.1163e-02, -2.6496e-01, -8.1812e-03, -1.1681e-01,\n",
      "         -1.1503e-02, -1.7465e-03, -8.4991e-02, -5.1008e-02, -2.2408e-03,\n",
      "         -1.0930e-02, -1.0479e-01, -2.2518e-02]])}, 1: {'momentum_buffer': tensor([-0.1382])}}\n",
      "param_groups \t [{'lr': 0.001, 'momentum': 0.9, 'dampening': 0, 'weight_decay': 0, 'nesterov': False, 'maximize': False, 'params': [0, 1]}]\n"
     ]
    }
   ],
   "source": [
    "def train(model, optim, criterion, x, y, epochs=EPOCHS):\n",
    "    for e in range(1, epochs + 1):\n",
    "        optim.zero_grad()\n",
    "        out = model(x)\n",
    "        loss = criterion(out, y)\n",
    "        loss.backward()\n",
    "        optim.step()\n",
    "        print(f\"Loss at epoch {e}: {loss.data}\")\n",
    "    return model\n",
    "\n",
    "model = train(model, optim, criterion, x_train, y_train)\n",
    "# Print model's state_dict\n",
    "print(\"Model's state_dict:\")\n",
    "for param_tensor in model.state_dict():\n",
    "    print(param_tensor, \"\\t\", model.state_dict()[param_tensor].size())\n",
    "\n",
    "# Print optimizer's state_dict\n",
    "print(\"Optimizer's state_dict:\")\n",
    "for var_name in optim.state_dict():\n",
    "    print(var_name, \"\\t\", optim.state_dict()[var_name])"
   ]
  },
  {
   "cell_type": "code",
   "execution_count": 165,
   "metadata": {},
   "outputs": [
    {
     "data": {
      "text/plain": [
       "tensor(0.5246)"
      ]
     },
     "execution_count": 165,
     "metadata": {},
     "output_type": "execute_result"
    }
   ],
   "source": [
    "def accuracy(model, x, y):\n",
    "    out = model(x)\n",
    "    correct = torch.abs(y - out) < 0.5\n",
    "    return correct.float().mean()\n",
    "\n",
    "plain_accuracy = accuracy(model, x_test, y_test)\n",
    "plain_accuracy"
   ]
  },
  {
   "cell_type": "code",
   "execution_count": 173,
   "metadata": {},
   "outputs": [
    {
     "name": "stdout",
     "output_type": "stream",
     "text": [
      "Accuracy at epoch #0 is 0.5245901346206665\n",
      "Accuracy at epoch #1 is 0.4754098355770111\n",
      "Accuracy at epoch #2 is 0.5245901346206665\n",
      "Accuracy at epoch #3 is 0.5245901346206665\n",
      "Accuracy at epoch #4 is 0.4754098355770111\n",
      "Accuracy at epoch #5 is 0.5245901346206665\n",
      "\n",
      "Average time per epoch: 26 seconds\n",
      "Final accuracy is 0.5245901346206665\n",
      "Difference between plain and encrypted accuracies: 0.0\n",
      "The best accuracy: tensor(0.5246)\n"
     ]
    }
   ],
   "source": [
    "eelr = EncryptedLR(LR(n_features))\n",
    "accuracy = eelr.plain_accuracy(x_test, y_test)\n",
    "print(f\"Accuracy at epoch #0 is {accuracy}\")\n",
    "EPOCHS = 5\n",
    "new_accuracy = 0\n",
    "\n",
    "times = []\n",
    "for epoch in range(EPOCHS):\n",
    "    if path.exists('best-model-parameters.pt'):\n",
    "        eelr = torch.load('best-model-parameters.pt')\n",
    "    eelr.encrypt(ctx_training)\n",
    "    \n",
    "    # if you want to keep an eye on the distribution to make sure\n",
    "    # the function approxiamation is still working fine\n",
    "    # WARNING: this operation is time consuming\n",
    "    # encrypted_out_distribution(eelr, enc_x_train)\n",
    "    \n",
    "    t_start = time()\n",
    "    for enc_x, enc_y in zip(enc_x_train, enc_y_train):\n",
    "        enc_out = eelr.forward(enc_x)\n",
    "        eelr.backward(enc_x, enc_out, enc_y)\n",
    "    eelr.update_parameters()\n",
    "    t_end = time()\n",
    "    times.append(t_end - t_start)\n",
    "    \n",
    "    eelr.decrypt()\n",
    "    accuracy = eelr.plain_accuracy(x_test, y_test)\n",
    "    if accuracy > new_accuracy :\n",
    "        new_accuracy = accuracy\n",
    "        torch.save(eelr, 'best-model-parameters.pt')\n",
    "    print(f\"Accuracy at epoch #{epoch + 1} is {accuracy}\")\n",
    "\n",
    "# # Print model's state_dict\n",
    "# print(\"Model's state_dict:\")\n",
    "# for param_tensor in model.state_dict():\n",
    "#     print(param_tensor, \"\\t\", model.state_dict()[param_tensor].size())\n",
    "\n",
    "# # Print optimizer's state_dict\n",
    "# print(\"Optimizer's state_dict:\")\n",
    "# for var_name in optim.state_dict():\n",
    "#     print(var_name, \"\\t\", optim.state_dict()[var_name])\n",
    "\n",
    "print(f\"\\nAverage time per epoch: {int(sum(times) / len(times))} seconds\")\n",
    "print(f\"Final accuracy is {accuracy}\")\n",
    "\n",
    "diff_accuracy = plain_accuracy - accuracy\n",
    "print(f\"Difference between plain and encrypted accuracies: {diff_accuracy}\")\n",
    "print(\"The best accuracy:\", new_accuracy)\n",
    "if diff_accuracy < 0:\n",
    "    print(\"Oh! We got a better accuracy when training on encrypted data! The noise was on our side...\")"
   ]
  },
  {
   "cell_type": "code",
   "execution_count": null,
   "metadata": {},
   "outputs": [],
   "source": [
    "# linear regression\n",
    "# y = alpha, beta*x + epsilon\n",
    "# beta_hat = (x'x)^-1 x'y"
   ]
  },
  {
   "cell_type": "code",
   "execution_count": 181,
   "metadata": {},
   "outputs": [
    {
     "data": {
      "text/plain": [
       "242"
      ]
     },
     "execution_count": 181,
     "metadata": {},
     "output_type": "execute_result"
    }
   ],
   "source": [
    "len(enc_x_train)"
   ]
  },
  {
   "cell_type": "code",
   "execution_count": 184,
   "metadata": {},
   "outputs": [
    {
     "data": {
      "text/plain": [
       "<tenseal.tensors.ckksvector.CKKSVector at 0x7fbc3394e820>"
      ]
     },
     "execution_count": 184,
     "metadata": {},
     "output_type": "execute_result"
    }
   ],
   "source": [
    "np.dot(enc_x_train, enc_x_train)"
   ]
  },
  {
   "cell_type": "code",
   "execution_count": null,
   "metadata": {},
   "outputs": [],
   "source": [
    "def return_transpose(mat):\n",
    "    return map(list,zip(*mat))\n",
    "\n",
    "def return_matrix_minor(mat,i,j):\n",
    "    return [row[:j] + row[j+1:] for row in (mat[:i]+mat[i+1:])]\n",
    "\n",
    "def return_determinant(mat):\n",
    "    if len(mat) == 2:\n",
    "        return mat[0][0]*mat[1][1]-mat[0][1]*mat[1][0]\n",
    "\n",
    "    determinant = 0\n",
    "    for c in range(len(m)):\n",
    "        determinant += ((-1)**c)*m[0][c]*return_determinant(return_matrix_minor(m,0,c))\n",
    "    return determinant\n",
    "\n",
    "def inverse_matrix(m):\n",
    "    determinant = return_determinant(m)\n",
    "    if len(m) == 2:\n",
    "        return [[m[1][1]/determinant, -1*m[0][1]/determinant],\n",
    "                [-1*m[1][0]/determinant, m[0][0]/determinant]]\n",
    "\n",
    "    cfs = []\n",
    "    for r in range(len(m)):\n",
    "        cfRow = []\n",
    "        for c in range(len(m)):\n",
    "            minor = return_matrix_minor(m,r,c)\n",
    "            cfRow.append(((-1)**(r+c)) * return_determinant(minor))\n",
    "        cfs.append(cfRow)\n",
    "    cfs = return_transpose(cfs)\n",
    "    for r in range(len(cfs)):\n",
    "        for c in range(len(cfs)):\n",
    "            cfs[r][c] = cfs[r][c]/determinant\n",
    "    return cfs\n",
    "\n",
    "m = [[4,3],[8,5]]\n",
    "print(inverse_matrix(m))"
   ]
  },
  {
   "cell_type": "code",
   "execution_count": 263,
   "metadata": {},
   "outputs": [],
   "source": [
    "# Define class for logistic regression with stochastic gradient descent\n",
    "\n",
    "class LogisticRegression:\n",
    "    def __init__(self, start, lr=0.01):\n",
    "        self.lr = lr\n",
    "        self.beta = start\n",
    "    \n",
    "    def __sigmoid(self, z):\n",
    "        return 1 / (1 + e**(-1*z))\n",
    "    \n",
    "    def __loss(self, p, y):\n",
    "        return (-y * np.log(p) - (1 - y) * np.log(1 - p)).sum()\n",
    "    \n",
    "    def fit(self, X, y):      \n",
    "        z = np.dot(X, self.beta)\n",
    "        p = self.__sigmoid(z)\n",
    "        gradient = np.dot(X.T, (p - y)) / y.size\n",
    "        self.beta -= self.lr * gradient\n",
    "        loss = self.__loss(p, y)\n",
    "        \n",
    "    def predict_prob(self, X):\n",
    "        return self.__sigmoid(np.dot(X, self.beta))\n",
    "    \n",
    "    def predict_loss(self, X, y):   \n",
    "        p = self.__sigmoid(np.dot(X, self.beta))\n",
    "        return self.__loss(p, y)\n",
    "    \n",
    "    def predict(self, X, threshold):\n",
    "        return self.predict_prob(X) >= threshold\n",
    "    \n",
    "    def beta(self):\n",
    "        return self.beta\n",
    "        \n",
    "    \n",
    "def log_loss_NB(naive_bayes_model, X, y):\n",
    "    p = naive_bayes.predict_proba(chunk_test)[:,1]\n",
    "    return (-y * np.log(p) - (1 - y) * np.log(1 - p)).sum()"
   ]
  },
  {
   "cell_type": "code",
   "execution_count": 338,
   "metadata": {},
   "outputs": [],
   "source": [
    "# from sklearn.linear_model import LogisticRegression\n",
    "# encrypt_vector(clients[0].pubkey, clients[0].X['Age'])\n",
    "# model = LogisticRegression()\n",
    "# model.fit(X_train ,y_train)\n",
    "# clients[0].X.iloc[:,1:]\n",
    "# logistic_regression = LogisticRegression(lr=0.1, start = np.zeros(clients[0].X.shape[1]+1)) # Initialize regression object"
   ]
  },
  {
   "cell_type": "code",
   "execution_count": 522,
   "metadata": {},
   "outputs": [],
   "source": [
    "X_train, X_test, y_train, y_test = train_test_split(clients[0].X, clients[0].y, test_size=0.2, random_state=42)"
   ]
  },
  {
   "cell_type": "code",
   "execution_count": 435,
   "metadata": {},
   "outputs": [],
   "source": [
    "clients[0].y = encrypt_vector(clients[0].pubkey, clients[0].y)"
   ]
  },
  {
   "cell_type": "code",
   "execution_count": 428,
   "metadata": {},
   "outputs": [],
   "source": [
    "for feature in clients[0].X.columns:\n",
    "    feature_name = feature + '_encrypt'  \n",
    "    encrypt = pd.Series(encrypt_vector(clients[0].pubkey, clients[0].X[feature]), name=feature_name )\n",
    "    clients[0].X = pd.concat([clients[0].X, encrypt], axis=1)\n",
    "    clients[0].X = clients[0].X.drop(feature, axis = 1)"
   ]
  },
  {
   "cell_type": "code",
   "execution_count": 439,
   "metadata": {},
   "outputs": [],
   "source": [
    "# y_train"
   ]
  },
  {
   "cell_type": "markdown",
   "metadata": {},
   "source": []
  },
  {
   "cell_type": "code",
   "execution_count": 229,
   "metadata": {},
   "outputs": [],
   "source": [
    "X_train = np.hstack((X_train, np.atleast_2d(encryp_var).T))"
   ]
  },
  {
   "cell_type": "code",
   "execution_count": 287,
   "metadata": {},
   "outputs": [
    {
     "data": {
      "text/plain": [
       "95622833924113491105334546921647364416373924483495083541862222235856701845840817094198276561044494254548222694999708828193516780446891371903923693057374913922393740655497632110013136022861205254988742830175172174569344726120781994084056650008013334787230924068450066717357259222611439829826483290477987961474463862393135714369876503233757098134490648732857726284630860531001188689675853473726501026191170442765514507038965352530717985967205344414007915168082096690907872375145423590785674794601718946835166957976883604225291947934025864605533496355971817862084296855801969570339219135525852643154130708948176811399367212973924585391707811338478286032545666783782914397648691604902937836545328613568782328162750806107101842973484611034612506433931389540668438110452028922580054313291000497195322570834299120673624313984013505780288915092471604949827235108913158279068398017714261182923025653538132989955810582396218217080136922085640273675570709343740132103296916781831885632296274181413389126808070566353339755583793408124366924560251329257077779474855519039220803165706530795065245165492898889214177698271471178842013066276439941278728786783862794789204232516028429970983780064411998790800359276565407669934317880181271903964517725"
      ]
     },
     "execution_count": 287,
     "metadata": {},
     "output_type": "execute_result"
    }
   ],
   "source": [
    "# for i in X_train:\n",
    "#     print(i)\n",
    "beta = np.zeros(clients[0].X.shape[1]+1)\n",
    "z = np.dot(X_train, beta)\n",
    "z[0].ciphertext()"
   ]
  },
  {
   "cell_type": "code",
   "execution_count": 594,
   "metadata": {},
   "outputs": [
    {
     "ename": "KeyError",
     "evalue": "0",
     "output_type": "error",
     "traceback": [
      "\u001b[0;31m---------------------------------------------------------------------------\u001b[0m",
      "\u001b[0;31mKeyError\u001b[0m                                  Traceback (most recent call last)",
      "File \u001b[0;32m~/Documents/Master_Econometrie/Thesis/Python/thesis_fl/lib/python3.9/site-packages/pandas/core/indexes/base.py:3621\u001b[0m, in \u001b[0;36mIndex.get_loc\u001b[0;34m(self, key, method, tolerance)\u001b[0m\n\u001b[1;32m   <a href='file:///Users/romyho/Documents/Master_Econometrie/Thesis/Python/thesis_fl/lib/python3.9/site-packages/pandas/core/indexes/base.py?line=3619'>3620</a>\u001b[0m \u001b[39mtry\u001b[39;00m:\n\u001b[0;32m-> <a href='file:///Users/romyho/Documents/Master_Econometrie/Thesis/Python/thesis_fl/lib/python3.9/site-packages/pandas/core/indexes/base.py?line=3620'>3621</a>\u001b[0m     \u001b[39mreturn\u001b[39;00m \u001b[39mself\u001b[39;49m\u001b[39m.\u001b[39;49m_engine\u001b[39m.\u001b[39;49mget_loc(casted_key)\n\u001b[1;32m   <a href='file:///Users/romyho/Documents/Master_Econometrie/Thesis/Python/thesis_fl/lib/python3.9/site-packages/pandas/core/indexes/base.py?line=3621'>3622</a>\u001b[0m \u001b[39mexcept\u001b[39;00m \u001b[39mKeyError\u001b[39;00m \u001b[39mas\u001b[39;00m err:\n",
      "File \u001b[0;32mpandas/_libs/index.pyx:136\u001b[0m, in \u001b[0;36mpandas._libs.index.IndexEngine.get_loc\u001b[0;34m()\u001b[0m\n",
      "File \u001b[0;32mpandas/_libs/index.pyx:163\u001b[0m, in \u001b[0;36mpandas._libs.index.IndexEngine.get_loc\u001b[0;34m()\u001b[0m\n",
      "File \u001b[0;32mpandas/_libs/hashtable_class_helper.pxi:5198\u001b[0m, in \u001b[0;36mpandas._libs.hashtable.PyObjectHashTable.get_item\u001b[0;34m()\u001b[0m\n",
      "File \u001b[0;32mpandas/_libs/hashtable_class_helper.pxi:5206\u001b[0m, in \u001b[0;36mpandas._libs.hashtable.PyObjectHashTable.get_item\u001b[0;34m()\u001b[0m\n",
      "\u001b[0;31mKeyError\u001b[0m: 0",
      "\nThe above exception was the direct cause of the following exception:\n",
      "\u001b[0;31mKeyError\u001b[0m                                  Traceback (most recent call last)",
      "\u001b[1;32m/Users/romyho/Documents/Master_Econometrie/Thesis/Python/fl_ml.ipynb Cell 21'\u001b[0m in \u001b[0;36m<cell line: 2>\u001b[0;34m()\u001b[0m\n\u001b[1;32m      <a href='vscode-notebook-cell:/Users/romyho/Documents/Master_Econometrie/Thesis/Python/fl_ml.ipynb#ch0000027?line=0'>1</a>\u001b[0m pubkey, privkey \u001b[39m=\u001b[39m paillier\u001b[39m.\u001b[39mgenerate_paillier_keypair(n_length\u001b[39m=\u001b[39m\u001b[39m60\u001b[39m)\n\u001b[0;32m----> <a href='vscode-notebook-cell:/Users/romyho/Documents/Master_Econometrie/Thesis/Python/fl_ml.ipynb#ch0000027?line=1'>2</a>\u001b[0m age1 \u001b[39m=\u001b[39m X_train[\u001b[39m0\u001b[39;49m][\u001b[39m0\u001b[39m]\n\u001b[1;32m      <a href='vscode-notebook-cell:/Users/romyho/Documents/Master_Econometrie/Thesis/Python/fl_ml.ipynb#ch0000027?line=3'>4</a>\u001b[0m M1 \u001b[39m=\u001b[39m pubkey\u001b[39m.\u001b[39mencrypt(age1)\n\u001b[1;32m      <a href='vscode-notebook-cell:/Users/romyho/Documents/Master_Econometrie/Thesis/Python/fl_ml.ipynb#ch0000027?line=4'>5</a>\u001b[0m \u001b[39mprint\u001b[39m(M1\u001b[39m.\u001b[39mciphertext())\n",
      "File \u001b[0;32m~/Documents/Master_Econometrie/Thesis/Python/thesis_fl/lib/python3.9/site-packages/pandas/core/frame.py:3505\u001b[0m, in \u001b[0;36mDataFrame.__getitem__\u001b[0;34m(self, key)\u001b[0m\n\u001b[1;32m   <a href='file:///Users/romyho/Documents/Master_Econometrie/Thesis/Python/thesis_fl/lib/python3.9/site-packages/pandas/core/frame.py?line=3502'>3503</a>\u001b[0m \u001b[39mif\u001b[39;00m \u001b[39mself\u001b[39m\u001b[39m.\u001b[39mcolumns\u001b[39m.\u001b[39mnlevels \u001b[39m>\u001b[39m \u001b[39m1\u001b[39m:\n\u001b[1;32m   <a href='file:///Users/romyho/Documents/Master_Econometrie/Thesis/Python/thesis_fl/lib/python3.9/site-packages/pandas/core/frame.py?line=3503'>3504</a>\u001b[0m     \u001b[39mreturn\u001b[39;00m \u001b[39mself\u001b[39m\u001b[39m.\u001b[39m_getitem_multilevel(key)\n\u001b[0;32m-> <a href='file:///Users/romyho/Documents/Master_Econometrie/Thesis/Python/thesis_fl/lib/python3.9/site-packages/pandas/core/frame.py?line=3504'>3505</a>\u001b[0m indexer \u001b[39m=\u001b[39m \u001b[39mself\u001b[39;49m\u001b[39m.\u001b[39;49mcolumns\u001b[39m.\u001b[39;49mget_loc(key)\n\u001b[1;32m   <a href='file:///Users/romyho/Documents/Master_Econometrie/Thesis/Python/thesis_fl/lib/python3.9/site-packages/pandas/core/frame.py?line=3505'>3506</a>\u001b[0m \u001b[39mif\u001b[39;00m is_integer(indexer):\n\u001b[1;32m   <a href='file:///Users/romyho/Documents/Master_Econometrie/Thesis/Python/thesis_fl/lib/python3.9/site-packages/pandas/core/frame.py?line=3506'>3507</a>\u001b[0m     indexer \u001b[39m=\u001b[39m [indexer]\n",
      "File \u001b[0;32m~/Documents/Master_Econometrie/Thesis/Python/thesis_fl/lib/python3.9/site-packages/pandas/core/indexes/base.py:3623\u001b[0m, in \u001b[0;36mIndex.get_loc\u001b[0;34m(self, key, method, tolerance)\u001b[0m\n\u001b[1;32m   <a href='file:///Users/romyho/Documents/Master_Econometrie/Thesis/Python/thesis_fl/lib/python3.9/site-packages/pandas/core/indexes/base.py?line=3620'>3621</a>\u001b[0m     \u001b[39mreturn\u001b[39;00m \u001b[39mself\u001b[39m\u001b[39m.\u001b[39m_engine\u001b[39m.\u001b[39mget_loc(casted_key)\n\u001b[1;32m   <a href='file:///Users/romyho/Documents/Master_Econometrie/Thesis/Python/thesis_fl/lib/python3.9/site-packages/pandas/core/indexes/base.py?line=3621'>3622</a>\u001b[0m \u001b[39mexcept\u001b[39;00m \u001b[39mKeyError\u001b[39;00m \u001b[39mas\u001b[39;00m err:\n\u001b[0;32m-> <a href='file:///Users/romyho/Documents/Master_Econometrie/Thesis/Python/thesis_fl/lib/python3.9/site-packages/pandas/core/indexes/base.py?line=3622'>3623</a>\u001b[0m     \u001b[39mraise\u001b[39;00m \u001b[39mKeyError\u001b[39;00m(key) \u001b[39mfrom\u001b[39;00m \u001b[39merr\u001b[39;00m\n\u001b[1;32m   <a href='file:///Users/romyho/Documents/Master_Econometrie/Thesis/Python/thesis_fl/lib/python3.9/site-packages/pandas/core/indexes/base.py?line=3623'>3624</a>\u001b[0m \u001b[39mexcept\u001b[39;00m \u001b[39mTypeError\u001b[39;00m:\n\u001b[1;32m   <a href='file:///Users/romyho/Documents/Master_Econometrie/Thesis/Python/thesis_fl/lib/python3.9/site-packages/pandas/core/indexes/base.py?line=3624'>3625</a>\u001b[0m     \u001b[39m# If we have a listlike key, _check_indexing_error will raise\u001b[39;00m\n\u001b[1;32m   <a href='file:///Users/romyho/Documents/Master_Econometrie/Thesis/Python/thesis_fl/lib/python3.9/site-packages/pandas/core/indexes/base.py?line=3625'>3626</a>\u001b[0m     \u001b[39m#  InvalidIndexError. Otherwise we fall through and re-raise\u001b[39;00m\n\u001b[1;32m   <a href='file:///Users/romyho/Documents/Master_Econometrie/Thesis/Python/thesis_fl/lib/python3.9/site-packages/pandas/core/indexes/base.py?line=3626'>3627</a>\u001b[0m     \u001b[39m#  the TypeError.\u001b[39;00m\n\u001b[1;32m   <a href='file:///Users/romyho/Documents/Master_Econometrie/Thesis/Python/thesis_fl/lib/python3.9/site-packages/pandas/core/indexes/base.py?line=3627'>3628</a>\u001b[0m     \u001b[39mself\u001b[39m\u001b[39m.\u001b[39m_check_indexing_error(key)\n",
      "\u001b[0;31mKeyError\u001b[0m: 0"
     ]
    }
   ],
   "source": [
    "\n",
    "pubkey, privkey = paillier.generate_paillier_keypair(n_length=60)\n",
    "age1 = X_train[0][0]\n",
    "\n",
    "M1 = pubkey.encrypt(age1)\n",
    "print(M1.ciphertext())\n",
    "# print(clients[0].pubkey.encrypt(X_train[0][0]))"
   ]
  },
  {
   "cell_type": "code",
   "execution_count": 319,
   "metadata": {},
   "outputs": [
    {
     "data": {
      "text/plain": [
       "-2.8191147424276726"
      ]
     },
     "execution_count": 319,
     "metadata": {},
     "output_type": "execute_result"
    }
   ],
   "source": [
    "X_train[0][0]"
   ]
  },
  {
   "cell_type": "code",
   "execution_count": 339,
   "metadata": {},
   "outputs": [],
   "source": [
    "# pubkey, privkey = paillier.generate_paillier_keypair(n_length=50)\n",
    "# pubkey.encrypt(2.1).ciphertext()"
   ]
  },
  {
   "cell_type": "code",
   "execution_count": 606,
   "metadata": {},
   "outputs": [
    {
     "data": {
      "text/plain": [
       "3.0"
      ]
     },
     "execution_count": 606,
     "metadata": {},
     "output_type": "execute_result"
    }
   ],
   "source": [
    "x_tttt =1\n",
    "y_tttt =3\n",
    "X_tttt_en = pubkey.encrypt(1/x_tttt)\n",
    "privkey.decrypt(y_tttt*X_tttt_en)\n"
   ]
  },
  {
   "cell_type": "code",
   "execution_count": 602,
   "metadata": {},
   "outputs": [
    {
     "data": {
      "text/plain": [
       "102930719792505648782677451942371551"
      ]
     },
     "execution_count": 602,
     "metadata": {},
     "output_type": "execute_result"
    }
   ],
   "source": [
    "pubkey.encrypt(3).ciphertext()"
   ]
  },
  {
   "cell_type": "code",
   "execution_count": 597,
   "metadata": {},
   "outputs": [],
   "source": [
    "# encryp_var = encrypt_vector(clients[0].pubkey,X_train[:,0])"
   ]
  },
  {
   "cell_type": "markdown",
   "metadata": {},
   "source": [
    "# Differential privacy\n"
   ]
  },
  {
   "cell_type": "code",
   "execution_count": 343,
   "metadata": {},
   "outputs": [],
   "source": [
    "tf.compat.v1.disable_v2_behavior()\n",
    "\n",
    "import tensorflow_privacy\n",
    "\n",
    "from tensorflow_privacy.privacy.analysis import compute_dp_sgd_privacy\n",
    "\n",
    "tf.get_logger().setLevel('ERROR')"
   ]
  },
  {
   "cell_type": "code",
   "execution_count": 449,
   "metadata": {},
   "outputs": [],
   "source": [
    "for i in X_train:\n",
    "    for j in X_train[i]:\n",
    "        X_train[i] = j.ciphertext()\n",
    "\n"
   ]
  },
  {
   "cell_type": "code",
   "execution_count": 454,
   "metadata": {},
   "outputs": [],
   "source": [
    "for i in X_test:\n",
    "    for j in X_test[i]:\n",
    "        X_test[i] = j.ciphertext()\n"
   ]
  },
  {
   "cell_type": "code",
   "execution_count": 479,
   "metadata": {},
   "outputs": [],
   "source": [
    "# for i in range(len(y_train)+1):\n",
    "#     if \n",
    "#     y_train[i] = y_train[i].ciphertext()"
   ]
  },
  {
   "cell_type": "code",
   "execution_count": 452,
   "metadata": {},
   "outputs": [],
   "source": [
    "# y_train = [i.ciphertext() for i in y_train]"
   ]
  },
  {
   "cell_type": "code",
   "execution_count": 458,
   "metadata": {},
   "outputs": [
    {
     "data": {
      "text/plain": [
       "int"
      ]
     },
     "execution_count": 458,
     "metadata": {},
     "output_type": "execute_result"
    }
   ],
   "source": [
    "type(y_train[0])"
   ]
  },
  {
   "cell_type": "code",
   "execution_count": 455,
   "metadata": {},
   "outputs": [],
   "source": [
    "y_test = [i.ciphertext() for i in y_test]"
   ]
  },
  {
   "cell_type": "code",
   "execution_count": 463,
   "metadata": {},
   "outputs": [
    {
     "data": {
      "text/plain": [
       "398851416007926900744051775508806248"
      ]
     },
     "execution_count": 463,
     "metadata": {},
     "output_type": "execute_result"
    }
   ],
   "source": [
    "y_test[0]"
   ]
  },
  {
   "cell_type": "markdown",
   "metadata": {},
   "source": [
    "## Random forest"
   ]
  },
  {
   "cell_type": "code",
   "execution_count": 390,
   "metadata": {},
   "outputs": [],
   "source": [
    "from keras.models import Sequential\n",
    "from keras.layers import Dense, Activation, Flatten\n",
    "from sklearn.ensemble import RandomForestClassifier\n",
    "from sklearn.metrics import f1_score\n",
    "from sklearn.metrics import accuracy_score\n",
    "from keras.callbacks import ModelCheckpoint\n",
    "from sklearn.metrics import accuracy_score"
   ]
  },
  {
   "cell_type": "code",
   "execution_count": 527,
   "metadata": {},
   "outputs": [
    {
     "data": {
      "text/plain": [
       "RandomForestClassifier(max_depth=6, max_features='sqrt', min_samples_leaf=3,\n",
       "                       min_samples_split=10, n_estimators=50)"
      ]
     },
     "execution_count": 527,
     "metadata": {},
     "output_type": "execute_result"
    }
   ],
   "source": [
    "parameters = {'bootstrap': True,\n",
    "              'min_samples_leaf': 3,\n",
    "              'n_estimators': 50, \n",
    "              'min_samples_split': 10,\n",
    "              'max_features': 'sqrt',\n",
    "              'max_depth': 6,\n",
    "              'max_leaf_nodes': None}\n",
    "\n",
    "RF_model = RandomForestClassifier(**parameters)\n",
    "RF_model.fit(X_train, y_train)"
   ]
  },
  {
   "cell_type": "code",
   "execution_count": 528,
   "metadata": {},
   "outputs": [
    {
     "data": {
      "text/plain": [
       "RandomForestClassifier(max_depth=6, max_features='sqrt', min_samples_leaf=3,\n",
       "                       min_samples_split=10, n_estimators=50)"
      ]
     },
     "execution_count": 528,
     "metadata": {},
     "output_type": "execute_result"
    }
   ],
   "source": [
    "RF_model.fit(X_train, y_train)"
   ]
  },
  {
   "cell_type": "code",
   "execution_count": 529,
   "metadata": {},
   "outputs": [
    {
     "name": "stdout",
     "output_type": "stream",
     "text": [
      "0.7868852459016393\n"
     ]
    }
   ],
   "source": [
    "RF_predictions = RF_model.predict(X_test)\n",
    "score = accuracy_score(y_test ,RF_predictions)\n",
    "print(score)"
   ]
  },
  {
   "cell_type": "markdown",
   "metadata": {},
   "source": [
    "## Neural network"
   ]
  },
  {
   "cell_type": "code",
   "execution_count": 530,
   "metadata": {},
   "outputs": [],
   "source": [
    "optimizer = tensorflow_privacy.DPKerasSGDOptimizer(\n",
    "    l2_norm_clip=l2_norm_clip,\n",
    "    noise_multiplier=noise_multiplier,\n",
    "    num_microbatches=num_microbatches,\n",
    "    learning_rate=learning_rate)\n",
    "\n",
    "    "
   ]
  },
  {
   "cell_type": "code",
   "execution_count": 546,
   "metadata": {},
   "outputs": [
    {
     "data": {
      "text/plain": [
       "Index(['Age', 'Sex', 'RestingBP', 'Cholesterol', 'FastingBS', 'MaxHR',\n",
       "       'ExerciseAngina', 'Oldpeak', 'ChestPainType_1.0', 'ChestPainType_4.0',\n",
       "       'ChestPainType_3.0', 'ChestPainType_2.0', 'RestingECG_2.0',\n",
       "       'RestingECG_0.0', 'RestingECG_1.0', 'ST_Slope_3.0', 'ST_Slope_2.0',\n",
       "       'ST_Slope_1.0'],\n",
       "      dtype='object')"
      ]
     },
     "execution_count": 546,
     "metadata": {},
     "output_type": "execute_result"
    }
   ],
   "source": [
    "clients[0].X.columns"
   ]
  },
  {
   "cell_type": "code",
   "execution_count": 568,
   "metadata": {},
   "outputs": [],
   "source": [
    "feature_columns = []\n",
    "for i in cleveland_df:  \n",
    "    if i != 'HeartDisease':\n",
    "        feature_columns.append(tf.feature_column.numeric_column(i))"
   ]
  },
  {
   "cell_type": "code",
   "execution_count": 559,
   "metadata": {},
   "outputs": [],
   "source": [
    "def create_dataset(dataframe, batch_size=32):\n",
    "  dataframe = dataframe.copy()\n",
    "  labels = dataframe.pop('HeartDisease')\n",
    "  return tf.data.Dataset.from_tensor_slices((dict(dataframe), labels)) \\\n",
    "          .shuffle(buffer_size=len(dataframe)) \\\n",
    "          .batch(batch_size)"
   ]
  },
  {
   "cell_type": "code",
   "execution_count": 563,
   "metadata": {},
   "outputs": [],
   "source": [
    "RANDOM_SEED =20\n",
    "train, test = train_test_split(\n",
    "  cleveland_df,\n",
    "  test_size=0.2,\n",
    "  random_state=RANDOM_SEED\n",
    ")\n",
    "\n",
    "train_ds = create_dataset(train)\n",
    "test_ds = create_dataset(test)"
   ]
  },
  {
   "cell_type": "code",
   "execution_count": 562,
   "metadata": {},
   "outputs": [],
   "source": [
    "cleveland_df = make_dummies(cleveland_df, cat_feat)"
   ]
  },
  {
   "cell_type": "code",
   "execution_count": 591,
   "metadata": {},
   "outputs": [
    {
     "name": "stdout",
     "output_type": "stream",
     "text": [
      "Train on 8 steps, validate on 2 steps\n",
      "Epoch 1/300\n",
      "8/8 [==============================] - 1s 76ms/step - batch: 3.5000 - size: 1.0000 - loss: 3.8471 - acc: 0.5248 - val_loss: 1.5072 - val_acc: 0.5492\n",
      "Epoch 2/300\n",
      "8/8 [==============================] - 0s 5ms/step - batch: 3.5000 - size: 1.0000 - loss: 2.4917 - acc: 0.5103 - val_loss: 0.6828 - val_acc: 0.6230\n",
      "Epoch 3/300\n",
      "8/8 [==============================] - 0s 5ms/step - batch: 3.5000 - size: 1.0000 - loss: 2.0681 - acc: 0.5475 - val_loss: 0.8695 - val_acc: 0.5902\n",
      "Epoch 4/300\n",
      "8/8 [==============================] - 0s 5ms/step - batch: 3.5000 - size: 1.0000 - loss: 1.8045 - acc: 0.5269 - val_loss: 0.7741 - val_acc: 0.5984\n",
      "Epoch 5/300\n",
      "8/8 [==============================] - 0s 5ms/step - batch: 3.5000 - size: 1.0000 - loss: 1.5167 - acc: 0.5517 - val_loss: 0.5706 - val_acc: 0.7459\n",
      "Epoch 6/300\n",
      "8/8 [==============================] - 0s 5ms/step - batch: 3.5000 - size: 1.0000 - loss: 1.4020 - acc: 0.5351 - val_loss: 0.6567 - val_acc: 0.6311\n",
      "Epoch 7/300\n",
      "8/8 [==============================] - 0s 5ms/step - batch: 3.5000 - size: 1.0000 - loss: 1.1966 - acc: 0.5517 - val_loss: 0.6151 - val_acc: 0.6311\n",
      "Epoch 8/300\n",
      "8/8 [==============================] - 0s 5ms/step - batch: 3.5000 - size: 1.0000 - loss: 1.0226 - acc: 0.5475 - val_loss: 0.5627 - val_acc: 0.7459\n",
      "Epoch 9/300\n",
      "8/8 [==============================] - 0s 5ms/step - batch: 3.5000 - size: 1.0000 - loss: 0.9348 - acc: 0.5764 - val_loss: 0.5580 - val_acc: 0.7869\n",
      "Epoch 10/300\n",
      "8/8 [==============================] - 0s 5ms/step - batch: 3.5000 - size: 1.0000 - loss: 0.8894 - acc: 0.5930 - val_loss: 0.5634 - val_acc: 0.7295\n",
      "Epoch 11/300\n",
      "8/8 [==============================] - 0s 5ms/step - batch: 3.5000 - size: 1.0000 - loss: 0.9871 - acc: 0.5227 - val_loss: 0.5659 - val_acc: 0.7377\n",
      "Epoch 12/300\n",
      "8/8 [==============================] - 0s 5ms/step - batch: 3.5000 - size: 1.0000 - loss: 0.7903 - acc: 0.5888 - val_loss: 0.6068 - val_acc: 0.6639\n",
      "Epoch 13/300\n",
      "8/8 [==============================] - 0s 5ms/step - batch: 3.5000 - size: 1.0000 - loss: 0.9106 - acc: 0.5558 - val_loss: 0.6585 - val_acc: 0.5984\n",
      "Epoch 14/300\n",
      "8/8 [==============================] - 0s 5ms/step - batch: 3.5000 - size: 1.0000 - loss: 0.8307 - acc: 0.5744 - val_loss: 0.5832 - val_acc: 0.7049\n",
      "Epoch 15/300\n",
      "8/8 [==============================] - 0s 5ms/step - batch: 3.5000 - size: 1.0000 - loss: 0.8167 - acc: 0.5868 - val_loss: 0.6251 - val_acc: 0.5574\n",
      "Epoch 16/300\n",
      "8/8 [==============================] - 0s 5ms/step - batch: 3.5000 - size: 1.0000 - loss: 0.7580 - acc: 0.5579 - val_loss: 0.6175 - val_acc: 0.6721\n",
      "Epoch 17/300\n",
      "8/8 [==============================] - 0s 5ms/step - batch: 3.5000 - size: 1.0000 - loss: 0.7430 - acc: 0.6136 - val_loss: 0.6001 - val_acc: 0.6557\n",
      "Epoch 18/300\n",
      "8/8 [==============================] - 0s 5ms/step - batch: 3.5000 - size: 1.0000 - loss: 0.7477 - acc: 0.6033 - val_loss: 0.5980 - val_acc: 0.6557\n",
      "Epoch 19/300\n",
      "8/8 [==============================] - 0s 5ms/step - batch: 3.5000 - size: 1.0000 - loss: 0.7556 - acc: 0.6054 - val_loss: 0.6142 - val_acc: 0.6148\n",
      "Epoch 20/300\n",
      "8/8 [==============================] - 0s 6ms/step - batch: 3.5000 - size: 1.0000 - loss: 0.7470 - acc: 0.6033 - val_loss: 0.5861 - val_acc: 0.7213\n",
      "Epoch 21/300\n",
      "8/8 [==============================] - 0s 5ms/step - batch: 3.5000 - size: 1.0000 - loss: 0.7570 - acc: 0.6178 - val_loss: 0.5716 - val_acc: 0.7541\n",
      "Epoch 22/300\n",
      "8/8 [==============================] - 0s 5ms/step - batch: 3.5000 - size: 1.0000 - loss: 0.7309 - acc: 0.5661 - val_loss: 0.5871 - val_acc: 0.6803\n",
      "Epoch 23/300\n",
      "8/8 [==============================] - 0s 4ms/step - batch: 3.5000 - size: 1.0000 - loss: 0.7853 - acc: 0.5682 - val_loss: 0.5784 - val_acc: 0.7213\n",
      "Epoch 24/300\n",
      "8/8 [==============================] - 0s 5ms/step - batch: 3.5000 - size: 1.0000 - loss: 0.6867 - acc: 0.6219 - val_loss: 0.5686 - val_acc: 0.7541\n",
      "Epoch 25/300\n",
      "8/8 [==============================] - 0s 5ms/step - batch: 3.5000 - size: 1.0000 - loss: 0.7069 - acc: 0.5971 - val_loss: 0.5495 - val_acc: 0.7705\n",
      "Epoch 26/300\n",
      "8/8 [==============================] - 0s 5ms/step - batch: 3.5000 - size: 1.0000 - loss: 0.6751 - acc: 0.6343 - val_loss: 0.5503 - val_acc: 0.7623\n",
      "Epoch 27/300\n",
      "8/8 [==============================] - 0s 5ms/step - batch: 3.5000 - size: 1.0000 - loss: 0.6891 - acc: 0.6260 - val_loss: 0.5421 - val_acc: 0.8115\n",
      "Epoch 28/300\n",
      "8/8 [==============================] - 0s 5ms/step - batch: 3.5000 - size: 1.0000 - loss: 0.6931 - acc: 0.6033 - val_loss: 0.5552 - val_acc: 0.7787\n",
      "Epoch 29/300\n",
      "8/8 [==============================] - 0s 5ms/step - batch: 3.5000 - size: 1.0000 - loss: 0.6847 - acc: 0.6281 - val_loss: 0.5680 - val_acc: 0.7213\n",
      "Epoch 30/300\n",
      "8/8 [==============================] - 0s 4ms/step - batch: 3.5000 - size: 1.0000 - loss: 0.6195 - acc: 0.6467 - val_loss: 0.5723 - val_acc: 0.7295\n",
      "Epoch 31/300\n",
      "8/8 [==============================] - 0s 5ms/step - batch: 3.5000 - size: 1.0000 - loss: 0.7703 - acc: 0.5620 - val_loss: 0.5767 - val_acc: 0.7131\n",
      "Epoch 32/300\n",
      "8/8 [==============================] - 0s 7ms/step - batch: 3.5000 - size: 1.0000 - loss: 0.6729 - acc: 0.6260 - val_loss: 0.6097 - val_acc: 0.5984\n",
      "Epoch 33/300\n",
      "8/8 [==============================] - 0s 5ms/step - batch: 3.5000 - size: 1.0000 - loss: 0.6569 - acc: 0.6508 - val_loss: 0.5951 - val_acc: 0.7049\n",
      "Epoch 34/300\n",
      "8/8 [==============================] - 0s 5ms/step - batch: 3.5000 - size: 1.0000 - loss: 0.6709 - acc: 0.5971 - val_loss: 0.5826 - val_acc: 0.7787\n",
      "Epoch 35/300\n",
      "8/8 [==============================] - 0s 5ms/step - batch: 3.5000 - size: 1.0000 - loss: 0.6899 - acc: 0.6116 - val_loss: 0.5774 - val_acc: 0.7131\n",
      "Epoch 36/300\n",
      "8/8 [==============================] - 0s 5ms/step - batch: 3.5000 - size: 1.0000 - loss: 0.6579 - acc: 0.6281 - val_loss: 0.5612 - val_acc: 0.7541\n",
      "Epoch 37/300\n",
      "8/8 [==============================] - 0s 5ms/step - batch: 3.5000 - size: 1.0000 - loss: 0.6375 - acc: 0.6591 - val_loss: 0.5653 - val_acc: 0.7459\n",
      "Epoch 38/300\n",
      "8/8 [==============================] - 0s 5ms/step - batch: 3.5000 - size: 1.0000 - loss: 0.6946 - acc: 0.5806 - val_loss: 0.5767 - val_acc: 0.7951\n",
      "Epoch 39/300\n",
      "8/8 [==============================] - 0s 5ms/step - batch: 3.5000 - size: 1.0000 - loss: 0.6297 - acc: 0.6364 - val_loss: 0.5801 - val_acc: 0.7377\n",
      "Epoch 40/300\n",
      "8/8 [==============================] - 0s 5ms/step - batch: 3.5000 - size: 1.0000 - loss: 0.6577 - acc: 0.6508 - val_loss: 0.6042 - val_acc: 0.6148\n",
      "Epoch 41/300\n",
      "8/8 [==============================] - 0s 5ms/step - batch: 3.5000 - size: 1.0000 - loss: 0.6752 - acc: 0.6219 - val_loss: 0.5658 - val_acc: 0.7623\n",
      "Epoch 42/300\n",
      "8/8 [==============================] - 0s 5ms/step - batch: 3.5000 - size: 1.0000 - loss: 0.6464 - acc: 0.6219 - val_loss: 0.5756 - val_acc: 0.7213\n",
      "Epoch 43/300\n",
      "8/8 [==============================] - 0s 5ms/step - batch: 3.5000 - size: 1.0000 - loss: 0.6387 - acc: 0.6198 - val_loss: 0.5876 - val_acc: 0.7623\n",
      "Epoch 44/300\n",
      "8/8 [==============================] - 0s 5ms/step - batch: 3.5000 - size: 1.0000 - loss: 0.6661 - acc: 0.6281 - val_loss: 0.5974 - val_acc: 0.6721\n",
      "Epoch 45/300\n",
      "8/8 [==============================] - 0s 5ms/step - batch: 3.5000 - size: 1.0000 - loss: 0.6734 - acc: 0.6178 - val_loss: 0.6026 - val_acc: 0.7459\n",
      "Epoch 46/300\n",
      "8/8 [==============================] - 0s 5ms/step - batch: 3.5000 - size: 1.0000 - loss: 0.6497 - acc: 0.6322 - val_loss: 0.6016 - val_acc: 0.7131\n",
      "Epoch 47/300\n",
      "8/8 [==============================] - 0s 5ms/step - batch: 3.5000 - size: 1.0000 - loss: 0.6280 - acc: 0.6178 - val_loss: 0.5978 - val_acc: 0.7049\n",
      "Epoch 48/300\n",
      "8/8 [==============================] - 0s 5ms/step - batch: 3.5000 - size: 1.0000 - loss: 0.6345 - acc: 0.6426 - val_loss: 0.6043 - val_acc: 0.6311\n",
      "Epoch 49/300\n",
      "8/8 [==============================] - 0s 4ms/step - batch: 3.5000 - size: 1.0000 - loss: 0.6680 - acc: 0.5909 - val_loss: 0.6168 - val_acc: 0.6148\n",
      "Epoch 50/300\n",
      "8/8 [==============================] - 0s 5ms/step - batch: 3.5000 - size: 1.0000 - loss: 0.6413 - acc: 0.6054 - val_loss: 0.6124 - val_acc: 0.6311\n",
      "Epoch 51/300\n",
      "8/8 [==============================] - 0s 4ms/step - batch: 3.5000 - size: 1.0000 - loss: 0.6553 - acc: 0.6095 - val_loss: 0.6100 - val_acc: 0.6148\n",
      "Epoch 52/300\n",
      "8/8 [==============================] - 0s 5ms/step - batch: 3.5000 - size: 1.0000 - loss: 0.6267 - acc: 0.6302 - val_loss: 0.5962 - val_acc: 0.6639\n",
      "Epoch 53/300\n",
      "8/8 [==============================] - 0s 5ms/step - batch: 3.5000 - size: 1.0000 - loss: 0.6087 - acc: 0.6839 - val_loss: 0.5962 - val_acc: 0.5984\n",
      "Epoch 54/300\n",
      "8/8 [==============================] - 0s 5ms/step - batch: 3.5000 - size: 1.0000 - loss: 0.6611 - acc: 0.6095 - val_loss: 0.5934 - val_acc: 0.7705\n",
      "Epoch 55/300\n",
      "8/8 [==============================] - 0s 5ms/step - batch: 3.5000 - size: 1.0000 - loss: 0.6076 - acc: 0.6798 - val_loss: 0.5833 - val_acc: 0.7951\n",
      "Epoch 56/300\n",
      "8/8 [==============================] - 0s 5ms/step - batch: 3.5000 - size: 1.0000 - loss: 0.6134 - acc: 0.6818 - val_loss: 0.5797 - val_acc: 0.7787\n",
      "Epoch 57/300\n",
      "8/8 [==============================] - 0s 4ms/step - batch: 3.5000 - size: 1.0000 - loss: 0.5852 - acc: 0.6901 - val_loss: 0.5723 - val_acc: 0.8033\n",
      "Epoch 58/300\n",
      "8/8 [==============================] - 0s 6ms/step - batch: 3.5000 - size: 1.0000 - loss: 0.6119 - acc: 0.6550 - val_loss: 0.5790 - val_acc: 0.7705\n",
      "Epoch 59/300\n",
      "8/8 [==============================] - 0s 5ms/step - batch: 3.5000 - size: 1.0000 - loss: 0.6408 - acc: 0.6446 - val_loss: 0.5789 - val_acc: 0.7377\n",
      "Epoch 60/300\n",
      "8/8 [==============================] - 0s 5ms/step - batch: 3.5000 - size: 1.0000 - loss: 0.6230 - acc: 0.6467 - val_loss: 0.5822 - val_acc: 0.7705\n",
      "Epoch 61/300\n",
      "8/8 [==============================] - 0s 5ms/step - batch: 3.5000 - size: 1.0000 - loss: 0.6032 - acc: 0.6591 - val_loss: 0.5967 - val_acc: 0.8033\n",
      "Epoch 62/300\n",
      "8/8 [==============================] - 0s 5ms/step - batch: 3.5000 - size: 1.0000 - loss: 0.6076 - acc: 0.6798 - val_loss: 0.5868 - val_acc: 0.7705\n",
      "Epoch 63/300\n",
      "8/8 [==============================] - 0s 5ms/step - batch: 3.5000 - size: 1.0000 - loss: 0.6210 - acc: 0.6467 - val_loss: 0.5730 - val_acc: 0.7787\n",
      "Epoch 64/300\n",
      "8/8 [==============================] - 0s 6ms/step - batch: 3.5000 - size: 1.0000 - loss: 0.6390 - acc: 0.6219 - val_loss: 0.5775 - val_acc: 0.7951\n",
      "Epoch 65/300\n",
      "8/8 [==============================] - 0s 5ms/step - batch: 3.5000 - size: 1.0000 - loss: 0.6061 - acc: 0.6508 - val_loss: 0.5805 - val_acc: 0.8115\n",
      "Epoch 66/300\n",
      "8/8 [==============================] - 0s 5ms/step - batch: 3.5000 - size: 1.0000 - loss: 0.6154 - acc: 0.6426 - val_loss: 0.5795 - val_acc: 0.7869\n",
      "Epoch 67/300\n",
      "8/8 [==============================] - 0s 4ms/step - batch: 3.5000 - size: 1.0000 - loss: 0.6019 - acc: 0.6736 - val_loss: 0.5798 - val_acc: 0.7705\n",
      "Epoch 68/300\n",
      "8/8 [==============================] - 0s 4ms/step - batch: 3.5000 - size: 1.0000 - loss: 0.6115 - acc: 0.6302 - val_loss: 0.5870 - val_acc: 0.7705\n",
      "Epoch 69/300\n",
      "8/8 [==============================] - 0s 5ms/step - batch: 3.5000 - size: 1.0000 - loss: 0.6072 - acc: 0.6550 - val_loss: 0.5939 - val_acc: 0.7623\n",
      "Epoch 70/300\n",
      "8/8 [==============================] - 0s 5ms/step - batch: 3.5000 - size: 1.0000 - loss: 0.5864 - acc: 0.6508 - val_loss: 0.5850 - val_acc: 0.7623\n",
      "Epoch 71/300\n",
      "8/8 [==============================] - 0s 5ms/step - batch: 3.5000 - size: 1.0000 - loss: 0.5844 - acc: 0.6674 - val_loss: 0.5748 - val_acc: 0.7049\n",
      "Epoch 72/300\n",
      "8/8 [==============================] - 0s 5ms/step - batch: 3.5000 - size: 1.0000 - loss: 0.6021 - acc: 0.6550 - val_loss: 0.5741 - val_acc: 0.7213\n",
      "Epoch 73/300\n",
      "8/8 [==============================] - 0s 5ms/step - batch: 3.5000 - size: 1.0000 - loss: 0.5946 - acc: 0.6860 - val_loss: 0.5800 - val_acc: 0.7623\n",
      "Epoch 74/300\n",
      "8/8 [==============================] - 0s 5ms/step - batch: 3.5000 - size: 1.0000 - loss: 0.5900 - acc: 0.6570 - val_loss: 0.5877 - val_acc: 0.7295\n",
      "Epoch 75/300\n",
      "8/8 [==============================] - 0s 5ms/step - batch: 3.5000 - size: 1.0000 - loss: 0.5904 - acc: 0.6653 - val_loss: 0.5791 - val_acc: 0.7541\n",
      "Epoch 76/300\n",
      "8/8 [==============================] - 0s 5ms/step - batch: 3.5000 - size: 1.0000 - loss: 0.5779 - acc: 0.6798 - val_loss: 0.5698 - val_acc: 0.7951\n",
      "Epoch 77/300\n",
      "8/8 [==============================] - 0s 6ms/step - batch: 3.5000 - size: 1.0000 - loss: 0.5993 - acc: 0.6488 - val_loss: 0.5837 - val_acc: 0.7541\n",
      "Epoch 78/300\n",
      "8/8 [==============================] - 0s 5ms/step - batch: 3.5000 - size: 1.0000 - loss: 0.6081 - acc: 0.6364 - val_loss: 0.5965 - val_acc: 0.7623\n",
      "Epoch 79/300\n",
      "8/8 [==============================] - 0s 6ms/step - batch: 3.5000 - size: 1.0000 - loss: 0.5900 - acc: 0.6674 - val_loss: 0.5928 - val_acc: 0.7541\n",
      "Epoch 80/300\n",
      "8/8 [==============================] - 0s 7ms/step - batch: 3.5000 - size: 1.0000 - loss: 0.5926 - acc: 0.6467 - val_loss: 0.5871 - val_acc: 0.7295\n",
      "Epoch 81/300\n",
      "8/8 [==============================] - 0s 6ms/step - batch: 3.5000 - size: 1.0000 - loss: 0.5911 - acc: 0.6798 - val_loss: 0.5874 - val_acc: 0.6721\n",
      "Epoch 82/300\n",
      "8/8 [==============================] - 0s 5ms/step - batch: 3.5000 - size: 1.0000 - loss: 0.5877 - acc: 0.6467 - val_loss: 0.5882 - val_acc: 0.6557\n",
      "Epoch 83/300\n",
      "8/8 [==============================] - 0s 5ms/step - batch: 3.5000 - size: 1.0000 - loss: 0.5775 - acc: 0.6674 - val_loss: 0.5882 - val_acc: 0.6967\n",
      "Epoch 84/300\n",
      "8/8 [==============================] - 0s 5ms/step - batch: 3.5000 - size: 1.0000 - loss: 0.5809 - acc: 0.6550 - val_loss: 0.6168 - val_acc: 0.6803\n",
      "Epoch 85/300\n",
      "8/8 [==============================] - 0s 5ms/step - batch: 3.5000 - size: 1.0000 - loss: 0.5704 - acc: 0.6694 - val_loss: 0.5858 - val_acc: 0.7049\n",
      "Epoch 86/300\n",
      "8/8 [==============================] - 0s 5ms/step - batch: 3.5000 - size: 1.0000 - loss: 0.5875 - acc: 0.6674 - val_loss: 0.5728 - val_acc: 0.7377\n",
      "Epoch 87/300\n",
      "8/8 [==============================] - 0s 8ms/step - batch: 3.5000 - size: 1.0000 - loss: 0.5790 - acc: 0.6777 - val_loss: 0.5787 - val_acc: 0.7459\n",
      "Epoch 88/300\n",
      "8/8 [==============================] - 0s 5ms/step - batch: 3.5000 - size: 1.0000 - loss: 0.5586 - acc: 0.7128 - val_loss: 0.5664 - val_acc: 0.7787\n",
      "Epoch 89/300\n",
      "8/8 [==============================] - 0s 5ms/step - batch: 3.5000 - size: 1.0000 - loss: 0.5788 - acc: 0.6736 - val_loss: 0.5659 - val_acc: 0.7459\n",
      "Epoch 90/300\n",
      "8/8 [==============================] - 0s 5ms/step - batch: 3.5000 - size: 1.0000 - loss: 0.5835 - acc: 0.6756 - val_loss: 0.5675 - val_acc: 0.7623\n",
      "Epoch 91/300\n",
      "8/8 [==============================] - 0s 5ms/step - batch: 3.5000 - size: 1.0000 - loss: 0.5848 - acc: 0.6591 - val_loss: 0.5667 - val_acc: 0.7213\n",
      "Epoch 92/300\n",
      "8/8 [==============================] - 0s 7ms/step - batch: 3.5000 - size: 1.0000 - loss: 0.5735 - acc: 0.6818 - val_loss: 0.5543 - val_acc: 0.7541\n",
      "Epoch 93/300\n",
      "8/8 [==============================] - 0s 5ms/step - batch: 3.5000 - size: 1.0000 - loss: 0.5706 - acc: 0.6860 - val_loss: 0.5792 - val_acc: 0.6639\n",
      "Epoch 94/300\n",
      "8/8 [==============================] - 0s 5ms/step - batch: 3.5000 - size: 1.0000 - loss: 0.5577 - acc: 0.6591 - val_loss: 0.5905 - val_acc: 0.6885\n",
      "Epoch 95/300\n",
      "8/8 [==============================] - 0s 5ms/step - batch: 3.5000 - size: 1.0000 - loss: 0.5782 - acc: 0.6921 - val_loss: 0.5676 - val_acc: 0.7869\n",
      "Epoch 96/300\n",
      "8/8 [==============================] - 0s 5ms/step - batch: 3.5000 - size: 1.0000 - loss: 0.5826 - acc: 0.6612 - val_loss: 0.5616 - val_acc: 0.7869\n",
      "Epoch 97/300\n",
      "8/8 [==============================] - 0s 5ms/step - batch: 3.5000 - size: 1.0000 - loss: 0.5829 - acc: 0.6839 - val_loss: 0.5546 - val_acc: 0.7869\n",
      "Epoch 98/300\n",
      "8/8 [==============================] - 0s 5ms/step - batch: 3.5000 - size: 1.0000 - loss: 0.5513 - acc: 0.6921 - val_loss: 0.5472 - val_acc: 0.7705\n",
      "Epoch 99/300\n",
      "8/8 [==============================] - 0s 4ms/step - batch: 3.5000 - size: 1.0000 - loss: 0.5416 - acc: 0.7273 - val_loss: 0.5643 - val_acc: 0.7705\n",
      "Epoch 100/300\n",
      "8/8 [==============================] - 0s 4ms/step - batch: 3.5000 - size: 1.0000 - loss: 0.5722 - acc: 0.6736 - val_loss: 0.5791 - val_acc: 0.7705\n",
      "Epoch 101/300\n",
      "8/8 [==============================] - 0s 8ms/step - batch: 3.5000 - size: 1.0000 - loss: 0.5814 - acc: 0.6798 - val_loss: 0.5811 - val_acc: 0.7541\n",
      "Epoch 102/300\n",
      "8/8 [==============================] - 0s 6ms/step - batch: 3.5000 - size: 1.0000 - loss: 0.5491 - acc: 0.6632 - val_loss: 0.5567 - val_acc: 0.7951\n",
      "Epoch 103/300\n",
      "8/8 [==============================] - 0s 5ms/step - batch: 3.5000 - size: 1.0000 - loss: 0.5512 - acc: 0.6983 - val_loss: 0.5364 - val_acc: 0.8033\n",
      "Epoch 104/300\n",
      "8/8 [==============================] - 0s 5ms/step - batch: 3.5000 - size: 1.0000 - loss: 0.5899 - acc: 0.6798 - val_loss: 0.5448 - val_acc: 0.7869\n",
      "Epoch 105/300\n",
      "8/8 [==============================] - 0s 5ms/step - batch: 3.5000 - size: 1.0000 - loss: 0.5292 - acc: 0.7107 - val_loss: 0.5340 - val_acc: 0.7951\n",
      "Epoch 106/300\n",
      "8/8 [==============================] - 0s 8ms/step - batch: 3.5000 - size: 1.0000 - loss: 0.5862 - acc: 0.6818 - val_loss: 0.5141 - val_acc: 0.7787\n",
      "Epoch 107/300\n",
      "8/8 [==============================] - 0s 5ms/step - batch: 3.5000 - size: 1.0000 - loss: 0.5475 - acc: 0.6983 - val_loss: 0.5212 - val_acc: 0.7623\n",
      "Epoch 108/300\n",
      "8/8 [==============================] - 0s 5ms/step - batch: 3.5000 - size: 1.0000 - loss: 0.5649 - acc: 0.6839 - val_loss: 0.5329 - val_acc: 0.7787\n",
      "Epoch 109/300\n",
      "8/8 [==============================] - 0s 5ms/step - batch: 3.5000 - size: 1.0000 - loss: 0.5553 - acc: 0.6983 - val_loss: 0.5321 - val_acc: 0.7869\n",
      "Epoch 110/300\n",
      "8/8 [==============================] - 0s 5ms/step - batch: 3.5000 - size: 1.0000 - loss: 0.5554 - acc: 0.7025 - val_loss: 0.5414 - val_acc: 0.7623\n",
      "Epoch 111/300\n",
      "8/8 [==============================] - 0s 5ms/step - batch: 3.5000 - size: 1.0000 - loss: 0.5422 - acc: 0.6839 - val_loss: 0.5450 - val_acc: 0.7213\n",
      "Epoch 112/300\n",
      "8/8 [==============================] - 0s 5ms/step - batch: 3.5000 - size: 1.0000 - loss: 0.5503 - acc: 0.6963 - val_loss: 0.5419 - val_acc: 0.7623\n",
      "Epoch 113/300\n",
      "8/8 [==============================] - 0s 5ms/step - batch: 3.5000 - size: 1.0000 - loss: 0.5285 - acc: 0.7231 - val_loss: 0.5339 - val_acc: 0.7623\n",
      "Epoch 114/300\n",
      "8/8 [==============================] - 0s 5ms/step - batch: 3.5000 - size: 1.0000 - loss: 0.5269 - acc: 0.7128 - val_loss: 0.5239 - val_acc: 0.7787\n",
      "Epoch 115/300\n",
      "8/8 [==============================] - 0s 5ms/step - batch: 3.5000 - size: 1.0000 - loss: 0.5375 - acc: 0.7417 - val_loss: 0.5304 - val_acc: 0.7705\n",
      "Epoch 116/300\n",
      "8/8 [==============================] - 0s 5ms/step - batch: 3.5000 - size: 1.0000 - loss: 0.5354 - acc: 0.6942 - val_loss: 0.5221 - val_acc: 0.7705\n",
      "Epoch 117/300\n",
      "8/8 [==============================] - 0s 5ms/step - batch: 3.5000 - size: 1.0000 - loss: 0.5235 - acc: 0.7541 - val_loss: 0.5121 - val_acc: 0.7951\n",
      "Epoch 118/300\n",
      "8/8 [==============================] - 0s 6ms/step - batch: 3.5000 - size: 1.0000 - loss: 0.5535 - acc: 0.7397 - val_loss: 0.5271 - val_acc: 0.7377\n",
      "Epoch 119/300\n",
      "8/8 [==============================] - 0s 6ms/step - batch: 3.5000 - size: 1.0000 - loss: 0.5450 - acc: 0.6983 - val_loss: 0.5199 - val_acc: 0.7459\n",
      "Epoch 120/300\n",
      "8/8 [==============================] - 0s 5ms/step - batch: 3.5000 - size: 1.0000 - loss: 0.5432 - acc: 0.6736 - val_loss: 0.5414 - val_acc: 0.7705\n",
      "Epoch 121/300\n",
      "8/8 [==============================] - 0s 5ms/step - batch: 3.5000 - size: 1.0000 - loss: 0.5298 - acc: 0.7376 - val_loss: 0.5515 - val_acc: 0.7541\n",
      "Epoch 122/300\n",
      "8/8 [==============================] - 0s 5ms/step - batch: 3.5000 - size: 1.0000 - loss: 0.5403 - acc: 0.7417 - val_loss: 0.5209 - val_acc: 0.7623\n",
      "Epoch 123/300\n",
      "8/8 [==============================] - 0s 5ms/step - batch: 3.5000 - size: 1.0000 - loss: 0.5113 - acc: 0.7293 - val_loss: 0.5096 - val_acc: 0.7705\n",
      "Epoch 124/300\n",
      "8/8 [==============================] - 0s 5ms/step - batch: 3.5000 - size: 1.0000 - loss: 0.5335 - acc: 0.7293 - val_loss: 0.5180 - val_acc: 0.7459\n",
      "Epoch 125/300\n",
      "8/8 [==============================] - 0s 6ms/step - batch: 3.5000 - size: 1.0000 - loss: 0.5212 - acc: 0.7128 - val_loss: 0.5099 - val_acc: 0.7295\n",
      "Epoch 126/300\n",
      "8/8 [==============================] - 0s 5ms/step - batch: 3.5000 - size: 1.0000 - loss: 0.5454 - acc: 0.7169 - val_loss: 0.5240 - val_acc: 0.7705\n",
      "Epoch 127/300\n",
      "8/8 [==============================] - 0s 4ms/step - batch: 3.5000 - size: 1.0000 - loss: 0.5510 - acc: 0.7293 - val_loss: 0.5181 - val_acc: 0.7541\n",
      "Epoch 128/300\n",
      "8/8 [==============================] - 0s 6ms/step - batch: 3.5000 - size: 1.0000 - loss: 0.5182 - acc: 0.7686 - val_loss: 0.5116 - val_acc: 0.7459\n",
      "Epoch 129/300\n",
      "8/8 [==============================] - 0s 5ms/step - batch: 3.5000 - size: 1.0000 - loss: 0.5066 - acc: 0.7169 - val_loss: 0.5083 - val_acc: 0.7459\n",
      "Epoch 130/300\n",
      "8/8 [==============================] - 0s 4ms/step - batch: 3.5000 - size: 1.0000 - loss: 0.5009 - acc: 0.7562 - val_loss: 0.5098 - val_acc: 0.7623\n",
      "Epoch 131/300\n",
      "8/8 [==============================] - 0s 4ms/step - batch: 3.5000 - size: 1.0000 - loss: 0.5046 - acc: 0.7397 - val_loss: 0.5074 - val_acc: 0.7377\n",
      "Epoch 132/300\n",
      "8/8 [==============================] - 0s 4ms/step - batch: 3.5000 - size: 1.0000 - loss: 0.4919 - acc: 0.7645 - val_loss: 0.5327 - val_acc: 0.7377\n",
      "Epoch 133/300\n",
      "8/8 [==============================] - 0s 4ms/step - batch: 3.5000 - size: 1.0000 - loss: 0.5379 - acc: 0.7314 - val_loss: 0.5143 - val_acc: 0.7459\n",
      "Epoch 134/300\n",
      "8/8 [==============================] - 0s 4ms/step - batch: 3.5000 - size: 1.0000 - loss: 0.4691 - acc: 0.7645 - val_loss: 0.5161 - val_acc: 0.7295\n",
      "Epoch 135/300\n",
      "8/8 [==============================] - 0s 5ms/step - batch: 3.5000 - size: 1.0000 - loss: 0.5037 - acc: 0.7397 - val_loss: 0.5059 - val_acc: 0.7541\n",
      "Epoch 136/300\n",
      "8/8 [==============================] - 0s 5ms/step - batch: 3.5000 - size: 1.0000 - loss: 0.5064 - acc: 0.7376 - val_loss: 0.5272 - val_acc: 0.7295\n",
      "Epoch 137/300\n",
      "8/8 [==============================] - 0s 7ms/step - batch: 3.5000 - size: 1.0000 - loss: 0.4735 - acc: 0.7645 - val_loss: 0.5374 - val_acc: 0.7295\n",
      "Epoch 138/300\n",
      "8/8 [==============================] - 0s 6ms/step - batch: 3.5000 - size: 1.0000 - loss: 0.4990 - acc: 0.7417 - val_loss: 0.5144 - val_acc: 0.7541\n",
      "Epoch 139/300\n",
      "8/8 [==============================] - 0s 5ms/step - batch: 3.5000 - size: 1.0000 - loss: 0.4959 - acc: 0.7562 - val_loss: 0.5187 - val_acc: 0.7705\n",
      "Epoch 140/300\n",
      "8/8 [==============================] - 0s 4ms/step - batch: 3.5000 - size: 1.0000 - loss: 0.5232 - acc: 0.7314 - val_loss: 0.5071 - val_acc: 0.7705\n",
      "Epoch 141/300\n",
      "8/8 [==============================] - 0s 4ms/step - batch: 3.5000 - size: 1.0000 - loss: 0.5042 - acc: 0.7479 - val_loss: 0.5354 - val_acc: 0.7377\n",
      "Epoch 142/300\n",
      "8/8 [==============================] - 0s 4ms/step - batch: 3.5000 - size: 1.0000 - loss: 0.4666 - acc: 0.7810 - val_loss: 0.5401 - val_acc: 0.7213\n",
      "Epoch 143/300\n",
      "8/8 [==============================] - 0s 4ms/step - batch: 3.5000 - size: 1.0000 - loss: 0.4585 - acc: 0.7562 - val_loss: 0.5170 - val_acc: 0.7213\n",
      "Epoch 144/300\n",
      "8/8 [==============================] - 0s 4ms/step - batch: 3.5000 - size: 1.0000 - loss: 0.4612 - acc: 0.7810 - val_loss: 0.4914 - val_acc: 0.7377\n",
      "Epoch 145/300\n",
      "8/8 [==============================] - 0s 4ms/step - batch: 3.5000 - size: 1.0000 - loss: 0.4816 - acc: 0.7727 - val_loss: 0.4733 - val_acc: 0.7541\n",
      "Epoch 146/300\n",
      "8/8 [==============================] - 0s 4ms/step - batch: 3.5000 - size: 1.0000 - loss: 0.4893 - acc: 0.7789 - val_loss: 0.4877 - val_acc: 0.7623\n",
      "Epoch 147/300\n",
      "8/8 [==============================] - 0s 4ms/step - batch: 3.5000 - size: 1.0000 - loss: 0.4938 - acc: 0.7479 - val_loss: 0.5165 - val_acc: 0.7295\n",
      "Epoch 148/300\n",
      "8/8 [==============================] - 0s 5ms/step - batch: 3.5000 - size: 1.0000 - loss: 0.4974 - acc: 0.7293 - val_loss: 0.4905 - val_acc: 0.7541\n",
      "Epoch 149/300\n",
      "8/8 [==============================] - 0s 5ms/step - batch: 3.5000 - size: 1.0000 - loss: 0.4571 - acc: 0.7748 - val_loss: 0.4822 - val_acc: 0.7787\n",
      "Epoch 150/300\n",
      "8/8 [==============================] - 0s 5ms/step - batch: 3.5000 - size: 1.0000 - loss: 0.4944 - acc: 0.7707 - val_loss: 0.4977 - val_acc: 0.7541\n",
      "Epoch 151/300\n",
      "8/8 [==============================] - 0s 6ms/step - batch: 3.5000 - size: 1.0000 - loss: 0.4485 - acc: 0.7851 - val_loss: 0.5514 - val_acc: 0.6967\n",
      "Epoch 152/300\n",
      "8/8 [==============================] - 0s 4ms/step - batch: 3.5000 - size: 1.0000 - loss: 0.4460 - acc: 0.7831 - val_loss: 0.5047 - val_acc: 0.7459\n",
      "Epoch 153/300\n",
      "8/8 [==============================] - 0s 4ms/step - batch: 3.5000 - size: 1.0000 - loss: 0.4727 - acc: 0.7748 - val_loss: 0.4958 - val_acc: 0.7377\n",
      "Epoch 154/300\n",
      "8/8 [==============================] - 0s 5ms/step - batch: 3.5000 - size: 1.0000 - loss: 0.4809 - acc: 0.7707 - val_loss: 0.5161 - val_acc: 0.7213\n",
      "Epoch 155/300\n",
      "8/8 [==============================] - 0s 5ms/step - batch: 3.5000 - size: 1.0000 - loss: 0.4381 - acc: 0.7748 - val_loss: 0.5139 - val_acc: 0.7459\n",
      "Epoch 156/300\n",
      "8/8 [==============================] - 0s 4ms/step - batch: 3.5000 - size: 1.0000 - loss: 0.4909 - acc: 0.7707 - val_loss: 0.4960 - val_acc: 0.7869\n",
      "Epoch 157/300\n",
      "8/8 [==============================] - 0s 4ms/step - batch: 3.5000 - size: 1.0000 - loss: 0.4321 - acc: 0.7727 - val_loss: 0.4869 - val_acc: 0.7623\n",
      "Epoch 158/300\n",
      "8/8 [==============================] - 0s 4ms/step - batch: 3.5000 - size: 1.0000 - loss: 0.4742 - acc: 0.7686 - val_loss: 0.4978 - val_acc: 0.7295\n",
      "Epoch 159/300\n",
      "8/8 [==============================] - 0s 4ms/step - batch: 3.5000 - size: 1.0000 - loss: 0.4670 - acc: 0.8037 - val_loss: 0.4909 - val_acc: 0.7705\n",
      "Epoch 160/300\n",
      "8/8 [==============================] - 0s 4ms/step - batch: 3.5000 - size: 1.0000 - loss: 0.4199 - acc: 0.7893 - val_loss: 0.4869 - val_acc: 0.7869\n",
      "Epoch 161/300\n",
      "8/8 [==============================] - 0s 4ms/step - batch: 3.5000 - size: 1.0000 - loss: 0.4334 - acc: 0.7975 - val_loss: 0.4905 - val_acc: 0.7787\n",
      "Epoch 162/300\n",
      "8/8 [==============================] - 0s 4ms/step - batch: 3.5000 - size: 1.0000 - loss: 0.4535 - acc: 0.8017 - val_loss: 0.5086 - val_acc: 0.7377\n",
      "Epoch 163/300\n",
      "8/8 [==============================] - 0s 5ms/step - batch: 3.5000 - size: 1.0000 - loss: 0.4492 - acc: 0.7913 - val_loss: 0.4991 - val_acc: 0.7295\n",
      "Epoch 164/300\n",
      "8/8 [==============================] - 0s 4ms/step - batch: 3.5000 - size: 1.0000 - loss: 0.4245 - acc: 0.7707 - val_loss: 0.4966 - val_acc: 0.7623\n",
      "Epoch 165/300\n",
      "8/8 [==============================] - 0s 4ms/step - batch: 3.5000 - size: 1.0000 - loss: 0.4550 - acc: 0.7831 - val_loss: 0.5249 - val_acc: 0.7377\n",
      "Epoch 166/300\n",
      "8/8 [==============================] - 0s 6ms/step - batch: 3.5000 - size: 1.0000 - loss: 0.4333 - acc: 0.7851 - val_loss: 0.5017 - val_acc: 0.7459\n",
      "Epoch 167/300\n",
      "8/8 [==============================] - 0s 4ms/step - batch: 3.5000 - size: 1.0000 - loss: 0.4547 - acc: 0.7851 - val_loss: 0.4990 - val_acc: 0.7787\n",
      "Epoch 168/300\n",
      "8/8 [==============================] - 0s 4ms/step - batch: 3.5000 - size: 1.0000 - loss: 0.4225 - acc: 0.7975 - val_loss: 0.4952 - val_acc: 0.7213\n",
      "Epoch 169/300\n",
      "8/8 [==============================] - 0s 4ms/step - batch: 3.5000 - size: 1.0000 - loss: 0.4466 - acc: 0.7955 - val_loss: 0.4965 - val_acc: 0.7787\n",
      "Epoch 170/300\n",
      "8/8 [==============================] - 0s 4ms/step - batch: 3.5000 - size: 1.0000 - loss: 0.4218 - acc: 0.7831 - val_loss: 0.5357 - val_acc: 0.7541\n",
      "Epoch 171/300\n",
      "8/8 [==============================] - 0s 4ms/step - batch: 3.5000 - size: 1.0000 - loss: 0.4319 - acc: 0.7955 - val_loss: 0.5018 - val_acc: 0.7295\n",
      "Epoch 172/300\n",
      "8/8 [==============================] - 0s 5ms/step - batch: 3.5000 - size: 1.0000 - loss: 0.4484 - acc: 0.7913 - val_loss: 0.4831 - val_acc: 0.7705\n",
      "Epoch 173/300\n",
      "8/8 [==============================] - 0s 4ms/step - batch: 3.5000 - size: 1.0000 - loss: 0.4652 - acc: 0.7748 - val_loss: 0.5066 - val_acc: 0.7623\n",
      "Epoch 174/300\n",
      "8/8 [==============================] - 0s 5ms/step - batch: 3.5000 - size: 1.0000 - loss: 0.4458 - acc: 0.7727 - val_loss: 0.5029 - val_acc: 0.7705\n",
      "Epoch 175/300\n",
      "8/8 [==============================] - 0s 5ms/step - batch: 3.5000 - size: 1.0000 - loss: 0.4134 - acc: 0.8058 - val_loss: 0.5067 - val_acc: 0.7623\n",
      "Epoch 176/300\n",
      "8/8 [==============================] - 0s 5ms/step - batch: 3.5000 - size: 1.0000 - loss: 0.3934 - acc: 0.8058 - val_loss: 0.5242 - val_acc: 0.7295\n",
      "Epoch 177/300\n",
      "8/8 [==============================] - 0s 5ms/step - batch: 3.5000 - size: 1.0000 - loss: 0.4370 - acc: 0.8037 - val_loss: 0.4979 - val_acc: 0.7705\n",
      "Epoch 178/300\n",
      "8/8 [==============================] - 0s 12ms/step - batch: 3.5000 - size: 1.0000 - loss: 0.4388 - acc: 0.7665 - val_loss: 0.5122 - val_acc: 0.7049\n",
      "Epoch 179/300\n",
      "8/8 [==============================] - 0s 7ms/step - batch: 3.5000 - size: 1.0000 - loss: 0.4158 - acc: 0.8017 - val_loss: 0.5080 - val_acc: 0.7541\n",
      "Epoch 180/300\n",
      "8/8 [==============================] - 0s 7ms/step - batch: 3.5000 - size: 1.0000 - loss: 0.3826 - acc: 0.8140 - val_loss: 0.5170 - val_acc: 0.7377\n",
      "Epoch 181/300\n",
      "8/8 [==============================] - 0s 7ms/step - batch: 3.5000 - size: 1.0000 - loss: 0.4271 - acc: 0.8037 - val_loss: 0.5307 - val_acc: 0.7131\n",
      "Epoch 182/300\n",
      "8/8 [==============================] - 0s 6ms/step - batch: 3.5000 - size: 1.0000 - loss: 0.4230 - acc: 0.7872 - val_loss: 0.5243 - val_acc: 0.7213\n",
      "Epoch 183/300\n",
      "8/8 [==============================] - 0s 6ms/step - batch: 3.5000 - size: 1.0000 - loss: 0.4287 - acc: 0.8017 - val_loss: 0.5337 - val_acc: 0.7049\n",
      "Epoch 184/300\n",
      "8/8 [==============================] - 0s 6ms/step - batch: 3.5000 - size: 1.0000 - loss: 0.4901 - acc: 0.7624 - val_loss: 0.4973 - val_acc: 0.7213\n",
      "Epoch 185/300\n",
      "8/8 [==============================] - 0s 5ms/step - batch: 3.5000 - size: 1.0000 - loss: 0.4047 - acc: 0.8099 - val_loss: 0.5009 - val_acc: 0.7295\n",
      "Epoch 186/300\n",
      "8/8 [==============================] - 0s 9ms/step - batch: 3.5000 - size: 1.0000 - loss: 0.4309 - acc: 0.8079 - val_loss: 0.5157 - val_acc: 0.7541\n",
      "Epoch 187/300\n",
      "8/8 [==============================] - 0s 5ms/step - batch: 3.5000 - size: 1.0000 - loss: 0.4238 - acc: 0.7955 - val_loss: 0.5511 - val_acc: 0.7705\n",
      "Epoch 188/300\n",
      "8/8 [==============================] - 0s 5ms/step - batch: 3.5000 - size: 1.0000 - loss: 0.3962 - acc: 0.7872 - val_loss: 0.5420 - val_acc: 0.7787\n",
      "Epoch 189/300\n",
      "8/8 [==============================] - 0s 5ms/step - batch: 3.5000 - size: 1.0000 - loss: 0.3780 - acc: 0.8120 - val_loss: 0.5418 - val_acc: 0.7541\n",
      "Epoch 190/300\n",
      "8/8 [==============================] - 0s 5ms/step - batch: 3.5000 - size: 1.0000 - loss: 0.4958 - acc: 0.7707 - val_loss: 0.5264 - val_acc: 0.7623\n",
      "Epoch 191/300\n",
      "8/8 [==============================] - 0s 5ms/step - batch: 3.5000 - size: 1.0000 - loss: 0.4794 - acc: 0.7893 - val_loss: 0.5176 - val_acc: 0.7131\n",
      "Epoch 192/300\n",
      "8/8 [==============================] - 0s 5ms/step - batch: 3.5000 - size: 1.0000 - loss: 0.4393 - acc: 0.7851 - val_loss: 0.5044 - val_acc: 0.7213\n",
      "Epoch 193/300\n",
      "8/8 [==============================] - 0s 5ms/step - batch: 3.5000 - size: 1.0000 - loss: 0.4139 - acc: 0.7955 - val_loss: 0.4877 - val_acc: 0.7295\n",
      "Epoch 194/300\n",
      "8/8 [==============================] - 0s 5ms/step - batch: 3.5000 - size: 1.0000 - loss: 0.4287 - acc: 0.7893 - val_loss: 0.4775 - val_acc: 0.7705\n",
      "Epoch 195/300\n",
      "8/8 [==============================] - 0s 5ms/step - batch: 3.5000 - size: 1.0000 - loss: 0.3955 - acc: 0.8099 - val_loss: 0.5166 - val_acc: 0.7377\n",
      "Epoch 196/300\n",
      "8/8 [==============================] - 0s 4ms/step - batch: 3.5000 - size: 1.0000 - loss: 0.4071 - acc: 0.7872 - val_loss: 0.5224 - val_acc: 0.7295\n",
      "Epoch 197/300\n",
      "8/8 [==============================] - 0s 4ms/step - batch: 3.5000 - size: 1.0000 - loss: 0.3946 - acc: 0.8140 - val_loss: 0.5234 - val_acc: 0.7459\n",
      "Epoch 198/300\n",
      "8/8 [==============================] - 0s 4ms/step - batch: 3.5000 - size: 1.0000 - loss: 0.3998 - acc: 0.8017 - val_loss: 0.5147 - val_acc: 0.7787\n",
      "Epoch 199/300\n",
      "8/8 [==============================] - 0s 4ms/step - batch: 3.5000 - size: 1.0000 - loss: 0.3950 - acc: 0.8140 - val_loss: 0.5221 - val_acc: 0.7787\n",
      "Epoch 200/300\n",
      "8/8 [==============================] - 0s 4ms/step - batch: 3.5000 - size: 1.0000 - loss: 0.4175 - acc: 0.7913 - val_loss: 0.5449 - val_acc: 0.7541\n",
      "Epoch 201/300\n",
      "8/8 [==============================] - 0s 4ms/step - batch: 3.5000 - size: 1.0000 - loss: 0.3849 - acc: 0.8182 - val_loss: 0.5406 - val_acc: 0.7377\n",
      "Epoch 202/300\n",
      "8/8 [==============================] - 0s 5ms/step - batch: 3.5000 - size: 1.0000 - loss: 0.4147 - acc: 0.8037 - val_loss: 0.5164 - val_acc: 0.7295\n",
      "Epoch 203/300\n",
      "8/8 [==============================] - 0s 5ms/step - batch: 3.5000 - size: 1.0000 - loss: 0.3909 - acc: 0.8244 - val_loss: 0.5173 - val_acc: 0.7541\n",
      "Epoch 204/300\n",
      "8/8 [==============================] - 0s 4ms/step - batch: 3.5000 - size: 1.0000 - loss: 0.4045 - acc: 0.7831 - val_loss: 0.5215 - val_acc: 0.7213\n",
      "Epoch 205/300\n",
      "8/8 [==============================] - 0s 4ms/step - batch: 3.5000 - size: 1.0000 - loss: 0.4074 - acc: 0.8202 - val_loss: 0.5360 - val_acc: 0.7377\n",
      "Epoch 206/300\n",
      "8/8 [==============================] - 0s 4ms/step - batch: 3.5000 - size: 1.0000 - loss: 0.3983 - acc: 0.8202 - val_loss: 0.5575 - val_acc: 0.7377\n",
      "Epoch 207/300\n",
      "8/8 [==============================] - 0s 4ms/step - batch: 3.5000 - size: 1.0000 - loss: 0.3601 - acc: 0.8202 - val_loss: 0.5771 - val_acc: 0.7295\n",
      "Epoch 208/300\n",
      "8/8 [==============================] - 0s 4ms/step - batch: 3.5000 - size: 1.0000 - loss: 0.3931 - acc: 0.7996 - val_loss: 0.5518 - val_acc: 0.7377\n",
      "Epoch 209/300\n",
      "8/8 [==============================] - 0s 4ms/step - batch: 3.5000 - size: 1.0000 - loss: 0.4065 - acc: 0.8058 - val_loss: 0.5553 - val_acc: 0.7377\n",
      "Epoch 210/300\n",
      "8/8 [==============================] - 0s 4ms/step - batch: 3.5000 - size: 1.0000 - loss: 0.3982 - acc: 0.8264 - val_loss: 0.5532 - val_acc: 0.7213\n",
      "Epoch 211/300\n",
      "8/8 [==============================] - 0s 5ms/step - batch: 3.5000 - size: 1.0000 - loss: 0.3866 - acc: 0.8079 - val_loss: 0.5541 - val_acc: 0.7377\n",
      "Epoch 212/300\n",
      "8/8 [==============================] - 0s 5ms/step - batch: 3.5000 - size: 1.0000 - loss: 0.3764 - acc: 0.8347 - val_loss: 0.5723 - val_acc: 0.7459\n",
      "Epoch 213/300\n",
      "8/8 [==============================] - 0s 4ms/step - batch: 3.5000 - size: 1.0000 - loss: 0.3926 - acc: 0.8120 - val_loss: 0.5688 - val_acc: 0.7541\n",
      "Epoch 214/300\n",
      "8/8 [==============================] - 0s 4ms/step - batch: 3.5000 - size: 1.0000 - loss: 0.3966 - acc: 0.8120 - val_loss: 0.5424 - val_acc: 0.7459\n",
      "Epoch 215/300\n",
      "8/8 [==============================] - 0s 4ms/step - batch: 3.5000 - size: 1.0000 - loss: 0.3840 - acc: 0.8368 - val_loss: 0.5476 - val_acc: 0.7131\n",
      "Epoch 216/300\n",
      "8/8 [==============================] - 0s 5ms/step - batch: 3.5000 - size: 1.0000 - loss: 0.4245 - acc: 0.8017 - val_loss: 0.5674 - val_acc: 0.7541\n",
      "Epoch 217/300\n",
      "8/8 [==============================] - 0s 5ms/step - batch: 3.5000 - size: 1.0000 - loss: 0.3994 - acc: 0.7934 - val_loss: 0.5480 - val_acc: 0.7459\n",
      "Epoch 218/300\n",
      "8/8 [==============================] - 0s 5ms/step - batch: 3.5000 - size: 1.0000 - loss: 0.3626 - acc: 0.8182 - val_loss: 0.5561 - val_acc: 0.7213\n",
      "Epoch 219/300\n",
      "8/8 [==============================] - 0s 5ms/step - batch: 3.5000 - size: 1.0000 - loss: 0.3929 - acc: 0.8017 - val_loss: 0.5536 - val_acc: 0.7213\n",
      "Epoch 220/300\n",
      "8/8 [==============================] - 0s 5ms/step - batch: 3.5000 - size: 1.0000 - loss: 0.4387 - acc: 0.7748 - val_loss: 0.4883 - val_acc: 0.7705\n",
      "Epoch 221/300\n",
      "8/8 [==============================] - 0s 5ms/step - batch: 3.5000 - size: 1.0000 - loss: 0.3921 - acc: 0.8285 - val_loss: 0.5034 - val_acc: 0.7459\n",
      "Epoch 222/300\n",
      "8/8 [==============================] - 0s 5ms/step - batch: 3.5000 - size: 1.0000 - loss: 0.3829 - acc: 0.8202 - val_loss: 0.5292 - val_acc: 0.7295\n",
      "Epoch 223/300\n",
      "8/8 [==============================] - 0s 6ms/step - batch: 3.5000 - size: 1.0000 - loss: 0.3964 - acc: 0.8285 - val_loss: 0.5521 - val_acc: 0.7377\n",
      "Epoch 224/300\n",
      "8/8 [==============================] - 0s 5ms/step - batch: 3.5000 - size: 1.0000 - loss: 0.3808 - acc: 0.8388 - val_loss: 0.5395 - val_acc: 0.7459\n",
      "Epoch 225/300\n",
      "8/8 [==============================] - 0s 7ms/step - batch: 3.5000 - size: 1.0000 - loss: 0.3905 - acc: 0.8202 - val_loss: 0.5525 - val_acc: 0.7377\n",
      "Epoch 226/300\n",
      "8/8 [==============================] - 0s 5ms/step - batch: 3.5000 - size: 1.0000 - loss: 0.3919 - acc: 0.8244 - val_loss: 0.5466 - val_acc: 0.7049\n",
      "Epoch 227/300\n",
      "8/8 [==============================] - 0s 5ms/step - batch: 3.5000 - size: 1.0000 - loss: 0.3794 - acc: 0.8244 - val_loss: 0.5510 - val_acc: 0.6885\n",
      "Epoch 228/300\n",
      "8/8 [==============================] - 0s 4ms/step - batch: 3.5000 - size: 1.0000 - loss: 0.3841 - acc: 0.8079 - val_loss: 0.5649 - val_acc: 0.7213\n",
      "Epoch 229/300\n",
      "8/8 [==============================] - 0s 4ms/step - batch: 3.5000 - size: 1.0000 - loss: 0.4022 - acc: 0.8140 - val_loss: 0.5777 - val_acc: 0.7213\n",
      "Epoch 230/300\n",
      "8/8 [==============================] - 0s 4ms/step - batch: 3.5000 - size: 1.0000 - loss: 0.3714 - acc: 0.8264 - val_loss: 0.5467 - val_acc: 0.7377\n",
      "Epoch 231/300\n",
      "8/8 [==============================] - 0s 6ms/step - batch: 3.5000 - size: 1.0000 - loss: 0.3916 - acc: 0.8079 - val_loss: 0.5407 - val_acc: 0.7377\n",
      "Epoch 232/300\n",
      "8/8 [==============================] - 0s 4ms/step - batch: 3.5000 - size: 1.0000 - loss: 0.3818 - acc: 0.8244 - val_loss: 0.5320 - val_acc: 0.7131\n",
      "Epoch 233/300\n",
      "8/8 [==============================] - 0s 5ms/step - batch: 3.5000 - size: 1.0000 - loss: 0.3875 - acc: 0.8347 - val_loss: 0.5326 - val_acc: 0.7213\n",
      "Epoch 234/300\n",
      "8/8 [==============================] - 0s 5ms/step - batch: 3.5000 - size: 1.0000 - loss: 0.3647 - acc: 0.8409 - val_loss: 0.5660 - val_acc: 0.7131\n",
      "Epoch 235/300\n",
      "8/8 [==============================] - 0s 6ms/step - batch: 3.5000 - size: 1.0000 - loss: 0.3855 - acc: 0.8099 - val_loss: 0.5621 - val_acc: 0.7213\n",
      "Epoch 236/300\n",
      "8/8 [==============================] - 0s 5ms/step - batch: 3.5000 - size: 1.0000 - loss: 0.4016 - acc: 0.8058 - val_loss: 0.6055 - val_acc: 0.6885\n",
      "Epoch 237/300\n",
      "8/8 [==============================] - 0s 5ms/step - batch: 3.5000 - size: 1.0000 - loss: 0.3584 - acc: 0.8306 - val_loss: 0.5751 - val_acc: 0.7131\n",
      "Epoch 238/300\n",
      "8/8 [==============================] - 0s 4ms/step - batch: 3.5000 - size: 1.0000 - loss: 0.3741 - acc: 0.8161 - val_loss: 0.5660 - val_acc: 0.7295\n",
      "Epoch 239/300\n",
      "8/8 [==============================] - 0s 4ms/step - batch: 3.5000 - size: 1.0000 - loss: 0.3620 - acc: 0.8223 - val_loss: 0.5750 - val_acc: 0.7049\n",
      "Epoch 240/300\n",
      "8/8 [==============================] - 0s 4ms/step - batch: 3.5000 - size: 1.0000 - loss: 0.3437 - acc: 0.8450 - val_loss: 0.5757 - val_acc: 0.7213\n",
      "Epoch 241/300\n",
      "8/8 [==============================] - 0s 4ms/step - batch: 3.5000 - size: 1.0000 - loss: 0.3616 - acc: 0.8182 - val_loss: 0.5853 - val_acc: 0.7131\n",
      "Epoch 242/300\n",
      "8/8 [==============================] - 0s 7ms/step - batch: 3.5000 - size: 1.0000 - loss: 0.3497 - acc: 0.8368 - val_loss: 0.6012 - val_acc: 0.7377\n",
      "Epoch 243/300\n",
      "8/8 [==============================] - 0s 8ms/step - batch: 3.5000 - size: 1.0000 - loss: 0.3454 - acc: 0.8512 - val_loss: 0.6141 - val_acc: 0.7377\n",
      "Epoch 244/300\n",
      "8/8 [==============================] - 0s 5ms/step - batch: 3.5000 - size: 1.0000 - loss: 0.3516 - acc: 0.8223 - val_loss: 0.5959 - val_acc: 0.7459\n",
      "Epoch 245/300\n",
      "8/8 [==============================] - 0s 6ms/step - batch: 3.5000 - size: 1.0000 - loss: 0.3943 - acc: 0.8202 - val_loss: 0.6119 - val_acc: 0.7049\n",
      "Epoch 246/300\n",
      "8/8 [==============================] - 0s 8ms/step - batch: 3.5000 - size: 1.0000 - loss: 0.4062 - acc: 0.7975 - val_loss: 0.5767 - val_acc: 0.7131\n",
      "Epoch 247/300\n",
      "8/8 [==============================] - 0s 5ms/step - batch: 3.5000 - size: 1.0000 - loss: 0.3621 - acc: 0.8058 - val_loss: 0.5673 - val_acc: 0.7377\n",
      "Epoch 248/300\n",
      "8/8 [==============================] - 0s 5ms/step - batch: 3.5000 - size: 1.0000 - loss: 0.3583 - acc: 0.8161 - val_loss: 0.5486 - val_acc: 0.7295\n",
      "Epoch 249/300\n",
      "8/8 [==============================] - 0s 5ms/step - batch: 3.5000 - size: 1.0000 - loss: 0.3189 - acc: 0.8430 - val_loss: 0.5847 - val_acc: 0.7377\n",
      "Epoch 250/300\n",
      "8/8 [==============================] - 0s 4ms/step - batch: 3.5000 - size: 1.0000 - loss: 0.3828 - acc: 0.8347 - val_loss: 0.5786 - val_acc: 0.7377\n",
      "Epoch 251/300\n",
      "8/8 [==============================] - 0s 4ms/step - batch: 3.5000 - size: 1.0000 - loss: 0.3521 - acc: 0.8223 - val_loss: 0.5823 - val_acc: 0.7213\n",
      "Epoch 252/300\n",
      "8/8 [==============================] - 0s 5ms/step - batch: 3.5000 - size: 1.0000 - loss: 0.3546 - acc: 0.8347 - val_loss: 0.5574 - val_acc: 0.7541\n",
      "Epoch 253/300\n",
      "8/8 [==============================] - 0s 5ms/step - batch: 3.5000 - size: 1.0000 - loss: 0.3744 - acc: 0.8202 - val_loss: 0.5463 - val_acc: 0.7213\n",
      "Epoch 254/300\n",
      "8/8 [==============================] - 0s 5ms/step - batch: 3.5000 - size: 1.0000 - loss: 0.3559 - acc: 0.8326 - val_loss: 0.5550 - val_acc: 0.7049\n",
      "Epoch 255/300\n",
      "8/8 [==============================] - 0s 4ms/step - batch: 3.5000 - size: 1.0000 - loss: 0.3678 - acc: 0.8306 - val_loss: 0.5667 - val_acc: 0.7377\n",
      "Epoch 256/300\n",
      "8/8 [==============================] - 0s 4ms/step - batch: 3.5000 - size: 1.0000 - loss: 0.4026 - acc: 0.8037 - val_loss: 0.5771 - val_acc: 0.7213\n",
      "Epoch 257/300\n",
      "8/8 [==============================] - 0s 6ms/step - batch: 3.5000 - size: 1.0000 - loss: 0.3578 - acc: 0.8533 - val_loss: 0.6057 - val_acc: 0.6557\n",
      "Epoch 258/300\n",
      "8/8 [==============================] - 0s 5ms/step - batch: 3.5000 - size: 1.0000 - loss: 0.3859 - acc: 0.8017 - val_loss: 0.5975 - val_acc: 0.7377\n",
      "Epoch 259/300\n",
      "8/8 [==============================] - 0s 5ms/step - batch: 3.5000 - size: 1.0000 - loss: 0.3692 - acc: 0.8306 - val_loss: 0.5632 - val_acc: 0.7377\n",
      "Epoch 260/300\n",
      "8/8 [==============================] - 0s 5ms/step - batch: 3.5000 - size: 1.0000 - loss: 0.3730 - acc: 0.8223 - val_loss: 0.6455 - val_acc: 0.6967\n",
      "Epoch 261/300\n",
      "8/8 [==============================] - 0s 5ms/step - batch: 3.5000 - size: 1.0000 - loss: 0.3990 - acc: 0.8037 - val_loss: 0.6201 - val_acc: 0.7459\n",
      "Epoch 262/300\n",
      "8/8 [==============================] - 0s 4ms/step - batch: 3.5000 - size: 1.0000 - loss: 0.3913 - acc: 0.8223 - val_loss: 0.5856 - val_acc: 0.7541\n",
      "Epoch 263/300\n",
      "8/8 [==============================] - 0s 4ms/step - batch: 3.5000 - size: 1.0000 - loss: 0.3439 - acc: 0.8326 - val_loss: 0.5674 - val_acc: 0.7213\n",
      "Epoch 264/300\n",
      "8/8 [==============================] - 0s 4ms/step - batch: 3.5000 - size: 1.0000 - loss: 0.3391 - acc: 0.8409 - val_loss: 0.5910 - val_acc: 0.7295\n",
      "Epoch 265/300\n",
      "8/8 [==============================] - 0s 5ms/step - batch: 3.5000 - size: 1.0000 - loss: 0.3506 - acc: 0.8182 - val_loss: 0.6168 - val_acc: 0.7049\n",
      "Epoch 266/300\n",
      "8/8 [==============================] - 0s 4ms/step - batch: 3.5000 - size: 1.0000 - loss: 0.3454 - acc: 0.8264 - val_loss: 0.6215 - val_acc: 0.7049\n",
      "Epoch 267/300\n",
      "8/8 [==============================] - 0s 4ms/step - batch: 3.5000 - size: 1.0000 - loss: 0.3577 - acc: 0.8285 - val_loss: 0.6210 - val_acc: 0.7377\n",
      "Epoch 268/300\n",
      "8/8 [==============================] - 0s 4ms/step - batch: 3.5000 - size: 1.0000 - loss: 0.3758 - acc: 0.8430 - val_loss: 0.6175 - val_acc: 0.7377\n",
      "Epoch 269/300\n",
      "8/8 [==============================] - 0s 4ms/step - batch: 3.5000 - size: 1.0000 - loss: 0.3717 - acc: 0.8202 - val_loss: 0.6247 - val_acc: 0.7213\n",
      "Epoch 270/300\n",
      "8/8 [==============================] - 0s 4ms/step - batch: 3.5000 - size: 1.0000 - loss: 0.3600 - acc: 0.8223 - val_loss: 0.6019 - val_acc: 0.7377\n",
      "Epoch 271/300\n",
      "8/8 [==============================] - 0s 4ms/step - batch: 3.5000 - size: 1.0000 - loss: 0.3248 - acc: 0.8574 - val_loss: 0.6111 - val_acc: 0.7213\n",
      "Epoch 272/300\n",
      "8/8 [==============================] - 0s 4ms/step - batch: 3.5000 - size: 1.0000 - loss: 0.3409 - acc: 0.8285 - val_loss: 0.6073 - val_acc: 0.7213\n",
      "Epoch 273/300\n",
      "8/8 [==============================] - 0s 7ms/step - batch: 3.5000 - size: 1.0000 - loss: 0.3613 - acc: 0.8244 - val_loss: 0.6509 - val_acc: 0.7295\n",
      "Epoch 274/300\n",
      "8/8 [==============================] - 0s 4ms/step - batch: 3.5000 - size: 1.0000 - loss: 0.3529 - acc: 0.8306 - val_loss: 0.6821 - val_acc: 0.7049\n",
      "Epoch 275/300\n",
      "8/8 [==============================] - 0s 4ms/step - batch: 3.5000 - size: 1.0000 - loss: 0.3460 - acc: 0.8202 - val_loss: 0.6530 - val_acc: 0.7131\n",
      "Epoch 276/300\n",
      "8/8 [==============================] - 0s 4ms/step - batch: 3.5000 - size: 1.0000 - loss: 0.4241 - acc: 0.8140 - val_loss: 0.6071 - val_acc: 0.7377\n",
      "Epoch 277/300\n",
      "8/8 [==============================] - 0s 4ms/step - batch: 3.5000 - size: 1.0000 - loss: 0.3504 - acc: 0.8264 - val_loss: 0.5892 - val_acc: 0.7377\n",
      "Epoch 278/300\n",
      "8/8 [==============================] - 0s 4ms/step - batch: 3.5000 - size: 1.0000 - loss: 0.3622 - acc: 0.8409 - val_loss: 0.5829 - val_acc: 0.7131\n",
      "Epoch 279/300\n",
      "8/8 [==============================] - 0s 15ms/step - batch: 3.5000 - size: 1.0000 - loss: 0.3335 - acc: 0.8554 - val_loss: 0.6459 - val_acc: 0.6885\n",
      "Epoch 280/300\n",
      "8/8 [==============================] - 0s 5ms/step - batch: 3.5000 - size: 1.0000 - loss: 0.3229 - acc: 0.8347 - val_loss: 0.6345 - val_acc: 0.7049\n",
      "Epoch 281/300\n",
      "8/8 [==============================] - 0s 5ms/step - batch: 3.5000 - size: 1.0000 - loss: 0.4013 - acc: 0.8120 - val_loss: 0.6752 - val_acc: 0.6557\n",
      "Epoch 282/300\n",
      "8/8 [==============================] - 0s 7ms/step - batch: 3.5000 - size: 1.0000 - loss: 0.3707 - acc: 0.8202 - val_loss: 0.5751 - val_acc: 0.7213\n",
      "Epoch 283/300\n",
      "8/8 [==============================] - 0s 7ms/step - batch: 3.5000 - size: 1.0000 - loss: 0.3451 - acc: 0.8326 - val_loss: 0.5911 - val_acc: 0.7295\n",
      "Epoch 284/300\n",
      "8/8 [==============================] - 0s 5ms/step - batch: 3.5000 - size: 1.0000 - loss: 0.3581 - acc: 0.8368 - val_loss: 0.5972 - val_acc: 0.7377\n",
      "Epoch 285/300\n",
      "8/8 [==============================] - 0s 5ms/step - batch: 3.5000 - size: 1.0000 - loss: 0.3849 - acc: 0.8223 - val_loss: 0.5905 - val_acc: 0.7049\n",
      "Epoch 286/300\n",
      "8/8 [==============================] - 0s 5ms/step - batch: 3.5000 - size: 1.0000 - loss: 0.3536 - acc: 0.8533 - val_loss: 0.6495 - val_acc: 0.7049\n",
      "Epoch 287/300\n",
      "8/8 [==============================] - 0s 5ms/step - batch: 3.5000 - size: 1.0000 - loss: 0.3636 - acc: 0.8120 - val_loss: 0.5792 - val_acc: 0.7295\n",
      "Epoch 288/300\n",
      "8/8 [==============================] - 0s 6ms/step - batch: 3.5000 - size: 1.0000 - loss: 0.3387 - acc: 0.8409 - val_loss: 0.6105 - val_acc: 0.7131\n",
      "Epoch 289/300\n",
      "8/8 [==============================] - 0s 6ms/step - batch: 3.5000 - size: 1.0000 - loss: 0.3443 - acc: 0.8471 - val_loss: 0.5961 - val_acc: 0.7377\n",
      "Epoch 290/300\n",
      "8/8 [==============================] - 0s 5ms/step - batch: 3.5000 - size: 1.0000 - loss: 0.3183 - acc: 0.8388 - val_loss: 0.6115 - val_acc: 0.7213\n",
      "Epoch 291/300\n",
      "8/8 [==============================] - 0s 5ms/step - batch: 3.5000 - size: 1.0000 - loss: 0.3210 - acc: 0.8409 - val_loss: 0.6185 - val_acc: 0.6885\n",
      "Epoch 292/300\n",
      "8/8 [==============================] - 0s 4ms/step - batch: 3.5000 - size: 1.0000 - loss: 0.3479 - acc: 0.8223 - val_loss: 0.5894 - val_acc: 0.7213\n",
      "Epoch 293/300\n",
      "8/8 [==============================] - 0s 4ms/step - batch: 3.5000 - size: 1.0000 - loss: 0.3181 - acc: 0.8698 - val_loss: 0.6059 - val_acc: 0.7131\n",
      "Epoch 294/300\n",
      "8/8 [==============================] - 0s 5ms/step - batch: 3.5000 - size: 1.0000 - loss: 0.3363 - acc: 0.8368 - val_loss: 0.6428 - val_acc: 0.7131\n",
      "Epoch 295/300\n",
      "8/8 [==============================] - 0s 4ms/step - batch: 3.5000 - size: 1.0000 - loss: 0.3200 - acc: 0.8430 - val_loss: 0.6297 - val_acc: 0.7131\n",
      "Epoch 296/300\n",
      "8/8 [==============================] - 0s 4ms/step - batch: 3.5000 - size: 1.0000 - loss: 0.3474 - acc: 0.8409 - val_loss: 0.6389 - val_acc: 0.6967\n",
      "Epoch 297/300\n",
      "8/8 [==============================] - 0s 4ms/step - batch: 3.5000 - size: 1.0000 - loss: 0.3477 - acc: 0.8533 - val_loss: 0.6391 - val_acc: 0.7131\n",
      "Epoch 298/300\n",
      "8/8 [==============================] - 0s 4ms/step - batch: 3.5000 - size: 1.0000 - loss: 0.3674 - acc: 0.8099 - val_loss: 0.6454 - val_acc: 0.6967\n",
      "Epoch 299/300\n",
      "8/8 [==============================] - 0s 4ms/step - batch: 3.5000 - size: 1.0000 - loss: 0.3534 - acc: 0.8285 - val_loss: 0.6323 - val_acc: 0.7295\n",
      "Epoch 300/300\n",
      "8/8 [==============================] - 0s 3ms/step - batch: 3.5000 - size: 1.0000 - loss: 0.3157 - acc: 0.8368 - val_loss: 0.6051 - val_acc: 0.7213\n"
     ]
    }
   ],
   "source": [
    "model = tf.keras.models.Sequential([\n",
    "  tf.keras.layers.DenseFeatures(feature_columns=feature_columns),\n",
    "  tf.keras.layers.Dense(units=128, activation='relu'),\n",
    "  tf.keras.layers.Dropout(rate=0.2),\n",
    "  tf.keras.layers.Dense(units=128, activation='relu'),\n",
    "  tf.keras.layers.Dropout(rate=0.2),\n",
    "  tf.keras.layers.Dense(units=128, activation='relu'),\n",
    "  tf.keras.layers.Dense(units=2, activation='sigmoid')\n",
    "])\n",
    "\n",
    "model.compile(\n",
    "  optimizer='adam',\n",
    "  loss='binary_crossentropy',\n",
    "  metrics=['accuracy']\n",
    ")\n",
    "\n",
    "history = model.fit(train_ds, validation_data=test_ds, epochs=300, verbose=True, use_multiprocessing=True)"
   ]
  },
  {
   "cell_type": "code",
   "execution_count": 541,
   "metadata": {},
   "outputs": [],
   "source": [
    "checkpoint_name = 'Weights-{epoch:03d}-{val_acc:.5f}.hdf5' \n",
    "checkpoint = ModelCheckpoint(checkpoint_name, monitor='val_acc', verbose = 1, save_best_only = True, mode ='max')\n",
    "callbacks_list = [checkpoint]"
   ]
  },
  {
   "cell_type": "code",
   "execution_count": 592,
   "metadata": {},
   "outputs": [
    {
     "data": {
      "image/png": "[encoded data removed]",
      "text/plain": [
       "<Figure size 720x432 with 1 Axes>"
      ]
     },
     "metadata": {
      "needs_background": "light"
     },
     "output_type": "display_data"
    }
   ],
   "source": [
    "plt.figure(figsize =(10, 6))\n",
    "plt.plot(history.history['acc'])\n",
    "plt.plot(history.history['val_acc'])\n",
    "plt.title('Model Accuracy')\n",
    "plt.ylabel('Accuracy')\n",
    "plt.xlabel('Epoch')\n",
    "plt.ylim((0, 1))\n",
    "plt.legend(['Train', 'Test'], loc='upper left');"
   ]
  },
  {
   "cell_type": "code",
   "execution_count": 593,
   "metadata": {},
   "outputs": [
    {
     "data": {
      "image/png": "[encoded data removed]",
      "text/plain": [
       "<Figure size 720x432 with 1 Axes>"
      ]
     },
     "metadata": {
      "needs_background": "light"
     },
     "output_type": "display_data"
    }
   ],
   "source": [
    "plt.figure(figsize =(10, 6))\n",
    "plt.plot(history.history['loss'])\n",
    "plt.plot(history.history['val_loss'])\n",
    "plt.title('Model Loss')\n",
    "plt.ylabel('Loss')\n",
    "plt.xlabel('Epoch')\n",
    "plt.legend(['Train', 'Test'], loc='upper left')\n",
    "plt.show()"
   ]
  },
  {
   "cell_type": "code",
   "execution_count": 589,
   "metadata": {},
   "outputs": [
    {
     "data": {
      "text/plain": [
       "array([[0.4933114 , 0.4891999 ],\n",
       "       [0.6117399 , 0.62835884],\n",
       "       [0.06430629, 0.07348382],\n",
       "       [0.21639809, 0.22788242],\n",
       "       [0.8365073 , 0.85269797],\n",
       "       [0.78826594, 0.7596522 ],\n",
       "       [0.5529521 , 0.5331757 ],\n",
       "       [0.15697879, 0.16361171],\n",
       "       [0.1405516 , 0.12736943],\n",
       "       [0.8608403 , 0.8599888 ],\n",
       "       [0.02447352, 0.0307447 ],\n",
       "       [0.6688445 , 0.63541085],\n",
       "       [0.71244365, 0.70871675],\n",
       "       [0.29859334, 0.3155767 ],\n",
       "       [0.06000218, 0.05644387],\n",
       "       [0.25270712, 0.23295355],\n",
       "       [0.8485402 , 0.87899065],\n",
       "       [0.02366969, 0.0358175 ],\n",
       "       [0.32671463, 0.3145962 ],\n",
       "       [0.31574047, 0.30341312],\n",
       "       [0.03280753, 0.03214249],\n",
       "       [0.8455738 , 0.8236328 ],\n",
       "       [0.4953224 , 0.48924914],\n",
       "       [0.00566015, 0.00538138],\n",
       "       [0.42457077, 0.42215464],\n",
       "       [0.93734556, 0.9455478 ],\n",
       "       [0.9331922 , 0.9247814 ],\n",
       "       [0.03458381, 0.04731491],\n",
       "       [0.827996  , 0.83502746],\n",
       "       [0.18881142, 0.20797423],\n",
       "       [0.71146274, 0.7135911 ],\n",
       "       [0.01240894, 0.00923368],\n",
       "       [0.28877172, 0.2879391 ],\n",
       "       [0.44016418, 0.46040577],\n",
       "       [0.20088193, 0.209452  ],\n",
       "       [0.5478797 , 0.5438321 ],\n",
       "       [0.97166777, 0.9702501 ],\n",
       "       [0.34110332, 0.3503251 ],\n",
       "       [0.85541743, 0.8314152 ],\n",
       "       [0.75262606, 0.72657406],\n",
       "       [0.28113377, 0.27069336],\n",
       "       [0.05804408, 0.05252811],\n",
       "       [0.33202064, 0.32816577],\n",
       "       [0.13948128, 0.14968419],\n",
       "       [0.14227864, 0.13537309],\n",
       "       [0.07890069, 0.07151666],\n",
       "       [0.7871871 , 0.8000709 ],\n",
       "       [0.65545523, 0.6604452 ],\n",
       "       [0.26527247, 0.26475644],\n",
       "       [0.04085809, 0.06278461],\n",
       "       [0.13343775, 0.12965825],\n",
       "       [0.6483548 , 0.65701085],\n",
       "       [0.03023469, 0.03196251],\n",
       "       [0.13158503, 0.14804107],\n",
       "       [0.87461853, 0.86618286],\n",
       "       [0.87264764, 0.9017135 ],\n",
       "       [0.8468995 , 0.83472747],\n",
       "       [0.23034099, 0.21802652],\n",
       "       [0.11029214, 0.11363626],\n",
       "       [0.3838513 , 0.36742043],\n",
       "       [0.7418633 , 0.7460409 ]], dtype=float32)"
      ]
     },
     "execution_count": 589,
     "metadata": {},
     "output_type": "execute_result"
    }
   ],
   "source": [
    "predictions = model.predict(test_ds)\n",
    "# bin_predictions = \n",
    "# predictions)\n",
    "predictions"
   ]
  },
  {
   "cell_type": "code",
   "execution_count": 542,
   "metadata": {},
   "outputs": [
    {
     "data": {
      "text/html": [
       "<div>\n",
       "<style scoped>\n",
       "    .dataframe tbody tr th:only-of-type {\n",
       "        vertical-align: middle;\n",
       "    }\n",
       "\n",
       "    .dataframe tbody tr th {\n",
       "        vertical-align: top;\n",
       "    }\n",
       "\n",
       "    .dataframe thead th {\n",
       "        text-align: right;\n",
       "    }\n",
       "</style>\n",
       "<table border=\"1\" class=\"dataframe\">\n",
       "  <thead>\n",
       "    <tr style=\"text-align: right;\">\n",
       "      <th></th>\n",
       "      <th>Age</th>\n",
       "      <th>Sex</th>\n",
       "      <th>RestingBP</th>\n",
       "      <th>Cholesterol</th>\n",
       "      <th>FastingBS</th>\n",
       "      <th>MaxHR</th>\n",
       "      <th>ExerciseAngina</th>\n",
       "      <th>Oldpeak</th>\n",
       "      <th>ChestPainType_1.0</th>\n",
       "      <th>ChestPainType_4.0</th>\n",
       "      <th>ChestPainType_3.0</th>\n",
       "      <th>ChestPainType_2.0</th>\n",
       "      <th>RestingECG_2.0</th>\n",
       "      <th>RestingECG_0.0</th>\n",
       "      <th>RestingECG_1.0</th>\n",
       "      <th>ST_Slope_3.0</th>\n",
       "      <th>ST_Slope_2.0</th>\n",
       "      <th>ST_Slope_1.0</th>\n",
       "    </tr>\n",
       "  </thead>\n",
       "  <tbody>\n",
       "    <tr>\n",
       "      <th>132</th>\n",
       "      <td>29.0</td>\n",
       "      <td>1.0</td>\n",
       "      <td>130.0</td>\n",
       "      <td>204.0</td>\n",
       "      <td>0.0</td>\n",
       "      <td>202.0</td>\n",
       "      <td>0.0</td>\n",
       "      <td>0.0</td>\n",
       "      <td>0</td>\n",
       "      <td>0</td>\n",
       "      <td>0</td>\n",
       "      <td>1</td>\n",
       "      <td>1</td>\n",
       "      <td>0</td>\n",
       "      <td>0</td>\n",
       "      <td>0</td>\n",
       "      <td>0</td>\n",
       "      <td>1</td>\n",
       "    </tr>\n",
       "    <tr>\n",
       "      <th>202</th>\n",
       "      <td>57.0</td>\n",
       "      <td>1.0</td>\n",
       "      <td>150.0</td>\n",
       "      <td>126.0</td>\n",
       "      <td>1.0</td>\n",
       "      <td>173.0</td>\n",
       "      <td>0.0</td>\n",
       "      <td>0.2</td>\n",
       "      <td>0</td>\n",
       "      <td>0</td>\n",
       "      <td>1</td>\n",
       "      <td>0</td>\n",
       "      <td>0</td>\n",
       "      <td>1</td>\n",
       "      <td>0</td>\n",
       "      <td>0</td>\n",
       "      <td>0</td>\n",
       "      <td>1</td>\n",
       "    </tr>\n",
       "    <tr>\n",
       "      <th>196</th>\n",
       "      <td>69.0</td>\n",
       "      <td>1.0</td>\n",
       "      <td>160.0</td>\n",
       "      <td>234.0</td>\n",
       "      <td>1.0</td>\n",
       "      <td>131.0</td>\n",
       "      <td>0.0</td>\n",
       "      <td>0.1</td>\n",
       "      <td>1</td>\n",
       "      <td>0</td>\n",
       "      <td>0</td>\n",
       "      <td>0</td>\n",
       "      <td>1</td>\n",
       "      <td>0</td>\n",
       "      <td>0</td>\n",
       "      <td>0</td>\n",
       "      <td>1</td>\n",
       "      <td>0</td>\n",
       "    </tr>\n",
       "    <tr>\n",
       "      <th>75</th>\n",
       "      <td>65.0</td>\n",
       "      <td>0.0</td>\n",
       "      <td>160.0</td>\n",
       "      <td>360.0</td>\n",
       "      <td>0.0</td>\n",
       "      <td>151.0</td>\n",
       "      <td>0.0</td>\n",
       "      <td>0.8</td>\n",
       "      <td>0</td>\n",
       "      <td>0</td>\n",
       "      <td>1</td>\n",
       "      <td>0</td>\n",
       "      <td>1</td>\n",
       "      <td>0</td>\n",
       "      <td>0</td>\n",
       "      <td>0</td>\n",
       "      <td>0</td>\n",
       "      <td>1</td>\n",
       "    </tr>\n",
       "    <tr>\n",
       "      <th>176</th>\n",
       "      <td>52.0</td>\n",
       "      <td>1.0</td>\n",
       "      <td>108.0</td>\n",
       "      <td>233.0</td>\n",
       "      <td>1.0</td>\n",
       "      <td>147.0</td>\n",
       "      <td>0.0</td>\n",
       "      <td>0.1</td>\n",
       "      <td>0</td>\n",
       "      <td>1</td>\n",
       "      <td>0</td>\n",
       "      <td>0</td>\n",
       "      <td>0</td>\n",
       "      <td>1</td>\n",
       "      <td>0</td>\n",
       "      <td>0</td>\n",
       "      <td>0</td>\n",
       "      <td>1</td>\n",
       "    </tr>\n",
       "    <tr>\n",
       "      <th>...</th>\n",
       "      <td>...</td>\n",
       "      <td>...</td>\n",
       "      <td>...</td>\n",
       "      <td>...</td>\n",
       "      <td>...</td>\n",
       "      <td>...</td>\n",
       "      <td>...</td>\n",
       "      <td>...</td>\n",
       "      <td>...</td>\n",
       "      <td>...</td>\n",
       "      <td>...</td>\n",
       "      <td>...</td>\n",
       "      <td>...</td>\n",
       "      <td>...</td>\n",
       "      <td>...</td>\n",
       "      <td>...</td>\n",
       "      <td>...</td>\n",
       "      <td>...</td>\n",
       "    </tr>\n",
       "    <tr>\n",
       "      <th>188</th>\n",
       "      <td>54.0</td>\n",
       "      <td>1.0</td>\n",
       "      <td>192.0</td>\n",
       "      <td>283.0</td>\n",
       "      <td>0.0</td>\n",
       "      <td>195.0</td>\n",
       "      <td>0.0</td>\n",
       "      <td>0.0</td>\n",
       "      <td>0</td>\n",
       "      <td>0</td>\n",
       "      <td>0</td>\n",
       "      <td>1</td>\n",
       "      <td>1</td>\n",
       "      <td>0</td>\n",
       "      <td>0</td>\n",
       "      <td>0</td>\n",
       "      <td>0</td>\n",
       "      <td>1</td>\n",
       "    </tr>\n",
       "    <tr>\n",
       "      <th>71</th>\n",
       "      <td>67.0</td>\n",
       "      <td>1.0</td>\n",
       "      <td>125.0</td>\n",
       "      <td>254.0</td>\n",
       "      <td>1.0</td>\n",
       "      <td>163.0</td>\n",
       "      <td>0.0</td>\n",
       "      <td>0.2</td>\n",
       "      <td>0</td>\n",
       "      <td>1</td>\n",
       "      <td>0</td>\n",
       "      <td>0</td>\n",
       "      <td>0</td>\n",
       "      <td>1</td>\n",
       "      <td>0</td>\n",
       "      <td>0</td>\n",
       "      <td>1</td>\n",
       "      <td>0</td>\n",
       "    </tr>\n",
       "    <tr>\n",
       "      <th>106</th>\n",
       "      <td>59.0</td>\n",
       "      <td>1.0</td>\n",
       "      <td>140.0</td>\n",
       "      <td>177.0</td>\n",
       "      <td>0.0</td>\n",
       "      <td>162.0</td>\n",
       "      <td>1.0</td>\n",
       "      <td>0.0</td>\n",
       "      <td>0</td>\n",
       "      <td>1</td>\n",
       "      <td>0</td>\n",
       "      <td>0</td>\n",
       "      <td>0</td>\n",
       "      <td>1</td>\n",
       "      <td>0</td>\n",
       "      <td>0</td>\n",
       "      <td>0</td>\n",
       "      <td>1</td>\n",
       "    </tr>\n",
       "    <tr>\n",
       "      <th>270</th>\n",
       "      <td>61.0</td>\n",
       "      <td>1.0</td>\n",
       "      <td>140.0</td>\n",
       "      <td>207.0</td>\n",
       "      <td>0.0</td>\n",
       "      <td>138.0</td>\n",
       "      <td>1.0</td>\n",
       "      <td>1.9</td>\n",
       "      <td>0</td>\n",
       "      <td>1</td>\n",
       "      <td>0</td>\n",
       "      <td>0</td>\n",
       "      <td>1</td>\n",
       "      <td>0</td>\n",
       "      <td>0</td>\n",
       "      <td>0</td>\n",
       "      <td>0</td>\n",
       "      <td>1</td>\n",
       "    </tr>\n",
       "    <tr>\n",
       "      <th>102</th>\n",
       "      <td>57.0</td>\n",
       "      <td>0.0</td>\n",
       "      <td>128.0</td>\n",
       "      <td>303.0</td>\n",
       "      <td>0.0</td>\n",
       "      <td>159.0</td>\n",
       "      <td>0.0</td>\n",
       "      <td>0.0</td>\n",
       "      <td>0</td>\n",
       "      <td>1</td>\n",
       "      <td>0</td>\n",
       "      <td>0</td>\n",
       "      <td>1</td>\n",
       "      <td>0</td>\n",
       "      <td>0</td>\n",
       "      <td>0</td>\n",
       "      <td>0</td>\n",
       "      <td>1</td>\n",
       "    </tr>\n",
       "  </tbody>\n",
       "</table>\n",
       "<p>242 rows × 18 columns</p>\n",
       "</div>"
      ],
      "text/plain": [
       "      Age  Sex  RestingBP  Cholesterol  FastingBS  MaxHR  ExerciseAngina  \\\n",
       "132  29.0  1.0      130.0        204.0        0.0  202.0             0.0   \n",
       "202  57.0  1.0      150.0        126.0        1.0  173.0             0.0   \n",
       "196  69.0  1.0      160.0        234.0        1.0  131.0             0.0   \n",
       "75   65.0  0.0      160.0        360.0        0.0  151.0             0.0   \n",
       "176  52.0  1.0      108.0        233.0        1.0  147.0             0.0   \n",
       "..    ...  ...        ...          ...        ...    ...             ...   \n",
       "188  54.0  1.0      192.0        283.0        0.0  195.0             0.0   \n",
       "71   67.0  1.0      125.0        254.0        1.0  163.0             0.0   \n",
       "106  59.0  1.0      140.0        177.0        0.0  162.0             1.0   \n",
       "270  61.0  1.0      140.0        207.0        0.0  138.0             1.0   \n",
       "102  57.0  0.0      128.0        303.0        0.0  159.0             0.0   \n",
       "\n",
       "     Oldpeak  ChestPainType_1.0  ChestPainType_4.0  ChestPainType_3.0  \\\n",
       "132      0.0                  0                  0                  0   \n",
       "202      0.2                  0                  0                  1   \n",
       "196      0.1                  1                  0                  0   \n",
       "75       0.8                  0                  0                  1   \n",
       "176      0.1                  0                  1                  0   \n",
       "..       ...                ...                ...                ...   \n",
       "188      0.0                  0                  0                  0   \n",
       "71       0.2                  0                  1                  0   \n",
       "106      0.0                  0                  1                  0   \n",
       "270      1.9                  0                  1                  0   \n",
       "102      0.0                  0                  1                  0   \n",
       "\n",
       "     ChestPainType_2.0  RestingECG_2.0  RestingECG_0.0  RestingECG_1.0  \\\n",
       "132                  1               1               0               0   \n",
       "202                  0               0               1               0   \n",
       "196                  0               1               0               0   \n",
       "75                   0               1               0               0   \n",
       "176                  0               0               1               0   \n",
       "..                 ...             ...             ...             ...   \n",
       "188                  1               1               0               0   \n",
       "71                   0               0               1               0   \n",
       "106                  0               0               1               0   \n",
       "270                  0               1               0               0   \n",
       "102                  0               1               0               0   \n",
       "\n",
       "     ST_Slope_3.0  ST_Slope_2.0  ST_Slope_1.0  \n",
       "132             0             0             1  \n",
       "202             0             0             1  \n",
       "196             0             1             0  \n",
       "75              0             0             1  \n",
       "176             0             0             1  \n",
       "..            ...           ...           ...  \n",
       "188             0             0             1  \n",
       "71              0             1             0  \n",
       "106             0             0             1  \n",
       "270             0             0             1  \n",
       "102             0             0             1  \n",
       "\n",
       "[242 rows x 18 columns]"
      ]
     },
     "execution_count": 542,
     "metadata": {},
     "output_type": "execute_result"
    }
   ],
   "source": [
    "X_train"
   ]
  },
  {
   "cell_type": "code",
   "execution_count": 570,
   "metadata": {},
   "outputs": [
    {
     "data": {
      "text/plain": [
       "[0.579225480556488, 0.704918]"
      ]
     },
     "execution_count": 570,
     "metadata": {},
     "output_type": "execute_result"
    }
   ],
   "source": [
    "model.evaluate(test_ds)"
   ]
  },
  {
   "cell_type": "code",
   "execution_count": 574,
   "metadata": {},
   "outputs": [
    {
     "data": {
      "text/plain": [
       "<tf.Tensor 'Round_3:0' shape=(61, 2) dtype=float32>"
      ]
     },
     "execution_count": 574,
     "metadata": {},
     "output_type": "execute_result"
    }
   ],
   "source": [
    "predictions = tf.round(model.predict(test_ds))\n",
    "predictions"
   ]
  },
  {
   "cell_type": "code",
   "execution_count": 543,
   "metadata": {},
   "outputs": [
    {
     "ename": "ValueError",
     "evalue": "Dimension size must be evenly divisible by 250 but is 1 for '{{node training_12/Reshape}} = Reshape[T=DT_FLOAT, Tshape=DT_INT32](loss_20/mul, training_12/Reshape/shape)' with input shapes: [], [2] and with input tensors computed as partial shapes: input[1] = [250,?].",
     "output_type": "error",
     "traceback": [
      "\u001b[0;31m---------------------------------------------------------------------------\u001b[0m",
      "\u001b[0;31mValueError\u001b[0m                                Traceback (most recent call last)",
      "\u001b[1;32m/Users/romyho/Documents/Master_Econometrie/Thesis/Python/fl_ml.ipynb Cell 45'\u001b[0m in \u001b[0;36m<cell line: 1>\u001b[0;34m()\u001b[0m\n\u001b[0;32m----> <a href='vscode-notebook-cell:/Users/romyho/Documents/Master_Econometrie/Thesis/Python/fl_ml.ipynb#ch0000046?line=0'>1</a>\u001b[0m NN_model\u001b[39m.\u001b[39;49mfit(X_train, y_train, epochs\u001b[39m=\u001b[39;49m\u001b[39m10\u001b[39;49m)\n",
      "File \u001b[0;32m~/Documents/Master_Econometrie/Thesis/Python/thesis_fl/lib/python3.9/site-packages/keras/engine/training_v1.py:777\u001b[0m, in \u001b[0;36mModel.fit\u001b[0;34m(self, x, y, batch_size, epochs, verbose, callbacks, validation_split, validation_data, shuffle, class_weight, sample_weight, initial_epoch, steps_per_epoch, validation_steps, validation_freq, max_queue_size, workers, use_multiprocessing, **kwargs)\u001b[0m\n\u001b[1;32m    <a href='file:///Users/romyho/Documents/Master_Econometrie/Thesis/Python/thesis_fl/lib/python3.9/site-packages/keras/engine/training_v1.py?line=773'>774</a>\u001b[0m \u001b[39mself\u001b[39m\u001b[39m.\u001b[39m_check_call_args(\u001b[39m'\u001b[39m\u001b[39mfit\u001b[39m\u001b[39m'\u001b[39m)\n\u001b[1;32m    <a href='file:///Users/romyho/Documents/Master_Econometrie/Thesis/Python/thesis_fl/lib/python3.9/site-packages/keras/engine/training_v1.py?line=775'>776</a>\u001b[0m func \u001b[39m=\u001b[39m \u001b[39mself\u001b[39m\u001b[39m.\u001b[39m_select_training_loop(x)\n\u001b[0;32m--> <a href='file:///Users/romyho/Documents/Master_Econometrie/Thesis/Python/thesis_fl/lib/python3.9/site-packages/keras/engine/training_v1.py?line=776'>777</a>\u001b[0m \u001b[39mreturn\u001b[39;00m func\u001b[39m.\u001b[39;49mfit(\n\u001b[1;32m    <a href='file:///Users/romyho/Documents/Master_Econometrie/Thesis/Python/thesis_fl/lib/python3.9/site-packages/keras/engine/training_v1.py?line=777'>778</a>\u001b[0m     \u001b[39mself\u001b[39;49m,\n\u001b[1;32m    <a href='file:///Users/romyho/Documents/Master_Econometrie/Thesis/Python/thesis_fl/lib/python3.9/site-packages/keras/engine/training_v1.py?line=778'>779</a>\u001b[0m     x\u001b[39m=\u001b[39;49mx,\n\u001b[1;32m    <a href='file:///Users/romyho/Documents/Master_Econometrie/Thesis/Python/thesis_fl/lib/python3.9/site-packages/keras/engine/training_v1.py?line=779'>780</a>\u001b[0m     y\u001b[39m=\u001b[39;49my,\n\u001b[1;32m    <a href='file:///Users/romyho/Documents/Master_Econometrie/Thesis/Python/thesis_fl/lib/python3.9/site-packages/keras/engine/training_v1.py?line=780'>781</a>\u001b[0m     batch_size\u001b[39m=\u001b[39;49mbatch_size,\n\u001b[1;32m    <a href='file:///Users/romyho/Documents/Master_Econometrie/Thesis/Python/thesis_fl/lib/python3.9/site-packages/keras/engine/training_v1.py?line=781'>782</a>\u001b[0m     epochs\u001b[39m=\u001b[39;49mepochs,\n\u001b[1;32m    <a href='file:///Users/romyho/Documents/Master_Econometrie/Thesis/Python/thesis_fl/lib/python3.9/site-packages/keras/engine/training_v1.py?line=782'>783</a>\u001b[0m     verbose\u001b[39m=\u001b[39;49mverbose,\n\u001b[1;32m    <a href='file:///Users/romyho/Documents/Master_Econometrie/Thesis/Python/thesis_fl/lib/python3.9/site-packages/keras/engine/training_v1.py?line=783'>784</a>\u001b[0m     callbacks\u001b[39m=\u001b[39;49mcallbacks,\n\u001b[1;32m    <a href='file:///Users/romyho/Documents/Master_Econometrie/Thesis/Python/thesis_fl/lib/python3.9/site-packages/keras/engine/training_v1.py?line=784'>785</a>\u001b[0m     validation_split\u001b[39m=\u001b[39;49mvalidation_split,\n\u001b[1;32m    <a href='file:///Users/romyho/Documents/Master_Econometrie/Thesis/Python/thesis_fl/lib/python3.9/site-packages/keras/engine/training_v1.py?line=785'>786</a>\u001b[0m     validation_data\u001b[39m=\u001b[39;49mvalidation_data,\n\u001b[1;32m    <a href='file:///Users/romyho/Documents/Master_Econometrie/Thesis/Python/thesis_fl/lib/python3.9/site-packages/keras/engine/training_v1.py?line=786'>787</a>\u001b[0m     shuffle\u001b[39m=\u001b[39;49mshuffle,\n\u001b[1;32m    <a href='file:///Users/romyho/Documents/Master_Econometrie/Thesis/Python/thesis_fl/lib/python3.9/site-packages/keras/engine/training_v1.py?line=787'>788</a>\u001b[0m     class_weight\u001b[39m=\u001b[39;49mclass_weight,\n\u001b[1;32m    <a href='file:///Users/romyho/Documents/Master_Econometrie/Thesis/Python/thesis_fl/lib/python3.9/site-packages/keras/engine/training_v1.py?line=788'>789</a>\u001b[0m     sample_weight\u001b[39m=\u001b[39;49msample_weight,\n\u001b[1;32m    <a href='file:///Users/romyho/Documents/Master_Econometrie/Thesis/Python/thesis_fl/lib/python3.9/site-packages/keras/engine/training_v1.py?line=789'>790</a>\u001b[0m     initial_epoch\u001b[39m=\u001b[39;49minitial_epoch,\n\u001b[1;32m    <a href='file:///Users/romyho/Documents/Master_Econometrie/Thesis/Python/thesis_fl/lib/python3.9/site-packages/keras/engine/training_v1.py?line=790'>791</a>\u001b[0m     steps_per_epoch\u001b[39m=\u001b[39;49msteps_per_epoch,\n\u001b[1;32m    <a href='file:///Users/romyho/Documents/Master_Econometrie/Thesis/Python/thesis_fl/lib/python3.9/site-packages/keras/engine/training_v1.py?line=791'>792</a>\u001b[0m     validation_steps\u001b[39m=\u001b[39;49mvalidation_steps,\n\u001b[1;32m    <a href='file:///Users/romyho/Documents/Master_Econometrie/Thesis/Python/thesis_fl/lib/python3.9/site-packages/keras/engine/training_v1.py?line=792'>793</a>\u001b[0m     validation_freq\u001b[39m=\u001b[39;49mvalidation_freq,\n\u001b[1;32m    <a href='file:///Users/romyho/Documents/Master_Econometrie/Thesis/Python/thesis_fl/lib/python3.9/site-packages/keras/engine/training_v1.py?line=793'>794</a>\u001b[0m     max_queue_size\u001b[39m=\u001b[39;49mmax_queue_size,\n\u001b[1;32m    <a href='file:///Users/romyho/Documents/Master_Econometrie/Thesis/Python/thesis_fl/lib/python3.9/site-packages/keras/engine/training_v1.py?line=794'>795</a>\u001b[0m     workers\u001b[39m=\u001b[39;49mworkers,\n\u001b[1;32m    <a href='file:///Users/romyho/Documents/Master_Econometrie/Thesis/Python/thesis_fl/lib/python3.9/site-packages/keras/engine/training_v1.py?line=795'>796</a>\u001b[0m     use_multiprocessing\u001b[39m=\u001b[39;49muse_multiprocessing)\n",
      "File \u001b[0;32m~/Documents/Master_Econometrie/Thesis/Python/thesis_fl/lib/python3.9/site-packages/keras/engine/training_arrays_v1.py:641\u001b[0m, in \u001b[0;36mArrayLikeTrainingLoop.fit\u001b[0;34m(self, model, x, y, batch_size, epochs, verbose, callbacks, validation_split, validation_data, shuffle, class_weight, sample_weight, initial_epoch, steps_per_epoch, validation_steps, validation_freq, **kwargs)\u001b[0m\n\u001b[1;32m    <a href='file:///Users/romyho/Documents/Master_Econometrie/Thesis/Python/thesis_fl/lib/python3.9/site-packages/keras/engine/training_arrays_v1.py?line=636'>637</a>\u001b[0m     \u001b[39mraise\u001b[39;00m \u001b[39mValueError\u001b[39;00m(\u001b[39m'\u001b[39m\u001b[39m`validation_steps` should not be specified if \u001b[39m\u001b[39m'\u001b[39m\n\u001b[1;32m    <a href='file:///Users/romyho/Documents/Master_Econometrie/Thesis/Python/thesis_fl/lib/python3.9/site-packages/keras/engine/training_arrays_v1.py?line=637'>638</a>\u001b[0m                      \u001b[39m'\u001b[39m\u001b[39m`validation_data` is None.\u001b[39m\u001b[39m'\u001b[39m)\n\u001b[1;32m    <a href='file:///Users/romyho/Documents/Master_Econometrie/Thesis/Python/thesis_fl/lib/python3.9/site-packages/keras/engine/training_arrays_v1.py?line=638'>639</a>\u001b[0m   val_x, val_y, val_sample_weights \u001b[39m=\u001b[39m \u001b[39mNone\u001b[39;00m, \u001b[39mNone\u001b[39;00m, \u001b[39mNone\u001b[39;00m\n\u001b[0;32m--> <a href='file:///Users/romyho/Documents/Master_Econometrie/Thesis/Python/thesis_fl/lib/python3.9/site-packages/keras/engine/training_arrays_v1.py?line=640'>641</a>\u001b[0m \u001b[39mreturn\u001b[39;00m fit_loop(\n\u001b[1;32m    <a href='file:///Users/romyho/Documents/Master_Econometrie/Thesis/Python/thesis_fl/lib/python3.9/site-packages/keras/engine/training_arrays_v1.py?line=641'>642</a>\u001b[0m     model,\n\u001b[1;32m    <a href='file:///Users/romyho/Documents/Master_Econometrie/Thesis/Python/thesis_fl/lib/python3.9/site-packages/keras/engine/training_arrays_v1.py?line=642'>643</a>\u001b[0m     inputs\u001b[39m=\u001b[39;49mx,\n\u001b[1;32m    <a href='file:///Users/romyho/Documents/Master_Econometrie/Thesis/Python/thesis_fl/lib/python3.9/site-packages/keras/engine/training_arrays_v1.py?line=643'>644</a>\u001b[0m     targets\u001b[39m=\u001b[39;49my,\n\u001b[1;32m    <a href='file:///Users/romyho/Documents/Master_Econometrie/Thesis/Python/thesis_fl/lib/python3.9/site-packages/keras/engine/training_arrays_v1.py?line=644'>645</a>\u001b[0m     sample_weights\u001b[39m=\u001b[39;49msample_weights,\n\u001b[1;32m    <a href='file:///Users/romyho/Documents/Master_Econometrie/Thesis/Python/thesis_fl/lib/python3.9/site-packages/keras/engine/training_arrays_v1.py?line=645'>646</a>\u001b[0m     batch_size\u001b[39m=\u001b[39;49mbatch_size,\n\u001b[1;32m    <a href='file:///Users/romyho/Documents/Master_Econometrie/Thesis/Python/thesis_fl/lib/python3.9/site-packages/keras/engine/training_arrays_v1.py?line=646'>647</a>\u001b[0m     epochs\u001b[39m=\u001b[39;49mepochs,\n\u001b[1;32m    <a href='file:///Users/romyho/Documents/Master_Econometrie/Thesis/Python/thesis_fl/lib/python3.9/site-packages/keras/engine/training_arrays_v1.py?line=647'>648</a>\u001b[0m     verbose\u001b[39m=\u001b[39;49mverbose,\n\u001b[1;32m    <a href='file:///Users/romyho/Documents/Master_Econometrie/Thesis/Python/thesis_fl/lib/python3.9/site-packages/keras/engine/training_arrays_v1.py?line=648'>649</a>\u001b[0m     callbacks\u001b[39m=\u001b[39;49mcallbacks,\n\u001b[1;32m    <a href='file:///Users/romyho/Documents/Master_Econometrie/Thesis/Python/thesis_fl/lib/python3.9/site-packages/keras/engine/training_arrays_v1.py?line=649'>650</a>\u001b[0m     val_inputs\u001b[39m=\u001b[39;49mval_x,\n\u001b[1;32m    <a href='file:///Users/romyho/Documents/Master_Econometrie/Thesis/Python/thesis_fl/lib/python3.9/site-packages/keras/engine/training_arrays_v1.py?line=650'>651</a>\u001b[0m     val_targets\u001b[39m=\u001b[39;49mval_y,\n\u001b[1;32m    <a href='file:///Users/romyho/Documents/Master_Econometrie/Thesis/Python/thesis_fl/lib/python3.9/site-packages/keras/engine/training_arrays_v1.py?line=651'>652</a>\u001b[0m     val_sample_weights\u001b[39m=\u001b[39;49mval_sample_weights,\n\u001b[1;32m    <a href='file:///Users/romyho/Documents/Master_Econometrie/Thesis/Python/thesis_fl/lib/python3.9/site-packages/keras/engine/training_arrays_v1.py?line=652'>653</a>\u001b[0m     shuffle\u001b[39m=\u001b[39;49mshuffle,\n\u001b[1;32m    <a href='file:///Users/romyho/Documents/Master_Econometrie/Thesis/Python/thesis_fl/lib/python3.9/site-packages/keras/engine/training_arrays_v1.py?line=653'>654</a>\u001b[0m     initial_epoch\u001b[39m=\u001b[39;49minitial_epoch,\n\u001b[1;32m    <a href='file:///Users/romyho/Documents/Master_Econometrie/Thesis/Python/thesis_fl/lib/python3.9/site-packages/keras/engine/training_arrays_v1.py?line=654'>655</a>\u001b[0m     steps_per_epoch\u001b[39m=\u001b[39;49msteps_per_epoch,\n\u001b[1;32m    <a href='file:///Users/romyho/Documents/Master_Econometrie/Thesis/Python/thesis_fl/lib/python3.9/site-packages/keras/engine/training_arrays_v1.py?line=655'>656</a>\u001b[0m     validation_steps\u001b[39m=\u001b[39;49mvalidation_steps,\n\u001b[1;32m    <a href='file:///Users/romyho/Documents/Master_Econometrie/Thesis/Python/thesis_fl/lib/python3.9/site-packages/keras/engine/training_arrays_v1.py?line=656'>657</a>\u001b[0m     validation_freq\u001b[39m=\u001b[39;49mvalidation_freq,\n\u001b[1;32m    <a href='file:///Users/romyho/Documents/Master_Econometrie/Thesis/Python/thesis_fl/lib/python3.9/site-packages/keras/engine/training_arrays_v1.py?line=657'>658</a>\u001b[0m     steps_name\u001b[39m=\u001b[39;49m\u001b[39m'\u001b[39;49m\u001b[39msteps_per_epoch\u001b[39;49m\u001b[39m'\u001b[39;49m)\n",
      "File \u001b[0;32m~/Documents/Master_Econometrie/Thesis/Python/thesis_fl/lib/python3.9/site-packages/keras/engine/training_arrays_v1.py:178\u001b[0m, in \u001b[0;36mmodel_iteration\u001b[0;34m(model, inputs, targets, sample_weights, batch_size, epochs, verbose, callbacks, val_inputs, val_targets, val_sample_weights, shuffle, initial_epoch, steps_per_epoch, validation_steps, validation_freq, mode, validation_in_fit, prepared_feed_values_from_dataset, steps_name, **kwargs)\u001b[0m\n\u001b[1;32m    <a href='file:///Users/romyho/Documents/Master_Econometrie/Thesis/Python/thesis_fl/lib/python3.9/site-packages/keras/engine/training_arrays_v1.py?line=172'>173</a>\u001b[0m _update_sample_weight_mode(model, mode, ins)\n\u001b[1;32m    <a href='file:///Users/romyho/Documents/Master_Econometrie/Thesis/Python/thesis_fl/lib/python3.9/site-packages/keras/engine/training_arrays_v1.py?line=174'>175</a>\u001b[0m \u001b[39m# Get step function and loop type. As part of building the execution\u001b[39;00m\n\u001b[1;32m    <a href='file:///Users/romyho/Documents/Master_Econometrie/Thesis/Python/thesis_fl/lib/python3.9/site-packages/keras/engine/training_arrays_v1.py?line=175'>176</a>\u001b[0m \u001b[39m# function we recompile the metrics based on the updated\u001b[39;00m\n\u001b[1;32m    <a href='file:///Users/romyho/Documents/Master_Econometrie/Thesis/Python/thesis_fl/lib/python3.9/site-packages/keras/engine/training_arrays_v1.py?line=176'>177</a>\u001b[0m \u001b[39m# sample_weight_mode value.\u001b[39;00m\n\u001b[0;32m--> <a href='file:///Users/romyho/Documents/Master_Econometrie/Thesis/Python/thesis_fl/lib/python3.9/site-packages/keras/engine/training_arrays_v1.py?line=177'>178</a>\u001b[0m f \u001b[39m=\u001b[39m _make_execution_function(model, mode)\n\u001b[1;32m    <a href='file:///Users/romyho/Documents/Master_Econometrie/Thesis/Python/thesis_fl/lib/python3.9/site-packages/keras/engine/training_arrays_v1.py?line=179'>180</a>\u001b[0m \u001b[39m# Prepare validation data. Hold references to the iterator and the input list\u001b[39;00m\n\u001b[1;32m    <a href='file:///Users/romyho/Documents/Master_Econometrie/Thesis/Python/thesis_fl/lib/python3.9/site-packages/keras/engine/training_arrays_v1.py?line=180'>181</a>\u001b[0m \u001b[39m# to properly reinitialize and reuse in multiple validation passes.\u001b[39;00m\n\u001b[1;32m    <a href='file:///Users/romyho/Documents/Master_Econometrie/Thesis/Python/thesis_fl/lib/python3.9/site-packages/keras/engine/training_arrays_v1.py?line=181'>182</a>\u001b[0m val_iterator \u001b[39m=\u001b[39m \u001b[39mNone\u001b[39;00m\n",
      "File \u001b[0;32m~/Documents/Master_Econometrie/Thesis/Python/thesis_fl/lib/python3.9/site-packages/keras/engine/training_arrays_v1.py:548\u001b[0m, in \u001b[0;36m_make_execution_function\u001b[0;34m(model, mode)\u001b[0m\n\u001b[1;32m    <a href='file:///Users/romyho/Documents/Master_Econometrie/Thesis/Python/thesis_fl/lib/python3.9/site-packages/keras/engine/training_arrays_v1.py?line=545'>546</a>\u001b[0m \u001b[39mif\u001b[39;00m model\u001b[39m.\u001b[39m_distribution_strategy:\n\u001b[1;32m    <a href='file:///Users/romyho/Documents/Master_Econometrie/Thesis/Python/thesis_fl/lib/python3.9/site-packages/keras/engine/training_arrays_v1.py?line=546'>547</a>\u001b[0m   \u001b[39mreturn\u001b[39;00m distributed_training_utils_v1\u001b[39m.\u001b[39m_make_execution_function(model, mode)\n\u001b[0;32m--> <a href='file:///Users/romyho/Documents/Master_Econometrie/Thesis/Python/thesis_fl/lib/python3.9/site-packages/keras/engine/training_arrays_v1.py?line=547'>548</a>\u001b[0m \u001b[39mreturn\u001b[39;00m model\u001b[39m.\u001b[39;49m_make_execution_function(mode)\n",
      "File \u001b[0;32m~/Documents/Master_Econometrie/Thesis/Python/thesis_fl/lib/python3.9/site-packages/keras/engine/training_v1.py:2085\u001b[0m, in \u001b[0;36mModel._make_execution_function\u001b[0;34m(self, mode)\u001b[0m\n\u001b[1;32m   <a href='file:///Users/romyho/Documents/Master_Econometrie/Thesis/Python/thesis_fl/lib/python3.9/site-packages/keras/engine/training_v1.py?line=2082'>2083</a>\u001b[0m \u001b[39mdef\u001b[39;00m \u001b[39m_make_execution_function\u001b[39m(\u001b[39mself\u001b[39m, mode):\n\u001b[1;32m   <a href='file:///Users/romyho/Documents/Master_Econometrie/Thesis/Python/thesis_fl/lib/python3.9/site-packages/keras/engine/training_v1.py?line=2083'>2084</a>\u001b[0m   \u001b[39mif\u001b[39;00m mode \u001b[39m==\u001b[39m ModeKeys\u001b[39m.\u001b[39mTRAIN:\n\u001b[0;32m-> <a href='file:///Users/romyho/Documents/Master_Econometrie/Thesis/Python/thesis_fl/lib/python3.9/site-packages/keras/engine/training_v1.py?line=2084'>2085</a>\u001b[0m     \u001b[39mself\u001b[39;49m\u001b[39m.\u001b[39;49m_make_train_function()\n\u001b[1;32m   <a href='file:///Users/romyho/Documents/Master_Econometrie/Thesis/Python/thesis_fl/lib/python3.9/site-packages/keras/engine/training_v1.py?line=2085'>2086</a>\u001b[0m     \u001b[39mreturn\u001b[39;00m \u001b[39mself\u001b[39m\u001b[39m.\u001b[39mtrain_function\n\u001b[1;32m   <a href='file:///Users/romyho/Documents/Master_Econometrie/Thesis/Python/thesis_fl/lib/python3.9/site-packages/keras/engine/training_v1.py?line=2086'>2087</a>\u001b[0m   \u001b[39mif\u001b[39;00m mode \u001b[39m==\u001b[39m ModeKeys\u001b[39m.\u001b[39mTEST:\n",
      "File \u001b[0;32m~/Documents/Master_Econometrie/Thesis/Python/thesis_fl/lib/python3.9/site-packages/keras/engine/training_v1.py:2016\u001b[0m, in \u001b[0;36mModel._make_train_function\u001b[0;34m(self)\u001b[0m\n\u001b[1;32m   <a href='file:///Users/romyho/Documents/Master_Econometrie/Thesis/Python/thesis_fl/lib/python3.9/site-packages/keras/engine/training_v1.py?line=2012'>2013</a>\u001b[0m \u001b[39mwith\u001b[39;00m backend\u001b[39m.\u001b[39mget_graph()\u001b[39m.\u001b[39mas_default():\n\u001b[1;32m   <a href='file:///Users/romyho/Documents/Master_Econometrie/Thesis/Python/thesis_fl/lib/python3.9/site-packages/keras/engine/training_v1.py?line=2013'>2014</a>\u001b[0m   \u001b[39mwith\u001b[39;00m backend\u001b[39m.\u001b[39mname_scope(\u001b[39m'\u001b[39m\u001b[39mtraining\u001b[39m\u001b[39m'\u001b[39m):\n\u001b[1;32m   <a href='file:///Users/romyho/Documents/Master_Econometrie/Thesis/Python/thesis_fl/lib/python3.9/site-packages/keras/engine/training_v1.py?line=2014'>2015</a>\u001b[0m     \u001b[39m# Training updates\u001b[39;00m\n\u001b[0;32m-> <a href='file:///Users/romyho/Documents/Master_Econometrie/Thesis/Python/thesis_fl/lib/python3.9/site-packages/keras/engine/training_v1.py?line=2015'>2016</a>\u001b[0m     updates \u001b[39m=\u001b[39m \u001b[39mself\u001b[39;49m\u001b[39m.\u001b[39;49moptimizer\u001b[39m.\u001b[39;49mget_updates(\n\u001b[1;32m   <a href='file:///Users/romyho/Documents/Master_Econometrie/Thesis/Python/thesis_fl/lib/python3.9/site-packages/keras/engine/training_v1.py?line=2016'>2017</a>\u001b[0m         params\u001b[39m=\u001b[39;49m\u001b[39mself\u001b[39;49m\u001b[39m.\u001b[39;49m_collected_trainable_weights, loss\u001b[39m=\u001b[39;49m\u001b[39mself\u001b[39;49m\u001b[39m.\u001b[39;49mtotal_loss)\n\u001b[1;32m   <a href='file:///Users/romyho/Documents/Master_Econometrie/Thesis/Python/thesis_fl/lib/python3.9/site-packages/keras/engine/training_v1.py?line=2017'>2018</a>\u001b[0m     \u001b[39m# Unconditional updates\u001b[39;00m\n\u001b[1;32m   <a href='file:///Users/romyho/Documents/Master_Econometrie/Thesis/Python/thesis_fl/lib/python3.9/site-packages/keras/engine/training_v1.py?line=2018'>2019</a>\u001b[0m     updates \u001b[39m+\u001b[39m\u001b[39m=\u001b[39m \u001b[39mself\u001b[39m\u001b[39m.\u001b[39mget_updates_for(\u001b[39mNone\u001b[39;00m)\n",
      "File \u001b[0;32m~/Documents/Master_Econometrie/Thesis/Python/thesis_fl/lib/python3.9/site-packages/keras/optimizer_v2/optimizer_v2.py:769\u001b[0m, in \u001b[0;36mOptimizerV2.get_updates\u001b[0;34m(self, loss, params)\u001b[0m\n\u001b[1;32m    <a href='file:///Users/romyho/Documents/Master_Econometrie/Thesis/Python/thesis_fl/lib/python3.9/site-packages/keras/optimizer_v2/optimizer_v2.py?line=767'>768</a>\u001b[0m \u001b[39mdef\u001b[39;00m \u001b[39mget_updates\u001b[39m(\u001b[39mself\u001b[39m, loss, params):\n\u001b[0;32m--> <a href='file:///Users/romyho/Documents/Master_Econometrie/Thesis/Python/thesis_fl/lib/python3.9/site-packages/keras/optimizer_v2/optimizer_v2.py?line=768'>769</a>\u001b[0m   grads \u001b[39m=\u001b[39m \u001b[39mself\u001b[39;49m\u001b[39m.\u001b[39;49mget_gradients(loss, params)\n\u001b[1;32m    <a href='file:///Users/romyho/Documents/Master_Econometrie/Thesis/Python/thesis_fl/lib/python3.9/site-packages/keras/optimizer_v2/optimizer_v2.py?line=769'>770</a>\u001b[0m   grads_and_vars \u001b[39m=\u001b[39m \u001b[39mlist\u001b[39m(\u001b[39mzip\u001b[39m(grads, params))\n\u001b[1;32m    <a href='file:///Users/romyho/Documents/Master_Econometrie/Thesis/Python/thesis_fl/lib/python3.9/site-packages/keras/optimizer_v2/optimizer_v2.py?line=770'>771</a>\u001b[0m   \u001b[39mself\u001b[39m\u001b[39m.\u001b[39m_assert_valid_dtypes([\n\u001b[1;32m    <a href='file:///Users/romyho/Documents/Master_Econometrie/Thesis/Python/thesis_fl/lib/python3.9/site-packages/keras/optimizer_v2/optimizer_v2.py?line=771'>772</a>\u001b[0m       v \u001b[39mfor\u001b[39;00m g, v \u001b[39min\u001b[39;00m grads_and_vars\n\u001b[1;32m    <a href='file:///Users/romyho/Documents/Master_Econometrie/Thesis/Python/thesis_fl/lib/python3.9/site-packages/keras/optimizer_v2/optimizer_v2.py?line=772'>773</a>\u001b[0m       \u001b[39mif\u001b[39;00m g \u001b[39mis\u001b[39;00m \u001b[39mnot\u001b[39;00m \u001b[39mNone\u001b[39;00m \u001b[39mand\u001b[39;00m v\u001b[39m.\u001b[39mdtype \u001b[39m!=\u001b[39m tf\u001b[39m.\u001b[39mresource\n\u001b[1;32m    <a href='file:///Users/romyho/Documents/Master_Econometrie/Thesis/Python/thesis_fl/lib/python3.9/site-packages/keras/optimizer_v2/optimizer_v2.py?line=773'>774</a>\u001b[0m   ])\n",
      "File \u001b[0;32m~/Documents/Master_Econometrie/Thesis/Python/thesis_fl/lib/python3.9/site-packages/tensorflow_privacy/privacy/optimizers/dp_optimizer_keras.py:198\u001b[0m, in \u001b[0;36mmake_keras_optimizer_class.<locals>.DPOptimizerClass.get_gradients\u001b[0;34m(self, loss, params)\u001b[0m\n\u001b[1;32m    <a href='file:///Users/romyho/Documents/Master_Econometrie/Thesis/Python/thesis_fl/lib/python3.9/site-packages/tensorflow_privacy/privacy/optimizers/dp_optimizer_keras.py?line=192'>193</a>\u001b[0m   \u001b[39mself\u001b[39m\u001b[39m.\u001b[39m_global_state \u001b[39m=\u001b[39m \u001b[39mself\u001b[39m\u001b[39m.\u001b[39m_dp_sum_query\u001b[39m.\u001b[39minitial_global_state()\n\u001b[1;32m    <a href='file:///Users/romyho/Documents/Master_Econometrie/Thesis/Python/thesis_fl/lib/python3.9/site-packages/tensorflow_privacy/privacy/optimizers/dp_optimizer_keras.py?line=194'>195</a>\u001b[0m \u001b[39m# This code mostly follows the logic in the original DPOptimizerClass\u001b[39;00m\n\u001b[1;32m    <a href='file:///Users/romyho/Documents/Master_Econometrie/Thesis/Python/thesis_fl/lib/python3.9/site-packages/tensorflow_privacy/privacy/optimizers/dp_optimizer_keras.py?line=195'>196</a>\u001b[0m \u001b[39m# in dp_optimizer.py, except that this returns only the gradients,\u001b[39;00m\n\u001b[1;32m    <a href='file:///Users/romyho/Documents/Master_Econometrie/Thesis/Python/thesis_fl/lib/python3.9/site-packages/tensorflow_privacy/privacy/optimizers/dp_optimizer_keras.py?line=196'>197</a>\u001b[0m \u001b[39m# not the gradients and variables.\u001b[39;00m\n\u001b[0;32m--> <a href='file:///Users/romyho/Documents/Master_Econometrie/Thesis/Python/thesis_fl/lib/python3.9/site-packages/tensorflow_privacy/privacy/optimizers/dp_optimizer_keras.py?line=197'>198</a>\u001b[0m microbatch_losses \u001b[39m=\u001b[39m tf\u001b[39m.\u001b[39;49mreshape(loss, [\u001b[39mself\u001b[39;49m\u001b[39m.\u001b[39;49m_num_microbatches, \u001b[39m-\u001b[39;49m\u001b[39m1\u001b[39;49m])\n\u001b[1;32m    <a href='file:///Users/romyho/Documents/Master_Econometrie/Thesis/Python/thesis_fl/lib/python3.9/site-packages/tensorflow_privacy/privacy/optimizers/dp_optimizer_keras.py?line=198'>199</a>\u001b[0m sample_params \u001b[39m=\u001b[39m (\n\u001b[1;32m    <a href='file:///Users/romyho/Documents/Master_Econometrie/Thesis/Python/thesis_fl/lib/python3.9/site-packages/tensorflow_privacy/privacy/optimizers/dp_optimizer_keras.py?line=199'>200</a>\u001b[0m     \u001b[39mself\u001b[39m\u001b[39m.\u001b[39m_dp_sum_query\u001b[39m.\u001b[39mderive_sample_params(\u001b[39mself\u001b[39m\u001b[39m.\u001b[39m_global_state))\n\u001b[1;32m    <a href='file:///Users/romyho/Documents/Master_Econometrie/Thesis/Python/thesis_fl/lib/python3.9/site-packages/tensorflow_privacy/privacy/optimizers/dp_optimizer_keras.py?line=201'>202</a>\u001b[0m \u001b[39mdef\u001b[39;00m \u001b[39mprocess_microbatch\u001b[39m(i, sample_state):\n",
      "File \u001b[0;32m~/Documents/Master_Econometrie/Thesis/Python/thesis_fl/lib/python3.9/site-packages/tensorflow/python/util/traceback_utils.py:153\u001b[0m, in \u001b[0;36mfilter_traceback.<locals>.error_handler\u001b[0;34m(*args, **kwargs)\u001b[0m\n\u001b[1;32m    <a href='file:///Users/romyho/Documents/Master_Econometrie/Thesis/Python/thesis_fl/lib/python3.9/site-packages/tensorflow/python/util/traceback_utils.py?line=150'>151</a>\u001b[0m \u001b[39mexcept\u001b[39;00m \u001b[39mException\u001b[39;00m \u001b[39mas\u001b[39;00m e:\n\u001b[1;32m    <a href='file:///Users/romyho/Documents/Master_Econometrie/Thesis/Python/thesis_fl/lib/python3.9/site-packages/tensorflow/python/util/traceback_utils.py?line=151'>152</a>\u001b[0m   filtered_tb \u001b[39m=\u001b[39m _process_traceback_frames(e\u001b[39m.\u001b[39m__traceback__)\n\u001b[0;32m--> <a href='file:///Users/romyho/Documents/Master_Econometrie/Thesis/Python/thesis_fl/lib/python3.9/site-packages/tensorflow/python/util/traceback_utils.py?line=152'>153</a>\u001b[0m   \u001b[39mraise\u001b[39;00m e\u001b[39m.\u001b[39mwith_traceback(filtered_tb) \u001b[39mfrom\u001b[39;00m \u001b[39mNone\u001b[39m\n\u001b[1;32m    <a href='file:///Users/romyho/Documents/Master_Econometrie/Thesis/Python/thesis_fl/lib/python3.9/site-packages/tensorflow/python/util/traceback_utils.py?line=153'>154</a>\u001b[0m \u001b[39mfinally\u001b[39;00m:\n\u001b[1;32m    <a href='file:///Users/romyho/Documents/Master_Econometrie/Thesis/Python/thesis_fl/lib/python3.9/site-packages/tensorflow/python/util/traceback_utils.py?line=154'>155</a>\u001b[0m   \u001b[39mdel\u001b[39;00m filtered_tb\n",
      "File \u001b[0;32m~/Documents/Master_Econometrie/Thesis/Python/thesis_fl/lib/python3.9/site-packages/tensorflow/python/framework/ops.py:2013\u001b[0m, in \u001b[0;36m_create_c_op\u001b[0;34m(graph, node_def, inputs, control_inputs, op_def)\u001b[0m\n\u001b[1;32m   <a href='file:///Users/romyho/Documents/Master_Econometrie/Thesis/Python/thesis_fl/lib/python3.9/site-packages/tensorflow/python/framework/ops.py?line=2009'>2010</a>\u001b[0m   c_op \u001b[39m=\u001b[39m pywrap_tf_session\u001b[39m.\u001b[39mTF_FinishOperation(op_desc)\n\u001b[1;32m   <a href='file:///Users/romyho/Documents/Master_Econometrie/Thesis/Python/thesis_fl/lib/python3.9/site-packages/tensorflow/python/framework/ops.py?line=2010'>2011</a>\u001b[0m \u001b[39mexcept\u001b[39;00m errors\u001b[39m.\u001b[39mInvalidArgumentError \u001b[39mas\u001b[39;00m e:\n\u001b[1;32m   <a href='file:///Users/romyho/Documents/Master_Econometrie/Thesis/Python/thesis_fl/lib/python3.9/site-packages/tensorflow/python/framework/ops.py?line=2011'>2012</a>\u001b[0m   \u001b[39m# Convert to ValueError for backwards compatibility.\u001b[39;00m\n\u001b[0;32m-> <a href='file:///Users/romyho/Documents/Master_Econometrie/Thesis/Python/thesis_fl/lib/python3.9/site-packages/tensorflow/python/framework/ops.py?line=2012'>2013</a>\u001b[0m   \u001b[39mraise\u001b[39;00m \u001b[39mValueError\u001b[39;00m(e\u001b[39m.\u001b[39mmessage)\n\u001b[1;32m   <a href='file:///Users/romyho/Documents/Master_Econometrie/Thesis/Python/thesis_fl/lib/python3.9/site-packages/tensorflow/python/framework/ops.py?line=2014'>2015</a>\u001b[0m \u001b[39mreturn\u001b[39;00m c_op\n",
      "\u001b[0;31mValueError\u001b[0m: Dimension size must be evenly divisible by 250 but is 1 for '{{node training_12/Reshape}} = Reshape[T=DT_FLOAT, Tshape=DT_INT32](loss_20/mul, training_12/Reshape/shape)' with input shapes: [], [2] and with input tensors computed as partial shapes: input[1] = [250,?]."
     ]
    }
   ],
   "source": [
    "NN_model.fit(X_train, y_train, epochs=10)"
   ]
  },
  {
   "cell_type": "code",
   "execution_count": 486,
   "metadata": {},
   "outputs": [],
   "source": [
    "wights_file = './Weights-001-0.00000.hdf5' # choose the best checkpoint \n",
    "NN_model.load_weights(wights_file) # load it\n",
    "NN_model.compile(optimizer='sgd', loss='mse', metrics=['accuracy'])"
   ]
  },
  {
   "cell_type": "code",
   "execution_count": 491,
   "metadata": {},
   "outputs": [
    {
     "data": {
      "text/plain": [
       "[246319264148350358054669534987564173,\n",
       " 177143461162040986851238976625108796,\n",
       " 104812875922599433366178452340603918,\n",
       " 178735323088735587838392349074683859,\n",
       " 400586047243761177018558630754787647,\n",
       " 64172410500943263505116508828072672,\n",
       " 299228703610430305541100979502054017,\n",
       " 320799565348619493446226659768112545,\n",
       " 375958792426658685251948079487254474,\n",
       " 146265733836052760139673702806348250,\n",
       " 366414248620061194346475527046056571,\n",
       " 393074351233137245268163578954865652,\n",
       " 382035551214240326522065345326611112,\n",
       " 373668759174376824953887084838549949,\n",
       " 184792494315522827260270469318561352,\n",
       " 390620943805124658977982345808440914,\n",
       " 390054895760771789437971920745822774,\n",
       " 257429311603635885765375570812073054,\n",
       " 320784359760704950360125539925782488,\n",
       " 122843032277651636956766112339680319,\n",
       " 213616313964191207536875195965187077,\n",
       " 120836570035771770819408863119288023,\n",
       " 166666184910251508623329212138813915,\n",
       " 392352656625530820349923204654925079,\n",
       " 54916066556507139919176612870723182,\n",
       " 404855367717771630547415222014507909,\n",
       " 322039456229034213126241939681533715,\n",
       " 20838688969014859538709277719037227,\n",
       " 272796916884049519105343965737584504,\n",
       " 289223996677283048685506391937020242,\n",
       " 330037754379858549316276688717910891,\n",
       " 75366923055399880473514214934958454,\n",
       " 143255679298080125373875291437983946,\n",
       " 363213882350251821867497977508942317,\n",
       " 32951255349762491077405412868513859,\n",
       " 283216326068364809678028436244839496,\n",
       " 341048901788237941295860298957939227,\n",
       " 149782055031537281221839893901152358,\n",
       " 370543803420710283679086033780655008,\n",
       " 239638939226523265669512554048787768,\n",
       " 160899192002437585593986263806518996,\n",
       " 149484620319777860040097943464175699,\n",
       " 51454868181315525324927090602240894,\n",
       " 75380947743867893952567082191928266,\n",
       " 307440925871264944173694332029687140,\n",
       " 277717082372953600746954235733922467,\n",
       " 293252058686615431702955592121953495,\n",
       " 136993716760179201271150072015787474,\n",
       " 386804004987835935117624087674937348,\n",
       " 320700297125012495314807999301931826,\n",
       " 138110572703021130374024547930834668,\n",
       " 404597238504074120059099437135798281,\n",
       " 368557617212156555989381217232007871,\n",
       " 345161986771820106024532635180543348,\n",
       " 9860348719214131855831091860220896,\n",
       " 156700284351855972301798505425720822,\n",
       " 107776034129245435611389980690100108,\n",
       " 352721549241716455962602694833700549,\n",
       " 317825201993553840607398281672298720,\n",
       " 224451930928697044316131825400117392,\n",
       " 26856677375486836883943658655623414,\n",
       " 405374764629213539825052071848499241,\n",
       " 223216888294939119964797695887973992,\n",
       " 103923989855672920759244122736146549,\n",
       " 123073114801843374408237510896931574,\n",
       " 17184151523340002224255924889596830,\n",
       " 271258425905512528988855512016187353,\n",
       " 290114397229981506063841592880042365,\n",
       " 42682341376465327360145078981412942,\n",
       " 298385180147419306441413656874445638,\n",
       " 282448168067860635037997067728954835,\n",
       " 7089397021912912291503517181645562,\n",
       " 337760195248651395004478418446733739,\n",
       " 285463065340370148932034601381166245,\n",
       " 132587811439338637005505552937662604,\n",
       " 372136449385525452687803417578057227,\n",
       " 207565279102483182554959441663131325,\n",
       " 37755522714227869808411259726296023,\n",
       " 9413685972673280244184694271641737,\n",
       " 256138156155160985692336376232983198,\n",
       " 38338810538748935432577499556410359,\n",
       " 304822194457508369761688585900970393,\n",
       " 283653827193040534702969999960684069,\n",
       " 168445336150449896873171988253215833,\n",
       " 105365856427415447149054183899553506,\n",
       " 208510532474805852623724159874181881,\n",
       " 331264657849218989773882941660947418,\n",
       " 384711879059368588432702645400560514,\n",
       " 287756856671558724709054356572786594,\n",
       " 128847534529401448146020508431672782,\n",
       " 298100094025921236708348974565346769,\n",
       " 255445992575690103439783750972237774,\n",
       " 204198871786870788039924449452772276,\n",
       " 292907390474259938029232306150858457,\n",
       " 378653109206962349490420737149241684,\n",
       " 318542737821892319412502153666440198,\n",
       " 171951075188708687019693342289354643,\n",
       " 356065161682961208638119224064372825,\n",
       " 176242584410393014500116493741524038,\n",
       " 35306435193372448975919839169530427,\n",
       " 66221591313898431944565198908452216,\n",
       " 143497282284185921047022406652891507,\n",
       " 45260419419460187943028534001606480,\n",
       " 157505404116825845754057224134202288,\n",
       " 372228142611404167794435820801058970,\n",
       " 261882258849027531360260573708790394,\n",
       " 364507901565944778968776243803261698,\n",
       " 112763854734486654048453182100572479,\n",
       " 181998952242980898587789382526870111,\n",
       " 167687424651333049565618618993724648,\n",
       " 295452631265928925900109727240026195,\n",
       " 231183775851067877450556244420729597,\n",
       " 230931260147827687388522472519887030,\n",
       " 379401149883841166384979758834682029,\n",
       " 106434141856405399271521974284810828,\n",
       " 56793704540533236834281915393489166,\n",
       " 111692750065502651076657755127885777,\n",
       " 32628923991635327133791820359753405,\n",
       " 137480297568685155212098978114031452,\n",
       " 51813038320901000879976579128967415,\n",
       " 106180454665979003123069710048974205,\n",
       " 197624067120073243887983072343174588,\n",
       " 289280024702570897503644319258546688,\n",
       " 65065816326312252941612131004109077,\n",
       " 236635295722439542441173078076512197,\n",
       " 216387604155021789730467864262173885,\n",
       " 68250033259517201088706403089314965,\n",
       " 346000201783621927834895961117140612,\n",
       " 347318430003789736457035939275442274,\n",
       " 354133571258127095194416809212158926,\n",
       " 286026783795023712322739214620270297,\n",
       " 265253414477265103841773893881077897,\n",
       " 304083719844721867783305394918281113,\n",
       " 158860189952350780014832150162547032,\n",
       " 222104556877319643051563198573213355,\n",
       " 66619189987219293515600709271534752,\n",
       " 356194116475036859545499003957287432,\n",
       " 398729244757458378952562211445896217,\n",
       " 253008553616673498116584909657066058,\n",
       " 359011956569788120411633713590919595,\n",
       " 275833424133386340783644769846440033,\n",
       " 122163740491617616756146114887827163,\n",
       " 278433134619583571259637724940033103,\n",
       " 215470531506759240140946915616746120,\n",
       " 117362952550170740010264895771428400,\n",
       " 249624491153823222261610643817416884,\n",
       " 176356591239102333120433990266537511,\n",
       " 60875851266434422818932408826438847,\n",
       " 153852733971274485943596338074360777,\n",
       " 46385584881752119327155947041362758,\n",
       " 89627280757521909259970962696043196,\n",
       " 129553359682852341271017865685617562,\n",
       " 307569608470449711679937348540978628,\n",
       " 335729028155643128741808029922067724,\n",
       " 311148674787715475384845268393276958,\n",
       " 151187148873522162970509556253146290,\n",
       " 392592114130711275043249613626749231,\n",
       " 85712632349569416206712896813847176,\n",
       " 197131108774880086090880619479285945,\n",
       " 148489940586531515036034314964085306,\n",
       " 313128742853038538628025998349599434,\n",
       " 250529272398403803392743078184585488,\n",
       " 33496851185161422965996128835845209,\n",
       " 369803145218969183949032322880428773,\n",
       " 334493096167389061438532540089853088,\n",
       " 233529631048736578118370984005469072,\n",
       " 320489589218324792988620288432765349,\n",
       " 84573961626594456491021564305606781,\n",
       " 327927376562704403962098002354014310,\n",
       " 272089356453240653742601416675507248,\n",
       " 249322115994540886737069964376774392,\n",
       " 385102479496832089324696510285741122,\n",
       " 21740313142264953254056016612134605,\n",
       " 341292942404196774036551235302513712,\n",
       " 395979948342409792799216616336295936,\n",
       " 339046146870008024215427736822975468,\n",
       " 10912100579008345668658703446037412,\n",
       " 198138140389802522999452334620609628,\n",
       " 336162148327205398833790568389725294,\n",
       " 16290777200356388993585598769415192,\n",
       " 117314740355216696206022159609390015,\n",
       " 85549684220431182461384292514574566,\n",
       " 62577865721695532157161948574846623,\n",
       " 257157982142990805097796802490451372,\n",
       " 149499610698628933214983691951089152,\n",
       " 406126122597699923443772854452400365,\n",
       " 176030541278816134178736728305694135,\n",
       " 345657643131653781155783472843337313,\n",
       " 391111094363363422784072155170251089,\n",
       " 284523456850045166412333749308832691,\n",
       " 35062710267246816568544981255248838,\n",
       " 216767573387100979843195695757512782,\n",
       " 286039541389612950030447491694365575,\n",
       " 58913629327373874453695246614349216,\n",
       " 116785119889340294104221244848550851,\n",
       " 203637530910996134777429172359159382,\n",
       " 172872518166998035849915013479935344,\n",
       " 262517049002970229593623385383010810,\n",
       " 133072946930757168074435907378780085,\n",
       " 64118004783888248182166427607872318,\n",
       " 402601361086941924293080628147945759,\n",
       " 385365422384269608832442998913375316,\n",
       " 350562957861964955744179608781399019,\n",
       " 395084243279263127812923471261914751,\n",
       " 75485814145829191035234674404035786,\n",
       " 31790786388147360711531058277145972,\n",
       " 155299405801192567258822231417061805,\n",
       " 374506910397062600754176205095365358,\n",
       " 161623190760294737249502455126856139,\n",
       " 239784686102205373930589930747930507,\n",
       " 195705096540912031914516162265167980,\n",
       " 150045779524809442802078858201250036,\n",
       " 152467395525360547252489185199754960,\n",
       " 398149511991227957611148476606257312,\n",
       " 383330369686344222428070594294743623,\n",
       " 325538920676849122973617370388790897,\n",
       " 278623042344649492637417103155307910,\n",
       " 354437194184034278358731256976472905,\n",
       " 340347796887985524442043482544429497,\n",
       " 127355266679392507364561028174878504,\n",
       " 131976397794061010709117793124140661,\n",
       " 330158563245908028335734614192553676,\n",
       " 279631251123748881848795665494957873,\n",
       " 94347067162965449112937079642475854,\n",
       " 387451667516350256333676560036996513,\n",
       " 117150584252918830747082358932331639,\n",
       " 72610989728051542737328598601386942,\n",
       " 84554263268123640792045902841535884,\n",
       " 300790667677339731137644458127201714,\n",
       " 243981898738816188816225554492279253,\n",
       " 33772876028247997238913461315605882,\n",
       " 88615734345011657278851150184059328,\n",
       " 40895869435526105924085784099971043,\n",
       " 300798781923420406528210026518160750,\n",
       " 358429091564218251415919831934771536,\n",
       " 303729409743160807555796537156021886,\n",
       " 270461972719696278727778961335777428,\n",
       " 308888715422057688207149425647535293,\n",
       " 125955763862101072808324387961204037,\n",
       " 327996432726851786507117755684827994,\n",
       " 258948111499048993702943657195854983,\n",
       " 337846062806515690596885522258786910]"
      ]
     },
     "execution_count": 491,
     "metadata": {},
     "output_type": "execute_result"
    }
   ],
   "source": [
    "y_train"
   ]
  },
  {
   "cell_type": "code",
   "execution_count": 487,
   "metadata": {},
   "outputs": [
    {
     "name": "stderr",
     "output_type": "stream",
     "text": [
      "/Users/romyho/Documents/Master_Econometrie/Thesis/Python/thesis_fl/lib/python3.9/site-packages/keras/engine/training_v1.py:2079: UserWarning: `Model.state_updates` will be removed in a future version. This property should not be used in TensorFlow 2.0, as `updates` are applied automatically.\n",
      "  updates=self.state_updates,\n"
     ]
    },
    {
     "ename": "ValueError",
     "evalue": "Classification metrics can't handle a mix of unknown and binary targets",
     "output_type": "error",
     "traceback": [
      "\u001b[0;31m---------------------------------------------------------------------------\u001b[0m",
      "\u001b[0;31mValueError\u001b[0m                                Traceback (most recent call last)",
      "\u001b[1;32m/Users/romyho/Documents/Master_Econometrie/Thesis/Python/fl_ml.ipynb Cell 45'\u001b[0m in \u001b[0;36m<cell line: 5>\u001b[0;34m()\u001b[0m\n\u001b[1;32m      <a href='vscode-notebook-cell:/Users/romyho/Documents/Master_Econometrie/Thesis/Python/fl_ml.ipynb#ch0000048?line=2'>3</a>\u001b[0m rounded \u001b[39m=\u001b[39m [\u001b[39mround\u001b[39m(x[\u001b[39m0\u001b[39m]) \u001b[39mfor\u001b[39;00m x \u001b[39min\u001b[39;00m predictions]\n\u001b[1;32m      <a href='vscode-notebook-cell:/Users/romyho/Documents/Master_Econometrie/Thesis/Python/fl_ml.ipynb#ch0000048?line=3'>4</a>\u001b[0m predictions \u001b[39m=\u001b[39m rounded\n\u001b[0;32m----> <a href='vscode-notebook-cell:/Users/romyho/Documents/Master_Econometrie/Thesis/Python/fl_ml.ipynb#ch0000048?line=4'>5</a>\u001b[0m score \u001b[39m=\u001b[39m accuracy_score(y_test ,predictions)\n\u001b[1;32m      <a href='vscode-notebook-cell:/Users/romyho/Documents/Master_Econometrie/Thesis/Python/fl_ml.ipynb#ch0000048?line=5'>6</a>\u001b[0m \u001b[39mprint\u001b[39m(score)\n",
      "File \u001b[0;32m~/Documents/Master_Econometrie/Thesis/Python/thesis_fl/lib/python3.9/site-packages/sklearn/metrics/_classification.py:211\u001b[0m, in \u001b[0;36maccuracy_score\u001b[0;34m(y_true, y_pred, normalize, sample_weight)\u001b[0m\n\u001b[1;32m    <a href='file:///Users/romyho/Documents/Master_Econometrie/Thesis/Python/thesis_fl/lib/python3.9/site-packages/sklearn/metrics/_classification.py?line=144'>145</a>\u001b[0m \u001b[39m\"\"\"Accuracy classification score.\u001b[39;00m\n\u001b[1;32m    <a href='file:///Users/romyho/Documents/Master_Econometrie/Thesis/Python/thesis_fl/lib/python3.9/site-packages/sklearn/metrics/_classification.py?line=145'>146</a>\u001b[0m \n\u001b[1;32m    <a href='file:///Users/romyho/Documents/Master_Econometrie/Thesis/Python/thesis_fl/lib/python3.9/site-packages/sklearn/metrics/_classification.py?line=146'>147</a>\u001b[0m \u001b[39mIn multilabel classification, this function computes subset accuracy:\u001b[39;00m\n\u001b[0;32m   (...)\u001b[0m\n\u001b[1;32m    <a href='file:///Users/romyho/Documents/Master_Econometrie/Thesis/Python/thesis_fl/lib/python3.9/site-packages/sklearn/metrics/_classification.py?line=206'>207</a>\u001b[0m \u001b[39m0.5\u001b[39;00m\n\u001b[1;32m    <a href='file:///Users/romyho/Documents/Master_Econometrie/Thesis/Python/thesis_fl/lib/python3.9/site-packages/sklearn/metrics/_classification.py?line=207'>208</a>\u001b[0m \u001b[39m\"\"\"\u001b[39;00m\n\u001b[1;32m    <a href='file:///Users/romyho/Documents/Master_Econometrie/Thesis/Python/thesis_fl/lib/python3.9/site-packages/sklearn/metrics/_classification.py?line=209'>210</a>\u001b[0m \u001b[39m# Compute accuracy for each possible representation\u001b[39;00m\n\u001b[0;32m--> <a href='file:///Users/romyho/Documents/Master_Econometrie/Thesis/Python/thesis_fl/lib/python3.9/site-packages/sklearn/metrics/_classification.py?line=210'>211</a>\u001b[0m y_type, y_true, y_pred \u001b[39m=\u001b[39m _check_targets(y_true, y_pred)\n\u001b[1;32m    <a href='file:///Users/romyho/Documents/Master_Econometrie/Thesis/Python/thesis_fl/lib/python3.9/site-packages/sklearn/metrics/_classification.py?line=211'>212</a>\u001b[0m check_consistent_length(y_true, y_pred, sample_weight)\n\u001b[1;32m    <a href='file:///Users/romyho/Documents/Master_Econometrie/Thesis/Python/thesis_fl/lib/python3.9/site-packages/sklearn/metrics/_classification.py?line=212'>213</a>\u001b[0m \u001b[39mif\u001b[39;00m y_type\u001b[39m.\u001b[39mstartswith(\u001b[39m\"\u001b[39m\u001b[39mmultilabel\u001b[39m\u001b[39m\"\u001b[39m):\n",
      "File \u001b[0;32m~/Documents/Master_Econometrie/Thesis/Python/thesis_fl/lib/python3.9/site-packages/sklearn/metrics/_classification.py:93\u001b[0m, in \u001b[0;36m_check_targets\u001b[0;34m(y_true, y_pred)\u001b[0m\n\u001b[1;32m     <a href='file:///Users/romyho/Documents/Master_Econometrie/Thesis/Python/thesis_fl/lib/python3.9/site-packages/sklearn/metrics/_classification.py?line=89'>90</a>\u001b[0m     y_type \u001b[39m=\u001b[39m {\u001b[39m\"\u001b[39m\u001b[39mmulticlass\u001b[39m\u001b[39m\"\u001b[39m}\n\u001b[1;32m     <a href='file:///Users/romyho/Documents/Master_Econometrie/Thesis/Python/thesis_fl/lib/python3.9/site-packages/sklearn/metrics/_classification.py?line=91'>92</a>\u001b[0m \u001b[39mif\u001b[39;00m \u001b[39mlen\u001b[39m(y_type) \u001b[39m>\u001b[39m \u001b[39m1\u001b[39m:\n\u001b[0;32m---> <a href='file:///Users/romyho/Documents/Master_Econometrie/Thesis/Python/thesis_fl/lib/python3.9/site-packages/sklearn/metrics/_classification.py?line=92'>93</a>\u001b[0m     \u001b[39mraise\u001b[39;00m \u001b[39mValueError\u001b[39;00m(\n\u001b[1;32m     <a href='file:///Users/romyho/Documents/Master_Econometrie/Thesis/Python/thesis_fl/lib/python3.9/site-packages/sklearn/metrics/_classification.py?line=93'>94</a>\u001b[0m         \u001b[39m\"\u001b[39m\u001b[39mClassification metrics can\u001b[39m\u001b[39m'\u001b[39m\u001b[39mt handle a mix of \u001b[39m\u001b[39m{0}\u001b[39;00m\u001b[39m and \u001b[39m\u001b[39m{1}\u001b[39;00m\u001b[39m targets\u001b[39m\u001b[39m\"\u001b[39m\u001b[39m.\u001b[39mformat(\n\u001b[1;32m     <a href='file:///Users/romyho/Documents/Master_Econometrie/Thesis/Python/thesis_fl/lib/python3.9/site-packages/sklearn/metrics/_classification.py?line=94'>95</a>\u001b[0m             type_true, type_pred\n\u001b[1;32m     <a href='file:///Users/romyho/Documents/Master_Econometrie/Thesis/Python/thesis_fl/lib/python3.9/site-packages/sklearn/metrics/_classification.py?line=95'>96</a>\u001b[0m         )\n\u001b[1;32m     <a href='file:///Users/romyho/Documents/Master_Econometrie/Thesis/Python/thesis_fl/lib/python3.9/site-packages/sklearn/metrics/_classification.py?line=96'>97</a>\u001b[0m     )\n\u001b[1;32m     <a href='file:///Users/romyho/Documents/Master_Econometrie/Thesis/Python/thesis_fl/lib/python3.9/site-packages/sklearn/metrics/_classification.py?line=98'>99</a>\u001b[0m \u001b[39m# We can't have more than one value on y_type => The set is no more needed\u001b[39;00m\n\u001b[1;32m    <a href='file:///Users/romyho/Documents/Master_Econometrie/Thesis/Python/thesis_fl/lib/python3.9/site-packages/sklearn/metrics/_classification.py?line=99'>100</a>\u001b[0m y_type \u001b[39m=\u001b[39m y_type\u001b[39m.\u001b[39mpop()\n",
      "\u001b[0;31mValueError\u001b[0m: Classification metrics can't handle a mix of unknown and binary targets"
     ]
    }
   ],
   "source": [
    "predictions = NN_model.predict(X_test)\n",
    "# round predictions\n",
    "rounded = [round(x[0]) for x in predictions]\n",
    "predictions = rounded\n",
    "score = accuracy_score(y_test ,predictions)\n",
    "print(score)"
   ]
  },
  {
   "cell_type": "code",
   "execution_count": 219,
   "metadata": {},
   "outputs": [],
   "source": [
    "from cryptotree.preprocessing import Featurizer\n",
    "\n",
    "pipe = Featurizer(cat_feat)\n",
    "X_train_normalized = pipe.fit_transform(X_train)"
   ]
  },
  {
   "cell_type": "code",
   "execution_count": 220,
   "metadata": {},
   "outputs": [],
   "source": [
    "X_test_normalized = pipe.fit_transform(X_test)"
   ]
  },
  {
   "cell_type": "code",
   "execution_count": 221,
   "metadata": {},
   "outputs": [],
   "source": [
    "import torch\n",
    "import numpy as np"
   ]
  },
  {
   "cell_type": "code",
   "execution_count": 266,
   "metadata": {},
   "outputs": [
    {
     "name": "stderr",
     "output_type": "stream",
     "text": [
      "/Users/romyho/Documents/Master_Econometrie/Thesis/Python/thesis_fl/lib/python3.9/site-packages/cryptotree/polynomials.py:58: UserWarning: Matplotlib is currently using module://matplotlib_inline.backend_inline, which is a non-GUI backend, so cannot show the figure.\n",
      "  fig.show()\n"
     ]
    },
    {
     "data": {
      "text/plain": [
       "(<Figure size 432x288 with 1 Axes>, <AxesSubplot:>)"
      ]
     },
     "execution_count": 266,
     "metadata": {},
     "output_type": "execute_result"
    },
    {
     "data": {
      "image/png": "[encoded data removed]",
      "text/plain": [
       "<Figure size 432x288 with 1 Axes>"
      ]
     },
     "metadata": {
      "needs_background": "light"
     },
     "output_type": "display_data"
    }
   ],
   "source": [
    "from cryptotree.tree import NeuralRandomForest, SigmoidTreeMaker, TanhTreeMaker\n",
    "from cryptotree.polynomials import plot_graph_function_approximation\n",
    "\n",
    "max_depth = 4\n",
    "\n",
    "dilatation_factor = 40\n",
    "polynomial_degree = dilatation_factor\n",
    "\n",
    "plot_graph_function_approximation(torch.sigmoid,\n",
    "                                  dilatation_factor=dilatation_factor,polynomial_degree=polynomial_degree)"
   ]
  },
  {
   "cell_type": "code",
   "execution_count": 267,
   "metadata": {},
   "outputs": [],
   "source": [
    "sigmoid_tree_maker = SigmoidTreeMaker(use_polynomial=True,\n",
    "                                  dilatation_factor=dilatation_factor, polynomial_degree=polynomial_degree)\n",
    "\n",
    "tanh_tree_maker = TanhTreeMaker(use_polynomial=True,\n",
    "                                  dilatation_factor=dilatation_factor, polynomial_degree=polynomial_degree)"
   ]
  },
  {
   "cell_type": "code",
   "execution_count": 268,
   "metadata": {},
   "outputs": [
    {
     "data": {
      "text/plain": [
       "RandomForestClassifier(max_depth=8, min_samples_split=0.5, n_estimators=12,\n",
       "                       random_state=0)"
      ]
     },
     "execution_count": 268,
     "metadata": {},
     "output_type": "execute_result"
    }
   ],
   "source": [
    "from sklearn.ensemble import RandomForestClassifier\n",
    "\n",
    "# RandomForestClassifier(bootstrap=True, class_weight=None, criterion='gini',\n",
    "#  max_depth=None, max_features='auto', max_leaf_nodes=None,\n",
    "#  min_samples_leaf=90,\n",
    "#  min_samples_split=0.5, min_weight_fraction_leaf=0.0,\n",
    "#  n_estimators=12, n_jobs=1, oob_score=False, random_state=None,\n",
    "#  verbose=0, warm_start=False)\n",
    "\n",
    "rf = RandomForestClassifier(max_depth=8, min_samples_split=0.5,n_estimators=12,random_state=0)\n",
    "rf.fit(X_train_normalized, y_train)"
   ]
  },
  {
   "cell_type": "code",
   "execution_count": 269,
   "metadata": {},
   "outputs": [],
   "source": [
    "estimators = rf.estimators_"
   ]
  },
  {
   "cell_type": "code",
   "execution_count": 270,
   "metadata": {},
   "outputs": [
    {
     "name": "stderr",
     "output_type": "stream",
     "text": [
      "/Users/romyho/Documents/Master_Econometrie/Thesis/Python/thesis_fl/lib/python3.9/site-packages/sklearn/utils/deprecation.py:103: FutureWarning: The attribute `n_features_` is deprecated in 1.0 and will be removed in 1.2. Use `n_features_in_` instead.\n",
      "  warnings.warn(msg, category=FutureWarning)\n"
     ]
    }
   ],
   "source": [
    "sigmoid_neural_rf = NeuralRandomForest(estimators, sigmoid_tree_maker)\n",
    "tanh_neural_rf = NeuralRandomForest(estimators, tanh_tree_maker)"
   ]
  },
  {
   "cell_type": "code",
   "execution_count": 271,
   "metadata": {},
   "outputs": [
    {
     "name": "stdout",
     "output_type": "stream",
     "text": [
      "Original accuracy : 0.7540983606557377\n",
      "Accuracy of sigmoid  : 0.819672131147541\n",
      "Accuracy of tanh : 0.819672131147541\n",
      "Match between sigmoid and original : 0.9016393442622951\n",
      "Match between tanh and original : 0.9016393442622951\n"
     ]
    }
   ],
   "source": [
    "with torch.no_grad():\n",
    "    sigmoid_neural_pred = sigmoid_neural_rf(torch.tensor(X_test_normalized).float()).argmax(dim=1).numpy()\n",
    "    tanh_neural_pred = tanh_neural_rf(torch.tensor(X_test_normalized).float()).argmax(dim=1).numpy()\n",
    "\n",
    "pred = rf.predict(X_test_normalized)\n",
    "print(f\"Original accuracy : {np.mean(pred == y_test)}\")\n",
    "\n",
    "print(f\"Accuracy of sigmoid  : {np.mean(sigmoid_neural_pred == y_test)}\")\n",
    "print(f\"Accuracy of tanh : {np.mean(tanh_neural_pred == y_test)}\")\n",
    "\n",
    "print(f\"Match between sigmoid and original : {np.mean(sigmoid_neural_pred == pred)}\")\n",
    "print(f\"Match between tanh and original : {np.mean(tanh_neural_pred == pred)}\")"
   ]
  },
  {
   "cell_type": "code",
   "execution_count": 260,
   "metadata": {},
   "outputs": [
    {
     "data": {
      "text/plain": [
       "0.7683189655172413"
      ]
     },
     "execution_count": 260,
     "metadata": {},
     "output_type": "execute_result"
    }
   ],
   "source": [
    "from sklearn.metrics import roc_curve, auc\n",
    "false_positive_rate, true_positive_rate, thresholds = roc_curve(y_test, pred)\n",
    "roc_auc = auc(false_positive_rate, true_positive_rate)\n",
    "roc_auc"
   ]
  },
  {
   "cell_type": "code",
   "execution_count": 261,
   "metadata": {},
   "outputs": [
    {
     "data": {
      "image/png": "[encoded data removed]",
      "text/plain": [
       "<Figure size 432x288 with 1 Axes>"
      ]
     },
     "metadata": {
      "needs_background": "light"
     },
     "output_type": "display_data"
    }
   ],
   "source": [
    "# n_estimators = [1, 2, 4, 8, 12, 16, 20, 24, 28 ,30, 40 ,50, 60 ,80]\n",
    "n_estimators = range(1,40)\n",
    "train_results = []\n",
    "test_results = []\n",
    "for estimator in n_estimators:\n",
    "   rf = RandomForestClassifier(n_estimators=estimator, n_jobs=-1)\n",
    "   rf.fit(X_train, y_train)\n",
    "   train_pred = rf.predict(X_train)\n",
    "   false_positive_rate, true_positive_rate, thresholds = roc_curve(y_train, train_pred)\n",
    "   roc_auc = auc(false_positive_rate, true_positive_rate)\n",
    "   train_results.append(roc_auc)\n",
    "   y_pred = rf.predict(X_test)\n",
    "   false_positive_rate, true_positive_rate, thresholds = roc_curve(y_test, y_pred)\n",
    "   roc_auc = auc(false_positive_rate, true_positive_rate)\n",
    "   test_results.append(roc_auc)\n",
    "from matplotlib.legend_handler import HandlerLine2D\n",
    "line1, = plt.plot(n_estimators, train_results, 'b', label=\"Train AUC\")\n",
    "line2, = plt.plot(n_estimators, test_results, 'r', label=\"Test AUC\")\n",
    "plt.legend(handler_map={line1: HandlerLine2D(numpoints=2)})\n",
    "plt.ylabel('AUC score')\n",
    "plt.xlabel('n_estimators')\n",
    "plt.show()"
   ]
  },
  {
   "cell_type": "code",
   "execution_count": 262,
   "metadata": {},
   "outputs": [
    {
     "data": {
      "image/png": "[encoded data removed]",
      "text/plain": [
       "<Figure size 432x288 with 1 Axes>"
      ]
     },
     "metadata": {
      "needs_background": "light"
     },
     "output_type": "display_data"
    }
   ],
   "source": [
    "max_depths = range(1,50)\n",
    "train_results = []\n",
    "test_results = []\n",
    "for max_depth in max_depths:\n",
    "   rf = RandomForestClassifier(max_depth=max_depth, n_jobs=-1)\n",
    "   rf.fit(X_train, y_train)\n",
    "   train_pred = rf.predict(X_train)\n",
    "   false_positive_rate, true_positive_rate, thresholds = roc_curve(y_train, train_pred)\n",
    "   roc_auc = auc(false_positive_rate, true_positive_rate)\n",
    "   train_results.append(roc_auc)\n",
    "   y_pred = rf.predict(X_test)\n",
    "   false_positive_rate, true_positive_rate, thresholds = roc_curve(y_test, y_pred)\n",
    "   roc_auc = auc(false_positive_rate, true_positive_rate)\n",
    "   test_results.append(roc_auc)\n",
    "from matplotlib.legend_handler import HandlerLine2D\n",
    "line1, = plt.plot(max_depths, train_results, 'b', label=\"Train AUC\")\n",
    "line2, = plt.plot(max_depths, test_results, 'r', label=\"Test AUC\")\n",
    "plt.legend(handler_map={line1: HandlerLine2D(numpoints=2)})\n",
    "plt.ylabel('AUC score')\n",
    "plt.xlabel('Tree depth')\n",
    "plt.show()"
   ]
  },
  {
   "cell_type": "code",
   "execution_count": 263,
   "metadata": {},
   "outputs": [
    {
     "data": {
      "image/png": "[encoded data removed]",
      "text/plain": [
       "<Figure size 432x288 with 1 Axes>"
      ]
     },
     "metadata": {
      "needs_background": "light"
     },
     "output_type": "display_data"
    }
   ],
   "source": [
    "min_samples_splits = np.linspace(0.1, 1.0, 10, endpoint=True)\n",
    "train_results = []\n",
    "test_results = []\n",
    "for min_samples_split in min_samples_splits:\n",
    "   rf = RandomForestClassifier(min_samples_split=min_samples_split)\n",
    "   rf.fit(X_train, y_train)\n",
    "   train_pred = rf.predict(X_train)\n",
    "   false_positive_rate, true_positive_rate, thresholds = roc_curve(y_train, train_pred)\n",
    "   roc_auc = auc(false_positive_rate, true_positive_rate)\n",
    "   train_results.append(roc_auc)\n",
    "   y_pred = rf.predict(X_test)\n",
    "   false_positive_rate, true_positive_rate, thresholds = roc_curve(y_test, y_pred)\n",
    "   roc_auc = auc(false_positive_rate, true_positive_rate)\n",
    "   test_results.append(roc_auc)\n",
    "from matplotlib.legend_handler import HandlerLine2D\n",
    "line1, = plt.plot(min_samples_splits, train_results, 'b', label=\"Train AUC\")\n",
    "line2, = plt.plot(min_samples_splits, test_results, 'r', label=\"Test AUC\")\n",
    "plt.legend(handler_map={line1: HandlerLine2D(numpoints=2)})\n",
    "plt.ylabel('AUC score')\n",
    "plt.xlabel('min samples split')\n",
    "plt.show()"
   ]
  },
  {
   "cell_type": "code",
   "execution_count": null,
   "metadata": {},
   "outputs": [],
   "source": []
  }
 ],
 "metadata": {
  "interpreter": {
   "hash": "cac72e2ca1489f7157a7b4a660893ba3b03625a75143f8c8e6188cd9e63cd5e4"
  },
  "kernelspec": {
   "display_name": "Python 3.9.7 ('thesis_fl': venv)",
   "language": "python",
   "name": "python3"
  },
  "language_info": {
   "codemirror_mode": {
    "name": "ipython",
    "version": 3
   },
   "file_extension": ".py",
   "mimetype": "text/x-python",
   "name": "python",
   "nbconvert_exporter": "python",
   "pygments_lexer": "ipython3",
   "version": "3.9.7"
  },
  "orig_nbformat": 4
 },
 "nbformat": 4,
 "nbformat_minor": 2
}
