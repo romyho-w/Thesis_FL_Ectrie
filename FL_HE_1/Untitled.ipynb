{
 "cells": [
  {
   "cell_type": "code",
   "execution_count": 48,
   "id": "a335346c",
   "metadata": {},
   "outputs": [],
   "source": [
    "import pandas as pd\n",
    "import numpy as np\n",
    "import os\n",
    "import requests\n",
    "import matplotlib.pyplot as plt\n",
    "\n",
    "# Make numpy values easier to read.\n",
    "np.set_printoptions(precision=3, suppress=True)\n",
    "\n",
    "import tensorflow as tf\n",
    "from tensorflow.keras import layers\n",
    "import missingno as msno"
   ]
  },
  {
   "cell_type": "markdown",
   "id": "20781d19",
   "metadata": {},
   "source": [
    "# Data import "
   ]
  },
  {
   "cell_type": "code",
   "execution_count": 12,
   "id": "d470301c",
   "metadata": {},
   "outputs": [],
   "source": [
    "def download_file(url, save_folder):\n",
    "    '''If the file isn't already in the save folder, download it.'''\n",
    "    local_filename = url.split('/')[-1]  #Get the name of the file being downloaded\n",
    "\n",
    "    # if the file exists, don't download it again\n",
    "    if os.path.isfile(os.path.join(save_folder, local_filename)): return os.path.join(save_folder, local_filename)\n",
    "\n",
    "    # NOTE the stream=True parameter\n",
    "    r = requests.get(url, stream=True)\n",
    "    with open(os.path.join(save_folder, local_filename), 'wb') as f:\n",
    "        for chunk in r.iter_content(chunk_size=1024):\n",
    "            if chunk:  # filter out keep-alive new chunks\n",
    "                f.write(chunk)\n",
    "    return os.path.join(save_folder, local_filename)  #Returns the path pointing to the local file\n"
   ]
  },
  {
   "cell_type": "code",
   "execution_count": 13,
   "id": "97c0454f",
   "metadata": {},
   "outputs": [],
   "source": [
    "cleveland = download_file(\n",
    "        \"https://archive.ics.uci.edu/ml/machine-learning-databases/heart-disease/processed.cleveland.data\", os.getcwd())\n",
    "switzerland = download_file(\n",
    "        \"https://archive.ics.uci.edu/ml/machine-learning-databases/heart-disease/processed.switzerland.data\",\n",
    "        os.getcwd())\n",
    "va = download_file(\"https://archive.ics.uci.edu/ml/machine-learning-databases/heart-disease/processed.va.data\",\n",
    "                       os.getcwd())\n",
    "hungarian = download_file(\n",
    "        \"https://archive.ics.uci.edu/ml/machine-learning-databases/heart-disease/reprocessed.hungarian.data\", os.getcwd())\n"
   ]
  },
  {
   "cell_type": "code",
   "execution_count": 14,
   "id": "58408f3d",
   "metadata": {},
   "outputs": [],
   "source": [
    "# Step 2: load the data into pandas DataFrames and then merge the four files into a single dataframe\n",
    "cleveland_df = pd.read_csv(cleveland, header=None, na_values =[\"?\", -9.0])\n",
    "switzerland_df = pd.read_csv(switzerland, header=None, na_values =[\"?\", -9.0])\n",
    "va_df = pd.read_csv(va, header=None, na_values =[\"?\", -9.0])\n",
    "hungarian_df = pd.read_csv(hungarian, sep=\" \", header=None, na_values =[\"?\", -9.0])\n",
    "\n",
    "# add headers to the data frames\n",
    "headers = {0 : \"Age\",\n",
    "           1 : \"Sex\", # 1 = male; 0 = female\n",
    "           2 : \"ChestPainType\",  # chest pain type, \n",
    "                      # Value 1: typical angina, \n",
    "                      # Value 2: atypical angina, \n",
    "                      # Value 3: non-anginal pain\n",
    "                      # Value 4: asymptomatic\n",
    "           3 : \"RestingBP\", # resting blood pressure \n",
    "                           #(in mm Hg on admission to the hospital)\n",
    "           4 : \"Cholesterol\", # serum cholestoral in mg/dl\n",
    "           5 : \"FastingBS\", # fasting blood sugar > 120 mg/dl \n",
    "                     # (1 = true; 0 = false)\n",
    "           6 : \"RestingECG\",#  resting electrocardiographic results\n",
    "                         # Value 0: normal\n",
    "                         # Value 1: having ST-T wave abnormality \n",
    "                         # (T wave inversions and/or ST elevation or depression of > 0.05 mV)\n",
    "                         # Value 2: showing probable or definite left ventricular hypertrophy by Estes' criteria\n",
    "           7 : \"MaxHR\", #maximum heart rate achieved\n",
    "           8 : \"ExerciseAngina\",# exercise induced angina (1 = yes; 0 = no)\n",
    "           9 : \"Oldpeak\", # ST depression induced by exercise relative to rest\n",
    "           10 : \"ST_Slope\", # the slope of the peak exercise ST segment\n",
    "                         # Value 1: upsloping\n",
    "                         # Value 2: flat\n",
    "                         # Value 3: downsloping\n",
    "           11 : \"ca\", # number of major vessels (0-3) colored by flourosopy    \n",
    "           12 : \"thal\", # Value 3: normal\n",
    "                        # Value 6: fixed defect\n",
    "                        # Value 7: reversable defect\n",
    "           13 : \"HeartDisease\" # diagnosis of heart disease (angiographic disease status)\n",
    "                            # Value 0 = < 50% diameter narrowing,\n",
    "                            # Value 1 = > 50% diameter narrowing \n",
    "                            # It takes 5 levels based on angiographic disease status.\n",
    "                            # 0-Healthy, 1-diagnosed with stage 1, 2-diagnosed with stage 2, \n",
    "                            # 3-diagnosed with stage 3, 4-diagnosed with stage 4.\n",
    "          }\n",
    "cleveland_df = cleveland_df.rename(columns=headers)\n",
    "switzerland_df = switzerland_df.rename(columns=headers)\n",
    "va_df = va_df.rename(columns=headers)\n",
    "hungarian_df = hungarian_df.rename(columns=headers)\n",
    "cleveland_df['Location'] = 'Cleveland'\n",
    "switzerland_df['Location'] = 'Switzerland'\n",
    "va_df['Location']='VA'\n",
    "hungarian_df['Location']='Hungarian'\n",
    "hungarian_df = hungarian_df[:-1]\n",
    "\n",
    "\n",
    "# # make a binary target variable\n",
    "# cleveland_df['target'] = cleveland_df['HeartDisease'].copy()\n",
    "# cleveland_df.target = cleveland_df.target.replace([1, 2, 3, 4], 1)\n",
    "# switzerland_df['target'] = switzerland_df['HeartDisease'].copy()\n",
    "# switzerland_df.target = switzerland_df.target.replace([1, 2, 3, 4], 1)\n",
    "# va_df['target'] = va_df['HeartDisease'].copy()\n",
    "# va_df.target = va_df.target.replace([1, 2, 3, 4], 1)\n",
    "# hungarian_df['target'] = hungarian_df['HeartDisease'].copy()\n",
    "# hungarian_df.target = hungarian_df.target.replace([1, 2, 3, 4], 1)\n"
   ]
  },
  {
   "cell_type": "markdown",
   "id": "3703c355",
   "metadata": {},
   "source": [
    "## EDA"
   ]
  },
  {
   "cell_type": "code",
   "execution_count": 17,
   "id": "37bc483a",
   "metadata": {},
   "outputs": [
    {
     "data": {
      "text/plain": [
       "<AxesSubplot:>"
      ]
     },
     "execution_count": 17,
     "metadata": {},
     "output_type": "execute_result"
    },
    {
     "data": {
      "image/png": "[encoded data removed]",
      "text/plain": [
       "<Figure size 1800x720 with 2 Axes>"
      ]
     },
     "metadata": {
      "needs_background": "light"
     },
     "output_type": "display_data"
    }
   ],
   "source": [
    "df = pd.concat([cleveland_df, switzerland_df, va_df, hungarian_df])\n",
    "df.HeartDisease = df.HeartDisease.replace([1, 2, 3, 4], 1)\n",
    "df = df.drop(columns=['thal', 'ca'])\n",
    "df = df.drop_duplicates()\n",
    "msno.matrix(df)"
   ]
  },
  {
   "cell_type": "code",
   "execution_count": 18,
   "id": "16a99a80",
   "metadata": {},
   "outputs": [],
   "source": [
    "perc = 35.0 \n",
    "min_count =  int(((100-perc)/100)*df.shape[1] + 1)\n",
    "df = df.dropna( axis=0, thresh=min_count)"
   ]
  },
  {
   "cell_type": "code",
   "execution_count": 30,
   "id": "cb21f2be",
   "metadata": {},
   "outputs": [],
   "source": [
    "# # FILL MISSING VALUES WITH MEDIAN\n",
    "df.ST_Slope = df.ST_Slope.fillna(df.ST_Slope.median())\n",
    "df.RestingBP = df.RestingBP.fillna(df.RestingBP.median())\n",
    "df.FastingBS = df.FastingBS.fillna(df.FastingBS.median())\n",
    "df.RestingECG = df.RestingECG.fillna(df.RestingECG.median())\n",
    "df.Cholesterol = df.Cholesterol.fillna(df.Cholesterol.median())\n",
    "df.MaxHR = df.MaxHR.fillna(df.MaxHR.median())\n",
    "df.ExerciseAngina = df.ExerciseAngina.fillna(df.ExerciseAngina.median())\n",
    "df.Oldpeak = df.Oldpeak.fillna(df.Oldpeak.median())\n",
    "\n",
    "# # DROP ROW WHERE RESTING BP = 0\n",
    "df = df[df.RestingBP != 0]"
   ]
  },
  {
   "cell_type": "code",
   "execution_count": 31,
   "id": "2603389b",
   "metadata": {},
   "outputs": [],
   "source": [
    "df.Cholesterol = df.Cholesterol.replace(0, df.Cholesterol.median())"
   ]
  },
  {
   "cell_type": "code",
   "execution_count": 32,
   "id": "1415a6b5",
   "metadata": {},
   "outputs": [],
   "source": [
    "train_dataset = df.sample(frac=0.8, random_state=0)\n",
    "test_dataset = df.drop(train_dataset.index)"
   ]
  },
  {
   "cell_type": "code",
   "execution_count": 33,
   "id": "61ce0fe5",
   "metadata": {},
   "outputs": [],
   "source": [
    "train_features = train_dataset.copy()\n",
    "test_features = test_dataset.copy()\n",
    "\n",
    "train_labels = train_features.pop('HeartDisease')\n",
    "test_labels = test_features.pop('HeartDisease')"
   ]
  },
  {
   "cell_type": "code",
   "execution_count": 34,
   "id": "f4f3f403",
   "metadata": {},
   "outputs": [
    {
     "data": {
      "text/html": [
       "<div>\n",
       "<style scoped>\n",
       "    .dataframe tbody tr th:only-of-type {\n",
       "        vertical-align: middle;\n",
       "    }\n",
       "\n",
       "    .dataframe tbody tr th {\n",
       "        vertical-align: top;\n",
       "    }\n",
       "\n",
       "    .dataframe thead th {\n",
       "        text-align: right;\n",
       "    }\n",
       "</style>\n",
       "<table border=\"1\" class=\"dataframe\">\n",
       "  <thead>\n",
       "    <tr style=\"text-align: right;\">\n",
       "      <th></th>\n",
       "      <th>mean</th>\n",
       "      <th>std</th>\n",
       "    </tr>\n",
       "  </thead>\n",
       "  <tbody>\n",
       "    <tr>\n",
       "      <th>Age</th>\n",
       "      <td>53.155072</td>\n",
       "      <td>9.483957</td>\n",
       "    </tr>\n",
       "    <tr>\n",
       "      <th>Sex</th>\n",
       "      <td>0.786957</td>\n",
       "      <td>0.409755</td>\n",
       "    </tr>\n",
       "    <tr>\n",
       "      <th>ChestPainType</th>\n",
       "      <td>3.259420</td>\n",
       "      <td>0.944439</td>\n",
       "    </tr>\n",
       "    <tr>\n",
       "      <th>RestingBP</th>\n",
       "      <td>132.371014</td>\n",
       "      <td>18.560262</td>\n",
       "    </tr>\n",
       "    <tr>\n",
       "      <th>Cholesterol</th>\n",
       "      <td>241.114493</td>\n",
       "      <td>48.482247</td>\n",
       "    </tr>\n",
       "    <tr>\n",
       "      <th>FastingBS</th>\n",
       "      <td>0.136232</td>\n",
       "      <td>0.343283</td>\n",
       "    </tr>\n",
       "    <tr>\n",
       "      <th>RestingECG</th>\n",
       "      <td>0.584058</td>\n",
       "      <td>0.806023</td>\n",
       "    </tr>\n",
       "    <tr>\n",
       "      <th>MaxHR</th>\n",
       "      <td>137.842029</td>\n",
       "      <td>25.608354</td>\n",
       "    </tr>\n",
       "    <tr>\n",
       "      <th>ExerciseAngina</th>\n",
       "      <td>0.395652</td>\n",
       "      <td>0.489345</td>\n",
       "    </tr>\n",
       "    <tr>\n",
       "      <th>Oldpeak</th>\n",
       "      <td>0.880870</td>\n",
       "      <td>1.066325</td>\n",
       "    </tr>\n",
       "    <tr>\n",
       "      <th>ST_Slope</th>\n",
       "      <td>1.846377</td>\n",
       "      <td>0.524738</td>\n",
       "    </tr>\n",
       "    <tr>\n",
       "      <th>HeartDisease</th>\n",
       "      <td>0.553623</td>\n",
       "      <td>0.497477</td>\n",
       "    </tr>\n",
       "  </tbody>\n",
       "</table>\n",
       "</div>"
      ],
      "text/plain": [
       "                      mean        std\n",
       "Age              53.155072   9.483957\n",
       "Sex               0.786957   0.409755\n",
       "ChestPainType     3.259420   0.944439\n",
       "RestingBP       132.371014  18.560262\n",
       "Cholesterol     241.114493  48.482247\n",
       "FastingBS         0.136232   0.343283\n",
       "RestingECG        0.584058   0.806023\n",
       "MaxHR           137.842029  25.608354\n",
       "ExerciseAngina    0.395652   0.489345\n",
       "Oldpeak           0.880870   1.066325\n",
       "ST_Slope          1.846377   0.524738\n",
       "HeartDisease      0.553623   0.497477"
      ]
     },
     "execution_count": 34,
     "metadata": {},
     "output_type": "execute_result"
    }
   ],
   "source": [
    "train_dataset.describe().transpose()[['mean', 'std']]"
   ]
  },
  {
   "cell_type": "code",
   "execution_count": 24,
   "id": "40698133",
   "metadata": {},
   "outputs": [],
   "source": [
    "normalizer = tf.keras.layers.Normalization(axis=-1)"
   ]
  },
  {
   "cell_type": "code",
   "execution_count": 36,
   "id": "028ca2a1",
   "metadata": {},
   "outputs": [
    {
     "data": {
      "text/html": [
       "<div>\n",
       "<style scoped>\n",
       "    .dataframe tbody tr th:only-of-type {\n",
       "        vertical-align: middle;\n",
       "    }\n",
       "\n",
       "    .dataframe tbody tr th {\n",
       "        vertical-align: top;\n",
       "    }\n",
       "\n",
       "    .dataframe thead th {\n",
       "        text-align: right;\n",
       "    }\n",
       "</style>\n",
       "<table border=\"1\" class=\"dataframe\">\n",
       "  <thead>\n",
       "    <tr style=\"text-align: right;\">\n",
       "      <th></th>\n",
       "      <th>Age</th>\n",
       "      <th>Sex</th>\n",
       "      <th>ChestPainType</th>\n",
       "      <th>RestingBP</th>\n",
       "      <th>Cholesterol</th>\n",
       "      <th>FastingBS</th>\n",
       "      <th>RestingECG</th>\n",
       "      <th>MaxHR</th>\n",
       "      <th>ExerciseAngina</th>\n",
       "      <th>Oldpeak</th>\n",
       "      <th>ST_Slope</th>\n",
       "    </tr>\n",
       "  </thead>\n",
       "  <tbody>\n",
       "    <tr>\n",
       "      <th>55</th>\n",
       "      <td>54.0</td>\n",
       "      <td>1.0</td>\n",
       "      <td>4.0</td>\n",
       "      <td>124.0</td>\n",
       "      <td>266.0</td>\n",
       "      <td>0.0</td>\n",
       "      <td>2.0</td>\n",
       "      <td>109.0</td>\n",
       "      <td>1.0</td>\n",
       "      <td>2.2</td>\n",
       "      <td>2.0</td>\n",
       "    </tr>\n",
       "    <tr>\n",
       "      <th>13</th>\n",
       "      <td>42.0</td>\n",
       "      <td>1.0</td>\n",
       "      <td>4.0</td>\n",
       "      <td>145.0</td>\n",
       "      <td>224.0</td>\n",
       "      <td>0.0</td>\n",
       "      <td>0.0</td>\n",
       "      <td>99.0</td>\n",
       "      <td>1.0</td>\n",
       "      <td>0.0</td>\n",
       "      <td>2.0</td>\n",
       "    </tr>\n",
       "    <tr>\n",
       "      <th>252</th>\n",
       "      <td>64.0</td>\n",
       "      <td>1.0</td>\n",
       "      <td>4.0</td>\n",
       "      <td>128.0</td>\n",
       "      <td>263.0</td>\n",
       "      <td>0.0</td>\n",
       "      <td>0.0</td>\n",
       "      <td>105.0</td>\n",
       "      <td>1.0</td>\n",
       "      <td>0.2</td>\n",
       "      <td>2.0</td>\n",
       "    </tr>\n",
       "    <tr>\n",
       "      <th>262</th>\n",
       "      <td>60.0</td>\n",
       "      <td>0.0</td>\n",
       "      <td>1.0</td>\n",
       "      <td>150.0</td>\n",
       "      <td>240.0</td>\n",
       "      <td>0.0</td>\n",
       "      <td>0.0</td>\n",
       "      <td>171.0</td>\n",
       "      <td>0.0</td>\n",
       "      <td>0.9</td>\n",
       "      <td>1.0</td>\n",
       "    </tr>\n",
       "    <tr>\n",
       "      <th>31</th>\n",
       "      <td>60.0</td>\n",
       "      <td>1.0</td>\n",
       "      <td>4.0</td>\n",
       "      <td>117.0</td>\n",
       "      <td>230.0</td>\n",
       "      <td>1.0</td>\n",
       "      <td>0.0</td>\n",
       "      <td>160.0</td>\n",
       "      <td>1.0</td>\n",
       "      <td>1.4</td>\n",
       "      <td>1.0</td>\n",
       "    </tr>\n",
       "    <tr>\n",
       "      <th>...</th>\n",
       "      <td>...</td>\n",
       "      <td>...</td>\n",
       "      <td>...</td>\n",
       "      <td>...</td>\n",
       "      <td>...</td>\n",
       "      <td>...</td>\n",
       "      <td>...</td>\n",
       "      <td>...</td>\n",
       "      <td>...</td>\n",
       "      <td>...</td>\n",
       "      <td>...</td>\n",
       "    </tr>\n",
       "    <tr>\n",
       "      <th>117</th>\n",
       "      <td>35.0</td>\n",
       "      <td>0.0</td>\n",
       "      <td>4.0</td>\n",
       "      <td>138.0</td>\n",
       "      <td>183.0</td>\n",
       "      <td>0.0</td>\n",
       "      <td>0.0</td>\n",
       "      <td>182.0</td>\n",
       "      <td>0.0</td>\n",
       "      <td>1.4</td>\n",
       "      <td>1.0</td>\n",
       "    </tr>\n",
       "    <tr>\n",
       "      <th>48</th>\n",
       "      <td>59.0</td>\n",
       "      <td>1.0</td>\n",
       "      <td>3.0</td>\n",
       "      <td>130.0</td>\n",
       "      <td>224.0</td>\n",
       "      <td>0.0</td>\n",
       "      <td>0.0</td>\n",
       "      <td>128.0</td>\n",
       "      <td>1.0</td>\n",
       "      <td>2.0</td>\n",
       "      <td>3.0</td>\n",
       "    </tr>\n",
       "    <tr>\n",
       "      <th>25</th>\n",
       "      <td>50.0</td>\n",
       "      <td>0.0</td>\n",
       "      <td>3.0</td>\n",
       "      <td>120.0</td>\n",
       "      <td>219.0</td>\n",
       "      <td>0.0</td>\n",
       "      <td>0.0</td>\n",
       "      <td>158.0</td>\n",
       "      <td>0.0</td>\n",
       "      <td>1.6</td>\n",
       "      <td>2.0</td>\n",
       "    </tr>\n",
       "    <tr>\n",
       "      <th>110</th>\n",
       "      <td>61.0</td>\n",
       "      <td>0.0</td>\n",
       "      <td>4.0</td>\n",
       "      <td>145.0</td>\n",
       "      <td>307.0</td>\n",
       "      <td>0.0</td>\n",
       "      <td>2.0</td>\n",
       "      <td>146.0</td>\n",
       "      <td>1.0</td>\n",
       "      <td>1.0</td>\n",
       "      <td>2.0</td>\n",
       "    </tr>\n",
       "    <tr>\n",
       "      <th>149</th>\n",
       "      <td>60.0</td>\n",
       "      <td>0.0</td>\n",
       "      <td>3.0</td>\n",
       "      <td>102.0</td>\n",
       "      <td>318.0</td>\n",
       "      <td>0.0</td>\n",
       "      <td>0.0</td>\n",
       "      <td>160.0</td>\n",
       "      <td>0.0</td>\n",
       "      <td>0.0</td>\n",
       "      <td>1.0</td>\n",
       "    </tr>\n",
       "  </tbody>\n",
       "</table>\n",
       "<p>690 rows × 11 columns</p>\n",
       "</div>"
      ],
      "text/plain": [
       "      Age  Sex  ChestPainType  RestingBP  Cholesterol  FastingBS  RestingECG  \\\n",
       "55   54.0  1.0            4.0      124.0        266.0        0.0         2.0   \n",
       "13   42.0  1.0            4.0      145.0        224.0        0.0         0.0   \n",
       "252  64.0  1.0            4.0      128.0        263.0        0.0         0.0   \n",
       "262  60.0  0.0            1.0      150.0        240.0        0.0         0.0   \n",
       "31   60.0  1.0            4.0      117.0        230.0        1.0         0.0   \n",
       "..    ...  ...            ...        ...          ...        ...         ...   \n",
       "117  35.0  0.0            4.0      138.0        183.0        0.0         0.0   \n",
       "48   59.0  1.0            3.0      130.0        224.0        0.0         0.0   \n",
       "25   50.0  0.0            3.0      120.0        219.0        0.0         0.0   \n",
       "110  61.0  0.0            4.0      145.0        307.0        0.0         2.0   \n",
       "149  60.0  0.0            3.0      102.0        318.0        0.0         0.0   \n",
       "\n",
       "     MaxHR  ExerciseAngina  Oldpeak  ST_Slope  \n",
       "55   109.0             1.0      2.2       2.0  \n",
       "13    99.0             1.0      0.0       2.0  \n",
       "252  105.0             1.0      0.2       2.0  \n",
       "262  171.0             0.0      0.9       1.0  \n",
       "31   160.0             1.0      1.4       1.0  \n",
       "..     ...             ...      ...       ...  \n",
       "117  182.0             0.0      1.4       1.0  \n",
       "48   128.0             1.0      2.0       3.0  \n",
       "25   158.0             0.0      1.6       2.0  \n",
       "110  146.0             1.0      1.0       2.0  \n",
       "149  160.0             0.0      0.0       1.0  \n",
       "\n",
       "[690 rows x 11 columns]"
      ]
     },
     "execution_count": 36,
     "metadata": {},
     "output_type": "execute_result"
    }
   ],
   "source": [
    "train_features.pop('Location')\n",
    "train_features"
   ]
  },
  {
   "cell_type": "code",
   "execution_count": 37,
   "id": "0d831fbd",
   "metadata": {},
   "outputs": [],
   "source": [
    "normalizer.adapt(np.array(train_features))"
   ]
  },
  {
   "cell_type": "code",
   "execution_count": 38,
   "id": "d8e515fb",
   "metadata": {},
   "outputs": [
    {
     "name": "stdout",
     "output_type": "stream",
     "text": [
      "[[ 53.155   0.787   3.259 132.371 241.115   0.136   0.584 137.842   0.396\n",
      "    0.881   1.846]]\n"
     ]
    }
   ],
   "source": [
    "print(normalizer.mean.numpy())"
   ]
  },
  {
   "cell_type": "code",
   "execution_count": 40,
   "id": "f8ab2eb4",
   "metadata": {},
   "outputs": [],
   "source": [
    "Age = np.array(train_features['Age'])\n",
    "\n",
    "Age_normalizer = layers.Normalization(input_shape=[1,], axis=None)\n",
    "Age_normalizer.adapt(Age)"
   ]
  },
  {
   "cell_type": "code",
   "execution_count": 41,
   "id": "4c5dc690",
   "metadata": {},
   "outputs": [
    {
     "name": "stdout",
     "output_type": "stream",
     "text": [
      "Model: \"sequential\"\n",
      "_________________________________________________________________\n",
      " Layer (type)                Output Shape              Param #   \n",
      "=================================================================\n",
      " normalization_1 (Normalizat  (None, 1)                3         \n",
      " ion)                                                            \n",
      "                                                                 \n",
      " dense (Dense)               (None, 1)                 2         \n",
      "                                                                 \n",
      "=================================================================\n",
      "Total params: 5\n",
      "Trainable params: 2\n",
      "Non-trainable params: 3\n",
      "_________________________________________________________________\n"
     ]
    }
   ],
   "source": [
    "Age_model = tf.keras.Sequential([\n",
    "    Age_normalizer,\n",
    "    layers.Dense(units=1)\n",
    "])\n",
    "\n",
    "Age_model.summary()"
   ]
  },
  {
   "cell_type": "code",
   "execution_count": 42,
   "id": "7cb005f3",
   "metadata": {},
   "outputs": [
    {
     "data": {
      "text/plain": [
       "array([[-0.136],\n",
       "       [ 1.796],\n",
       "       [-1.746],\n",
       "       [-1.102],\n",
       "       [-1.102],\n",
       "       [-0.619],\n",
       "       [-1.263],\n",
       "       [ 2.44 ],\n",
       "       [ 2.279],\n",
       "       [-0.941]], dtype=float32)"
      ]
     },
     "execution_count": 42,
     "metadata": {},
     "output_type": "execute_result"
    }
   ],
   "source": [
    "Age_model.predict(Age[:10])"
   ]
  },
  {
   "cell_type": "code",
   "execution_count": 43,
   "id": "f95e437b",
   "metadata": {},
   "outputs": [],
   "source": [
    "Age_model.compile(\n",
    "    optimizer=tf.optimizers.Adam(learning_rate=0.1),\n",
    "    loss='mean_absolute_error')"
   ]
  },
  {
   "cell_type": "code",
   "execution_count": 44,
   "id": "293f3045",
   "metadata": {},
   "outputs": [],
   "source": [
    "history = Age_model.fit(\n",
    "    train_features['Age'],\n",
    "    train_labels,\n",
    "    epochs=100,\n",
    "    # Suppress logging.\n",
    "    verbose=0,\n",
    "    # Calculate validation results on 20% of the training data.\n",
    "    validation_split = 0.2)"
   ]
  },
  {
   "cell_type": "code",
   "execution_count": 45,
   "id": "e87efc7a",
   "metadata": {},
   "outputs": [
    {
     "data": {
      "text/html": [
       "<div>\n",
       "<style scoped>\n",
       "    .dataframe tbody tr th:only-of-type {\n",
       "        vertical-align: middle;\n",
       "    }\n",
       "\n",
       "    .dataframe tbody tr th {\n",
       "        vertical-align: top;\n",
       "    }\n",
       "\n",
       "    .dataframe thead th {\n",
       "        text-align: right;\n",
       "    }\n",
       "</style>\n",
       "<table border=\"1\" class=\"dataframe\">\n",
       "  <thead>\n",
       "    <tr style=\"text-align: right;\">\n",
       "      <th></th>\n",
       "      <th>loss</th>\n",
       "      <th>val_loss</th>\n",
       "      <th>epoch</th>\n",
       "    </tr>\n",
       "  </thead>\n",
       "  <tbody>\n",
       "    <tr>\n",
       "      <th>95</th>\n",
       "      <td>0.427280</td>\n",
       "      <td>0.402311</td>\n",
       "      <td>95</td>\n",
       "    </tr>\n",
       "    <tr>\n",
       "      <th>96</th>\n",
       "      <td>0.420347</td>\n",
       "      <td>0.405583</td>\n",
       "      <td>96</td>\n",
       "    </tr>\n",
       "    <tr>\n",
       "      <th>97</th>\n",
       "      <td>0.428929</td>\n",
       "      <td>0.406994</td>\n",
       "      <td>97</td>\n",
       "    </tr>\n",
       "    <tr>\n",
       "      <th>98</th>\n",
       "      <td>0.423702</td>\n",
       "      <td>0.398034</td>\n",
       "      <td>98</td>\n",
       "    </tr>\n",
       "    <tr>\n",
       "      <th>99</th>\n",
       "      <td>0.422884</td>\n",
       "      <td>0.403691</td>\n",
       "      <td>99</td>\n",
       "    </tr>\n",
       "  </tbody>\n",
       "</table>\n",
       "</div>"
      ],
      "text/plain": [
       "        loss  val_loss  epoch\n",
       "95  0.427280  0.402311     95\n",
       "96  0.420347  0.405583     96\n",
       "97  0.428929  0.406994     97\n",
       "98  0.423702  0.398034     98\n",
       "99  0.422884  0.403691     99"
      ]
     },
     "execution_count": 45,
     "metadata": {},
     "output_type": "execute_result"
    }
   ],
   "source": [
    "hist = pd.DataFrame(history.history)\n",
    "hist['epoch'] = history.epoch\n",
    "hist.tail()"
   ]
  },
  {
   "cell_type": "code",
   "execution_count": 57,
   "id": "44f840b7",
   "metadata": {},
   "outputs": [],
   "source": [
    "def plot_loss(history):\n",
    "  plt.plot(history.history['loss'], label='loss')\n",
    "  plt.plot(history.history['val_loss'], label='val_loss')\n",
    "  plt.ylim([0, 1])\n",
    "  plt.xlabel('Epoch')\n",
    "  plt.ylabel('Error [HeartDisease]')\n",
    "  plt.legend()\n",
    "  plt.grid(True)"
   ]
  },
  {
   "cell_type": "code",
   "execution_count": 53,
   "id": "30d97916",
   "metadata": {},
   "outputs": [
    {
     "data": {
      "image/png": "[encoded data removed]",
      "text/plain": [
       "<Figure size 432x288 with 1 Axes>"
      ]
     },
     "metadata": {
      "needs_background": "light"
     },
     "output_type": "display_data"
    }
   ],
   "source": [
    "plot_loss(history)"
   ]
  },
  {
   "cell_type": "code",
   "execution_count": 58,
   "id": "0fb9433b",
   "metadata": {},
   "outputs": [],
   "source": [
    "test_results = {}\n",
    "\n",
    "test_results['Age_model'] = Age_model.evaluate(\n",
    "    test_features['Age'],\n",
    "    test_labels, verbose=0)"
   ]
  },
  {
   "cell_type": "code",
   "execution_count": 69,
   "id": "8eef6205",
   "metadata": {},
   "outputs": [],
   "source": [
    "x = tf.linspace(20, 80, 400)\n",
    "y = Age_model.predict(x)"
   ]
  },
  {
   "cell_type": "code",
   "execution_count": 70,
   "id": "b4de58fc",
   "metadata": {},
   "outputs": [],
   "source": [
    "def plot_Age(x, y):\n",
    "  plt.scatter(train_features['Age'], train_labels, label='Data')\n",
    "  plt.plot(x, y, color='k', label='Predictions')\n",
    "  plt.xlabel('Age')\n",
    "  plt.ylabel('HeartDisease')\n",
    "  plt.legend()"
   ]
  },
  {
   "cell_type": "code",
   "execution_count": 71,
   "id": "391c1c93",
   "metadata": {},
   "outputs": [
    {
     "data": {
      "image/png": "[encoded data removed]",
      "text/plain": [
       "<Figure size 432x288 with 1 Axes>"
      ]
     },
     "metadata": {
      "needs_background": "light"
     },
     "output_type": "display_data"
    }
   ],
   "source": [
    "plot_Age(x, y)"
   ]
  },
  {
   "cell_type": "code",
   "execution_count": 72,
   "id": "e48a63b9",
   "metadata": {},
   "outputs": [],
   "source": [
    "linear_model = tf.keras.Sequential([\n",
    "    normalizer,\n",
    "    layers.Dense(units=1)\n",
    "])"
   ]
  },
  {
   "cell_type": "code",
   "execution_count": 73,
   "id": "f2ea6f64",
   "metadata": {},
   "outputs": [
    {
     "data": {
      "text/plain": [
       "array([[-1.283],\n",
       "       [-1.087],\n",
       "       [-0.323],\n",
       "       [ 0.477],\n",
       "       [-0.212],\n",
       "       [-0.488],\n",
       "       [ 0.236],\n",
       "       [-1.126],\n",
       "       [-0.685],\n",
       "       [-1.396]], dtype=float32)"
      ]
     },
     "execution_count": 73,
     "metadata": {},
     "output_type": "execute_result"
    }
   ],
   "source": [
    "linear_model.predict(train_features[:10])"
   ]
  },
  {
   "cell_type": "code",
   "execution_count": 74,
   "id": "47fdab68",
   "metadata": {},
   "outputs": [],
   "source": [
    "linear_model.compile(\n",
    "    optimizer=tf.optimizers.Adam(learning_rate=0.1),\n",
    "    loss='mean_absolute_error')\n"
   ]
  },
  {
   "cell_type": "code",
   "execution_count": 75,
   "id": "deecc146",
   "metadata": {},
   "outputs": [],
   "source": [
    "history = linear_model.fit(\n",
    "    train_features,\n",
    "    train_labels,\n",
    "    epochs=100,\n",
    "    # Suppress logging.\n",
    "    verbose=0,\n",
    "    # Calculate validation results on 20% of the training data.\n",
    "    validation_split = 0.2)\n",
    "\n"
   ]
  },
  {
   "cell_type": "code",
   "execution_count": 76,
   "id": "6e46dbea",
   "metadata": {},
   "outputs": [
    {
     "data": {
      "image/png": "[encoded data removed]",
      "text/plain": [
       "<Figure size 432x288 with 1 Axes>"
      ]
     },
     "metadata": {
      "needs_background": "light"
     },
     "output_type": "display_data"
    }
   ],
   "source": [
    "plot_loss(history)"
   ]
  },
  {
   "cell_type": "code",
   "execution_count": 82,
   "id": "583a234f",
   "metadata": {},
   "outputs": [],
   "source": [
    "test_results['linear_model'] = linear_model.evaluate(\n",
    "    test_features, test_labels, verbose=0)"
   ]
  },
  {
   "cell_type": "code",
   "execution_count": 93,
   "id": "88adcf84",
   "metadata": {},
   "outputs": [
    {
     "data": {
      "text/plain": [
       "{'Age_model': 0.4016423225402832, 'linear_model': 0.16790884733200073}"
      ]
     },
     "execution_count": 93,
     "metadata": {},
     "output_type": "execute_result"
    }
   ],
   "source": [
    "test_results"
   ]
  },
  {
   "cell_type": "code",
   "execution_count": 94,
   "id": "0ce93fd9",
   "metadata": {},
   "outputs": [
    {
     "data": {
      "text/html": [
       "<div>\n",
       "<style scoped>\n",
       "    .dataframe tbody tr th:only-of-type {\n",
       "        vertical-align: middle;\n",
       "    }\n",
       "\n",
       "    .dataframe tbody tr th {\n",
       "        vertical-align: top;\n",
       "    }\n",
       "\n",
       "    .dataframe thead th {\n",
       "        text-align: right;\n",
       "    }\n",
       "</style>\n",
       "<table border=\"1\" class=\"dataframe\">\n",
       "  <thead>\n",
       "    <tr style=\"text-align: right;\">\n",
       "      <th></th>\n",
       "      <th>Mean absolute error [MPG]</th>\n",
       "    </tr>\n",
       "  </thead>\n",
       "  <tbody>\n",
       "    <tr>\n",
       "      <th>Age_model</th>\n",
       "      <td>0.401642</td>\n",
       "    </tr>\n",
       "    <tr>\n",
       "      <th>linear_model</th>\n",
       "      <td>0.167909</td>\n",
       "    </tr>\n",
       "  </tbody>\n",
       "</table>\n",
       "</div>"
      ],
      "text/plain": [
       "              Mean absolute error [MPG]\n",
       "Age_model                      0.401642\n",
       "linear_model                   0.167909"
      ]
     },
     "execution_count": 94,
     "metadata": {},
     "output_type": "execute_result"
    }
   ],
   "source": [
    "pd.DataFrame(test_results, index=['Mean absolute error [MPG]']).T\n"
   ]
  },
  {
   "cell_type": "code",
   "execution_count": null,
   "id": "4c52bfcd",
   "metadata": {},
   "outputs": [],
   "source": []
  }
 ],
 "metadata": {
  "kernelspec": {
   "display_name": "Python 3 (ipykernel)",
   "language": "python",
   "name": "python3"
  },
  "language_info": {
   "codemirror_mode": {
    "name": "ipython",
    "version": 3
   },
   "file_extension": ".py",
   "mimetype": "text/x-python",
   "name": "python",
   "nbconvert_exporter": "python",
   "pygments_lexer": "ipython3",
   "version": "3.9.7"
  }
 },
 "nbformat": 4,
 "nbformat_minor": 5
}
