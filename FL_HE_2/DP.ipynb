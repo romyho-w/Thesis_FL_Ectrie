{
 "cells": [
  {
   "cell_type": "code",
   "execution_count": null,
   "metadata": {},
   "outputs": [],
   "source": [
    "# hide\n",
    "%reload_ext autoreload\n",
    "%autoreload 2"
   ]
  },
  {
   "cell_type": "code",
   "execution_count": null,
   "metadata": {},
   "outputs": [],
   "source": [
    "from dataFunction import *\n",
    "from clientClassDP import *\n",
    "import diffprivlib.models as dp\n",
    "import numpy as np\n",
    "import copy\n",
    "from make_logreg_data import *\n",
    "import random\n",
    "import tensorflow as tf\n",
    "from FL_utils import *\n",
    "from typing import Generator\n",
    "Interval = tuple[Number, Number]\n",
    "\n",
    "random.seed(11007303)\n",
    "np.random.seed(2021)"
   ]
  },
  {
   "cell_type": "code",
   "execution_count": 638,
   "metadata": {},
   "outputs": [],
   "source": [
    "def random_overlapping_intervals(\n",
    "    n_clients: int,\n",
    "    total_range: [Interval],\n",
    "    random_seed: int\n",
    "    # interval_fraction: [float]\n",
    "):\n",
    "    \"\"\"\n",
    "    Creates a function that returns random overlapping intervals, with the width\n",
    "    determined by a fraction of the total interval.\n",
    "    \"\"\"\n",
    "    all_intervals = []\n",
    "    np.random.seed(random_seed)\n",
    "    interval_fraction = np.random.rand(n_clients)\n",
    "    print(interval_fraction)\n",
    "    for i in range(n_clients):\n",
    "        interval_list = []\n",
    "        for j in range(len(total_range)):\n",
    "            v_min, v_max = total_range[j]\n",
    "            D = v_max - v_min\n",
    "            d = D * interval_fraction[i]\n",
    "            s_start = (np.random.rand() * (D - d)) + v_min\n",
    "            s_end = s_start + d\n",
    "            interval_list.append([s_start, s_end])   \n",
    "        all_intervals.append(interval_list)\n",
    "    return all_intervals"
   ]
  },
  {
   "cell_type": "code",
   "execution_count": 654,
   "metadata": {},
   "outputs": [
    {
     "name": "stdout",
     "output_type": "stream",
     "text": [
      "[0.5881308  0.89771373 0.89153073 0.81583748 0.03588959 0.69175758\n",
      " 0.37868094 0.51851095 0.65795147 0.19385022]\n",
      "54\n",
      "54\n",
      "54\n",
      "54\n",
      "54\n",
      "54\n",
      "54\n",
      "54\n",
      "54\n",
      "54\n"
     ]
    },
    {
     "data": {
      "text/plain": [
       "([-0.3423125892340082,\n",
       "  -0.34231258923400815,\n",
       "  -0.34231258923400815,\n",
       "  -0.3423125892340082,\n",
       "  -0.3423125892340084,\n",
       "  -0.34231258923400815,\n",
       "  -0.34231258923400815,\n",
       "  -0.34231258923400815,\n",
       "  -0.34231258923400815,\n",
       "  -0.3423125892340082],\n",
       " [0.3368870250207862,\n",
       "  0.806777975006291,\n",
       "  0.799098727401345,\n",
       "  0.7005156818977386,\n",
       "  -2.770337658091563,\n",
       "  0.5172050304583011,\n",
       "  -0.15228560288083764,\n",
       "  0.19690009536226594,\n",
       "  0.46153346289206737,\n",
       "  -0.8962947370663946])"
      ]
     },
     "execution_count": 654,
     "metadata": {},
     "output_type": "execute_result"
    }
   ],
   "source": [
    "intervals_per_client = random_overlapping_intervals(10, [[-100, 203], [-103,289], [103, 405], [10, 50], [-19,459], [-183,-96]], 20)\n",
    "KL_client(intervals_per_client)"
   ]
  },
  {
   "cell_type": "code",
   "execution_count": 655,
   "metadata": {},
   "outputs": [
    {
     "name": "stdout",
     "output_type": "stream",
     "text": [
      "[0.64414354 0.38074849 0.66304791 0.16365073 0.96260781 0.34666184\n",
      " 0.99175099 0.2350579  0.58569427 0.4066901 ]\n",
      "54\n",
      "54\n",
      "54\n",
      "54\n",
      "54\n",
      "54\n",
      "54\n",
      "54\n",
      "54\n",
      "54\n"
     ]
    },
    {
     "data": {
      "text/plain": [
       "([-0.34231258923400815,\n",
       "  -0.34231258923400815,\n",
       "  -0.34231258923400826,\n",
       "  -0.3423125892340081,\n",
       "  -0.34231258923400815,\n",
       "  -0.34231258923400826,\n",
       "  -0.34231258923400815,\n",
       "  -0.34231258923400837,\n",
       "  -0.34231258923400815,\n",
       "  -0.34231258923400826],\n",
       " [0.35738048658458965,\n",
       "  -0.22682235609463716,\n",
       "  0.3895201083849192,\n",
       "  -1.165049675083534,\n",
       "  0.8037410318427931,\n",
       "  -0.3310326267204836,\n",
       "  0.8368810161163128,\n",
       "  -0.7627192192850895,\n",
       "  0.25168753546773964,\n",
       "  -0.1535863012126095])"
      ]
     },
     "execution_count": 655,
     "metadata": {},
     "output_type": "execute_result"
    }
   ],
   "source": [
    "intervals_per_client2 = random_overlapping_intervals(10, [[-100, 203], [-103,289], [103, 405], [10, 50], [-19,459], [-183,-96]], 30)\n",
    "KL_client(intervals_per_client2)"
   ]
  },
  {
   "cell_type": "code",
   "execution_count": 643,
   "metadata": {},
   "outputs": [],
   "source": [
    "def KL_divergence(interval_X1, interval_X2):\n",
    "    max_value1 = max(interval_X1)\n",
    "    min_value1 = min(interval_X1)\n",
    "\n",
    "    max_value2 = max(interval_X2)\n",
    "    min_value2 = min(interval_X2)\n",
    "\n",
    "    delta_1 = max_value1 - min_value1\n",
    "    delta_2 = max_value2 - min_value2\n",
    "\n",
    "    return np.log(delta_1/delta_2)"
   ]
  },
  {
   "cell_type": "code",
   "execution_count": null,
   "metadata": {},
   "outputs": [],
   "source": [
    "def KL_client(intervals_per_client):\n",
    "    KL_sym_clients = []\n",
    "    KL_clients = []\n",
    "    n_features = 6\n",
    "    for index_1, value_1 in enumerate(intervals_per_client):\n",
    "        KL_list = []\n",
    "        sym_KL_list = []\n",
    "        for index_2, value_2 in enumerate(intervals_per_client):\n",
    "            if index_1 != index_2:\n",
    "                for f in range(n_features):\n",
    "                    kl = KL_divergence(value_1[f], value_2[f])\n",
    "                    kl2  = KL_divergence(value_2[f], value_1[1])\n",
    "                    # print(kl, kl2)\n",
    "                    if kl != 0:\n",
    "                        sym_kl = (kl+kl2)/2\n",
    "                    else:\n",
    "                        sym_kl = 0\n",
    "                    sym_KL_list.append(sym_kl)\n",
    "                    KL_list.append(kl)\n",
    "        # print(index_1)\n",
    "        print((KL_list))\n",
    "        KL_sym_clients.append(np.mean(sym_KL_list))\n",
    "        KL_clients.append(np.mean(KL_list))\n",
    "    return KL_sym_clients, KL_clients"
   ]
  },
  {
   "cell_type": "code",
   "execution_count": 406,
   "metadata": {},
   "outputs": [],
   "source": [
    "def create_clients(num_clients=10, initial='clients'):\n",
    "    ''' return: a dictionary with keys clients' names and value as \n",
    "                data shards - tuple of images and label lists.\n",
    "        args: \n",
    "            image_list: a list of numpy arrays of training images\n",
    "            label_list:a list of binarized labels for each image\n",
    "            num_client: number of fedrated members (clients)\n",
    "            initials: the clients'name prefix, e.g, clients_1 \n",
    "            \n",
    "    '''\n",
    "    interval = [(-10, 10), (-20,-10), (-40, 50)]\n",
    "    thresholds = [-30, -40, 10, 20, 23, -90, -18, -93, 39, 0]\n",
    "    n_samples = 10000\n",
    "    n_features = 10\n",
    "    X, y = make_logreg_data(interval, thresholds, n_samples, n_features)\n",
    "    #create a list of client names\n",
    "    client_names = ['{}_{}'.format(initial, i+1) for i in range(num_clients)]\n",
    "\n",
    "    #randomize the data\n",
    "    data = np.concatenate((X, y), axis=1)\n",
    "    random.shuffle(data)\n",
    "\n",
    "    #shard data and place at each client\n",
    "    size = len(data)//num_clients\n",
    "    shards = [data[i:i + size] for i in range(0, size*num_clients, size)]\n",
    "\n",
    "    #number of clients must equal number of shards\n",
    "    assert(len(shards) == len(client_names))\n",
    "\n",
    "    return {client_names[i] : shards[i] for i in range(len(client_names))} "
   ]
  },
  {
   "cell_type": "code",
   "execution_count": 407,
   "metadata": {},
   "outputs": [],
   "source": [
    "X_train, X_test, y_train, y_test = train_test_split(X, \n",
    "                                                    y, \n",
    "                                                    test_size=0.1, \n",
    "                                                    random_state=42)"
   ]
  },
  {
   "cell_type": "code",
   "execution_count": 408,
   "metadata": {},
   "outputs": [],
   "source": [
    "client_dict = create_clients(X_train, y_train)"
   ]
  },
  {
   "cell_type": "code",
   "execution_count": 415,
   "metadata": {},
   "outputs": [],
   "source": [
    "client1_data = pd.DataFrame(client_dict['clients_1'])\n",
    "client2_data = pd.DataFrame(client_dict['clients_2'])"
   ]
  },
  {
   "cell_type": "code",
   "execution_count": 410,
   "metadata": {},
   "outputs": [
    {
     "data": {
      "text/html": [
       "<div>\n",
       "<style scoped>\n",
       "    .dataframe tbody tr th:only-of-type {\n",
       "        vertical-align: middle;\n",
       "    }\n",
       "\n",
       "    .dataframe tbody tr th {\n",
       "        vertical-align: top;\n",
       "    }\n",
       "\n",
       "    .dataframe thead th {\n",
       "        text-align: right;\n",
       "    }\n",
       "</style>\n",
       "<table border=\"1\" class=\"dataframe\">\n",
       "  <thead>\n",
       "    <tr style=\"text-align: right;\">\n",
       "      <th></th>\n",
       "      <th>0</th>\n",
       "      <th>1</th>\n",
       "      <th>2</th>\n",
       "      <th>3</th>\n",
       "      <th>4</th>\n",
       "      <th>5</th>\n",
       "      <th>6</th>\n",
       "      <th>7</th>\n",
       "      <th>8</th>\n",
       "      <th>9</th>\n",
       "      <th>10</th>\n",
       "    </tr>\n",
       "  </thead>\n",
       "  <tbody>\n",
       "    <tr>\n",
       "      <th>count</th>\n",
       "      <td>900.000000</td>\n",
       "      <td>900.000000</td>\n",
       "      <td>900.000000</td>\n",
       "      <td>900.000000</td>\n",
       "      <td>900.000000</td>\n",
       "      <td>900.000000</td>\n",
       "      <td>900.000000</td>\n",
       "      <td>900.000000</td>\n",
       "      <td>900.000000</td>\n",
       "      <td>900.000000</td>\n",
       "      <td>900.000000</td>\n",
       "    </tr>\n",
       "    <tr>\n",
       "      <th>mean</th>\n",
       "      <td>-0.061912</td>\n",
       "      <td>0.220896</td>\n",
       "      <td>-0.346974</td>\n",
       "      <td>0.002708</td>\n",
       "      <td>0.377379</td>\n",
       "      <td>0.234453</td>\n",
       "      <td>0.212523</td>\n",
       "      <td>0.007763</td>\n",
       "      <td>-0.145229</td>\n",
       "      <td>0.292300</td>\n",
       "      <td>0.522222</td>\n",
       "    </tr>\n",
       "    <tr>\n",
       "      <th>std</th>\n",
       "      <td>5.632380</td>\n",
       "      <td>5.892314</td>\n",
       "      <td>5.808972</td>\n",
       "      <td>5.678284</td>\n",
       "      <td>6.116091</td>\n",
       "      <td>5.884090</td>\n",
       "      <td>5.751539</td>\n",
       "      <td>5.680803</td>\n",
       "      <td>5.587770</td>\n",
       "      <td>5.742885</td>\n",
       "      <td>0.499784</td>\n",
       "    </tr>\n",
       "    <tr>\n",
       "      <th>min</th>\n",
       "      <td>-9.971245</td>\n",
       "      <td>-9.980515</td>\n",
       "      <td>-9.928712</td>\n",
       "      <td>-9.948992</td>\n",
       "      <td>-9.942342</td>\n",
       "      <td>-9.945193</td>\n",
       "      <td>-9.986754</td>\n",
       "      <td>-9.968200</td>\n",
       "      <td>-9.854655</td>\n",
       "      <td>-9.995171</td>\n",
       "      <td>0.000000</td>\n",
       "    </tr>\n",
       "    <tr>\n",
       "      <th>25%</th>\n",
       "      <td>-4.626235</td>\n",
       "      <td>-5.581971</td>\n",
       "      <td>-5.048275</td>\n",
       "      <td>-4.854360</td>\n",
       "      <td>-5.011996</td>\n",
       "      <td>-4.481090</td>\n",
       "      <td>-4.707728</td>\n",
       "      <td>-4.969208</td>\n",
       "      <td>-5.133312</td>\n",
       "      <td>-4.392090</td>\n",
       "      <td>0.000000</td>\n",
       "    </tr>\n",
       "    <tr>\n",
       "      <th>50%</th>\n",
       "      <td>0.122592</td>\n",
       "      <td>0.717697</td>\n",
       "      <td>-0.737544</td>\n",
       "      <td>0.401972</td>\n",
       "      <td>0.900320</td>\n",
       "      <td>0.253938</td>\n",
       "      <td>0.767499</td>\n",
       "      <td>-0.265269</td>\n",
       "      <td>0.020161</td>\n",
       "      <td>0.066468</td>\n",
       "      <td>1.000000</td>\n",
       "    </tr>\n",
       "    <tr>\n",
       "      <th>75%</th>\n",
       "      <td>4.534623</td>\n",
       "      <td>5.678096</td>\n",
       "      <td>4.630607</td>\n",
       "      <td>4.309715</td>\n",
       "      <td>6.047284</td>\n",
       "      <td>5.534068</td>\n",
       "      <td>4.988613</td>\n",
       "      <td>4.640540</td>\n",
       "      <td>4.737808</td>\n",
       "      <td>5.678297</td>\n",
       "      <td>1.000000</td>\n",
       "    </tr>\n",
       "    <tr>\n",
       "      <th>max</th>\n",
       "      <td>9.899535</td>\n",
       "      <td>9.996833</td>\n",
       "      <td>9.981090</td>\n",
       "      <td>9.995693</td>\n",
       "      <td>9.959880</td>\n",
       "      <td>9.899958</td>\n",
       "      <td>9.999635</td>\n",
       "      <td>9.984352</td>\n",
       "      <td>9.989227</td>\n",
       "      <td>9.952282</td>\n",
       "      <td>1.000000</td>\n",
       "    </tr>\n",
       "  </tbody>\n",
       "</table>\n",
       "</div>"
      ],
      "text/plain": [
       "               0           1           2           3           4           5   \\\n",
       "count  900.000000  900.000000  900.000000  900.000000  900.000000  900.000000   \n",
       "mean    -0.061912    0.220896   -0.346974    0.002708    0.377379    0.234453   \n",
       "std      5.632380    5.892314    5.808972    5.678284    6.116091    5.884090   \n",
       "min     -9.971245   -9.980515   -9.928712   -9.948992   -9.942342   -9.945193   \n",
       "25%     -4.626235   -5.581971   -5.048275   -4.854360   -5.011996   -4.481090   \n",
       "50%      0.122592    0.717697   -0.737544    0.401972    0.900320    0.253938   \n",
       "75%      4.534623    5.678096    4.630607    4.309715    6.047284    5.534068   \n",
       "max      9.899535    9.996833    9.981090    9.995693    9.959880    9.899958   \n",
       "\n",
       "               6           7           8           9           10  \n",
       "count  900.000000  900.000000  900.000000  900.000000  900.000000  \n",
       "mean     0.212523    0.007763   -0.145229    0.292300    0.522222  \n",
       "std      5.751539    5.680803    5.587770    5.742885    0.499784  \n",
       "min     -9.986754   -9.968200   -9.854655   -9.995171    0.000000  \n",
       "25%     -4.707728   -4.969208   -5.133312   -4.392090    0.000000  \n",
       "50%      0.767499   -0.265269    0.020161    0.066468    1.000000  \n",
       "75%      4.988613    4.640540    4.737808    5.678297    1.000000  \n",
       "max      9.999635    9.984352    9.989227    9.952282    1.000000  "
      ]
     },
     "execution_count": 410,
     "metadata": {},
     "output_type": "execute_result"
    }
   ],
   "source": [
    "client1_data.describe()"
   ]
  },
  {
   "cell_type": "code",
   "execution_count": 416,
   "metadata": {},
   "outputs": [
    {
     "data": {
      "text/html": [
       "<div>\n",
       "<style scoped>\n",
       "    .dataframe tbody tr th:only-of-type {\n",
       "        vertical-align: middle;\n",
       "    }\n",
       "\n",
       "    .dataframe tbody tr th {\n",
       "        vertical-align: top;\n",
       "    }\n",
       "\n",
       "    .dataframe thead th {\n",
       "        text-align: right;\n",
       "    }\n",
       "</style>\n",
       "<table border=\"1\" class=\"dataframe\">\n",
       "  <thead>\n",
       "    <tr style=\"text-align: right;\">\n",
       "      <th></th>\n",
       "      <th>0</th>\n",
       "      <th>1</th>\n",
       "      <th>2</th>\n",
       "      <th>3</th>\n",
       "      <th>4</th>\n",
       "      <th>5</th>\n",
       "      <th>6</th>\n",
       "      <th>7</th>\n",
       "      <th>8</th>\n",
       "      <th>9</th>\n",
       "      <th>10</th>\n",
       "    </tr>\n",
       "  </thead>\n",
       "  <tbody>\n",
       "    <tr>\n",
       "      <th>count</th>\n",
       "      <td>900.000000</td>\n",
       "      <td>900.000000</td>\n",
       "      <td>900.000000</td>\n",
       "      <td>900.000000</td>\n",
       "      <td>900.000000</td>\n",
       "      <td>900.000000</td>\n",
       "      <td>900.000000</td>\n",
       "      <td>900.000000</td>\n",
       "      <td>900.000000</td>\n",
       "      <td>900.000000</td>\n",
       "      <td>900.000000</td>\n",
       "    </tr>\n",
       "    <tr>\n",
       "      <th>mean</th>\n",
       "      <td>0.092517</td>\n",
       "      <td>0.119268</td>\n",
       "      <td>0.006024</td>\n",
       "      <td>0.177072</td>\n",
       "      <td>0.078206</td>\n",
       "      <td>0.163628</td>\n",
       "      <td>0.039771</td>\n",
       "      <td>0.082738</td>\n",
       "      <td>-0.001228</td>\n",
       "      <td>0.008987</td>\n",
       "      <td>0.491111</td>\n",
       "    </tr>\n",
       "    <tr>\n",
       "      <th>std</th>\n",
       "      <td>5.709582</td>\n",
       "      <td>5.879483</td>\n",
       "      <td>5.834009</td>\n",
       "      <td>5.848027</td>\n",
       "      <td>5.856453</td>\n",
       "      <td>5.858670</td>\n",
       "      <td>5.738335</td>\n",
       "      <td>5.832617</td>\n",
       "      <td>5.900096</td>\n",
       "      <td>5.740264</td>\n",
       "      <td>0.500199</td>\n",
       "    </tr>\n",
       "    <tr>\n",
       "      <th>min</th>\n",
       "      <td>-9.990588</td>\n",
       "      <td>-9.992381</td>\n",
       "      <td>-9.861969</td>\n",
       "      <td>-9.956908</td>\n",
       "      <td>-9.997628</td>\n",
       "      <td>-9.945193</td>\n",
       "      <td>-9.959331</td>\n",
       "      <td>-9.968200</td>\n",
       "      <td>-9.906211</td>\n",
       "      <td>-9.970638</td>\n",
       "      <td>0.000000</td>\n",
       "    </tr>\n",
       "    <tr>\n",
       "      <th>25%</th>\n",
       "      <td>-4.834849</td>\n",
       "      <td>-5.123428</td>\n",
       "      <td>-4.961481</td>\n",
       "      <td>-5.058612</td>\n",
       "      <td>-4.997173</td>\n",
       "      <td>-4.997312</td>\n",
       "      <td>-4.853480</td>\n",
       "      <td>-4.984845</td>\n",
       "      <td>-5.133312</td>\n",
       "      <td>-4.764457</td>\n",
       "      <td>0.000000</td>\n",
       "    </tr>\n",
       "    <tr>\n",
       "      <th>50%</th>\n",
       "      <td>-0.005245</td>\n",
       "      <td>0.359324</td>\n",
       "      <td>-0.058731</td>\n",
       "      <td>0.513692</td>\n",
       "      <td>0.047444</td>\n",
       "      <td>0.109314</td>\n",
       "      <td>-0.022404</td>\n",
       "      <td>0.231836</td>\n",
       "      <td>-0.051878</td>\n",
       "      <td>-0.049387</td>\n",
       "      <td>0.000000</td>\n",
       "    </tr>\n",
       "    <tr>\n",
       "      <th>75%</th>\n",
       "      <td>4.938055</td>\n",
       "      <td>5.207662</td>\n",
       "      <td>5.107675</td>\n",
       "      <td>5.086348</td>\n",
       "      <td>5.354535</td>\n",
       "      <td>5.438277</td>\n",
       "      <td>4.945645</td>\n",
       "      <td>5.050274</td>\n",
       "      <td>5.296507</td>\n",
       "      <td>4.896026</td>\n",
       "      <td>1.000000</td>\n",
       "    </tr>\n",
       "    <tr>\n",
       "      <th>max</th>\n",
       "      <td>9.981281</td>\n",
       "      <td>9.991235</td>\n",
       "      <td>9.994304</td>\n",
       "      <td>9.995693</td>\n",
       "      <td>9.972738</td>\n",
       "      <td>9.991883</td>\n",
       "      <td>9.969458</td>\n",
       "      <td>9.977439</td>\n",
       "      <td>9.967592</td>\n",
       "      <td>9.986533</td>\n",
       "      <td>1.000000</td>\n",
       "    </tr>\n",
       "  </tbody>\n",
       "</table>\n",
       "</div>"
      ],
      "text/plain": [
       "               0           1           2           3           4           5   \\\n",
       "count  900.000000  900.000000  900.000000  900.000000  900.000000  900.000000   \n",
       "mean     0.092517    0.119268    0.006024    0.177072    0.078206    0.163628   \n",
       "std      5.709582    5.879483    5.834009    5.848027    5.856453    5.858670   \n",
       "min     -9.990588   -9.992381   -9.861969   -9.956908   -9.997628   -9.945193   \n",
       "25%     -4.834849   -5.123428   -4.961481   -5.058612   -4.997173   -4.997312   \n",
       "50%     -0.005245    0.359324   -0.058731    0.513692    0.047444    0.109314   \n",
       "75%      4.938055    5.207662    5.107675    5.086348    5.354535    5.438277   \n",
       "max      9.981281    9.991235    9.994304    9.995693    9.972738    9.991883   \n",
       "\n",
       "               6           7           8           9           10  \n",
       "count  900.000000  900.000000  900.000000  900.000000  900.000000  \n",
       "mean     0.039771    0.082738   -0.001228    0.008987    0.491111  \n",
       "std      5.738335    5.832617    5.900096    5.740264    0.500199  \n",
       "min     -9.959331   -9.968200   -9.906211   -9.970638    0.000000  \n",
       "25%     -4.853480   -4.984845   -5.133312   -4.764457    0.000000  \n",
       "50%     -0.022404    0.231836   -0.051878   -0.049387    0.000000  \n",
       "75%      4.945645    5.050274    5.296507    4.896026    1.000000  \n",
       "max      9.969458    9.977439    9.967592    9.986533    1.000000  "
      ]
     },
     "execution_count": 416,
     "metadata": {},
     "output_type": "execute_result"
    }
   ],
   "source": [
    "client2_data.describe()"
   ]
  },
  {
   "cell_type": "code",
   "execution_count": null,
   "metadata": {},
   "outputs": [],
   "source": [
    "kde = KernelDensity(kernel=\"tophat\", bandwidth=0.75).fit(X)\n",
    "log_dens = kde.score_samples(X_plot)\n",
    "ax[1, 0].fill(X_plot[:, 0], np.exp(log_dens), fc=\"#AAAAFF\")\n",
    "ax[1, 0].text(-3.5, 0.31, \"Tophat Kernel Density\")"
   ]
  },
  {
   "cell_type": "code",
   "execution_count": 414,
   "metadata": {},
   "outputs": [
    {
     "data": {
      "image/png": "[encoded data removed]",
      "text/plain": [
       "<Figure size 432x288 with 1 Axes>"
      ]
     },
     "metadata": {
      "needs_background": "light"
     },
     "output_type": "display_data"
    }
   ],
   "source": [
    "from scipy.stats import norm\n",
    "from sklearn.neighbors import KernelDensity\n",
    "N = 100\n",
    "np.random.seed(1)\n",
    "X = np.concatenate(\n",
    "    (np.random.normal(0, 1, int(0.3 * N)), np.random.normal(5, 1, int(0.7 * N)))\n",
    ")[:, np.newaxis]\n",
    "\n",
    "X_plot = np.linspace(-5, 10, 1000)[:, np.newaxis]\n",
    "\n",
    "true_dens = 0.3 * norm(0, 1).pdf(X_plot[:, 0]) + 0.7 * norm(5, 1).pdf(X_plot[:, 0])\n",
    "\n",
    "fig, ax = plt.subplots()\n",
    "ax.fill(X_plot[:, 0], true_dens, fc=\"black\", alpha=0.2, label=\"input distribution\")\n",
    "colors = [\"navy\", \"cornflowerblue\", \"darkorange\"]\n",
    "kernels = [\"gaussian\", \"tophat\", \"epanechnikov\"]\n",
    "lw = 2\n",
    "\n",
    "for color, kernel in zip(colors, kernels):\n",
    "    kde = KernelDensity(kernel=kernel, bandwidth=0.5).fit(X)\n",
    "    log_dens = kde.score_samples(X_plot)\n",
    "    ax.plot(\n",
    "        X_plot[:, 0],\n",
    "        np.exp(log_dens),\n",
    "        color=color,\n",
    "        lw=lw,\n",
    "        linestyle=\"-\",\n",
    "        label=\"kernel = '{0}'\".format(kernel),\n",
    "    )\n",
    "\n",
    "ax.text(6, 0.38, \"N={0} points\".format(N))\n",
    "\n",
    "ax.legend(loc=\"upper left\")\n",
    "ax.plot(X[:, 0], -0.005 - 0.01 * np.random.random(X.shape[0]), \"+k\")\n",
    "\n",
    "ax.set_xlim(-4, 9)\n",
    "ax.set_ylim(-0.02, 0.4)\n",
    "plt.show()"
   ]
  },
  {
   "cell_type": "code",
   "execution_count": 411,
   "metadata": {},
   "outputs": [
    {
     "name": "stdout",
     "output_type": "stream",
     "text": [
      "0\n"
     ]
    },
    {
     "data": {
      "image/png": "[encoded data removed]",
      "text/plain": [
       "<Figure size 432x288 with 1 Axes>"
      ]
     },
     "metadata": {
      "needs_background": "light"
     },
     "output_type": "display_data"
    },
    {
     "name": "stdout",
     "output_type": "stream",
     "text": [
      "1\n"
     ]
    },
    {
     "data": {
      "image/png": "[encoded data removed]",
      "text/plain": [
       "<Figure size 432x288 with 1 Axes>"
      ]
     },
     "metadata": {
      "needs_background": "light"
     },
     "output_type": "display_data"
    },
    {
     "name": "stdout",
     "output_type": "stream",
     "text": [
      "2\n"
     ]
    },
    {
     "data": {
      "image/png": "[encoded data removed]",
      "text/plain": [
       "<Figure size 432x288 with 1 Axes>"
      ]
     },
     "metadata": {
      "needs_background": "light"
     },
     "output_type": "display_data"
    },
    {
     "name": "stdout",
     "output_type": "stream",
     "text": [
      "3\n"
     ]
    },
    {
     "data": {
      "image/png": "[encoded data removed]",
      "text/plain": [
       "<Figure size 432x288 with 1 Axes>"
      ]
     },
     "metadata": {
      "needs_background": "light"
     },
     "output_type": "display_data"
    },
    {
     "name": "stdout",
     "output_type": "stream",
     "text": [
      "4\n"
     ]
    },
    {
     "data": {
      "image/png": "[encoded data removed]",
      "text/plain": [
       "<Figure size 432x288 with 1 Axes>"
      ]
     },
     "metadata": {
      "needs_background": "light"
     },
     "output_type": "display_data"
    },
    {
     "name": "stdout",
     "output_type": "stream",
     "text": [
      "5\n"
     ]
    },
    {
     "data": {
      "image/png": "[encoded data removed]",
      "text/plain": [
       "<Figure size 432x288 with 1 Axes>"
      ]
     },
     "metadata": {
      "needs_background": "light"
     },
     "output_type": "display_data"
    },
    {
     "name": "stdout",
     "output_type": "stream",
     "text": [
      "6\n"
     ]
    },
    {
     "data": {
      "image/png": "[encoded data removed]",
      "text/plain": [
       "<Figure size 432x288 with 1 Axes>"
      ]
     },
     "metadata": {
      "needs_background": "light"
     },
     "output_type": "display_data"
    },
    {
     "name": "stdout",
     "output_type": "stream",
     "text": [
      "7\n"
     ]
    },
    {
     "data": {
      "image/png": "[encoded data removed]",
      "text/plain": [
       "<Figure size 432x288 with 1 Axes>"
      ]
     },
     "metadata": {
      "needs_background": "light"
     },
     "output_type": "display_data"
    },
    {
     "name": "stdout",
     "output_type": "stream",
     "text": [
      "8\n"
     ]
    },
    {
     "data": {
      "image/png": "[encoded data removed]",
      "text/plain": [
       "<Figure size 432x288 with 1 Axes>"
      ]
     },
     "metadata": {
      "needs_background": "light"
     },
     "output_type": "display_data"
    },
    {
     "name": "stdout",
     "output_type": "stream",
     "text": [
      "9\n"
     ]
    },
    {
     "data": {
      "image/png": "[encoded data removed]",
      "text/plain": [
       "<Figure size 432x288 with 1 Axes>"
      ]
     },
     "metadata": {
      "needs_background": "light"
     },
     "output_type": "display_data"
    },
    {
     "name": "stdout",
     "output_type": "stream",
     "text": [
      "10\n"
     ]
    },
    {
     "data": {
      "image/png": "[encoded data removed]",
      "text/plain": [
       "<Figure size 432x288 with 1 Axes>"
      ]
     },
     "metadata": {
      "needs_background": "light"
     },
     "output_type": "display_data"
    }
   ],
   "source": [
    "# for i in client1_data.columns:\n",
    "#     print(i)\n",
    "#     plt.hist(client1_data[i], bins=10)\n",
    "#     plt.show()"
   ]
  },
  {
   "cell_type": "code",
   "execution_count": 399,
   "metadata": {},
   "outputs": [
    {
     "data": {
      "text/plain": [
       "RangeIndex(start=0, stop=11, step=1)"
      ]
     },
     "execution_count": 399,
     "metadata": {},
     "output_type": "execute_result"
    }
   ],
   "source": [
    "client1_data.columns"
   ]
  },
  {
   "cell_type": "code",
   "execution_count": null,
   "metadata": {},
   "outputs": [],
   "source": []
  }
 ],
 "metadata": {
  "interpreter": {
   "hash": "69650470d3dba1dfb0173b7d578c7df4bae2b2f16b8279109af7c296623678fe"
  },
  "kernelspec": {
   "display_name": "Python 3.9.7 ('thesis_fl': venv)",
   "language": "python",
   "name": "python3"
  },
  "language_info": {
   "codemirror_mode": {
    "name": "ipython",
    "version": 3
   },
   "file_extension": ".py",
   "mimetype": "text/x-python",
   "name": "python",
   "nbconvert_exporter": "python",
   "pygments_lexer": "ipython3",
   "version": "3.9.7"
  },
  "orig_nbformat": 4
 },
 "nbformat": 4,
 "nbformat_minor": 2
}
