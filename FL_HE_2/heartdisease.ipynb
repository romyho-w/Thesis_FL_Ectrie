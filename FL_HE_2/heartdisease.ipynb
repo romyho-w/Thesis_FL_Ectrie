{
 "cells": [
  {
   "cell_type": "code",
   "execution_count": 1,
   "metadata": {},
   "outputs": [],
   "source": [
    "# hide\n",
    "%reload_ext autoreload\n",
    "%autoreload 2"
   ]
  },
  {
   "cell_type": "code",
   "execution_count": 26,
   "metadata": {},
   "outputs": [],
   "source": [
    "from dataFunction import *\n",
    "# import diffprivlib.models as dp\n",
    "import numpy as np\n",
    "import copy\n",
    "from make_logreg_data import *\n",
    "import random\n",
    "import tensorflow as tf\n",
    "from FL_utils import *\n",
    "from HE_functions import *\n",
    "from dataFunction import *\n",
    "from typing import Generator\n",
    "import tenseal as ts\n",
    "from lrClass import LR\n",
    "from simulationDataUtils import *\n",
    "import seaborn as sns\n",
    "from sklearn.linear_model import LinearRegression\n",
    "import scipy.stats as st\n",
    "from run_simulations import run_simulations\n",
    "\n",
    "random.seed(11007303)\n",
    "np.random.seed(2021)"
   ]
  },
  {
   "cell_type": "code",
   "execution_count": 3,
   "metadata": {},
   "outputs": [],
   "source": [
    "EPOCHS = 80\n",
    "poly_mod_degree = 4096\n",
    "coeff_mod_bit_sizes = [40, 20, 40]\n",
    "\n",
    "# create TenSEALContext\n",
    "ctx_eval = ts.context(ts.SCHEME_TYPE.CKKS, poly_mod_degree, -1, coeff_mod_bit_sizes)\n",
    "\n",
    "# scale of ciphertext to use\n",
    "ctx_eval.global_scale = 2 ** 20\n",
    "\n",
    "# this key is needed for doing dot-product operations\n",
    "ctx_eval.generate_galois_keys()"
   ]
  },
  {
   "cell_type": "code",
   "execution_count": 4,
   "metadata": {},
   "outputs": [],
   "source": [
    "cleveland = \"FL_HE_2/processed.cleveland.data\"\n",
    "switzerland = \"FL_HE_2/processed.switzerland.data\"\n",
    "va = \"FL_HE_2/processed.va.data\"\n",
    "hungarian = \"FL_HE_2/reprocessed.hungarian.data\"\n",
    "cleveland_df, switzerland_df, va_df, hungarian_df = import_data(cleveland, switzerland, va, hungarian)\n"
   ]
  },
  {
   "cell_type": "code",
   "execution_count": 5,
   "metadata": {},
   "outputs": [
    {
     "name": "stdout",
     "output_type": "stream",
     "text": [
      "dict_keys(['Cleveland', 'VA Long Beach', 'Hungary'])\n",
      "Index(['Age', 'Sex', 'RestingBP', 'Cholesterol', 'FastingBS', 'MaxHR',\n",
      "       'ExerciseAngina', 'Oldpeak', 'ChestPainType_1', 'ChestPainType_4',\n",
      "       'ChestPainType_3', 'ChestPainType_2', 'RestingECG_2', 'RestingECG_0',\n",
      "       'RestingECG_1', 'ST_Slope_3', 'ST_Slope_2', 'ST_Slope_1'],\n",
      "      dtype='object')\n",
      "          0         1         2\n",
      "0  0.000000  2.016075  2.445411\n",
      "1  2.358766  0.000000  2.114656\n",
      "2  1.519378  1.812092  0.000000\n",
      "KL FL mean: 2.0443964321112524\n",
      "Best model, iter: 19, acc: 0.8066666722297668\n"
     ]
    }
   ],
   "source": [
    "df_dict ={\n",
    "    'Cleveland': cleveland_df,\n",
    "    # 'Switzerland': switzerland_df,\n",
    "    'VA Long Beach': va_df,\n",
    "    'Hungary': hungarian_df        \n",
    "    }\n",
    "clients = []\n",
    "\n",
    "for i in list(df_dict.keys()):\n",
    "    df = df_dict.get(i)\n",
    "    location_data = new_df(df, False)\n",
    "    y = location_data.HeartDisease\n",
    "    location_data = location_data.drop(columns=\"HeartDisease\")\n",
    "\n",
    "    numeric_feature_names = ['Age', 'MaxHR', 'RestingBP',  'Oldpeak', 'Cholesterol']\n",
    "    for j in numeric_feature_names:\n",
    "        if location_data[j].std() != 0: \n",
    "            location_data[j] = (location_data[j] - location_data[j].mean()) / location_data[j].std()\n",
    "    x = location_data\n",
    "    glob_model = LR(len(x.columns))\n",
    "    client_model = copy.deepcopy(glob_model)\n",
    "    lr = 3\n",
    "    lr_decay = 1\n",
    "    clients.append(Client(i, x, y, client_model, lr, torch.nn.BCELoss(), None))\n",
    "cat_bin_features = ['Sex', 'ChestPainType',  'FastingBS', 'RestingECG','ExerciseAngina', 'ST_Slope']\n",
    "KL = KL_matrices_disc_cont(clients, cat_bin_features, numeric_feature_names)\n",
    "KL_mean = (np.array(KL)[np.triu_indices(len(clients), k=1)].mean() + np.array(KL)[np.tril_indices(len(clients), -1)].mean()) /2\n",
    "cat_feat = ['ChestPainType', 'RestingECG', 'ST_Slope']\n",
    "for i in clients:\n",
    "    i.make_dummies(cat_feat)\n",
    "val_x, val_y = make_validation_sets(clients)\n",
    "\n",
    "best_epoch, best_acc, model_dict, final_results, net_best = FL_proces(clients, val_x, val_y, ctx_eval, glob_model, 300)\n",
    "print(df_dict.keys())\n",
    "print(clients[0].X.columns)\n",
    "print(KL)\n",
    "print('KL FL mean: {}'.format(KL_mean))\n",
    "print('Best model, iter: {}, acc: {}'.format(best_epoch, best_acc))  \n"
   ]
  },
  {
   "cell_type": "code",
   "execution_count": 6,
   "metadata": {},
   "outputs": [
    {
     "data": {
      "image/png": "[encoded data removed]",
      "text/plain": [
       "<Figure size 432x288 with 1 Axes>"
      ]
     },
     "metadata": {
      "needs_background": "light"
     },
     "output_type": "display_data"
    }
   ],
   "source": [
    "plt.plot(final_results.best_acc)\n",
    "plt.show()"
   ]
  },
  {
   "cell_type": "code",
   "execution_count": 7,
   "metadata": {},
   "outputs": [
    {
     "data": {
      "text/html": [
       "<div>\n",
       "<style scoped>\n",
       "    .dataframe tbody tr th:only-of-type {\n",
       "        vertical-align: middle;\n",
       "    }\n",
       "\n",
       "    .dataframe tbody tr th {\n",
       "        vertical-align: top;\n",
       "    }\n",
       "\n",
       "    .dataframe thead th {\n",
       "        text-align: right;\n",
       "    }\n",
       "</style>\n",
       "<table border=\"1\" class=\"dataframe\">\n",
       "  <thead>\n",
       "    <tr style=\"text-align: right;\">\n",
       "      <th></th>\n",
       "      <th>epoch</th>\n",
       "      <th>loss_avg</th>\n",
       "      <th>loss_test</th>\n",
       "      <th>acc_test</th>\n",
       "      <th>best_acc</th>\n",
       "    </tr>\n",
       "  </thead>\n",
       "  <tbody>\n",
       "    <tr>\n",
       "      <th>0</th>\n",
       "      <td>0.0</td>\n",
       "      <td>0.835889</td>\n",
       "      <td>0.876480</td>\n",
       "      <td>0.746667</td>\n",
       "      <td>0.746667</td>\n",
       "    </tr>\n",
       "    <tr>\n",
       "      <th>1</th>\n",
       "      <td>1.0</td>\n",
       "      <td>0.872098</td>\n",
       "      <td>4.384315</td>\n",
       "      <td>0.553333</td>\n",
       "      <td>0.746667</td>\n",
       "    </tr>\n",
       "    <tr>\n",
       "      <th>2</th>\n",
       "      <td>2.0</td>\n",
       "      <td>0.965533</td>\n",
       "      <td>2.124725</td>\n",
       "      <td>0.613333</td>\n",
       "      <td>0.746667</td>\n",
       "    </tr>\n",
       "    <tr>\n",
       "      <th>3</th>\n",
       "      <td>3.0</td>\n",
       "      <td>0.991791</td>\n",
       "      <td>0.842116</td>\n",
       "      <td>0.760000</td>\n",
       "      <td>0.760000</td>\n",
       "    </tr>\n",
       "    <tr>\n",
       "      <th>4</th>\n",
       "      <td>4.0</td>\n",
       "      <td>0.969246</td>\n",
       "      <td>0.920190</td>\n",
       "      <td>0.766667</td>\n",
       "      <td>0.766667</td>\n",
       "    </tr>\n",
       "    <tr>\n",
       "      <th>...</th>\n",
       "      <td>...</td>\n",
       "      <td>...</td>\n",
       "      <td>...</td>\n",
       "      <td>...</td>\n",
       "      <td>...</td>\n",
       "    </tr>\n",
       "    <tr>\n",
       "      <th>295</th>\n",
       "      <td>295.0</td>\n",
       "      <td>0.890091</td>\n",
       "      <td>0.879786</td>\n",
       "      <td>0.786667</td>\n",
       "      <td>0.806667</td>\n",
       "    </tr>\n",
       "    <tr>\n",
       "      <th>296</th>\n",
       "      <td>296.0</td>\n",
       "      <td>0.889919</td>\n",
       "      <td>0.884456</td>\n",
       "      <td>0.766667</td>\n",
       "      <td>0.806667</td>\n",
       "    </tr>\n",
       "    <tr>\n",
       "      <th>297</th>\n",
       "      <td>297.0</td>\n",
       "      <td>0.889554</td>\n",
       "      <td>0.874286</td>\n",
       "      <td>0.786667</td>\n",
       "      <td>0.806667</td>\n",
       "    </tr>\n",
       "    <tr>\n",
       "      <th>298</th>\n",
       "      <td>298.0</td>\n",
       "      <td>0.889213</td>\n",
       "      <td>0.957514</td>\n",
       "      <td>0.800000</td>\n",
       "      <td>0.806667</td>\n",
       "    </tr>\n",
       "    <tr>\n",
       "      <th>299</th>\n",
       "      <td>299.0</td>\n",
       "      <td>0.889229</td>\n",
       "      <td>1.773298</td>\n",
       "      <td>0.760000</td>\n",
       "      <td>0.806667</td>\n",
       "    </tr>\n",
       "  </tbody>\n",
       "</table>\n",
       "<p>300 rows × 5 columns</p>\n",
       "</div>"
      ],
      "text/plain": [
       "     epoch  loss_avg  loss_test  acc_test  best_acc\n",
       "0      0.0  0.835889   0.876480  0.746667  0.746667\n",
       "1      1.0  0.872098   4.384315  0.553333  0.746667\n",
       "2      2.0  0.965533   2.124725  0.613333  0.746667\n",
       "3      3.0  0.991791   0.842116  0.760000  0.760000\n",
       "4      4.0  0.969246   0.920190  0.766667  0.766667\n",
       "..     ...       ...        ...       ...       ...\n",
       "295  295.0  0.890091   0.879786  0.786667  0.806667\n",
       "296  296.0  0.889919   0.884456  0.766667  0.806667\n",
       "297  297.0  0.889554   0.874286  0.786667  0.806667\n",
       "298  298.0  0.889213   0.957514  0.800000  0.806667\n",
       "299  299.0  0.889229   1.773298  0.760000  0.806667\n",
       "\n",
       "[300 rows x 5 columns]"
      ]
     },
     "execution_count": 7,
     "metadata": {},
     "output_type": "execute_result"
    }
   ],
   "source": [
    "final_results"
   ]
  },
  {
   "cell_type": "code",
   "execution_count": 17,
   "metadata": {},
   "outputs": [
    {
     "data": {
      "text/plain": [
       "(0.8032094033320816, 0.8054128293434708)"
      ]
     },
     "execution_count": 17,
     "metadata": {},
     "output_type": "execute_result"
    }
   ],
   "source": [
    "CI1 =  st.t.interval(alpha=0.95, df=len(final_results.best_acc)-1, loc=np.mean(final_results.best_acc), scale=st.sem(final_results.best_acc)) \n",
    "CI1"
   ]
  },
  {
   "cell_type": "code",
   "execution_count": 18,
   "metadata": {},
   "outputs": [
    {
     "data": {
      "text/plain": [
       "(0.771046941765489, 0.7748197693741898)"
      ]
     },
     "execution_count": 18,
     "metadata": {},
     "output_type": "execute_result"
    }
   ],
   "source": [
    "CI2 =  st.t.interval(alpha=0.95, df=len(final_results_S.best_acc)-1, loc=np.mean(final_results_S.best_acc), scale=st.sem(final_results_S.best_acc)) \n",
    "CI2"
   ]
  },
  {
   "cell_type": "code",
   "execution_count": 23,
   "metadata": {},
   "outputs": [
    {
     "data": {
      "text/plain": [
       "0.7901162993588303"
      ]
     },
     "execution_count": 23,
     "metadata": {},
     "output_type": "execute_result"
    }
   ],
   "source": [
    "(CI1[1]+CI2[1])/2"
   ]
  },
  {
   "cell_type": "code",
   "execution_count": 24,
   "metadata": {},
   "outputs": [
    {
     "data": {
      "text/plain": [
       "array([0.78712817, 0.7901163 ])"
      ]
     },
     "execution_count": 24,
     "metadata": {},
     "output_type": "execute_result"
    }
   ],
   "source": [
    "np.mean([CI1, CI2], axis=0)"
   ]
  },
  {
   "cell_type": "code",
   "execution_count": 159,
   "metadata": {},
   "outputs": [],
   "source": [
    "# for i in clients:\n",
    "#     # print(i.X.Oldpeak)\n",
    "#     xy = pd.concat([i.X, i.y], axis=1)\n",
    "#     plt.figure(figsize=(12,10))\n",
    "#     sns.heatmap(xy.corr(),annot=True,cmap=\"magma\",fmt='.2f')\n",
    "#     # print(xy)"
   ]
  },
  {
   "cell_type": "code",
   "execution_count": 9,
   "metadata": {},
   "outputs": [
    {
     "name": "stdout",
     "output_type": "stream",
     "text": [
      "dict_keys(['Cleveland', 'Switzerland', 'VA Long Beach', 'Hungary'])\n",
      "Index(['Age', 'Sex', 'RestingBP', 'FastingBS', 'MaxHR', 'ExerciseAngina',\n",
      "       'Oldpeak', 'ChestPainType_1', 'ChestPainType_4', 'ChestPainType_3',\n",
      "       'ChestPainType_2', 'RestingECG_2', 'RestingECG_0', 'RestingECG_1',\n",
      "       'ST_Slope_3', 'ST_Slope_2', 'ST_Slope_1'],\n",
      "      dtype='object')\n",
      "          0         1         2         3\n",
      "0  0.000000  1.548866  2.016075  2.445411\n",
      "1  1.371031  0.000000  0.662388  1.171660\n",
      "2  2.358766  0.830447  0.000000  2.114656\n",
      "3  1.519378  1.188149  1.812092  0.000000\n",
      "KL FL mean: 1.5865767504716217\n",
      "Best model, iter: 62, acc: 0.7771428823471069\n"
     ]
    }
   ],
   "source": [
    "df_dict_S ={\n",
    "    'Cleveland': cleveland_df,\n",
    "    'Switzerland': switzerland_df,\n",
    "    'VA Long Beach': va_df,\n",
    "    'Hungary': hungarian_df        \n",
    "    }\n",
    "clients_S = []\n",
    "\n",
    "for i in list(df_dict_S.keys()):\n",
    "    df = df_dict_S.get(i)\n",
    "    location_data = new_df(df)\n",
    "    y = location_data.HeartDisease\n",
    "    location_data = location_data.drop(columns=\"HeartDisease\")\n",
    "\n",
    "    numeric_feature_names_S = ['Age', 'MaxHR', 'RestingBP',  'Oldpeak']\n",
    "    for j in numeric_feature_names_S:\n",
    "        if location_data[j].std() != 0: \n",
    "            location_data[j] = (location_data[j] - location_data[j].mean()) / location_data[j].std()\n",
    "    x = location_data\n",
    "    glob_model_S = LR(len(x.columns))\n",
    "    client_model = copy.deepcopy(glob_model_S)\n",
    "    lr = 3\n",
    "    lr_decay = 1\n",
    "    clients_S.append(Client(i, x, y, client_model, lr, torch.nn.BCELoss(), None))\n",
    "cat_bin_features = ['Sex', 'ChestPainType',  'FastingBS', 'RestingECG','ExerciseAngina', 'ST_Slope']\n",
    "KL_S = KL_matrices_disc_cont(clients_S, cat_bin_features, numeric_feature_names_S)\n",
    "KL_mean_S = (np.array(KL_S)[np.triu_indices(len(clients_S), k=1)].mean() + np.array(KL_S)[np.tril_indices(len(clients_S), -1)].mean()) /2\n",
    "cat_feat = ['ChestPainType', 'RestingECG', 'ST_Slope']\n",
    "for i in clients_S:\n",
    "    i.make_dummies(cat_feat)\n",
    "val_x_S, val_y_S = make_validation_sets(clients_S)\n",
    "\n",
    "best_epoch_S, best_acc_S, model_dict_S, final_results_S = FL_proces(clients_S, val_x_S, val_y_S, ctx_eval, glob_model_S, 300)\n",
    "print(df_dict_S.keys())\n",
    "print(clients_S[0].X.columns)\n",
    "print(KL_S)\n",
    "print('KL FL mean: {}'.format(KL_mean_S))\n",
    "print('Best model, iter: {}, acc: {}'.format(best_epoch_S, best_acc_S))  \n"
   ]
  },
  {
   "cell_type": "code",
   "execution_count": 171,
   "metadata": {},
   "outputs": [
    {
     "data": {
      "text/html": [
       "<div>\n",
       "<style scoped>\n",
       "    .dataframe tbody tr th:only-of-type {\n",
       "        vertical-align: middle;\n",
       "    }\n",
       "\n",
       "    .dataframe tbody tr th {\n",
       "        vertical-align: top;\n",
       "    }\n",
       "\n",
       "    .dataframe thead th {\n",
       "        text-align: right;\n",
       "    }\n",
       "</style>\n",
       "<table border=\"1\" class=\"dataframe\">\n",
       "  <thead>\n",
       "    <tr style=\"text-align: right;\">\n",
       "      <th></th>\n",
       "      <th>epoch</th>\n",
       "      <th>loss_avg</th>\n",
       "      <th>loss_test</th>\n",
       "      <th>acc_test</th>\n",
       "      <th>best_acc</th>\n",
       "    </tr>\n",
       "  </thead>\n",
       "  <tbody>\n",
       "    <tr>\n",
       "      <th>18</th>\n",
       "      <td>18.0</td>\n",
       "      <td>0.782792</td>\n",
       "      <td>0.836189</td>\n",
       "      <td>0.777143</td>\n",
       "      <td>0.777143</td>\n",
       "    </tr>\n",
       "  </tbody>\n",
       "</table>\n",
       "</div>"
      ],
      "text/plain": [
       "    epoch  loss_avg  loss_test  acc_test  best_acc\n",
       "18   18.0  0.782792   0.836189  0.777143  0.777143"
      ]
     },
     "execution_count": 171,
     "metadata": {},
     "output_type": "execute_result"
    }
   ],
   "source": [
    "final_results_S.iloc[[18]]"
   ]
  },
  {
   "cell_type": "code",
   "execution_count": 172,
   "metadata": {},
   "outputs": [
    {
     "data": {
      "text/html": [
       "<div>\n",
       "<style scoped>\n",
       "    .dataframe tbody tr th:only-of-type {\n",
       "        vertical-align: middle;\n",
       "    }\n",
       "\n",
       "    .dataframe tbody tr th {\n",
       "        vertical-align: top;\n",
       "    }\n",
       "\n",
       "    .dataframe thead th {\n",
       "        text-align: right;\n",
       "    }\n",
       "</style>\n",
       "<table border=\"1\" class=\"dataframe\">\n",
       "  <thead>\n",
       "    <tr style=\"text-align: right;\">\n",
       "      <th></th>\n",
       "      <th>epoch</th>\n",
       "      <th>loss_avg</th>\n",
       "      <th>loss_test</th>\n",
       "      <th>acc_test</th>\n",
       "      <th>best_acc</th>\n",
       "    </tr>\n",
       "  </thead>\n",
       "  <tbody>\n",
       "    <tr>\n",
       "      <th>88</th>\n",
       "      <td>88.0</td>\n",
       "      <td>0.900472</td>\n",
       "      <td>0.835933</td>\n",
       "      <td>0.813333</td>\n",
       "      <td>0.813333</td>\n",
       "    </tr>\n",
       "  </tbody>\n",
       "</table>\n",
       "</div>"
      ],
      "text/plain": [
       "    epoch  loss_avg  loss_test  acc_test  best_acc\n",
       "88   88.0  0.900472   0.835933  0.813333  0.813333"
      ]
     },
     "execution_count": 172,
     "metadata": {},
     "output_type": "execute_result"
    }
   ],
   "source": [
    "final_results.iloc[[88]]"
   ]
  },
  {
   "cell_type": "code",
   "execution_count": 173,
   "metadata": {},
   "outputs": [
    {
     "data": {
      "image/png": "[encoded data removed]",
      "text/plain": [
       "<Figure size 432x288 with 1 Axes>"
      ]
     },
     "metadata": {
      "needs_background": "light"
     },
     "output_type": "display_data"
    }
   ],
   "source": [
    "plt.plot(final_results_S.best_acc)\n",
    "plt.plot(final_results.best_acc)\n",
    "plt.show()"
   ]
  },
  {
   "cell_type": "code",
   "execution_count": 190,
   "metadata": {},
   "outputs": [
    {
     "ename": "TypeError",
     "evalue": "type numpy.ndarray doesn't define __round__ method",
     "output_type": "error",
     "traceback": [
      "\u001b[0;31m---------------------------------------------------------------------------\u001b[0m",
      "\u001b[0;31mTypeError\u001b[0m                                 Traceback (most recent call last)",
      "\u001b[1;32m/Users/Romy/Documents/Master Thesis/Thesis_FL_Ectrie/FL_HE_2/heartdisease.ipynb Cell 14'\u001b[0m in \u001b[0;36m<cell line: 8>\u001b[0;34m()\u001b[0m\n\u001b[1;32m      <a href='vscode-notebook-cell:/Users/Romy/Documents/Master%20Thesis/Thesis_FL_Ectrie/FL_HE_2/heartdisease.ipynb#ch0000019?line=4'>5</a>\u001b[0m y_pred \u001b[39m=\u001b[39m glob_model_S(val_x_S)\u001b[39m.\u001b[39mdetach()\u001b[39m.\u001b[39mnumpy()\n\u001b[1;32m      <a href='vscode-notebook-cell:/Users/Romy/Documents/Master%20Thesis/Thesis_FL_Ectrie/FL_HE_2/heartdisease.ipynb#ch0000019?line=5'>6</a>\u001b[0m y_test \u001b[39m=\u001b[39m val_y\n\u001b[0;32m----> <a href='vscode-notebook-cell:/Users/Romy/Documents/Master%20Thesis/Thesis_FL_Ectrie/FL_HE_2/heartdisease.ipynb#ch0000019?line=7'>8</a>\u001b[0m y_pred_round \u001b[39m=\u001b[39m \u001b[39mround\u001b[39;49m(y_pred)\n",
      "\u001b[0;31mTypeError\u001b[0m: type numpy.ndarray doesn't define __round__ method"
     ]
    }
   ],
   "source": [
    "# Plot predicted vs test!\n",
    "\n",
    "import plotly.graph_objects as go\n",
    "glob_model_S.load_state_dict(model_dict_S)\n",
    "y_pred = glob_model_S(val_x_S).detach().numpy()\n",
    "y_test = val_y\n",
    "\n",
    "y_pred_round = round(y_pred)\n",
    "\n",
    "# fig = go.Figure()\n",
    " \n",
    " \n",
    "# # fig.add_trace(go.Scatter(x=np.arange(0,len(y_test)), y=y_test,\n",
    "# #                     mode='markers',\n",
    "# #                     name='Test'))\n",
    "# fig.add_trace(go.Scatter(x=np.arange(0,len(y_test)), y=y_pred,\n",
    "#                     mode='markers',\n",
    "#                     name='Pred'))"
   ]
  },
  {
   "cell_type": "code",
   "execution_count": 34,
   "metadata": {},
   "outputs": [
    {
     "name": "stdout",
     "output_type": "stream",
     "text": [
      "inter:0, mean dist: 1, n_observation:10, n_clients:2, n_features:2, mc:10, epsilon_sigma:1\n",
      "Best model, iter: 14, acc: 0.7400000095367432\n",
      "inter:1, mean dist: 1, n_observation:10, n_clients:5, n_features:2, mc:10, epsilon_sigma:1\n",
      "Best model, iter: 4, acc: 0.8199999928474426\n"
     ]
    },
    {
     "data": {
      "text/plain": [
       "{0: {'parameters': {'n_clients': 2,\n",
       "   'n_features': 2,\n",
       "   'n_observations': 10,\n",
       "   'mean_dist': 1,\n",
       "   'epsilon_sigma': 1},\n",
       "  'results': {'acc_CI_mean': array([0.73332389, 0.73887612]),\n",
       "   'KL_mean': 0.0,\n",
       "   'acc_mean': 0.7400000095367432}},\n",
       " 1: {'parameters': {'n_clients': 5,\n",
       "   'n_features': 2,\n",
       "   'n_observations': 10,\n",
       "   'mean_dist': 1,\n",
       "   'epsilon_sigma': 1},\n",
       "  'results': {'acc_CI_mean': array([0.81878082, 0.82001916]),\n",
       "   'KL_mean': -2.2204460492503132e-17,\n",
       "   'acc_mean': 0.8199999928474426}}}"
      ]
     },
     "execution_count": 34,
     "metadata": {},
     "output_type": "execute_result"
    }
   ],
   "source": [
    "N_Clients = [2, 5]\n",
    "N_Features = [2]\n",
    "N_Observations = [10]\n",
    "monte_carlo_reps = [10]\n",
    "mean_distance = [1]\n",
    "epsilon_sigmas = [1]\n",
    "run_simulations(N_Clients, N_Features, N_Observations, monte_carlo_reps, mean_distance, epsilon_sigmas)"
   ]
  },
  {
   "cell_type": "code",
   "execution_count": 187,
   "metadata": {},
   "outputs": [
    {
     "data": {
      "text/plain": [
       "0"
      ]
     },
     "execution_count": 187,
     "metadata": {},
     "output_type": "execute_result"
    }
   ],
   "source": [
    "round(0.4)"
   ]
  },
  {
   "cell_type": "code",
   "execution_count": null,
   "metadata": {},
   "outputs": [],
   "source": []
  }
 ],
 "metadata": {
  "kernelspec": {
   "display_name": "Python 3.9.7 ('thesis_fl': venv)",
   "language": "python",
   "name": "python3"
  },
  "language_info": {
   "codemirror_mode": {
    "name": "ipython",
    "version": 3
   },
   "file_extension": ".py",
   "mimetype": "text/x-python",
   "name": "python",
   "nbconvert_exporter": "python",
   "pygments_lexer": "ipython3",
   "version": "3.9.7"
  },
  "orig_nbformat": 4,
  "vscode": {
   "interpreter": {
    "hash": "69650470d3dba1dfb0173b7d578c7df4bae2b2f16b8279109af7c296623678fe"
   }
  }
 },
 "nbformat": 4,
 "nbformat_minor": 2
}
