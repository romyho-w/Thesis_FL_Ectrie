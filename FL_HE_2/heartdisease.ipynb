{
 "cells": [
  {
   "cell_type": "code",
   "execution_count": 2,
   "metadata": {},
   "outputs": [],
   "source": [
    "# hide\n",
    "%reload_ext autoreload\n",
    "%autoreload 2"
   ]
  },
  {
   "cell_type": "code",
   "execution_count": 3,
   "metadata": {},
   "outputs": [
    {
     "name": "stderr",
     "output_type": "stream",
     "text": [
      "/Users/romyho/Documents/Master_Econometrie/Thesis/Thesis_FL_Ectrie/thesis_fl/lib/python3.9/site-packages/tqdm/auto.py:22: TqdmWarning: IProgress not found. Please update jupyter and ipywidgets. See https://ipywidgets.readthedocs.io/en/stable/user_install.html\n",
      "  from .autonotebook import tqdm as notebook_tqdm\n"
     ]
    }
   ],
   "source": [
    "from dataFunction import *\n",
    "# import diffprivlib.models as dp\n",
    "import numpy as np\n",
    "import copy\n",
    "from make_logreg_data import *\n",
    "import random\n",
    "import tensorflow as tf\n",
    "from FL_utils import *\n",
    "from HE_functions import *\n",
    "from dataFunction import *\n",
    "from typing import Generator\n",
    "import tenseal as ts\n",
    "from lrClass import LR\n",
    "from simulationDataUtils import *\n",
    "import seaborn as sns\n",
    "from sklearn.linear_model import LinearRegression\n",
    "import scipy.stats as st\n",
    "from run_simulations import run_simulations\n",
    "from datetime import datetime\n",
    "import json\n",
    "random.seed(11007303)\n",
    "np.random.seed(2021)"
   ]
  },
  {
   "cell_type": "code",
   "execution_count": 4,
   "metadata": {},
   "outputs": [],
   "source": [
    "EPOCHS = 80\n",
    "poly_mod_degree = 4096\n",
    "coeff_mod_bit_sizes = [40, 20, 40]\n",
    "\n",
    "# create TenSEALContext\n",
    "ctx_eval = ts.context(ts.SCHEME_TYPE.CKKS, poly_mod_degree, -1, coeff_mod_bit_sizes)\n",
    "\n",
    "# scale of ciphertext to use\n",
    "ctx_eval.global_scale = 2 ** 20\n",
    "\n",
    "# this key is needed for doing dot-product operations\n",
    "ctx_eval.generate_galois_keys()"
   ]
  },
  {
   "cell_type": "code",
   "execution_count": 5,
   "metadata": {},
   "outputs": [],
   "source": [
    "cleveland = \"FL_HE_2/processed.cleveland.data\"\n",
    "switzerland = \"FL_HE_2/processed.switzerland.data\"\n",
    "va = \"FL_HE_2/processed.va.data\"\n",
    "hungarian = \"FL_HE_2/reprocessed.hungarian.data\"\n",
    "cleveland_df, switzerland_df, va_df, hungarian_df = import_data(cleveland, switzerland, va, hungarian)\n"
   ]
  },
  {
   "cell_type": "code",
   "execution_count": 6,
   "metadata": {},
   "outputs": [],
   "source": [
    "def average_state_dict_test(state_dicts, len_dict, keys):\n",
    "    result = {}\n",
    "    # result = copy.deepcopy(state_dicts[0])\n",
    "    for i, state_dict in enumerate(state_dicts):\n",
    "        for key in keys:\n",
    "            if i == 0:\n",
    "                result[key] =  state_dict[key]*(len_dict[i]/sum(len_dict))\n",
    "            else:\n",
    "                result[key] += state_dict[key]*(len_dict[i]/sum(len_dict))\n",
    "    return result"
   ]
  },
  {
   "cell_type": "code",
   "execution_count": 7,
   "metadata": {},
   "outputs": [],
   "source": [
    "def FL_proces_test(clients, validation_X_set, validation_y_set, ctx_eval, glob_model, iters, simulation= False, switzerland= False):\n",
    "    loss_train = []\n",
    "    net_best = None\n",
    "    best_acc = None\n",
    "    best_epoch = None\n",
    "    results = []\n",
    "    min_loss_client = []\n",
    "    glob_model.eval()\n",
    "    if switzerland:\n",
    "        client_results = {\n",
    "            'Cleveland': [],\n",
    "            'Switzerland': [],\n",
    "            'VA Long Beach': [],\n",
    "            'Hungary': []\n",
    "        }\n",
    "    else:\n",
    "        client_results = {\n",
    "            'Cleveland': [],\n",
    "            'VA Long Beach': [],\n",
    "            'Hungary': []\n",
    "            }\n",
    "    enrypted_state_dicts= None\n",
    "    acc_test, loss_test =  accuracy_loss_LR(glob_model,validation_X_set, validation_y_set, simulation)\n",
    "\n",
    "    best_acc = acc_test\n",
    "    for iter in range(iters):\n",
    "        loss_locals = []\n",
    "        client_state_dicts = []\n",
    "        client_len = []\n",
    "        for client in clients:\n",
    "            client_model = copy.deepcopy(glob_model)\n",
    "            client.set_state_dict(client_model.state_dict())\n",
    "            client_state_dict, loss = train_model_client(client, epochs=40, simulation = simulation)\n",
    "            \n",
    "            loss_locals.append(copy.deepcopy(loss))\n",
    "            min_loss_client.append(min(loss))\n",
    "            client_acc, client_loss = accuracy_loss_LR(client.model, client.X_test, client.y_test)\n",
    "            new_list = client_results.get(client.name)\n",
    "            new_list.append(client_acc)\n",
    "            client_results[client.name] = new_list\n",
    "            client_state_dicts.append(client_state_dict)\n",
    "            client_len.append(len(client.y))\n",
    "\n",
    "        enrypted_state_dicts = encrypt_state_dicts(copy.deepcopy(client_state_dicts), ctx_eval)\n",
    "        averaged_encrypted_state_dict = average_state_dict_test(enrypted_state_dicts, client_len, [k for k in enrypted_state_dicts[0]])\n",
    "        decrypted_state_dicts = decrypt_state_dicts(averaged_encrypted_state_dict)\n",
    "        glob_model.load_state_dict(decrypted_state_dicts)\n",
    "\n",
    "        loss_avg = sum(min_loss_client) / len(min_loss_client)\n",
    "        loss_train.append(loss_avg)        \n",
    "            \n",
    "        acc_test, loss_test =  accuracy_loss_LR(glob_model,validation_X_set, validation_y_set, simulation)\n",
    "\n",
    "        # print('Round {:3d}, Average loss {:.3f}, Test loss {:.3f}, Test accuracy: {:.2f}'.format(\n",
    "        #     iter, loss_avg, loss_test, acc_test))\n",
    "\n",
    "\n",
    "        if best_acc is None or acc_test > best_acc:\n",
    "            net_best = copy.deepcopy(glob_model)\n",
    "            best_acc = acc_test\n",
    "            best_epoch = iter\n",
    "\n",
    "        results.append(np.array([iter, loss_avg, loss_test, acc_test, best_acc]))\n",
    "        final_results = np.array(results)\n",
    "        final_results = pd.DataFrame(final_results, columns=['epoch', 'loss_avg', 'loss_test', 'acc_test', 'best_acc'])\n",
    "\n",
    "    # print('Best model, iter: {}, acc: {}'.format(best_epoch, best_acc))    \n",
    "    return best_epoch, best_acc, glob_model.state_dict(), final_results, client_results"
   ]
  },
  {
   "cell_type": "code",
   "execution_count": 14,
   "metadata": {},
   "outputs": [
    {
     "name": "stdout",
     "output_type": "stream",
     "text": [
      "dict_keys(['Cleveland', 'VA Long Beach', 'Hungary'])\n",
      "Index(['Age', 'Sex', 'RestingBP', 'Cholesterol', 'FastingBS', 'MaxHR',\n",
      "       'ExerciseAngina', 'Oldpeak', 'ChestPainType_1', 'ChestPainType_4',\n",
      "       'ChestPainType_3', 'ChestPainType_2', 'RestingECG_2', 'RestingECG_0',\n",
      "       'RestingECG_1', 'ST_Slope_3', 'ST_Slope_2', 'ST_Slope_1'],\n",
      "      dtype='object')\n",
      "          0         1         2\n",
      "0  0.000000  2.195766  2.491469\n",
      "1  2.578414  0.000000  2.326614\n",
      "2  1.561995  1.988351  0.000000\n",
      "KL FL mean: 2.190434912504877\n",
      "Best model, iter: 845, acc: 0.7933333516120911\n",
      "Cleveland has accuracy 0.5369442105293274\n",
      "Cleveland has max accuracy 0.8360655903816223\n",
      "Cleveland has min accuracy 0.16393442451953888\n",
      "VA Long Beach has accuracy 0.5302866697311401\n",
      "VA Long Beach has max accuracy 0.8666666746139526\n",
      "VA Long Beach has min accuracy 0.13333334028720856\n",
      "Hungary has accuracy 0.5483084321022034\n",
      "Hungary has max accuracy 0.9152542352676392\n",
      "Hungary has min accuracy 0.11864406615495682\n"
     ]
    }
   ],
   "source": [
    "df_dict_W ={\n",
    "    'Cleveland': cleveland_df,\n",
    "    # 'Switzerland': switzerland_df,\n",
    "    'VA Long Beach': va_df,\n",
    "    'Hungary': hungarian_df        \n",
    "    }\n",
    "clients_W = []\n",
    "\n",
    "for i in list(df_dict_W.keys()):\n",
    "    df = df_dict_W.get(i)\n",
    "    location_data = new_df(df, False)\n",
    "    y = location_data.HeartDisease\n",
    "    location_data = location_data.drop(columns=\"HeartDisease\")\n",
    "\n",
    "    numeric_feature_names = ['Age', 'MaxHR', 'RestingBP',  'Oldpeak', 'Cholesterol']\n",
    "    for j in numeric_feature_names:\n",
    "        if location_data[j].std() != 0: \n",
    "            location_data[j] = (location_data[j] - location_data[j].mean()) / location_data[j].std()\n",
    "    x = location_data\n",
    "    glob_model_W = LR(len(x.columns)+7)\n",
    "    client_model = copy.deepcopy(glob_model_W)\n",
    "    lr = 0.1\n",
    "    clients_W.append(Client(i, x, y, client_model, lr, torch.nn.BCELoss(reduction='mean'), None))\n",
    "cat_bin_features = ['Sex', 'ChestPainType',  'FastingBS', 'RestingECG','ExerciseAngina', 'ST_Slope']\n",
    "KL_W = KL_matrices_disc_cont(clients_W, cat_bin_features, numeric_feature_names)\n",
    "KL_mean_W = (np.array(KL_W)[np.triu_indices(len(clients_W), k=1)].mean() + np.array(KL_W)[np.tril_indices(len(clients_W), -1)].mean()) /2\n",
    "cat_feat = ['ChestPainType', 'RestingECG', 'ST_Slope']\n",
    "for i in clients_W:\n",
    "    i.make_dummies(cat_feat)\n",
    "    i.make_test()\n",
    "glob_model = LR(len(clients_W[0].X.columns))\n",
    "val_x_W, val_y_W = make_validation_sets(clients_W)\n",
    "\n",
    "best_epoch_W, best_acc_W, model_dict_W, final_results_W, client_results_W = FL_proces_test(clients_W, val_x_W, val_y_W, ctx_eval, glob_model_W, 10000, False, False)\n",
    "print(df_dict_W.keys())\n",
    "print(clients_W[0].X.columns)\n",
    "print(KL_W)\n",
    "print('KL FL mean: {}'.format(KL_mean_W))\n",
    "print('Best model, iter: {}, acc: {}'.format(best_epoch_W, best_acc_W))  \n",
    "for i in list(client_results_W.keys()):\n",
    "    list_client = client_results_W.get(i)\n",
    "    print('{} has accuracy {}'. format(i, np.mean(list_client)))\n",
    "    print('{} has max accuracy {}'. format(i, np.max(list_client)))\n",
    "    print('{} has min accuracy {}'. format(i, np.min(list_client)))\n"
   ]
  },
  {
   "cell_type": "code",
   "execution_count": 15,
   "metadata": {},
   "outputs": [
    {
     "name": "stdout",
     "output_type": "stream",
     "text": [
      "dict_keys(['Cleveland', 'Switzerland', 'VA Long Beach', 'Hungary'])\n",
      "Index(['Age', 'Sex', 'RestingBP', 'FastingBS', 'MaxHR', 'ExerciseAngina',\n",
      "       'Oldpeak', 'ChestPainType_1', 'ChestPainType_4', 'ChestPainType_3',\n",
      "       'ChestPainType_2', 'RestingECG_2', 'RestingECG_0', 'RestingECG_1',\n",
      "       'ST_Slope_3', 'ST_Slope_2', 'ST_Slope_1'],\n",
      "      dtype='object')\n",
      "          0         1         2         3\n",
      "0  0.000000  1.735963  2.183113  2.466082\n",
      "1  1.591768  0.000000  0.709178  1.352810\n",
      "2  2.558419  0.878337  0.000000  2.320192\n",
      "3  1.539079  1.345990  1.981744  0.000000\n",
      "KL FL mean: 1.7218895712985067\n",
      "Best model, iter: 14, acc: 0.7599999904632568\n",
      "Cleveland has accuracy 0.5243065357208252\n",
      "Cleveland has max accuracy 0.868852436542511\n",
      "Cleveland has min accuracy 0.13114753365516663\n",
      "Switzerland has accuracy 0.5081599354743958\n",
      "Switzerland has max accuracy 0.9599999785423279\n",
      "Switzerland has min accuracy 0.0\n",
      "VA Long Beach has accuracy 0.5172533392906189\n",
      "VA Long Beach has max accuracy 0.8666666746139526\n",
      "VA Long Beach has min accuracy 0.13333334028720856\n",
      "Hungary has accuracy 0.5390254259109497\n",
      "Hungary has max accuracy 0.9152542352676392\n",
      "Hungary has min accuracy 0.11864406615495682\n"
     ]
    }
   ],
   "source": [
    "df_dict_SW ={\n",
    "    'Cleveland': cleveland_df,\n",
    "    'Switzerland': switzerland_df,\n",
    "    'VA Long Beach': va_df,\n",
    "    'Hungary': hungarian_df        \n",
    "    }\n",
    "clients_SW = []\n",
    "\n",
    "for i in list(df_dict_SW.keys()):\n",
    "    df = df_dict_SW.get(i)\n",
    "    location_data = new_df(df)\n",
    "    y = location_data.HeartDisease\n",
    "    location_data = location_data.drop(columns=\"HeartDisease\")\n",
    "\n",
    "    numeric_feature_names_SW = ['Age', 'MaxHR', 'RestingBP',  'Oldpeak']\n",
    "    for j in numeric_feature_names_SW:\n",
    "        if location_data[j].std() != 0: \n",
    "            location_data[j] = (location_data[j] - location_data[j].mean()) / location_data[j].std()\n",
    "    x = location_data\n",
    "    glob_model_SW = LR(len(x.columns)+7)\n",
    "    client_model = copy.deepcopy(glob_model_SW)\n",
    "    lr = 0.1\n",
    "    clients_SW.append(Client(i, x, y, client_model, lr, torch.nn.BCELoss(reduction='mean'), None))\n",
    "cat_bin_features = ['Sex', 'ChestPainType',  'FastingBS', 'RestingECG','ExerciseAngina', 'ST_Slope']\n",
    "KL_SW = KL_matrices_disc_cont(clients_SW, cat_bin_features, numeric_feature_names_SW)\n",
    "KL_mean_S = (np.array(KL_SW)[np.triu_indices(len(clients_SW), k=1)].mean() + np.array(KL_SW)[np.tril_indices(len(clients_SW), -1)].mean()) /2\n",
    "cat_feat = ['ChestPainType', 'RestingECG', 'ST_Slope']\n",
    "for i in clients_SW:\n",
    "    i.make_dummies(cat_feat)\n",
    "    i.make_test()\n",
    "glob_model_S = LR(len(clients_SW[0].X.columns))\n",
    "val_x_SW, val_y_SW = make_validation_sets(clients_SW)\n",
    "\n",
    "best_epoch_SW, best_acc_SW, model_dict_SW, final_results_SW, client_results_SW = FL_proces_test(clients_SW, val_x_SW, val_y_SW, ctx_eval, glob_model_SW, 10000, False, True)\n",
    "print(df_dict_SW.keys())\n",
    "print(clients_SW[0].X.columns)\n",
    "print(KL_SW)\n",
    "print('KL FL mean: {}'.format(KL_mean_S))\n",
    "print('Best model, iter: {}, acc: {}'.format(best_epoch_SW, best_acc_SW))  \n",
    "for i in list(client_results_SW.keys()):\n",
    "    list_client = client_results_SW.get(i)\n",
    "    print('{} has accuracy {}'. format(i, np.mean(list_client)))\n",
    "    print('{} has max accuracy {}'. format(i, np.max(list_client)))\n",
    "    print('{} has min accuracy {}'. format(i, np.min(list_client)))\n"
   ]
  },
  {
   "cell_type": "code",
   "execution_count": 16,
   "metadata": {},
   "outputs": [],
   "source": [
    "df_dict ={\n",
    "    'Cleveland': cleveland_df,\n",
    "    # 'Switzerland': switzerland_df,\n",
    "    'VA Long Beach': va_df,\n",
    "    'Hungary': hungarian_df        \n",
    "    }\n",
    "clients = []\n",
    "\n",
    "for i in list(df_dict.keys()):\n",
    "    df = df_dict.get(i)\n",
    "    location_data = new_df(df, False)\n",
    "    y = location_data.HeartDisease\n",
    "    location_data = location_data.drop(columns=\"HeartDisease\")\n",
    "\n",
    "    numeric_feature_names = ['Age', 'MaxHR', 'RestingBP',  'Oldpeak', 'Cholesterol']\n",
    "    for j in numeric_feature_names:\n",
    "        if location_data[j].std() != 0: \n",
    "            location_data[j] = (location_data[j] - location_data[j].mean()) / location_data[j].std()\n",
    "    x = location_data\n",
    "    glob_model = LR(len(x.columns)+7)\n",
    "    client_model = copy.deepcopy(glob_model)\n",
    "    lr = 0.1\n",
    "    clients.append(Client(i, x, y, client_model, lr, torch.nn.BCELoss(reduction='mean'), None))\n",
    "cat_bin_features = ['Sex', 'ChestPainType',  'FastingBS', 'RestingECG','ExerciseAngina', 'ST_Slope']\n",
    "KL = KL_matrices_disc_cont(clients, cat_bin_features, numeric_feature_names)\n",
    "KL_mean = (np.array(KL)[np.triu_indices(len(clients), k=1)].mean() + np.array(KL)[np.tril_indices(len(clients), -1)].mean()) /2\n",
    "cat_feat = ['ChestPainType', 'RestingECG', 'ST_Slope']\n",
    "for i in clients:\n",
    "    i.make_dummies(cat_feat)\n",
    "    i.make_test()\n",
    "glob_model = LR(len(clients[0].X.columns))\n",
    "val_x, val_y = make_validation_sets(clients)\n",
    "\n",
    "best_epoch, best_acc, model_dict, final_results , client_results = FL_proces(clients, val_x, val_y, ctx_eval, glob_model, 10000, False, False)\n",
    "print(df_dict.keys())\n",
    "print(clients[0].X.columns)\n",
    "print(KL)\n",
    "print('KL FL mean: {}'.format(KL_mean))\n",
    "print('Best model, iter: {}, acc: {}'.format(best_epoch, best_acc))  \n",
    "for i in list(client_results.keys()):\n",
    "    list_client = client_results.get(i)\n",
    "    print('{} has accuracy {}'. format(i, np.mean(list_client)))\n",
    "    print('{} has max accuracy {}'. format(i, np.max(list_client)))\n",
    "    print('{} has min accuracy {}'. format(i, np.min(list_client)))\n"
   ]
  },
  {
   "cell_type": "code",
   "execution_count": null,
   "metadata": {},
   "outputs": [
    {
     "name": "stdout",
     "output_type": "stream",
     "text": [
      "dict_keys(['Cleveland', 'Switzerland', 'VA Long Beach', 'Hungary'])\n",
      "Index(['Age', 'Sex', 'RestingBP', 'Cholesterol', 'FastingBS', 'MaxHR',\n",
      "       'ExerciseAngina', 'Oldpeak', 'ChestPainType_1', 'ChestPainType_4',\n",
      "       'ChestPainType_3', 'ChestPainType_2', 'RestingECG_2', 'RestingECG_0',\n",
      "       'RestingECG_1', 'ST_Slope_3', 'ST_Slope_2', 'ST_Slope_1'],\n",
      "      dtype='object')\n",
      "          0             1         2         3\n",
      "0  0.000000  1.748567e+00  2.183113  2.466082\n",
      "1  1.595784 -2.220446e-16  0.706801  1.348535\n",
      "2  2.558419  8.792501e-01  0.000000  2.320192\n",
      "3  1.539079  1.348049e+00  1.981744  0.000000\n",
      "KL FL mean: 1.7229679340099695\n",
      "Best model, iter: 67, acc: 0.5657142996788025\n",
      "Cleveland has accuracy 0.524590015411377\n",
      "Switzerland has accuracy 0.8399999141693115\n",
      "VA Long Beach has accuracy 0.8646667003631592\n",
      "Hungary has accuracy 0.32203391194343567\n"
     ]
    }
   ],
   "source": [
    "df_dict_S ={\n",
    "    'Cleveland': cleveland_df,\n",
    "    'Switzerland': switzerland_df,\n",
    "    'VA Long Beach': va_df,\n",
    "    'Hungary': hungarian_df        \n",
    "    }\n",
    "clients_S = []\n",
    "\n",
    "for i in list(df_dict_S.keys()):\n",
    "    df = df_dict_S.get(i)\n",
    "    location_data = new_df(df, False)\n",
    "    y = location_data.HeartDisease\n",
    "    location_data = location_data.drop(columns=\"HeartDisease\")\n",
    "\n",
    "    numeric_feature_names_S = ['Age', 'MaxHR', 'RestingBP',  'Oldpeak']\n",
    "    for j in numeric_feature_names_S:\n",
    "        if location_data[j].std() != 0: \n",
    "            location_data[j] = (location_data[j] - location_data[j].mean()) / location_data[j].std()\n",
    "    x = location_data\n",
    "    # print(y.value_counts())\n",
    "    glob_model_S = LR(len(x.columns)+7)\n",
    "    client_model = copy.deepcopy(glob_model_S)\n",
    "    lr = 0.1\n",
    "    clients_S.append(Client(i, x, y, client_model, lr, torch.nn.BCELoss(reduction='mean'), None))\n",
    "cat_bin_features = ['Sex', 'ChestPainType',  'FastingBS', 'RestingECG','ExerciseAngina', 'ST_Slope']\n",
    "KL_S = KL_matrices_disc_cont(clients_S, cat_bin_features, numeric_feature_names_S)\n",
    "KL_mean_S = (np.array(KL_S)[np.triu_indices(len(clients_S), k=1)].mean() + np.array(KL_S)[np.tril_indices(len(clients_S), -1)].mean()) /2\n",
    "cat_feat = ['ChestPainType', 'RestingECG', 'ST_Slope']\n",
    "for i in clients_S:\n",
    "    i.make_dummies(cat_feat)\n",
    "    i.make_test()\n",
    "glob_model_S = LR(len(clients_S[0].X.columns))\n",
    "val_x_S, val_y_S = make_validation_sets(clients_S)\n",
    "\n",
    "best_epoch_S, best_acc_S, model_dict_S, final_results_S, client_results_S = FL_proces(clients_S, val_x_S, val_y_S, ctx_eval, glob_model_S, 10000, False, True)\n",
    "print(df_dict_S.keys())\n",
    "print(clients_S[0].X.columns)\n",
    "print(KL_S)\n",
    "print('KL FL mean: {}'.format(KL_mean_S))\n",
    "print('Best model, iter: {}, acc: {}'.format(best_epoch_S, best_acc_S))  \n",
    "for i in list(client_results_S.keys()):\n",
    "    list_client = client_results_S.get(i)\n",
    "    print('{} has mean accuracy {}'. format(i, np.mean(list_client)))\n",
    "    print('{} has max accuracy {}'. format(i, np.max(list_client)))\n",
    "    print('{} has min accuracy {}'. format(i, np.min(list_client)))\n",
    "\n"
   ]
  },
  {
   "cell_type": "code",
   "execution_count": 76,
   "metadata": {},
   "outputs": [
    {
     "data": {
      "image/png": "[encoded data removed]",
      "text/plain": [
       "<Figure size 432x288 with 1 Axes>"
      ]
     },
     "metadata": {
      "needs_background": "light"
     },
     "output_type": "display_data"
    }
   ],
   "source": [
    "plt.plot(final_results_S.best_acc)\n",
    "plt.plot(final_results.best_acc)\n",
    "plt.plot(final_results_SW.best_acc)\n",
    "plt.plot(final_results_W.best_acc)\n",
    "# plt.plot(final_results_S.loss_test)\n",
    "# plt.plot(final_results.loss_test)\n",
    "# plt.plot(final_results_SW.loss_test)\n",
    "# plt.plot(final_results_W.loss_test)\n",
    "plt.show()"
   ]
  },
  {
   "cell_type": "code",
   "execution_count": null,
   "metadata": {},
   "outputs": [
    {
     "data": {
      "text/plain": [
       "<matplotlib.legend.Legend at 0x7ff00532d7c0>"
      ]
     },
     "execution_count": 169,
     "metadata": {},
     "output_type": "execute_result"
    },
    {
     "data": {
      "image/png": "[encoded data removed]",
      "text/plain": [
       "<Figure size 432x288 with 1 Axes>"
      ]
     },
     "metadata": {
      "needs_background": "light"
     },
     "output_type": "display_data"
    }
   ],
   "source": [
    "for i in list(client_results_SW.keys()):\n",
    "    list_client = client_results_SW.get(i)\n",
    "    plt.plot(list_client[0:best_epoch_SW+1], label = i)\n",
    "plt.plot(final_results_SW.best_acc[0:best_epoch_SW+1], label ='FL')\n",
    "plt.legend()"
   ]
  },
  {
   "cell_type": "code",
   "execution_count": null,
   "metadata": {},
   "outputs": [
    {
     "data": {
      "text/plain": [
       "dict_keys(['Cleveland', 'Switzerland', 'VA Long Beach', 'Hungary'])"
      ]
     },
     "execution_count": 124,
     "metadata": {},
     "output_type": "execute_result"
    }
   ],
   "source": [
    "client_results_W.keys()"
   ]
  },
  {
   "cell_type": "code",
   "execution_count": null,
   "metadata": {},
   "outputs": [
    {
     "data": {
      "text/plain": [
       "<matplotlib.legend.Legend at 0x7ff00489a880>"
      ]
     },
     "execution_count": 170,
     "metadata": {},
     "output_type": "execute_result"
    },
    {
     "data": {
      "image/png": "[encoded data removed]",
      "text/plain": [
       "<Figure size 432x288 with 1 Axes>"
      ]
     },
     "metadata": {
      "needs_background": "light"
     },
     "output_type": "display_data"
    }
   ],
   "source": [
    "for i in list(client_results_W.keys()):\n",
    "    list_client = client_results_W.get(i)\n",
    "    plt.plot(list_client[0:best_epoch_W+1], label = i)\n",
    "plt.plot(final_results_W.best_acc[0:best_epoch_W+1], label ='FL')\n",
    "plt.legend()"
   ]
  },
  {
   "cell_type": "code",
   "execution_count": null,
   "metadata": {},
   "outputs": [
    {
     "data": {
      "text/plain": [
       "<matplotlib.legend.Legend at 0x7fefe8517670>"
      ]
     },
     "execution_count": 167,
     "metadata": {},
     "output_type": "execute_result"
    },
    {
     "data": {
      "image/png": "[encoded data removed]",
      "text/plain": [
       "<Figure size 432x288 with 1 Axes>"
      ]
     },
     "metadata": {
      "needs_background": "light"
     },
     "output_type": "display_data"
    }
   ],
   "source": [
    "for i in list(client_results.keys()):\n",
    "    list_client = client_results.get(i)\n",
    "    plt.plot(list_client[0:best_epoch+1], label = i)\n",
    "plt.plot(final_results.best_acc[0:best_epoch+1], label ='FL')\n",
    "plt.legend()"
   ]
  },
  {
   "cell_type": "code",
   "execution_count": null,
   "metadata": {},
   "outputs": [
    {
     "data": {
      "text/plain": [
       "<matplotlib.legend.Legend at 0x7fefefb1fe80>"
      ]
     },
     "execution_count": 171,
     "metadata": {},
     "output_type": "execute_result"
    },
    {
     "data": {
      "image/png": "[encoded data removed]",
      "text/plain": [
       "<Figure size 432x288 with 1 Axes>"
      ]
     },
     "metadata": {
      "needs_background": "light"
     },
     "output_type": "display_data"
    }
   ],
   "source": [
    "for i in list(client_results_S.keys()):\n",
    "    list_client = client_results_S.get(i)\n",
    "    plt.plot(list_client[0:best_epoch_S+1], label = i)\n",
    "plt.plot(final_results_S.best_acc[0:best_epoch_S+1], label ='FL')\n",
    "plt.legend()"
   ]
  },
  {
   "cell_type": "code",
   "execution_count": 1,
   "metadata": {},
   "outputs": [
    {
     "ename": "NameError",
     "evalue": "name 'pd' is not defined",
     "output_type": "error",
     "traceback": [
      "\u001b[0;31m---------------------------------------------------------------------------\u001b[0m",
      "\u001b[0;31mNameError\u001b[0m                                 Traceback (most recent call last)",
      "\u001b[1;32m/Users/romyho/Documents/Master_Econometrie/Thesis/Thesis_FL_Ectrie/FL_HE_2/heartdisease.ipynb Cell 1'\u001b[0m in \u001b[0;36m<cell line: 1>\u001b[0;34m()\u001b[0m\n\u001b[0;32m----> <a href='vscode-notebook-cell:/Users/romyho/Documents/Master_Econometrie/Thesis/Thesis_FL_Ectrie/FL_HE_2/heartdisease.ipynb#ch0000000?line=0'>1</a>\u001b[0m pd\u001b[39m.\u001b[39mDataFrame(client_results_S)\u001b[39m.\u001b[39mdescribe\n",
      "\u001b[0;31mNameError\u001b[0m: name 'pd' is not defined"
     ]
    }
   ],
   "source": [
    "pd.DataFrame(client_results_S).describe"
   ]
  },
  {
   "cell_type": "code",
   "execution_count": 112,
   "metadata": {},
   "outputs": [
    {
     "data": {
      "text/plain": [
       "[tensor(0.3220),\n",
       " tensor(0.3220),\n",
       " tensor(0.3220),\n",
       " tensor(0.3220),\n",
       " tensor(0.3220),\n",
       " tensor(0.3220),\n",
       " tensor(0.3220),\n",
       " tensor(0.3220),\n",
       " tensor(0.3220),\n",
       " tensor(0.3220),\n",
       " tensor(0.3220),\n",
       " tensor(0.3220),\n",
       " tensor(0.3220),\n",
       " tensor(0.3220),\n",
       " tensor(0.3220),\n",
       " tensor(0.3220),\n",
       " tensor(0.3220),\n",
       " tensor(0.3220),\n",
       " tensor(0.3220),\n",
       " tensor(0.3220),\n",
       " tensor(0.3220),\n",
       " tensor(0.3220),\n",
       " tensor(0.3220),\n",
       " tensor(0.3220),\n",
       " tensor(0.3220),\n",
       " tensor(0.3220),\n",
       " tensor(0.3220),\n",
       " tensor(0.3220),\n",
       " tensor(0.3220),\n",
       " tensor(0.3220),\n",
       " tensor(0.3220),\n",
       " tensor(0.3220),\n",
       " tensor(0.3220),\n",
       " tensor(0.3220),\n",
       " tensor(0.3220),\n",
       " tensor(0.3220),\n",
       " tensor(0.3220),\n",
       " tensor(0.3220),\n",
       " tensor(0.3220),\n",
       " tensor(0.3220),\n",
       " tensor(0.3220),\n",
       " tensor(0.3220),\n",
       " tensor(0.3220),\n",
       " tensor(0.3220),\n",
       " tensor(0.3220),\n",
       " tensor(0.3220),\n",
       " tensor(0.3220),\n",
       " tensor(0.3220),\n",
       " tensor(0.3220),\n",
       " tensor(0.3220),\n",
       " tensor(0.3220),\n",
       " tensor(0.3220),\n",
       " tensor(0.3220),\n",
       " tensor(0.3220),\n",
       " tensor(0.3220),\n",
       " tensor(0.3220),\n",
       " tensor(0.3220),\n",
       " tensor(0.3220),\n",
       " tensor(0.3220),\n",
       " tensor(0.3220),\n",
       " tensor(0.3220),\n",
       " tensor(0.3220),\n",
       " tensor(0.3220),\n",
       " tensor(0.3220),\n",
       " tensor(0.3220),\n",
       " tensor(0.3220),\n",
       " tensor(0.3220),\n",
       " tensor(0.3220),\n",
       " tensor(0.3220),\n",
       " tensor(0.3220),\n",
       " tensor(0.3220),\n",
       " tensor(0.3220),\n",
       " tensor(0.3220),\n",
       " tensor(0.3220),\n",
       " tensor(0.3220),\n",
       " tensor(0.3220),\n",
       " tensor(0.3220),\n",
       " tensor(0.3220),\n",
       " tensor(0.3220),\n",
       " tensor(0.3220),\n",
       " tensor(0.3220),\n",
       " tensor(0.3220),\n",
       " tensor(0.3220),\n",
       " tensor(0.3220),\n",
       " tensor(0.3220),\n",
       " tensor(0.3220),\n",
       " tensor(0.3220),\n",
       " tensor(0.3220),\n",
       " tensor(0.3220),\n",
       " tensor(0.3220),\n",
       " tensor(0.3220),\n",
       " tensor(0.3220),\n",
       " tensor(0.3220),\n",
       " tensor(0.3220),\n",
       " tensor(0.3220),\n",
       " tensor(0.3220),\n",
       " tensor(0.3220),\n",
       " tensor(0.3220),\n",
       " tensor(0.3220),\n",
       " tensor(0.3220),\n",
       " tensor(0.3220),\n",
       " tensor(0.3220),\n",
       " tensor(0.3220),\n",
       " tensor(0.3220),\n",
       " tensor(0.3220),\n",
       " tensor(0.3220),\n",
       " tensor(0.3220),\n",
       " tensor(0.3220),\n",
       " tensor(0.3220),\n",
       " tensor(0.3220),\n",
       " tensor(0.3220),\n",
       " tensor(0.3220),\n",
       " tensor(0.3220),\n",
       " tensor(0.3220),\n",
       " tensor(0.3220),\n",
       " tensor(0.3220),\n",
       " tensor(0.3220),\n",
       " tensor(0.3220),\n",
       " tensor(0.3220),\n",
       " tensor(0.3220),\n",
       " tensor(0.3220),\n",
       " tensor(0.3220),\n",
       " tensor(0.3220),\n",
       " tensor(0.3220),\n",
       " tensor(0.3220),\n",
       " tensor(0.3220),\n",
       " tensor(0.3220),\n",
       " tensor(0.3220),\n",
       " tensor(0.3220),\n",
       " tensor(0.3220),\n",
       " tensor(0.3220),\n",
       " tensor(0.3220),\n",
       " tensor(0.3220),\n",
       " tensor(0.3220),\n",
       " tensor(0.3220),\n",
       " tensor(0.3220),\n",
       " tensor(0.3220),\n",
       " tensor(0.3220),\n",
       " tensor(0.3220),\n",
       " tensor(0.3220),\n",
       " tensor(0.3220),\n",
       " tensor(0.3220),\n",
       " tensor(0.3220),\n",
       " tensor(0.3220),\n",
       " tensor(0.3220),\n",
       " tensor(0.3220),\n",
       " tensor(0.3220),\n",
       " tensor(0.3220),\n",
       " tensor(0.3220),\n",
       " tensor(0.3220),\n",
       " tensor(0.3220),\n",
       " tensor(0.3220),\n",
       " tensor(0.3220),\n",
       " tensor(0.3220),\n",
       " tensor(0.3220),\n",
       " tensor(0.3220),\n",
       " tensor(0.3220),\n",
       " tensor(0.3220),\n",
       " tensor(0.3220),\n",
       " tensor(0.3220),\n",
       " tensor(0.3220),\n",
       " tensor(0.3220),\n",
       " tensor(0.3220),\n",
       " tensor(0.3220),\n",
       " tensor(0.3220),\n",
       " tensor(0.3220),\n",
       " tensor(0.3220),\n",
       " tensor(0.3220),\n",
       " tensor(0.3220),\n",
       " tensor(0.3220),\n",
       " tensor(0.3220),\n",
       " tensor(0.3220),\n",
       " tensor(0.3220),\n",
       " tensor(0.3220),\n",
       " tensor(0.3220),\n",
       " tensor(0.3220),\n",
       " tensor(0.3220),\n",
       " tensor(0.3220),\n",
       " tensor(0.3220),\n",
       " tensor(0.3220),\n",
       " tensor(0.3220),\n",
       " tensor(0.3220),\n",
       " tensor(0.3220),\n",
       " tensor(0.3220),\n",
       " tensor(0.3220),\n",
       " tensor(0.3220),\n",
       " tensor(0.3220),\n",
       " tensor(0.3220),\n",
       " tensor(0.3220),\n",
       " tensor(0.3220),\n",
       " tensor(0.3220),\n",
       " tensor(0.3220),\n",
       " tensor(0.3220),\n",
       " tensor(0.3220),\n",
       " tensor(0.3220),\n",
       " tensor(0.3220),\n",
       " tensor(0.3220),\n",
       " tensor(0.3220),\n",
       " tensor(0.3220),\n",
       " tensor(0.3220),\n",
       " tensor(0.3220),\n",
       " tensor(0.3220),\n",
       " tensor(0.3220),\n",
       " tensor(0.3220),\n",
       " tensor(0.3220),\n",
       " tensor(0.3220),\n",
       " tensor(0.3220),\n",
       " tensor(0.3220),\n",
       " tensor(0.3220),\n",
       " tensor(0.3220),\n",
       " tensor(0.3220),\n",
       " tensor(0.3220),\n",
       " tensor(0.3220),\n",
       " tensor(0.3220),\n",
       " tensor(0.3220),\n",
       " tensor(0.3220),\n",
       " tensor(0.3220),\n",
       " tensor(0.3220),\n",
       " tensor(0.3220),\n",
       " tensor(0.3220),\n",
       " tensor(0.3220),\n",
       " tensor(0.3220),\n",
       " tensor(0.3220),\n",
       " tensor(0.3220),\n",
       " tensor(0.3220),\n",
       " tensor(0.3220),\n",
       " tensor(0.3220),\n",
       " tensor(0.3220),\n",
       " tensor(0.3220),\n",
       " tensor(0.3220),\n",
       " tensor(0.3220),\n",
       " tensor(0.3220),\n",
       " tensor(0.3220),\n",
       " tensor(0.3220),\n",
       " tensor(0.3220),\n",
       " tensor(0.3220),\n",
       " tensor(0.3220),\n",
       " tensor(0.3220),\n",
       " tensor(0.3220),\n",
       " tensor(0.3220),\n",
       " tensor(0.3220),\n",
       " tensor(0.3220),\n",
       " tensor(0.3220),\n",
       " tensor(0.3220),\n",
       " tensor(0.3220),\n",
       " tensor(0.3220),\n",
       " tensor(0.3220),\n",
       " tensor(0.3220),\n",
       " tensor(0.3220),\n",
       " tensor(0.3220),\n",
       " tensor(0.3220),\n",
       " tensor(0.3220),\n",
       " tensor(0.3220),\n",
       " tensor(0.3220),\n",
       " tensor(0.3220),\n",
       " tensor(0.3220),\n",
       " tensor(0.3220),\n",
       " tensor(0.3220),\n",
       " tensor(0.3220),\n",
       " tensor(0.3220),\n",
       " tensor(0.3220),\n",
       " tensor(0.3220),\n",
       " tensor(0.3220),\n",
       " tensor(0.3220),\n",
       " tensor(0.3220),\n",
       " tensor(0.3220),\n",
       " tensor(0.3220),\n",
       " tensor(0.3220),\n",
       " tensor(0.3220),\n",
       " tensor(0.3220),\n",
       " tensor(0.3220),\n",
       " tensor(0.3220),\n",
       " tensor(0.3220),\n",
       " tensor(0.3220),\n",
       " tensor(0.3220),\n",
       " tensor(0.3220),\n",
       " tensor(0.3220),\n",
       " tensor(0.3220),\n",
       " tensor(0.3220),\n",
       " tensor(0.3220),\n",
       " tensor(0.3220),\n",
       " tensor(0.3220),\n",
       " tensor(0.3220),\n",
       " tensor(0.3220),\n",
       " tensor(0.3220),\n",
       " tensor(0.3220),\n",
       " tensor(0.3220),\n",
       " tensor(0.3220),\n",
       " tensor(0.3220),\n",
       " tensor(0.3220),\n",
       " tensor(0.3220),\n",
       " tensor(0.3220),\n",
       " tensor(0.3220),\n",
       " tensor(0.3220),\n",
       " tensor(0.3220),\n",
       " tensor(0.3220),\n",
       " tensor(0.3220),\n",
       " tensor(0.3220),\n",
       " tensor(0.3220),\n",
       " tensor(0.3220),\n",
       " tensor(0.3220),\n",
       " tensor(0.3220),\n",
       " tensor(0.3220),\n",
       " tensor(0.3220),\n",
       " tensor(0.3220),\n",
       " tensor(0.3220),\n",
       " tensor(0.3220),\n",
       " tensor(0.3220),\n",
       " tensor(0.3220),\n",
       " tensor(0.3220),\n",
       " tensor(0.3220),\n",
       " tensor(0.3220),\n",
       " tensor(0.3220),\n",
       " tensor(0.3220),\n",
       " tensor(0.3220),\n",
       " tensor(0.3220),\n",
       " tensor(0.3220),\n",
       " tensor(0.3220),\n",
       " tensor(0.3220),\n",
       " tensor(0.3220),\n",
       " tensor(0.3220),\n",
       " tensor(0.3220),\n",
       " tensor(0.3220),\n",
       " tensor(0.3220),\n",
       " tensor(0.3220),\n",
       " tensor(0.3220),\n",
       " tensor(0.3220),\n",
       " tensor(0.3220),\n",
       " tensor(0.3220),\n",
       " tensor(0.3220),\n",
       " tensor(0.3220),\n",
       " tensor(0.3220),\n",
       " tensor(0.3220),\n",
       " tensor(0.3220),\n",
       " tensor(0.3220),\n",
       " tensor(0.3220),\n",
       " tensor(0.3220),\n",
       " tensor(0.3220),\n",
       " tensor(0.3220),\n",
       " tensor(0.3220),\n",
       " tensor(0.3220),\n",
       " tensor(0.3220),\n",
       " tensor(0.3220),\n",
       " tensor(0.3220),\n",
       " tensor(0.3220),\n",
       " tensor(0.3220),\n",
       " tensor(0.3220),\n",
       " tensor(0.3220),\n",
       " tensor(0.3220),\n",
       " tensor(0.3220),\n",
       " tensor(0.3220),\n",
       " tensor(0.3220),\n",
       " tensor(0.3220),\n",
       " tensor(0.3220),\n",
       " tensor(0.3220),\n",
       " tensor(0.3220),\n",
       " tensor(0.3220),\n",
       " tensor(0.3220),\n",
       " tensor(0.3220),\n",
       " tensor(0.3220),\n",
       " tensor(0.3220),\n",
       " tensor(0.3220),\n",
       " tensor(0.3220),\n",
       " tensor(0.3220),\n",
       " tensor(0.3220),\n",
       " tensor(0.3220),\n",
       " tensor(0.3220),\n",
       " tensor(0.3220),\n",
       " tensor(0.3220),\n",
       " tensor(0.3220),\n",
       " tensor(0.3220),\n",
       " tensor(0.3220),\n",
       " tensor(0.3220),\n",
       " tensor(0.3220),\n",
       " tensor(0.3220),\n",
       " tensor(0.3220),\n",
       " tensor(0.3220),\n",
       " tensor(0.3220),\n",
       " tensor(0.3220),\n",
       " tensor(0.3220),\n",
       " tensor(0.3220),\n",
       " tensor(0.3220),\n",
       " tensor(0.3220),\n",
       " tensor(0.3220),\n",
       " tensor(0.3220),\n",
       " tensor(0.3220),\n",
       " tensor(0.3220),\n",
       " tensor(0.3220),\n",
       " tensor(0.3220),\n",
       " tensor(0.3220),\n",
       " tensor(0.3220),\n",
       " tensor(0.3220),\n",
       " tensor(0.3220),\n",
       " tensor(0.3220),\n",
       " tensor(0.3220),\n",
       " tensor(0.3220),\n",
       " tensor(0.3220),\n",
       " tensor(0.3220),\n",
       " tensor(0.3220),\n",
       " tensor(0.3220),\n",
       " tensor(0.3220),\n",
       " tensor(0.3220),\n",
       " tensor(0.3220),\n",
       " tensor(0.3220),\n",
       " tensor(0.3220),\n",
       " tensor(0.3220),\n",
       " tensor(0.3220),\n",
       " tensor(0.3220),\n",
       " tensor(0.3220),\n",
       " tensor(0.3220),\n",
       " tensor(0.3220),\n",
       " tensor(0.3220),\n",
       " tensor(0.3220),\n",
       " tensor(0.3220),\n",
       " tensor(0.3220),\n",
       " tensor(0.3220),\n",
       " tensor(0.3220),\n",
       " tensor(0.3220),\n",
       " tensor(0.3220),\n",
       " tensor(0.3220),\n",
       " tensor(0.3220),\n",
       " tensor(0.3220),\n",
       " tensor(0.3220),\n",
       " tensor(0.3220),\n",
       " tensor(0.3220),\n",
       " tensor(0.3220),\n",
       " tensor(0.3220),\n",
       " tensor(0.3220),\n",
       " tensor(0.3220),\n",
       " tensor(0.3220),\n",
       " tensor(0.3220),\n",
       " tensor(0.3220),\n",
       " tensor(0.3220),\n",
       " tensor(0.3220),\n",
       " tensor(0.3220),\n",
       " tensor(0.3220),\n",
       " tensor(0.3220),\n",
       " tensor(0.3220),\n",
       " tensor(0.3220),\n",
       " tensor(0.3220),\n",
       " tensor(0.3220),\n",
       " tensor(0.3220),\n",
       " tensor(0.3220),\n",
       " tensor(0.3220),\n",
       " tensor(0.3220),\n",
       " tensor(0.3220),\n",
       " tensor(0.3220),\n",
       " tensor(0.3220),\n",
       " tensor(0.3220),\n",
       " tensor(0.3220),\n",
       " tensor(0.3220),\n",
       " tensor(0.3220),\n",
       " tensor(0.3220),\n",
       " tensor(0.3220),\n",
       " tensor(0.3220),\n",
       " tensor(0.3220),\n",
       " tensor(0.3220),\n",
       " tensor(0.3220),\n",
       " tensor(0.3220),\n",
       " tensor(0.3220),\n",
       " tensor(0.3220),\n",
       " tensor(0.3220),\n",
       " tensor(0.3220),\n",
       " tensor(0.3220),\n",
       " tensor(0.3220),\n",
       " tensor(0.3220),\n",
       " tensor(0.3220),\n",
       " tensor(0.3220),\n",
       " tensor(0.3220),\n",
       " tensor(0.3220),\n",
       " tensor(0.3220),\n",
       " tensor(0.3220),\n",
       " tensor(0.3220),\n",
       " tensor(0.3220),\n",
       " tensor(0.3220),\n",
       " tensor(0.3220),\n",
       " tensor(0.3220),\n",
       " tensor(0.3220),\n",
       " tensor(0.3220),\n",
       " tensor(0.3220),\n",
       " tensor(0.3220),\n",
       " tensor(0.3220),\n",
       " tensor(0.3220),\n",
       " tensor(0.3220),\n",
       " tensor(0.3220),\n",
       " tensor(0.3220),\n",
       " tensor(0.3220),\n",
       " tensor(0.3220),\n",
       " tensor(0.3220),\n",
       " tensor(0.3220),\n",
       " tensor(0.3220),\n",
       " tensor(0.3220),\n",
       " tensor(0.3220),\n",
       " tensor(0.3220),\n",
       " tensor(0.3220),\n",
       " tensor(0.3220),\n",
       " tensor(0.3220),\n",
       " tensor(0.3220),\n",
       " tensor(0.3220),\n",
       " tensor(0.3220),\n",
       " tensor(0.3220),\n",
       " tensor(0.3220),\n",
       " tensor(0.3220),\n",
       " tensor(0.3220),\n",
       " tensor(0.3220),\n",
       " tensor(0.3220),\n",
       " tensor(0.3220),\n",
       " tensor(0.3220),\n",
       " tensor(0.3220),\n",
       " tensor(0.3220),\n",
       " tensor(0.3220),\n",
       " tensor(0.3220),\n",
       " tensor(0.3220),\n",
       " tensor(0.3220),\n",
       " tensor(0.3220),\n",
       " tensor(0.3220),\n",
       " tensor(0.3220),\n",
       " tensor(0.3220),\n",
       " tensor(0.3220),\n",
       " tensor(0.3220),\n",
       " tensor(0.3220),\n",
       " tensor(0.3220),\n",
       " tensor(0.3220),\n",
       " tensor(0.3220),\n",
       " tensor(0.3220),\n",
       " tensor(0.3220),\n",
       " tensor(0.3220),\n",
       " tensor(0.3220),\n",
       " tensor(0.3220),\n",
       " tensor(0.3220),\n",
       " tensor(0.3220),\n",
       " tensor(0.3220),\n",
       " tensor(0.3220),\n",
       " tensor(0.3220),\n",
       " tensor(0.3220),\n",
       " tensor(0.3220),\n",
       " tensor(0.3220),\n",
       " tensor(0.3220),\n",
       " tensor(0.3220),\n",
       " tensor(0.3220),\n",
       " tensor(0.3220),\n",
       " tensor(0.3220),\n",
       " tensor(0.3220),\n",
       " tensor(0.3220),\n",
       " tensor(0.3220),\n",
       " tensor(0.3220),\n",
       " tensor(0.3220),\n",
       " tensor(0.3220),\n",
       " tensor(0.3220),\n",
       " tensor(0.3220),\n",
       " tensor(0.3220),\n",
       " tensor(0.3220),\n",
       " tensor(0.3220),\n",
       " tensor(0.3220),\n",
       " tensor(0.3220),\n",
       " tensor(0.3220),\n",
       " tensor(0.3220),\n",
       " tensor(0.3220),\n",
       " tensor(0.3220),\n",
       " tensor(0.3220),\n",
       " tensor(0.3220),\n",
       " tensor(0.3220),\n",
       " tensor(0.3220),\n",
       " tensor(0.3220),\n",
       " tensor(0.3220),\n",
       " tensor(0.3220),\n",
       " tensor(0.3220),\n",
       " tensor(0.3220),\n",
       " tensor(0.3220),\n",
       " tensor(0.3220),\n",
       " tensor(0.3220),\n",
       " tensor(0.3220),\n",
       " tensor(0.3220),\n",
       " tensor(0.3220),\n",
       " tensor(0.3220),\n",
       " tensor(0.3220),\n",
       " tensor(0.3220),\n",
       " tensor(0.3220),\n",
       " tensor(0.3220),\n",
       " tensor(0.3220),\n",
       " tensor(0.3220),\n",
       " tensor(0.3220),\n",
       " tensor(0.3220),\n",
       " tensor(0.3220),\n",
       " tensor(0.3220),\n",
       " tensor(0.3220),\n",
       " tensor(0.3220),\n",
       " tensor(0.3220),\n",
       " tensor(0.3220),\n",
       " tensor(0.3220),\n",
       " tensor(0.3220),\n",
       " tensor(0.3220),\n",
       " tensor(0.3220),\n",
       " tensor(0.3220),\n",
       " tensor(0.3220),\n",
       " tensor(0.3220),\n",
       " tensor(0.3220),\n",
       " tensor(0.3220),\n",
       " tensor(0.3220),\n",
       " tensor(0.3220),\n",
       " tensor(0.3220),\n",
       " tensor(0.3220),\n",
       " tensor(0.3220),\n",
       " tensor(0.3220),\n",
       " tensor(0.3220),\n",
       " tensor(0.3220),\n",
       " tensor(0.3220),\n",
       " tensor(0.3220),\n",
       " tensor(0.3220),\n",
       " tensor(0.3220),\n",
       " tensor(0.3220),\n",
       " tensor(0.3220),\n",
       " tensor(0.3220),\n",
       " tensor(0.3220),\n",
       " tensor(0.3220),\n",
       " tensor(0.3220),\n",
       " tensor(0.3220),\n",
       " tensor(0.3220),\n",
       " tensor(0.3220),\n",
       " tensor(0.3220),\n",
       " tensor(0.3220),\n",
       " tensor(0.3220),\n",
       " tensor(0.3220),\n",
       " tensor(0.3220),\n",
       " tensor(0.3220),\n",
       " tensor(0.3220),\n",
       " tensor(0.3220),\n",
       " tensor(0.3220),\n",
       " tensor(0.3220),\n",
       " tensor(0.3220),\n",
       " tensor(0.3220),\n",
       " tensor(0.3220),\n",
       " tensor(0.3220),\n",
       " tensor(0.3220),\n",
       " tensor(0.3220),\n",
       " tensor(0.3220),\n",
       " tensor(0.3220),\n",
       " tensor(0.3220),\n",
       " tensor(0.3220),\n",
       " tensor(0.3220),\n",
       " tensor(0.3220),\n",
       " tensor(0.3220),\n",
       " tensor(0.3220),\n",
       " tensor(0.3220),\n",
       " tensor(0.3220),\n",
       " tensor(0.3220),\n",
       " tensor(0.3220),\n",
       " tensor(0.3220),\n",
       " tensor(0.3220),\n",
       " tensor(0.3220),\n",
       " tensor(0.3220),\n",
       " tensor(0.3220),\n",
       " tensor(0.3220),\n",
       " tensor(0.3220),\n",
       " tensor(0.3220),\n",
       " tensor(0.3220),\n",
       " tensor(0.3220),\n",
       " tensor(0.3220),\n",
       " tensor(0.3220),\n",
       " tensor(0.3220),\n",
       " tensor(0.3220),\n",
       " tensor(0.3220),\n",
       " tensor(0.3220),\n",
       " tensor(0.3220),\n",
       " tensor(0.3220),\n",
       " tensor(0.3220),\n",
       " tensor(0.3220),\n",
       " tensor(0.3220),\n",
       " tensor(0.3220),\n",
       " tensor(0.3220),\n",
       " tensor(0.3220),\n",
       " tensor(0.3220),\n",
       " tensor(0.3220),\n",
       " tensor(0.3220),\n",
       " tensor(0.3220),\n",
       " tensor(0.3220),\n",
       " tensor(0.3220),\n",
       " tensor(0.3220),\n",
       " tensor(0.3220),\n",
       " tensor(0.3220),\n",
       " tensor(0.3220),\n",
       " tensor(0.3220),\n",
       " tensor(0.3220),\n",
       " tensor(0.3220),\n",
       " tensor(0.3220),\n",
       " tensor(0.3220),\n",
       " tensor(0.3220),\n",
       " tensor(0.3220),\n",
       " tensor(0.3220),\n",
       " tensor(0.3220),\n",
       " tensor(0.3220),\n",
       " tensor(0.3220),\n",
       " tensor(0.3220),\n",
       " tensor(0.3220),\n",
       " tensor(0.3220),\n",
       " tensor(0.3220),\n",
       " tensor(0.3220),\n",
       " tensor(0.3220),\n",
       " tensor(0.3220),\n",
       " tensor(0.3220),\n",
       " tensor(0.3220),\n",
       " tensor(0.3220),\n",
       " tensor(0.3220),\n",
       " tensor(0.3220),\n",
       " tensor(0.3220),\n",
       " tensor(0.3220),\n",
       " tensor(0.3220),\n",
       " tensor(0.3220),\n",
       " tensor(0.3220),\n",
       " tensor(0.3220),\n",
       " tensor(0.3220),\n",
       " tensor(0.3220),\n",
       " tensor(0.3220),\n",
       " tensor(0.3220),\n",
       " tensor(0.3220),\n",
       " tensor(0.3220),\n",
       " tensor(0.3220),\n",
       " tensor(0.3220),\n",
       " tensor(0.3220),\n",
       " tensor(0.3220),\n",
       " tensor(0.3220),\n",
       " tensor(0.3220),\n",
       " tensor(0.3220),\n",
       " tensor(0.3220),\n",
       " tensor(0.3220),\n",
       " tensor(0.3220),\n",
       " tensor(0.3220),\n",
       " tensor(0.3220),\n",
       " tensor(0.3220),\n",
       " tensor(0.3220),\n",
       " tensor(0.3220),\n",
       " tensor(0.3220),\n",
       " tensor(0.3220),\n",
       " tensor(0.3220),\n",
       " tensor(0.3220),\n",
       " tensor(0.3220),\n",
       " tensor(0.3220),\n",
       " tensor(0.3220),\n",
       " tensor(0.3220),\n",
       " tensor(0.3220),\n",
       " tensor(0.3220),\n",
       " tensor(0.3220),\n",
       " tensor(0.3220),\n",
       " tensor(0.3220),\n",
       " tensor(0.3220),\n",
       " tensor(0.3220),\n",
       " tensor(0.3220),\n",
       " tensor(0.3220),\n",
       " tensor(0.3220),\n",
       " tensor(0.3220),\n",
       " tensor(0.3220),\n",
       " tensor(0.3220),\n",
       " tensor(0.3220),\n",
       " tensor(0.3220),\n",
       " tensor(0.3220),\n",
       " tensor(0.3220),\n",
       " tensor(0.3220),\n",
       " tensor(0.3220),\n",
       " tensor(0.3220),\n",
       " tensor(0.3220),\n",
       " tensor(0.3220),\n",
       " tensor(0.3220),\n",
       " tensor(0.3220),\n",
       " tensor(0.3220),\n",
       " tensor(0.3220),\n",
       " tensor(0.3220),\n",
       " tensor(0.3220),\n",
       " tensor(0.3220),\n",
       " tensor(0.3220),\n",
       " tensor(0.3220),\n",
       " tensor(0.3220),\n",
       " tensor(0.3220),\n",
       " tensor(0.3220),\n",
       " tensor(0.3220),\n",
       " tensor(0.3220),\n",
       " tensor(0.3220),\n",
       " tensor(0.3220),\n",
       " tensor(0.3220),\n",
       " tensor(0.3220),\n",
       " tensor(0.3220),\n",
       " tensor(0.3220),\n",
       " tensor(0.3220),\n",
       " tensor(0.3220),\n",
       " tensor(0.3220),\n",
       " tensor(0.3220),\n",
       " tensor(0.3220),\n",
       " tensor(0.3220),\n",
       " tensor(0.3220),\n",
       " tensor(0.3220),\n",
       " tensor(0.3220),\n",
       " tensor(0.3220),\n",
       " tensor(0.3220),\n",
       " tensor(0.3220),\n",
       " tensor(0.3220),\n",
       " tensor(0.3220),\n",
       " tensor(0.3220),\n",
       " tensor(0.3220),\n",
       " tensor(0.3220),\n",
       " tensor(0.3220),\n",
       " tensor(0.3220),\n",
       " tensor(0.3220),\n",
       " tensor(0.3220),\n",
       " tensor(0.3220),\n",
       " tensor(0.3220),\n",
       " tensor(0.3220),\n",
       " tensor(0.3220),\n",
       " tensor(0.3220),\n",
       " tensor(0.3220),\n",
       " tensor(0.3220),\n",
       " tensor(0.3220),\n",
       " tensor(0.3220),\n",
       " tensor(0.3220),\n",
       " tensor(0.3220),\n",
       " tensor(0.3220),\n",
       " tensor(0.3220),\n",
       " tensor(0.3220),\n",
       " tensor(0.3220),\n",
       " tensor(0.3220),\n",
       " tensor(0.3220),\n",
       " tensor(0.3220),\n",
       " tensor(0.3220),\n",
       " tensor(0.3220),\n",
       " tensor(0.3220),\n",
       " tensor(0.3220),\n",
       " tensor(0.3220),\n",
       " tensor(0.3220),\n",
       " tensor(0.3220),\n",
       " tensor(0.3220),\n",
       " tensor(0.3220),\n",
       " tensor(0.3220),\n",
       " tensor(0.3220),\n",
       " tensor(0.3220),\n",
       " tensor(0.3220),\n",
       " tensor(0.3220),\n",
       " tensor(0.3220),\n",
       " tensor(0.3220),\n",
       " tensor(0.3220),\n",
       " tensor(0.3220),\n",
       " tensor(0.3220),\n",
       " tensor(0.3220),\n",
       " tensor(0.3220),\n",
       " tensor(0.3220),\n",
       " tensor(0.3220),\n",
       " tensor(0.3220),\n",
       " tensor(0.3220),\n",
       " tensor(0.3220),\n",
       " tensor(0.3220),\n",
       " tensor(0.3220),\n",
       " tensor(0.3220),\n",
       " tensor(0.3220),\n",
       " tensor(0.3220),\n",
       " tensor(0.3220),\n",
       " tensor(0.3220),\n",
       " tensor(0.3220),\n",
       " tensor(0.3220),\n",
       " tensor(0.3220),\n",
       " tensor(0.3220),\n",
       " tensor(0.3220),\n",
       " tensor(0.3220),\n",
       " tensor(0.3220),\n",
       " tensor(0.3220),\n",
       " tensor(0.3220),\n",
       " tensor(0.3220),\n",
       " tensor(0.3220),\n",
       " tensor(0.3220),\n",
       " tensor(0.3220),\n",
       " tensor(0.3220),\n",
       " tensor(0.3220),\n",
       " tensor(0.3220),\n",
       " tensor(0.3220),\n",
       " tensor(0.3220),\n",
       " tensor(0.3220),\n",
       " tensor(0.3220),\n",
       " tensor(0.3220),\n",
       " tensor(0.3220),\n",
       " tensor(0.3220),\n",
       " tensor(0.3220),\n",
       " tensor(0.3220),\n",
       " tensor(0.3220),\n",
       " tensor(0.3220),\n",
       " tensor(0.3220),\n",
       " tensor(0.3220),\n",
       " tensor(0.3220),\n",
       " tensor(0.3220),\n",
       " tensor(0.3220),\n",
       " tensor(0.3220),\n",
       " tensor(0.3220),\n",
       " tensor(0.3220),\n",
       " tensor(0.3220),\n",
       " tensor(0.3220),\n",
       " tensor(0.3220),\n",
       " tensor(0.3220),\n",
       " tensor(0.3220),\n",
       " tensor(0.3220),\n",
       " tensor(0.3220),\n",
       " tensor(0.3220),\n",
       " tensor(0.3220),\n",
       " tensor(0.3220),\n",
       " tensor(0.3220),\n",
       " tensor(0.3220),\n",
       " tensor(0.3220),\n",
       " tensor(0.3220),\n",
       " tensor(0.3220),\n",
       " tensor(0.3220),\n",
       " tensor(0.3220),\n",
       " tensor(0.3220),\n",
       " tensor(0.3220),\n",
       " tensor(0.3220),\n",
       " tensor(0.3220),\n",
       " tensor(0.3220),\n",
       " tensor(0.3220),\n",
       " tensor(0.3220),\n",
       " tensor(0.3220),\n",
       " tensor(0.3220),\n",
       " tensor(0.3220),\n",
       " tensor(0.3220),\n",
       " tensor(0.3220),\n",
       " tensor(0.3220),\n",
       " tensor(0.3220),\n",
       " tensor(0.3220),\n",
       " tensor(0.3220),\n",
       " tensor(0.3220),\n",
       " tensor(0.3220),\n",
       " tensor(0.3220),\n",
       " tensor(0.3220),\n",
       " tensor(0.3220),\n",
       " tensor(0.3220),\n",
       " tensor(0.3220),\n",
       " tensor(0.3220),\n",
       " tensor(0.3220),\n",
       " tensor(0.3220),\n",
       " tensor(0.3220),\n",
       " tensor(0.3220),\n",
       " tensor(0.3220),\n",
       " tensor(0.3220),\n",
       " tensor(0.3220),\n",
       " tensor(0.3220),\n",
       " tensor(0.3220),\n",
       " tensor(0.3220),\n",
       " tensor(0.3220),\n",
       " tensor(0.3220),\n",
       " tensor(0.3220),\n",
       " tensor(0.3220),\n",
       " tensor(0.3220),\n",
       " tensor(0.3220),\n",
       " tensor(0.3220),\n",
       " tensor(0.3220),\n",
       " tensor(0.3220),\n",
       " tensor(0.3220),\n",
       " tensor(0.3220),\n",
       " tensor(0.3220),\n",
       " tensor(0.3220),\n",
       " tensor(0.3220),\n",
       " tensor(0.3220),\n",
       " tensor(0.3220),\n",
       " tensor(0.3220),\n",
       " tensor(0.3220),\n",
       " tensor(0.3220),\n",
       " tensor(0.3220),\n",
       " tensor(0.3220),\n",
       " tensor(0.3220),\n",
       " tensor(0.3220),\n",
       " tensor(0.3220),\n",
       " tensor(0.3220),\n",
       " tensor(0.3220),\n",
       " tensor(0.3220),\n",
       " tensor(0.3220),\n",
       " tensor(0.3220),\n",
       " tensor(0.3220),\n",
       " tensor(0.3220),\n",
       " tensor(0.3220),\n",
       " tensor(0.3220),\n",
       " tensor(0.3220),\n",
       " tensor(0.3220),\n",
       " tensor(0.3220),\n",
       " tensor(0.3220),\n",
       " tensor(0.3220),\n",
       " tensor(0.3220),\n",
       " tensor(0.3220),\n",
       " tensor(0.3220),\n",
       " tensor(0.3220),\n",
       " tensor(0.3220),\n",
       " tensor(0.3220),\n",
       " tensor(0.3220),\n",
       " tensor(0.3220),\n",
       " tensor(0.3220),\n",
       " tensor(0.3220),\n",
       " tensor(0.3220),\n",
       " tensor(0.3220),\n",
       " tensor(0.3220),\n",
       " tensor(0.3220),\n",
       " tensor(0.3220),\n",
       " tensor(0.3220),\n",
       " tensor(0.3220),\n",
       " tensor(0.3220),\n",
       " tensor(0.3220),\n",
       " tensor(0.3220),\n",
       " tensor(0.3220),\n",
       " tensor(0.3220),\n",
       " tensor(0.3220),\n",
       " ...]"
      ]
     },
     "execution_count": 112,
     "metadata": {},
     "output_type": "execute_result"
    }
   ],
   "source": [
    "list_client"
   ]
  },
  {
   "cell_type": "code",
   "execution_count": 163,
   "metadata": {},
   "outputs": [
    {
     "data": {
      "text/plain": [
       "array([[0.        , 0.81606373, 0.24531176, 0.01974054, 0.02060895],\n",
       "       [0.5263773 , 0.        , 0.08868103, 0.73747312, 0.35359624],\n",
       "       [0.21714275, 0.12425976, 0.        , 0.36644708, 0.10681021],\n",
       "       [0.01926872, 1.10899946, 0.40381697, 0.        , 0.07930172],\n",
       "       [0.02055637, 0.55086584, 0.12048189, 0.08102912, 0.        ]])"
      ]
     },
     "execution_count": 163,
     "metadata": {},
     "output_type": "execute_result"
    }
   ],
   "source": [
    "kl = np.empty(((len(clients_S)+1), (len(clients_S)+1)))\n",
    "for i in range(len(clients_S)+1):\n",
    "    for j in range(len(clients_S)+1):\n",
    "        # print(j)\n",
    "        if i > len(clients_S)-1 and j >  len(clients_S)-1:\n",
    "             kl[i,j] = KL_divergence_disc(prob_discrete_var(val_y_S),prob_discrete_var(val_y_S))\n",
    "        elif i > len(clients_S)-1:\n",
    "            # print(j)\n",
    "            kl[i,j] = KL_divergence_disc(prob_discrete_var(val_y_S),prob_discrete_var(clients_S[j].y))\n",
    "        elif j > len(clients_S)-1:\n",
    "            kl[i,j] = KL_divergence_disc(prob_discrete_var(clients_S[i].y),prob_discrete_var(val_y_S))\n",
    "        else:\n",
    "            # print(i)\n",
    "            kl[i,j] = KL_divergence_disc(prob_discrete_var(clients_S[i].y),prob_discrete_var(clients_S[j].y))\n",
    "        \n",
    "kl"
   ]
  },
  {
   "cell_type": "code",
   "execution_count": 148,
   "metadata": {},
   "outputs": [
    {
     "name": "stdout",
     "output_type": "stream",
     "text": [
      "0.020608951084511343\n",
      "0.35359623662580264\n",
      "0.10681021480970254\n",
      "0.07930172225104493\n",
      "0.020556374461161667\n",
      "0.5508658350408384\n",
      "0.12048189312316646\n",
      "0.08102912464591883\n"
     ]
    }
   ],
   "source": [
    "print(KL_divergence_disc(prob_discrete_var(clients_S[0].y),prob_discrete_var(val_y_S)))\n",
    "print(KL_divergence_disc(prob_discrete_var(clients_S[1].y),prob_discrete_var(val_y_S)))\n",
    "print(KL_divergence_disc(prob_discrete_var(clients_S[2].y),prob_discrete_var(val_y_S)))\n",
    "print(KL_divergence_disc(prob_discrete_var(clients_S[3].y),prob_discrete_var(val_y_S)))\n",
    "print(KL_divergence_disc(prob_discrete_var(val_y_S),prob_discrete_var(clients_S[0].y)))\n",
    "print(KL_divergence_disc(prob_discrete_var(val_y_S),prob_discrete_var(clients_S[1].y)))\n",
    "print(KL_divergence_disc(prob_discrete_var(val_y_S),prob_discrete_var(clients_S[2].y)))\n",
    "print(KL_divergence_disc(prob_discrete_var(val_y_S),prob_discrete_var(clients_S[3].y)))"
   ]
  },
  {
   "cell_type": "code",
   "execution_count": 147,
   "metadata": {},
   "outputs": [
    {
     "data": {
      "text/plain": [
       "[<clientClass.Client at 0x7fefed574d90>,\n",
       " <clientClass.Client at 0x7fefed558790>,\n",
       " <clientClass.Client at 0x7feffdbb9190>,\n",
       " <clientClass.Client at 0x7feffd576910>]"
      ]
     },
     "execution_count": 147,
     "metadata": {},
     "output_type": "execute_result"
    }
   ],
   "source": [
    "clients_S"
   ]
  },
  {
   "cell_type": "code",
   "execution_count": 138,
   "metadata": {},
   "outputs": [
    {
     "ename": "AttributeError",
     "evalue": "'Tensor' object has no attribute 'to_numpy'",
     "output_type": "error",
     "traceback": [
      "\u001b[0;31m---------------------------------------------------------------------------\u001b[0m",
      "\u001b[0;31mAttributeError\u001b[0m                            Traceback (most recent call last)",
      "\u001b[1;32m/Users/romyho/Documents/Master_Econometrie/Thesis/Thesis_FL_Ectrie/FL_HE_2/heartdisease.ipynb Cell 21'\u001b[0m in \u001b[0;36m<cell line: 2>\u001b[0;34m()\u001b[0m\n\u001b[1;32m      <a href='vscode-notebook-cell:/Users/romyho/Documents/Master_Econometrie/Thesis/Thesis_FL_Ectrie/FL_HE_2/heartdisease.ipynb#ch0000051?line=0'>1</a>\u001b[0m glob_model_S \u001b[39m=\u001b[39m LR(val_x_S\u001b[39m.\u001b[39mshape[\u001b[39m1\u001b[39m])\n\u001b[0;32m----> <a href='vscode-notebook-cell:/Users/romyho/Documents/Master_Econometrie/Thesis/Thesis_FL_Ectrie/FL_HE_2/heartdisease.ipynb#ch0000051?line=1'>2</a>\u001b[0m clients_S\u001b[39m.\u001b[39mappend(Client(\u001b[39m'\u001b[39;49m\u001b[39mValidation\u001b[39;49m\u001b[39m'\u001b[39;49m, val_x_S, val_y_S,glob_model, \u001b[39m0.1\u001b[39;49m, torch\u001b[39m.\u001b[39;49mnn\u001b[39m.\u001b[39;49mBCELoss(reduction\u001b[39m=\u001b[39;49m\u001b[39m'\u001b[39;49m\u001b[39mmean\u001b[39;49m\u001b[39m'\u001b[39;49m), \u001b[39mNone\u001b[39;49;00m))\n",
      "File \u001b[0;32m~/Documents/Master_Econometrie/Thesis/Thesis_FL_Ectrie/FL_HE_2/clientClass.py:31\u001b[0m, in \u001b[0;36mClient.__init__\u001b[0;34m(self, name, X, y, model, lr, criterion, weights)\u001b[0m\n\u001b[1;32m     29\u001b[0m \u001b[39mself\u001b[39m\u001b[39m.\u001b[39moptim \u001b[39m=\u001b[39m torch\u001b[39m.\u001b[39moptim\u001b[39m.\u001b[39mSGD(model\u001b[39m.\u001b[39mparameters(), lr\u001b[39m=\u001b[39mlr)\n\u001b[1;32m     30\u001b[0m \u001b[39mself\u001b[39m\u001b[39m.\u001b[39mweights \u001b[39m=\u001b[39m weights\n\u001b[0;32m---> 31\u001b[0m \u001b[39mself\u001b[39m\u001b[39m.\u001b[39mX_train, \u001b[39mself\u001b[39m\u001b[39m.\u001b[39mX_test, \u001b[39mself\u001b[39m\u001b[39m.\u001b[39my_train, \u001b[39mself\u001b[39m\u001b[39m.\u001b[39my_test \u001b[39m=\u001b[39m client_train_test_split(\u001b[39mself\u001b[39;49m\u001b[39m.\u001b[39;49mX, \u001b[39mself\u001b[39;49m\u001b[39m.\u001b[39;49my)\n",
      "File \u001b[0;32m~/Documents/Master_Econometrie/Thesis/Thesis_FL_Ectrie/FL_HE_2/clientClass.py:13\u001b[0m, in \u001b[0;36mclient_train_test_split\u001b[0;34m(X, y)\u001b[0m\n\u001b[1;32m      8\u001b[0m \u001b[39mdef\u001b[39;00m \u001b[39mclient_train_test_split\u001b[39m(X, y):\n\u001b[1;32m      9\u001b[0m         X_train, X_test, y_train, y_test \u001b[39m=\u001b[39m train_test_split(X,\n\u001b[1;32m     10\u001b[0m                                                         y,\n\u001b[1;32m     11\u001b[0m                                                         test_size\u001b[39m=\u001b[39m\u001b[39m0.2\u001b[39m,\n\u001b[1;32m     12\u001b[0m                                                         random_state\u001b[39m=\u001b[39m\u001b[39m42\u001b[39m)\n\u001b[0;32m---> 13\u001b[0m         X_train \u001b[39m=\u001b[39m torch\u001b[39m.\u001b[39mtensor(X_train\u001b[39m.\u001b[39;49mto_numpy())\u001b[39m.\u001b[39mfloat()\n\u001b[1;32m     14\u001b[0m         X_test \u001b[39m=\u001b[39m torch\u001b[39m.\u001b[39mtensor(X_test\u001b[39m.\u001b[39mto_numpy())\u001b[39m.\u001b[39mfloat()\n\u001b[1;32m     15\u001b[0m         y_train \u001b[39m=\u001b[39m torch\u001b[39m.\u001b[39mTensor(y_train\u001b[39m.\u001b[39mreset_index(drop\u001b[39m=\u001b[39m\u001b[39mTrue\u001b[39;00m)\u001b[39m.\u001b[39mto_numpy())\n",
      "\u001b[0;31mAttributeError\u001b[0m: 'Tensor' object has no attribute 'to_numpy'"
     ]
    }
   ],
   "source": [
    "glob_model_S = LR(val_x_S.shape[1])\n",
    "clients_S.append(Client('Validation', val_x_S, val_y_S,glob_model, 0.1, torch.nn.BCELoss(reduction='mean'), None))\n",
    "# clients.append(Client(i, x, y, client_model, lr,  torch.nn.BCELoss(reduction='mean'), weights) )"
   ]
  },
  {
   "cell_type": "code",
   "execution_count": 19,
   "metadata": {},
   "outputs": [
    {
     "data": {
      "text/plain": [
       "array([[0.        , 0.81187507, 0.24531176, 0.01974054],\n",
       "       [0.52485028, 0.        , 0.08793214, 0.73572809],\n",
       "       [0.21714275, 0.1229088 , 0.        , 0.36644708],\n",
       "       [0.01926872, 1.10395643, 0.40381697, 0.        ]])"
      ]
     },
     "execution_count": 19,
     "metadata": {},
     "output_type": "execute_result"
    }
   ],
   "source": [
    "kl = np.empty((len(clients_SW), len(clients_SW)))\n",
    "for i in range(len(clients_SW)):\n",
    "    for j in range(len(clients_SW)):\n",
    "        kl[i,j] = KL_divergence_disc(prob_discrete_var(clients_SW[i].y),prob_discrete_var(clients_SW[j].y))\n",
    "kl"
   ]
  },
  {
   "cell_type": "code",
   "execution_count": 46,
   "metadata": {},
   "outputs": [
    {
     "name": "stdout",
     "output_type": "stream",
     "text": [
      "cleveland switzerland\n",
      "0.6712205144505923\n",
      "1.6721754287886084\n",
      "cleveland  va_long\n",
      "0.23122725500731667\n",
      "2.37076571303971\n",
      "cleveland hungary\n",
      "0.019504629104145965\n",
      "2.00258054248156\n",
      "switzerland  va_long\n",
      "0.10647039557669041\n",
      "0.793025779565288\n",
      "switzerland hungary\n",
      "0.9232362923262525\n",
      "1.3482923622663496\n",
      " va_long hungary\n",
      "0.3851320241364045\n",
      "2.150967777918301\n"
     ]
    }
   ],
   "source": [
    "datanames = ['cleveland', 'switzerland',' va_long', 'hungary']\n",
    "for i in range(len(clients_SW)):\n",
    "    for j in range(len(clients_SW)):\n",
    "        if  i < j:\n",
    "            print(datanames[i],datanames[j])\n",
    "            print((kl[i,j]+kl[j,i])/2)\n",
    "            print((kl_s[i,j]+kl_s[j,i])/2)"
   ]
  },
  {
   "cell_type": "code",
   "execution_count": 45,
   "metadata": {},
   "outputs": [],
   "source": [
    "kl_s = KL_S.to_numpy()"
   ]
  },
  {
   "cell_type": "code",
   "execution_count": 34,
   "metadata": {},
   "outputs": [
    {
     "data": {
      "text/plain": [
       "2.387"
      ]
     },
     "execution_count": 34,
     "metadata": {},
     "output_type": "execute_result"
    }
   ],
   "source": [
    "(2.196+2.578)/2 #CV"
   ]
  },
  {
   "cell_type": "code",
   "execution_count": 35,
   "metadata": {},
   "outputs": [
    {
     "data": {
      "text/plain": [
       "2.1574999999999998"
      ]
     },
     "execution_count": 35,
     "metadata": {},
     "output_type": "execute_result"
    }
   ],
   "source": [
    "(2.327+1.988)/2 # HV"
   ]
  },
  {
   "cell_type": "code",
   "execution_count": null,
   "metadata": {},
   "outputs": [],
   "source": []
  },
  {
   "cell_type": "code",
   "execution_count": 25,
   "metadata": {},
   "outputs": [
    {
     "data": {
      "text/plain": [
       "array([0.27027901, 0.33813286, 0.1769624 , 0.38302129])"
      ]
     },
     "execution_count": 25,
     "metadata": {},
     "output_type": "execute_result"
    }
   ],
   "source": [
    "np.mean(kl,axis=1)"
   ]
  },
  {
   "cell_type": "code",
   "execution_count": 32,
   "metadata": {},
   "outputs": [
    {
     "data": {
      "image/png": "[encoded data removed]",
      "text/plain": [
       "<Figure size 432x288 with 1 Axes>"
      ]
     },
     "metadata": {
      "needs_background": "light"
     },
     "output_type": "display_data"
    }
   ],
   "source": [
    "plt.plot(final_results_SW.best_acc[:200], label= 'Weighted FedAvg inc. Switzerland')\n",
    "plt.plot(final_results_W.best_acc[:200], label= 'Weighted FedAvg exc. Switzerland')\n",
    "plt.plot(final_results_S.best_acc[:200], label= 'FedAvg inc. Switzerland')\n",
    "plt.plot(final_results.best_acc[:200], label= 'FedAvg exc. Switzerland')\n",
    "plt.ylabel('Accuracy')\n",
    "plt.xlabel('FL iterations')\n",
    "plt.legend()\n",
    "\n",
    "# plt.savefig('images/Accuracy_Healthcare_iter2000',bbox_inches='tight',  dpi=300)\n",
    "# plt.savefig('/Users/romyho/Documents/Master_Econometrie/Thesis/Thesis_latex/images/Accuracy_Healthcare_iter2000', bbox_inches='tight',  dpi=300)\n",
    "plt.show()"
   ]
  },
  {
   "cell_type": "code",
   "execution_count": null,
   "metadata": {},
   "outputs": [],
   "source": [
    "plt.plot(final_results_SW.best_acc[:2000], label= 'Weighted FedAvg inc. Switzerland')\n",
    "plt.plot(final_results_W.best_acc[:2000], label= 'Weighted FedAvg exc. Switzerland')\n",
    "plt.plot(final_results_S.best_acc[:2000], label= 'FedAvg inc. Switzerland')\n",
    "plt.plot(final_results.best_acc[:2000], label= 'FedAvg exc. Switzerland')\n",
    "plt.ylabel('Accuracy')\n",
    "plt.xlabel('FL iterations')\n",
    "plt.legend()\n",
    "\n",
    "# plt.savefig('images/Accuracy_Healthcare',bbox_inches='tight',  dpi=300)\n",
    "# plt.savefig('/Users/romyho/Documents/Master_Econometrie/Thesis/Thesis_latex/images/Accuracy_Healthcare', bbox_inches='tight',  dpi=300)\n",
    "plt.show()"
   ]
  },
  {
   "cell_type": "code",
   "execution_count": 17,
   "metadata": {},
   "outputs": [],
   "source": [
    "model_acc = {'FedAvg Inc. Switzerland':float( best_acc_S.numpy()),\n",
    "   'FedAvg Exc. Switzerland': float(best_acc.numpy()),\n",
    "    'Weighted FedAvg Inc. Switzerland': float(best_acc_SW.numpy()),\n",
    "    'Weighted FedAvg Exc. Switzerland': float(best_acc_W.numpy())\n",
    "}\n",
    "\n",
    "time_str = str(datetime.now())\n",
    "with open('Results/heartdata_'+time_str+'.json', 'w') as convert_file:\n",
    "     convert_file.write(json.dumps(model_acc))"
   ]
  },
  {
   "cell_type": "code",
   "execution_count": 18,
   "metadata": {},
   "outputs": [],
   "source": [
    "# color_map = [\"#238b45\",\n",
    "# \"#66c2a4\",\n",
    "# \"#fb6a4a\",\n",
    "# \"#cb181d\"]\n",
    "# from matplotlib import ticker\n",
    "# color_map = [\n",
    "# \"#e41a1c\",\n",
    "# \"#377eb8\",\n",
    "# \"#4daf4a\",\n",
    "# \"#984ea3\"\n",
    "# ]\n",
    "\n",
    "\n",
    "\n",
    "# plt.barh( model_acc, models,color=color_map)\n",
    "\n",
    "# x_pos = [0,10, 20,30]\n",
    "# plt.xticks(x_pos, models)\n",
    "\n",
    "\n",
    "\n",
    "# plt.savefig('../images/Accuracy_Healthcare_c',bbox_inches='tight',  dpi=300)\n",
    "# plt.savefig('/Users/Romy/Documents/Master Thesis/Thesis_latex/images/Accuracy_Healthcare_c', bbox_inches='tight',  dpi=300)\n",
    "# plt.show()"
   ]
  },
  {
   "cell_type": "code",
   "execution_count": 12,
   "metadata": {},
   "outputs": [
    {
     "data": {
      "text/plain": [
       "0.6571428775787354"
      ]
     },
     "execution_count": 12,
     "metadata": {},
     "output_type": "execute_result"
    }
   ],
   "source": [
    "float( best_acc_S.numpy())"
   ]
  },
  {
   "cell_type": "code",
   "execution_count": 243,
   "metadata": {},
   "outputs": [
    {
     "data": {
      "application/vnd.plotly.v1+json": {
       "config": {
        "plotlyServerURL": "https://plot.ly"
       },
       "data": [
        {
         "mode": "markers+lines",
         "name": "Test",
         "type": "scatter",
         "x": [
          0,
          1,
          2,
          3,
          4,
          5,
          6,
          7,
          8,
          9,
          10,
          11,
          12,
          13,
          14,
          15,
          16,
          17,
          18,
          19,
          20,
          21,
          22,
          23,
          24,
          25,
          26,
          27,
          28,
          29,
          30,
          31,
          32,
          33,
          34,
          35,
          36,
          37,
          38,
          39,
          40,
          41,
          42,
          43,
          44,
          45,
          46,
          47,
          48,
          49,
          50,
          51,
          52,
          53,
          54,
          55,
          56,
          57,
          58,
          59,
          60,
          61,
          62,
          63,
          64,
          65,
          66,
          67,
          68,
          69,
          70,
          71,
          72,
          73,
          74,
          75,
          76,
          77,
          78,
          79,
          80,
          81,
          82,
          83,
          84,
          85,
          86,
          87,
          88,
          89,
          90,
          91,
          92,
          93,
          94,
          95,
          96,
          97,
          98,
          99,
          100,
          101,
          102,
          103,
          104,
          105,
          106,
          107,
          108,
          109,
          110,
          111,
          112,
          113,
          114,
          115,
          116,
          117,
          118,
          119,
          120,
          121,
          122,
          123,
          124,
          125,
          126,
          127,
          128,
          129,
          130,
          131,
          132,
          133,
          134,
          135,
          136,
          137,
          138,
          139,
          140,
          141,
          142,
          143,
          144,
          145,
          146,
          147,
          148,
          149
         ],
         "y": [
          0,
          1,
          1,
          1,
          1,
          1,
          1,
          1,
          1,
          0,
          0,
          0,
          1,
          1,
          1,
          0,
          0,
          1,
          1,
          0,
          0,
          0,
          1,
          0,
          1,
          0,
          0,
          1,
          1,
          1,
          0,
          1,
          0,
          0,
          0,
          1,
          1,
          0,
          1,
          1,
          0,
          0,
          1,
          0,
          0,
          1,
          0,
          0,
          1,
          1,
          0,
          0,
          0,
          0,
          1,
          0,
          0,
          1,
          1,
          1,
          1,
          1,
          1,
          1,
          1,
          1,
          1,
          1,
          1,
          1,
          0,
          1,
          1,
          1,
          1,
          0,
          0,
          1,
          1,
          1,
          1,
          1,
          1,
          1,
          1,
          0,
          1,
          0,
          1,
          1,
          1,
          1,
          0,
          0,
          1,
          0,
          0,
          1,
          0,
          0,
          0,
          0,
          0,
          1,
          1,
          1,
          0,
          0,
          0,
          0,
          1,
          0,
          1,
          0,
          0,
          0,
          0,
          0,
          0,
          0,
          0,
          0,
          1,
          0,
          1,
          1,
          1,
          0,
          0,
          0,
          1,
          0,
          0,
          0,
          1,
          0,
          1,
          0,
          0,
          1,
          1,
          1,
          1,
          0,
          0,
          0,
          0,
          0,
          0,
          0
         ]
        },
        {
         "mode": "markers",
         "name": "Pred",
         "type": "scatter",
         "x": [
          0,
          1,
          2,
          3,
          4,
          5,
          6,
          7,
          8,
          9,
          10,
          11,
          12,
          13,
          14,
          15,
          16,
          17,
          18,
          19,
          20,
          21,
          22,
          23,
          24,
          25,
          26,
          27,
          28,
          29,
          30,
          31,
          32,
          33,
          34,
          35,
          36,
          37,
          38,
          39,
          40,
          41,
          42,
          43,
          44,
          45,
          46,
          47,
          48,
          49,
          50,
          51,
          52,
          53,
          54,
          55,
          56,
          57,
          58,
          59,
          60,
          61,
          62,
          63,
          64,
          65,
          66,
          67,
          68,
          69,
          70,
          71,
          72,
          73,
          74,
          75,
          76,
          77,
          78,
          79,
          80,
          81,
          82,
          83,
          84,
          85,
          86,
          87,
          88,
          89,
          90,
          91,
          92,
          93,
          94,
          95,
          96,
          97,
          98,
          99,
          100,
          101,
          102,
          103,
          104,
          105,
          106,
          107,
          108,
          109,
          110,
          111,
          112,
          113,
          114,
          115,
          116,
          117,
          118,
          119,
          120,
          121,
          122,
          123,
          124,
          125,
          126,
          127,
          128,
          129,
          130,
          131,
          132,
          133,
          134,
          135,
          136,
          137,
          138,
          139,
          140,
          141,
          142,
          143,
          144,
          145,
          146,
          147,
          148,
          149
         ],
         "y": [
          0,
          1,
          1,
          0,
          1,
          1,
          1,
          1,
          0,
          1,
          0,
          0,
          1,
          1,
          1,
          0,
          0,
          1,
          1,
          0,
          1,
          0,
          1,
          0,
          1,
          0,
          1,
          0,
          1,
          1,
          1,
          0,
          0,
          0,
          0,
          1,
          1,
          1,
          1,
          0,
          1,
          0,
          1,
          0,
          0,
          1,
          0,
          0,
          1,
          0,
          0,
          0,
          0,
          0,
          1,
          0,
          0,
          1,
          1,
          1,
          0,
          0,
          1,
          1,
          0,
          1,
          1,
          1,
          1,
          1,
          1,
          1,
          1,
          1,
          0,
          1,
          0,
          1,
          1,
          1,
          1,
          1,
          1,
          1,
          1,
          1,
          1,
          1,
          1,
          1,
          0,
          1,
          1,
          1,
          1,
          1,
          0,
          1,
          0,
          0,
          0,
          0,
          1,
          1,
          1,
          1,
          0,
          0,
          0,
          0,
          1,
          0,
          1,
          0,
          1,
          0,
          0,
          0,
          0,
          0,
          0,
          0,
          1,
          0,
          1,
          1,
          1,
          0,
          0,
          0,
          1,
          0,
          0,
          0,
          1,
          0,
          1,
          0,
          0,
          1,
          0,
          1,
          1,
          0,
          0,
          0,
          0,
          1,
          1,
          0
         ]
        }
       ],
       "layout": {
        "template": {
         "data": {
          "bar": [
           {
            "error_x": {
             "color": "#2a3f5f"
            },
            "error_y": {
             "color": "#2a3f5f"
            },
            "marker": {
             "line": {
              "color": "#E5ECF6",
              "width": 0.5
             },
             "pattern": {
              "fillmode": "overlay",
              "size": 10,
              "solidity": 0.2
             }
            },
            "type": "bar"
           }
          ],
          "barpolar": [
           {
            "marker": {
             "line": {
              "color": "#E5ECF6",
              "width": 0.5
             },
             "pattern": {
              "fillmode": "overlay",
              "size": 10,
              "solidity": 0.2
             }
            },
            "type": "barpolar"
           }
          ],
          "carpet": [
           {
            "aaxis": {
             "endlinecolor": "#2a3f5f",
             "gridcolor": "white",
             "linecolor": "white",
             "minorgridcolor": "white",
             "startlinecolor": "#2a3f5f"
            },
            "baxis": {
             "endlinecolor": "#2a3f5f",
             "gridcolor": "white",
             "linecolor": "white",
             "minorgridcolor": "white",
             "startlinecolor": "#2a3f5f"
            },
            "type": "carpet"
           }
          ],
          "choropleth": [
           {
            "colorbar": {
             "outlinewidth": 0,
             "ticks": ""
            },
            "type": "choropleth"
           }
          ],
          "contour": [
           {
            "colorbar": {
             "outlinewidth": 0,
             "ticks": ""
            },
            "colorscale": [
             [
              0,
              "#0d0887"
             ],
             [
              0.1111111111111111,
              "#46039f"
             ],
             [
              0.2222222222222222,
              "#7201a8"
             ],
             [
              0.3333333333333333,
              "#9c179e"
             ],
             [
              0.4444444444444444,
              "#bd3786"
             ],
             [
              0.5555555555555556,
              "#d8576b"
             ],
             [
              0.6666666666666666,
              "#ed7953"
             ],
             [
              0.7777777777777778,
              "#fb9f3a"
             ],
             [
              0.8888888888888888,
              "#fdca26"
             ],
             [
              1,
              "#f0f921"
             ]
            ],
            "type": "contour"
           }
          ],
          "contourcarpet": [
           {
            "colorbar": {
             "outlinewidth": 0,
             "ticks": ""
            },
            "type": "contourcarpet"
           }
          ],
          "heatmap": [
           {
            "colorbar": {
             "outlinewidth": 0,
             "ticks": ""
            },
            "colorscale": [
             [
              0,
              "#0d0887"
             ],
             [
              0.1111111111111111,
              "#46039f"
             ],
             [
              0.2222222222222222,
              "#7201a8"
             ],
             [
              0.3333333333333333,
              "#9c179e"
             ],
             [
              0.4444444444444444,
              "#bd3786"
             ],
             [
              0.5555555555555556,
              "#d8576b"
             ],
             [
              0.6666666666666666,
              "#ed7953"
             ],
             [
              0.7777777777777778,
              "#fb9f3a"
             ],
             [
              0.8888888888888888,
              "#fdca26"
             ],
             [
              1,
              "#f0f921"
             ]
            ],
            "type": "heatmap"
           }
          ],
          "heatmapgl": [
           {
            "colorbar": {
             "outlinewidth": 0,
             "ticks": ""
            },
            "colorscale": [
             [
              0,
              "#0d0887"
             ],
             [
              0.1111111111111111,
              "#46039f"
             ],
             [
              0.2222222222222222,
              "#7201a8"
             ],
             [
              0.3333333333333333,
              "#9c179e"
             ],
             [
              0.4444444444444444,
              "#bd3786"
             ],
             [
              0.5555555555555556,
              "#d8576b"
             ],
             [
              0.6666666666666666,
              "#ed7953"
             ],
             [
              0.7777777777777778,
              "#fb9f3a"
             ],
             [
              0.8888888888888888,
              "#fdca26"
             ],
             [
              1,
              "#f0f921"
             ]
            ],
            "type": "heatmapgl"
           }
          ],
          "histogram": [
           {
            "marker": {
             "pattern": {
              "fillmode": "overlay",
              "size": 10,
              "solidity": 0.2
             }
            },
            "type": "histogram"
           }
          ],
          "histogram2d": [
           {
            "colorbar": {
             "outlinewidth": 0,
             "ticks": ""
            },
            "colorscale": [
             [
              0,
              "#0d0887"
             ],
             [
              0.1111111111111111,
              "#46039f"
             ],
             [
              0.2222222222222222,
              "#7201a8"
             ],
             [
              0.3333333333333333,
              "#9c179e"
             ],
             [
              0.4444444444444444,
              "#bd3786"
             ],
             [
              0.5555555555555556,
              "#d8576b"
             ],
             [
              0.6666666666666666,
              "#ed7953"
             ],
             [
              0.7777777777777778,
              "#fb9f3a"
             ],
             [
              0.8888888888888888,
              "#fdca26"
             ],
             [
              1,
              "#f0f921"
             ]
            ],
            "type": "histogram2d"
           }
          ],
          "histogram2dcontour": [
           {
            "colorbar": {
             "outlinewidth": 0,
             "ticks": ""
            },
            "colorscale": [
             [
              0,
              "#0d0887"
             ],
             [
              0.1111111111111111,
              "#46039f"
             ],
             [
              0.2222222222222222,
              "#7201a8"
             ],
             [
              0.3333333333333333,
              "#9c179e"
             ],
             [
              0.4444444444444444,
              "#bd3786"
             ],
             [
              0.5555555555555556,
              "#d8576b"
             ],
             [
              0.6666666666666666,
              "#ed7953"
             ],
             [
              0.7777777777777778,
              "#fb9f3a"
             ],
             [
              0.8888888888888888,
              "#fdca26"
             ],
             [
              1,
              "#f0f921"
             ]
            ],
            "type": "histogram2dcontour"
           }
          ],
          "mesh3d": [
           {
            "colorbar": {
             "outlinewidth": 0,
             "ticks": ""
            },
            "type": "mesh3d"
           }
          ],
          "parcoords": [
           {
            "line": {
             "colorbar": {
              "outlinewidth": 0,
              "ticks": ""
             }
            },
            "type": "parcoords"
           }
          ],
          "pie": [
           {
            "automargin": true,
            "type": "pie"
           }
          ],
          "scatter": [
           {
            "fillpattern": {
             "fillmode": "overlay",
             "size": 10,
             "solidity": 0.2
            },
            "type": "scatter"
           }
          ],
          "scatter3d": [
           {
            "line": {
             "colorbar": {
              "outlinewidth": 0,
              "ticks": ""
             }
            },
            "marker": {
             "colorbar": {
              "outlinewidth": 0,
              "ticks": ""
             }
            },
            "type": "scatter3d"
           }
          ],
          "scattercarpet": [
           {
            "marker": {
             "colorbar": {
              "outlinewidth": 0,
              "ticks": ""
             }
            },
            "type": "scattercarpet"
           }
          ],
          "scattergeo": [
           {
            "marker": {
             "colorbar": {
              "outlinewidth": 0,
              "ticks": ""
             }
            },
            "type": "scattergeo"
           }
          ],
          "scattergl": [
           {
            "marker": {
             "colorbar": {
              "outlinewidth": 0,
              "ticks": ""
             }
            },
            "type": "scattergl"
           }
          ],
          "scattermapbox": [
           {
            "marker": {
             "colorbar": {
              "outlinewidth": 0,
              "ticks": ""
             }
            },
            "type": "scattermapbox"
           }
          ],
          "scatterpolar": [
           {
            "marker": {
             "colorbar": {
              "outlinewidth": 0,
              "ticks": ""
             }
            },
            "type": "scatterpolar"
           }
          ],
          "scatterpolargl": [
           {
            "marker": {
             "colorbar": {
              "outlinewidth": 0,
              "ticks": ""
             }
            },
            "type": "scatterpolargl"
           }
          ],
          "scatterternary": [
           {
            "marker": {
             "colorbar": {
              "outlinewidth": 0,
              "ticks": ""
             }
            },
            "type": "scatterternary"
           }
          ],
          "surface": [
           {
            "colorbar": {
             "outlinewidth": 0,
             "ticks": ""
            },
            "colorscale": [
             [
              0,
              "#0d0887"
             ],
             [
              0.1111111111111111,
              "#46039f"
             ],
             [
              0.2222222222222222,
              "#7201a8"
             ],
             [
              0.3333333333333333,
              "#9c179e"
             ],
             [
              0.4444444444444444,
              "#bd3786"
             ],
             [
              0.5555555555555556,
              "#d8576b"
             ],
             [
              0.6666666666666666,
              "#ed7953"
             ],
             [
              0.7777777777777778,
              "#fb9f3a"
             ],
             [
              0.8888888888888888,
              "#fdca26"
             ],
             [
              1,
              "#f0f921"
             ]
            ],
            "type": "surface"
           }
          ],
          "table": [
           {
            "cells": {
             "fill": {
              "color": "#EBF0F8"
             },
             "line": {
              "color": "white"
             }
            },
            "header": {
             "fill": {
              "color": "#C8D4E3"
             },
             "line": {
              "color": "white"
             }
            },
            "type": "table"
           }
          ]
         },
         "layout": {
          "annotationdefaults": {
           "arrowcolor": "#2a3f5f",
           "arrowhead": 0,
           "arrowwidth": 1
          },
          "autotypenumbers": "strict",
          "coloraxis": {
           "colorbar": {
            "outlinewidth": 0,
            "ticks": ""
           }
          },
          "colorscale": {
           "diverging": [
            [
             0,
             "#8e0152"
            ],
            [
             0.1,
             "#c51b7d"
            ],
            [
             0.2,
             "#de77ae"
            ],
            [
             0.3,
             "#f1b6da"
            ],
            [
             0.4,
             "#fde0ef"
            ],
            [
             0.5,
             "#f7f7f7"
            ],
            [
             0.6,
             "#e6f5d0"
            ],
            [
             0.7,
             "#b8e186"
            ],
            [
             0.8,
             "#7fbc41"
            ],
            [
             0.9,
             "#4d9221"
            ],
            [
             1,
             "#276419"
            ]
           ],
           "sequential": [
            [
             0,
             "#0d0887"
            ],
            [
             0.1111111111111111,
             "#46039f"
            ],
            [
             0.2222222222222222,
             "#7201a8"
            ],
            [
             0.3333333333333333,
             "#9c179e"
            ],
            [
             0.4444444444444444,
             "#bd3786"
            ],
            [
             0.5555555555555556,
             "#d8576b"
            ],
            [
             0.6666666666666666,
             "#ed7953"
            ],
            [
             0.7777777777777778,
             "#fb9f3a"
            ],
            [
             0.8888888888888888,
             "#fdca26"
            ],
            [
             1,
             "#f0f921"
            ]
           ],
           "sequentialminus": [
            [
             0,
             "#0d0887"
            ],
            [
             0.1111111111111111,
             "#46039f"
            ],
            [
             0.2222222222222222,
             "#7201a8"
            ],
            [
             0.3333333333333333,
             "#9c179e"
            ],
            [
             0.4444444444444444,
             "#bd3786"
            ],
            [
             0.5555555555555556,
             "#d8576b"
            ],
            [
             0.6666666666666666,
             "#ed7953"
            ],
            [
             0.7777777777777778,
             "#fb9f3a"
            ],
            [
             0.8888888888888888,
             "#fdca26"
            ],
            [
             1,
             "#f0f921"
            ]
           ]
          },
          "colorway": [
           "#636efa",
           "#EF553B",
           "#00cc96",
           "#ab63fa",
           "#FFA15A",
           "#19d3f3",
           "#FF6692",
           "#B6E880",
           "#FF97FF",
           "#FECB52"
          ],
          "font": {
           "color": "#2a3f5f"
          },
          "geo": {
           "bgcolor": "white",
           "lakecolor": "white",
           "landcolor": "#E5ECF6",
           "showlakes": true,
           "showland": true,
           "subunitcolor": "white"
          },
          "hoverlabel": {
           "align": "left"
          },
          "hovermode": "closest",
          "mapbox": {
           "style": "light"
          },
          "paper_bgcolor": "white",
          "plot_bgcolor": "#E5ECF6",
          "polar": {
           "angularaxis": {
            "gridcolor": "white",
            "linecolor": "white",
            "ticks": ""
           },
           "bgcolor": "#E5ECF6",
           "radialaxis": {
            "gridcolor": "white",
            "linecolor": "white",
            "ticks": ""
           }
          },
          "scene": {
           "xaxis": {
            "backgroundcolor": "#E5ECF6",
            "gridcolor": "white",
            "gridwidth": 2,
            "linecolor": "white",
            "showbackground": true,
            "ticks": "",
            "zerolinecolor": "white"
           },
           "yaxis": {
            "backgroundcolor": "#E5ECF6",
            "gridcolor": "white",
            "gridwidth": 2,
            "linecolor": "white",
            "showbackground": true,
            "ticks": "",
            "zerolinecolor": "white"
           },
           "zaxis": {
            "backgroundcolor": "#E5ECF6",
            "gridcolor": "white",
            "gridwidth": 2,
            "linecolor": "white",
            "showbackground": true,
            "ticks": "",
            "zerolinecolor": "white"
           }
          },
          "shapedefaults": {
           "line": {
            "color": "#2a3f5f"
           }
          },
          "ternary": {
           "aaxis": {
            "gridcolor": "white",
            "linecolor": "white",
            "ticks": ""
           },
           "baxis": {
            "gridcolor": "white",
            "linecolor": "white",
            "ticks": ""
           },
           "bgcolor": "#E5ECF6",
           "caxis": {
            "gridcolor": "white",
            "linecolor": "white",
            "ticks": ""
           }
          },
          "title": {
           "x": 0.05
          },
          "xaxis": {
           "automargin": true,
           "gridcolor": "white",
           "linecolor": "white",
           "ticks": "",
           "title": {
            "standoff": 15
           },
           "zerolinecolor": "white",
           "zerolinewidth": 2
          },
          "yaxis": {
           "automargin": true,
           "gridcolor": "white",
           "linecolor": "white",
           "ticks": "",
           "title": {
            "standoff": 15
           },
           "zerolinecolor": "white",
           "zerolinewidth": 2
          }
         }
        }
       }
      }
     },
     "metadata": {},
     "output_type": "display_data"
    }
   ],
   "source": [
    "# Plot predicted vs test!\n",
    "\n",
    "# import plotly.graph_objects as go\n",
    "# net_best_S.load_state_dict(model_dict_S)\n",
    "y_pred = net_best(val_x).detach().numpy()\n",
    "y_test = val_y\n",
    "\n",
    "y_pred_round =y_pred.round()\n",
    "\n",
    "fig = go.Figure()\n",
    " \n",
    " \n",
    "fig.add_trace(go.Scatter(x=np.arange(0,len(y_test)), y=y_test,\n",
    "                    mode='markers+lines',\n",
    "                    name='Test'))\n",
    "fig.add_trace(go.Scatter(x=np.arange(0,len(y_test)), y=y_pred_round[:,0],\n",
    "                    mode='markers',\n",
    "                    name='Pred'))"
   ]
  }
 ],
 "metadata": {
  "kernelspec": {
   "display_name": "Python 3.9.7 ('thesis_fl': venv)",
   "language": "python",
   "name": "python3"
  },
  "language_info": {
   "codemirror_mode": {
    "name": "ipython",
    "version": 3
   },
   "file_extension": ".py",
   "mimetype": "text/x-python",
   "name": "python",
   "nbconvert_exporter": "python",
   "pygments_lexer": "ipython3",
   "version": "3.9.7"
  },
  "orig_nbformat": 4,
  "vscode": {
   "interpreter": {
    "hash": "69650470d3dba1dfb0173b7d578c7df4bae2b2f16b8279109af7c296623678fe"
   }
  }
 },
 "nbformat": 4,
 "nbformat_minor": 2
}
