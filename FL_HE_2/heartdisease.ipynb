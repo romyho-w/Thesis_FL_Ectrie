{
 "cells": [
  {
   "cell_type": "code",
   "execution_count": 31,
   "metadata": {},
   "outputs": [],
   "source": [
    "# hide\n",
    "%reload_ext autoreload\n",
    "%autoreload 2"
   ]
  },
  {
   "cell_type": "code",
   "execution_count": 32,
   "metadata": {},
   "outputs": [],
   "source": [
    "from dataFunction import *\n",
    "# import diffprivlib.models as dp\n",
    "import numpy as np\n",
    "import copy\n",
    "from make_logreg_data import *\n",
    "import random\n",
    "import tensorflow as tf\n",
    "from FL_utils import *\n",
    "from HE_functions import *\n",
    "from dataFunction import *\n",
    "from typing import Generator\n",
    "import tenseal as ts\n",
    "from lrClass import LR\n",
    "from simulationDataUtils import *\n",
    "import seaborn as sns\n",
    "from sklearn.linear_model import LinearRegression\n",
    "\n",
    "random.seed(11007303)\n",
    "np.random.seed(2021)"
   ]
  },
  {
   "cell_type": "code",
   "execution_count": 154,
   "metadata": {},
   "outputs": [],
   "source": [
    "EPOCHS = 80\n",
    "poly_mod_degree = 4096\n",
    "coeff_mod_bit_sizes = [40, 20, 40]\n",
    "\n",
    "# create TenSEALContext\n",
    "ctx_eval = ts.context(ts.SCHEME_TYPE.CKKS, poly_mod_degree, -1, coeff_mod_bit_sizes)\n",
    "\n",
    "# scale of ciphertext to use\n",
    "ctx_eval.global_scale = 2 ** 20\n",
    "\n",
    "# this key is needed for doing dot-product operations\n",
    "ctx_eval.generate_galois_keys()"
   ]
  },
  {
   "cell_type": "code",
   "execution_count": 155,
   "metadata": {},
   "outputs": [],
   "source": [
    "cleveland = \"processed.cleveland.data\"\n",
    "switzerland = \"processed.switzerland.data\"\n",
    "va = \"processed.va.data\"\n",
    "hungarian = \"reprocessed.hungarian.data\"\n",
    "cleveland_df, switzerland_df, va_df, hungarian_df = import_data(cleveland, switzerland, va, hungarian)\n"
   ]
  },
  {
   "cell_type": "code",
   "execution_count": 156,
   "metadata": {},
   "outputs": [
    {
     "name": "stdout",
     "output_type": "stream",
     "text": [
      "dict_keys(['Cleveland', 'VA Long Beach', 'Hungary'])\n",
      "Index(['Age', 'Sex', 'RestingBP', 'Cholesterol', 'FastingBS', 'MaxHR',\n",
      "       'ExerciseAngina', 'Oldpeak', 'ChestPainType_1', 'ChestPainType_4',\n",
      "       'ChestPainType_3', 'ChestPainType_2', 'RestingECG_2', 'RestingECG_0',\n",
      "       'RestingECG_1', 'ST_Slope_3', 'ST_Slope_2', 'ST_Slope_1'],\n",
      "      dtype='object')\n",
      "          0         1         2\n",
      "0  0.000000  2.016075  2.445411\n",
      "1  2.358766  0.000000  2.114656\n",
      "2  1.519378  1.812092  0.000000\n",
      "KL FL mean: 2.0443964321112524\n",
      "Best model, iter: 88, acc: 0.8133333325386047\n"
     ]
    }
   ],
   "source": [
    "df_dict ={\n",
    "    'Cleveland': cleveland_df,\n",
    "    # 'Switzerland': switzerland_df,\n",
    "    'VA Long Beach': va_df,\n",
    "    'Hungary': hungarian_df        \n",
    "    }\n",
    "clients = []\n",
    "\n",
    "for i in list(df_dict.keys()):\n",
    "    df = df_dict.get(i)\n",
    "    location_data = new_df(df, False)\n",
    "    y = location_data.HeartDisease\n",
    "    location_data = location_data.drop(columns=\"HeartDisease\")\n",
    "\n",
    "    numeric_feature_names = ['Age', 'MaxHR', 'RestingBP',  'Oldpeak', 'Cholesterol']\n",
    "    for j in numeric_feature_names:\n",
    "        if location_data[j].std() != 0: \n",
    "            location_data[j] = (location_data[j] - location_data[j].mean()) / location_data[j].std()\n",
    "    x = location_data\n",
    "    glob_model = LR(len(x.columns))\n",
    "    client_model = copy.deepcopy(glob_model)\n",
    "    lr = 3\n",
    "    lr_decay = 1\n",
    "    clients.append(Client(i, x, y, client_model, lr, torch.nn.BCELoss(), None))\n",
    "cat_bin_features = ['Sex', 'ChestPainType',  'FastingBS', 'RestingECG','ExerciseAngina', 'ST_Slope']\n",
    "KL = KL_matrices_disc_cont(clients, cat_bin_features, numeric_feature_names)\n",
    "KL_mean = (np.array(KL)[np.triu_indices(len(clients), k=1)].mean() + np.array(KL)[np.tril_indices(len(clients), -1)].mean()) /2\n",
    "cat_feat = ['ChestPainType', 'RestingECG', 'ST_Slope']\n",
    "for i in clients:\n",
    "    i.make_dummies(cat_feat)\n",
    "val_x, val_y = make_validation_sets(clients)\n",
    "\n",
    "best_epoch, best_acc, model_dict, final_results, net_best = FL_proces(clients, val_x, val_y, ctx_eval, glob_model, 300)\n",
    "print(df_dict.keys())\n",
    "print(clients[0].X.columns)\n",
    "print(KL)\n",
    "print('KL FL mean: {}'.format(KL_mean))\n",
    "print('Best model, iter: {}, acc: {}'.format(best_epoch, best_acc))  \n"
   ]
  },
  {
   "cell_type": "code",
   "execution_count": 157,
   "metadata": {},
   "outputs": [
    {
     "data": {
      "image/png": "[encoded data removed]",
      "text/plain": [
       "<Figure size 432x288 with 1 Axes>"
      ]
     },
     "metadata": {
      "needs_background": "light"
     },
     "output_type": "display_data"
    }
   ],
   "source": [
    "plt.plot(final_results.best_acc)\n",
    "plt.show()"
   ]
  },
  {
   "cell_type": "code",
   "execution_count": 158,
   "metadata": {},
   "outputs": [
    {
     "data": {
      "text/html": [
       "<div>\n",
       "<style scoped>\n",
       "    .dataframe tbody tr th:only-of-type {\n",
       "        vertical-align: middle;\n",
       "    }\n",
       "\n",
       "    .dataframe tbody tr th {\n",
       "        vertical-align: top;\n",
       "    }\n",
       "\n",
       "    .dataframe thead th {\n",
       "        text-align: right;\n",
       "    }\n",
       "</style>\n",
       "<table border=\"1\" class=\"dataframe\">\n",
       "  <thead>\n",
       "    <tr style=\"text-align: right;\">\n",
       "      <th></th>\n",
       "      <th>epoch</th>\n",
       "      <th>loss_avg</th>\n",
       "      <th>loss_test</th>\n",
       "      <th>acc_test</th>\n",
       "      <th>best_acc</th>\n",
       "    </tr>\n",
       "  </thead>\n",
       "  <tbody>\n",
       "    <tr>\n",
       "      <th>0</th>\n",
       "      <td>0.0</td>\n",
       "      <td>0.855936</td>\n",
       "      <td>0.879859</td>\n",
       "      <td>0.740000</td>\n",
       "      <td>0.740000</td>\n",
       "    </tr>\n",
       "    <tr>\n",
       "      <th>1</th>\n",
       "      <td>1.0</td>\n",
       "      <td>0.879039</td>\n",
       "      <td>6.232847</td>\n",
       "      <td>0.520000</td>\n",
       "      <td>0.740000</td>\n",
       "    </tr>\n",
       "    <tr>\n",
       "      <th>2</th>\n",
       "      <td>2.0</td>\n",
       "      <td>0.954789</td>\n",
       "      <td>2.343098</td>\n",
       "      <td>0.613333</td>\n",
       "      <td>0.740000</td>\n",
       "    </tr>\n",
       "    <tr>\n",
       "      <th>3</th>\n",
       "      <td>3.0</td>\n",
       "      <td>0.985707</td>\n",
       "      <td>0.794014</td>\n",
       "      <td>0.780000</td>\n",
       "      <td>0.780000</td>\n",
       "    </tr>\n",
       "    <tr>\n",
       "      <th>4</th>\n",
       "      <td>4.0</td>\n",
       "      <td>0.950947</td>\n",
       "      <td>3.632189</td>\n",
       "      <td>0.613333</td>\n",
       "      <td>0.780000</td>\n",
       "    </tr>\n",
       "    <tr>\n",
       "      <th>...</th>\n",
       "      <td>...</td>\n",
       "      <td>...</td>\n",
       "      <td>...</td>\n",
       "      <td>...</td>\n",
       "      <td>...</td>\n",
       "    </tr>\n",
       "    <tr>\n",
       "      <th>295</th>\n",
       "      <td>295.0</td>\n",
       "      <td>0.887902</td>\n",
       "      <td>0.883135</td>\n",
       "      <td>0.793333</td>\n",
       "      <td>0.813333</td>\n",
       "    </tr>\n",
       "    <tr>\n",
       "      <th>296</th>\n",
       "      <td>296.0</td>\n",
       "      <td>0.887560</td>\n",
       "      <td>1.751564</td>\n",
       "      <td>0.766667</td>\n",
       "      <td>0.813333</td>\n",
       "    </tr>\n",
       "    <tr>\n",
       "      <th>297</th>\n",
       "      <td>297.0</td>\n",
       "      <td>0.888000</td>\n",
       "      <td>0.905481</td>\n",
       "      <td>0.793333</td>\n",
       "      <td>0.813333</td>\n",
       "    </tr>\n",
       "    <tr>\n",
       "      <th>298</th>\n",
       "      <td>298.0</td>\n",
       "      <td>0.887908</td>\n",
       "      <td>0.919107</td>\n",
       "      <td>0.800000</td>\n",
       "      <td>0.813333</td>\n",
       "    </tr>\n",
       "    <tr>\n",
       "      <th>299</th>\n",
       "      <td>299.0</td>\n",
       "      <td>0.887945</td>\n",
       "      <td>1.743676</td>\n",
       "      <td>0.766667</td>\n",
       "      <td>0.813333</td>\n",
       "    </tr>\n",
       "  </tbody>\n",
       "</table>\n",
       "<p>300 rows × 5 columns</p>\n",
       "</div>"
      ],
      "text/plain": [
       "     epoch  loss_avg  loss_test  acc_test  best_acc\n",
       "0      0.0  0.855936   0.879859  0.740000  0.740000\n",
       "1      1.0  0.879039   6.232847  0.520000  0.740000\n",
       "2      2.0  0.954789   2.343098  0.613333  0.740000\n",
       "3      3.0  0.985707   0.794014  0.780000  0.780000\n",
       "4      4.0  0.950947   3.632189  0.613333  0.780000\n",
       "..     ...       ...        ...       ...       ...\n",
       "295  295.0  0.887902   0.883135  0.793333  0.813333\n",
       "296  296.0  0.887560   1.751564  0.766667  0.813333\n",
       "297  297.0  0.888000   0.905481  0.793333  0.813333\n",
       "298  298.0  0.887908   0.919107  0.800000  0.813333\n",
       "299  299.0  0.887945   1.743676  0.766667  0.813333\n",
       "\n",
       "[300 rows x 5 columns]"
      ]
     },
     "execution_count": 158,
     "metadata": {},
     "output_type": "execute_result"
    }
   ],
   "source": [
    "final_results"
   ]
  },
  {
   "cell_type": "code",
   "execution_count": null,
   "metadata": {},
   "outputs": [],
   "source": []
  },
  {
   "cell_type": "code",
   "execution_count": 159,
   "metadata": {},
   "outputs": [],
   "source": [
    "# for i in clients:\n",
    "#     # print(i.X.Oldpeak)\n",
    "#     xy = pd.concat([i.X, i.y], axis=1)\n",
    "#     plt.figure(figsize=(12,10))\n",
    "#     sns.heatmap(xy.corr(),annot=True,cmap=\"magma\",fmt='.2f')\n",
    "#     # print(xy)"
   ]
  },
  {
   "cell_type": "code",
   "execution_count": 163,
   "metadata": {},
   "outputs": [
    {
     "name": "stdout",
     "output_type": "stream",
     "text": [
      "dict_keys(['Cleveland', 'Switzerland', 'VA Long Beach', 'Hungary'])\n",
      "Index(['Age', 'Sex', 'RestingBP', 'FastingBS', 'MaxHR', 'ExerciseAngina',\n",
      "       'Oldpeak', 'ChestPainType_1', 'ChestPainType_4', 'ChestPainType_3',\n",
      "       'ChestPainType_2', 'RestingECG_2', 'RestingECG_0', 'RestingECG_1',\n",
      "       'ST_Slope_3', 'ST_Slope_2', 'ST_Slope_1'],\n",
      "      dtype='object')\n",
      "          0         1         2         3\n",
      "0  0.000000  1.548866  2.016075  2.445411\n",
      "1  1.371031  0.000000  0.662388  1.171660\n",
      "2  2.358766  0.830447  0.000000  2.114656\n",
      "3  1.519378  1.188149  1.812092  0.000000\n",
      "KL FL mean: 1.5865767504716217\n",
      "Best model, iter: 18, acc: 0.7771428823471069\n"
     ]
    }
   ],
   "source": [
    "df_dict_S ={\n",
    "    'Cleveland': cleveland_df,\n",
    "    'Switzerland': switzerland_df,\n",
    "    'VA Long Beach': va_df,\n",
    "    'Hungary': hungarian_df        \n",
    "    }\n",
    "clients_S = []\n",
    "\n",
    "for i in list(df_dict_S.keys()):\n",
    "    df = df_dict_S.get(i)\n",
    "    location_data = new_df(df)\n",
    "    y = location_data.HeartDisease\n",
    "    location_data = location_data.drop(columns=\"HeartDisease\")\n",
    "\n",
    "    numeric_feature_names_S = ['Age', 'MaxHR', 'RestingBP',  'Oldpeak']\n",
    "    for j in numeric_feature_names_S:\n",
    "        if location_data[j].std() != 0: \n",
    "            location_data[j] = (location_data[j] - location_data[j].mean()) / location_data[j].std()\n",
    "    x = location_data\n",
    "    glob_model_S = LR(len(x.columns))\n",
    "    client_model = copy.deepcopy(glob_model_S)\n",
    "    lr = 3\n",
    "    lr_decay = 1\n",
    "    clients_S.append(Client(i, x, y, client_model, lr, torch.nn.BCELoss(), None))\n",
    "cat_bin_features = ['Sex', 'ChestPainType',  'FastingBS', 'RestingECG','ExerciseAngina', 'ST_Slope']\n",
    "KL_S = KL_matrices_disc_cont(clients_S, cat_bin_features, numeric_feature_names_S)\n",
    "KL_mean_S = (np.array(KL_S)[np.triu_indices(len(clients_S), k=1)].mean() + np.array(KL_S)[np.tril_indices(len(clients_S), -1)].mean()) /2\n",
    "cat_feat = ['ChestPainType', 'RestingECG', 'ST_Slope']\n",
    "for i in clients_S:\n",
    "    i.make_dummies(cat_feat)\n",
    "val_x_S, val_y_S = make_validation_sets(clients_S)\n",
    "\n",
    "best_epoch_S, best_acc_S, model_dict_S, final_results_S, net_best_S = FL_proces(clients_S, val_x_S, val_y_S, ctx_eval, glob_model_S, 300)\n",
    "print(df_dict_S.keys())\n",
    "print(clients_S[0].X.columns)\n",
    "print(KL_S)\n",
    "print('KL FL mean: {}'.format(KL_mean_S))\n",
    "print('Best model, iter: {}, acc: {}'.format(best_epoch_S, best_acc_S))  \n"
   ]
  },
  {
   "cell_type": "code",
   "execution_count": 171,
   "metadata": {},
   "outputs": [
    {
     "data": {
      "text/html": [
       "<div>\n",
       "<style scoped>\n",
       "    .dataframe tbody tr th:only-of-type {\n",
       "        vertical-align: middle;\n",
       "    }\n",
       "\n",
       "    .dataframe tbody tr th {\n",
       "        vertical-align: top;\n",
       "    }\n",
       "\n",
       "    .dataframe thead th {\n",
       "        text-align: right;\n",
       "    }\n",
       "</style>\n",
       "<table border=\"1\" class=\"dataframe\">\n",
       "  <thead>\n",
       "    <tr style=\"text-align: right;\">\n",
       "      <th></th>\n",
       "      <th>epoch</th>\n",
       "      <th>loss_avg</th>\n",
       "      <th>loss_test</th>\n",
       "      <th>acc_test</th>\n",
       "      <th>best_acc</th>\n",
       "    </tr>\n",
       "  </thead>\n",
       "  <tbody>\n",
       "    <tr>\n",
       "      <th>18</th>\n",
       "      <td>18.0</td>\n",
       "      <td>0.782792</td>\n",
       "      <td>0.836189</td>\n",
       "      <td>0.777143</td>\n",
       "      <td>0.777143</td>\n",
       "    </tr>\n",
       "  </tbody>\n",
       "</table>\n",
       "</div>"
      ],
      "text/plain": [
       "    epoch  loss_avg  loss_test  acc_test  best_acc\n",
       "18   18.0  0.782792   0.836189  0.777143  0.777143"
      ]
     },
     "execution_count": 171,
     "metadata": {},
     "output_type": "execute_result"
    }
   ],
   "source": [
    "final_results_S.iloc[[18]]"
   ]
  },
  {
   "cell_type": "code",
   "execution_count": 172,
   "metadata": {},
   "outputs": [
    {
     "data": {
      "text/html": [
       "<div>\n",
       "<style scoped>\n",
       "    .dataframe tbody tr th:only-of-type {\n",
       "        vertical-align: middle;\n",
       "    }\n",
       "\n",
       "    .dataframe tbody tr th {\n",
       "        vertical-align: top;\n",
       "    }\n",
       "\n",
       "    .dataframe thead th {\n",
       "        text-align: right;\n",
       "    }\n",
       "</style>\n",
       "<table border=\"1\" class=\"dataframe\">\n",
       "  <thead>\n",
       "    <tr style=\"text-align: right;\">\n",
       "      <th></th>\n",
       "      <th>epoch</th>\n",
       "      <th>loss_avg</th>\n",
       "      <th>loss_test</th>\n",
       "      <th>acc_test</th>\n",
       "      <th>best_acc</th>\n",
       "    </tr>\n",
       "  </thead>\n",
       "  <tbody>\n",
       "    <tr>\n",
       "      <th>88</th>\n",
       "      <td>88.0</td>\n",
       "      <td>0.900472</td>\n",
       "      <td>0.835933</td>\n",
       "      <td>0.813333</td>\n",
       "      <td>0.813333</td>\n",
       "    </tr>\n",
       "  </tbody>\n",
       "</table>\n",
       "</div>"
      ],
      "text/plain": [
       "    epoch  loss_avg  loss_test  acc_test  best_acc\n",
       "88   88.0  0.900472   0.835933  0.813333  0.813333"
      ]
     },
     "execution_count": 172,
     "metadata": {},
     "output_type": "execute_result"
    }
   ],
   "source": [
    "final_results.iloc[[88]]"
   ]
  },
  {
   "cell_type": "code",
   "execution_count": 173,
   "metadata": {},
   "outputs": [
    {
     "data": {
      "image/png": "[encoded data removed]",
      "text/plain": [
       "<Figure size 432x288 with 1 Axes>"
      ]
     },
     "metadata": {
      "needs_background": "light"
     },
     "output_type": "display_data"
    }
   ],
   "source": [
    "plt.plot(final_results_S.best_acc)\n",
    "plt.plot(final_results.best_acc)\n",
    "plt.show()"
   ]
  },
  {
   "cell_type": "code",
   "execution_count": 190,
   "metadata": {},
   "outputs": [
    {
     "ename": "TypeError",
     "evalue": "type numpy.ndarray doesn't define __round__ method",
     "output_type": "error",
     "traceback": [
      "\u001b[0;31m---------------------------------------------------------------------------\u001b[0m",
      "\u001b[0;31mTypeError\u001b[0m                                 Traceback (most recent call last)",
      "\u001b[1;32m/Users/Romy/Documents/Master Thesis/Thesis_FL_Ectrie/FL_HE_2/heartdisease.ipynb Cell 14'\u001b[0m in \u001b[0;36m<cell line: 8>\u001b[0;34m()\u001b[0m\n\u001b[1;32m      <a href='vscode-notebook-cell:/Users/Romy/Documents/Master%20Thesis/Thesis_FL_Ectrie/FL_HE_2/heartdisease.ipynb#ch0000019?line=4'>5</a>\u001b[0m y_pred \u001b[39m=\u001b[39m glob_model_S(val_x_S)\u001b[39m.\u001b[39mdetach()\u001b[39m.\u001b[39mnumpy()\n\u001b[1;32m      <a href='vscode-notebook-cell:/Users/Romy/Documents/Master%20Thesis/Thesis_FL_Ectrie/FL_HE_2/heartdisease.ipynb#ch0000019?line=5'>6</a>\u001b[0m y_test \u001b[39m=\u001b[39m val_y\n\u001b[0;32m----> <a href='vscode-notebook-cell:/Users/Romy/Documents/Master%20Thesis/Thesis_FL_Ectrie/FL_HE_2/heartdisease.ipynb#ch0000019?line=7'>8</a>\u001b[0m y_pred_round \u001b[39m=\u001b[39m \u001b[39mround\u001b[39;49m(y_pred)\n",
      "\u001b[0;31mTypeError\u001b[0m: type numpy.ndarray doesn't define __round__ method"
     ]
    }
   ],
   "source": [
    "# Plot predicted vs test!\n",
    "\n",
    "import plotly.graph_objects as go\n",
    "glob_model_S.load_state_dict(model_dict_S)\n",
    "y_pred = glob_model_S(val_x_S).detach().numpy()\n",
    "y_test = val_y\n",
    "\n",
    "y_pred_round = round(y_pred)\n",
    "\n",
    "# fig = go.Figure()\n",
    " \n",
    " \n",
    "# # fig.add_trace(go.Scatter(x=np.arange(0,len(y_test)), y=y_test,\n",
    "# #                     mode='markers',\n",
    "# #                     name='Test'))\n",
    "# fig.add_trace(go.Scatter(x=np.arange(0,len(y_test)), y=y_pred,\n",
    "#                     mode='markers',\n",
    "#                     name='Pred'))"
   ]
  },
  {
   "cell_type": "code",
   "execution_count": 186,
   "metadata": {},
   "outputs": [
    {
     "data": {
      "text/plain": [
       "1"
      ]
     },
     "execution_count": 186,
     "metadata": {},
     "output_type": "execute_result"
    }
   ],
   "source": [
    "round(0.6)"
   ]
  },
  {
   "cell_type": "code",
   "execution_count": 187,
   "metadata": {},
   "outputs": [
    {
     "data": {
      "text/plain": [
       "0"
      ]
     },
     "execution_count": 187,
     "metadata": {},
     "output_type": "execute_result"
    }
   ],
   "source": [
    "round(0.4)"
   ]
  },
  {
   "cell_type": "code",
   "execution_count": null,
   "metadata": {},
   "outputs": [],
   "source": []
  }
 ],
 "metadata": {
  "kernelspec": {
   "display_name": "Python 3.9.5 ('env': venv)",
   "language": "python",
   "name": "python3"
  },
  "language_info": {
   "codemirror_mode": {
    "name": "ipython",
    "version": 3
   },
   "file_extension": ".py",
   "mimetype": "text/x-python",
   "name": "python",
   "nbconvert_exporter": "python",
   "pygments_lexer": "ipython3",
   "version": "3.9.5"
  },
  "orig_nbformat": 4,
  "vscode": {
   "interpreter": {
    "hash": "82fd54462344f878b359efde40959bcef97b552287d6e157ca2a6d1c16d313c6"
   }
  }
 },
 "nbformat": 4,
 "nbformat_minor": 2
}
